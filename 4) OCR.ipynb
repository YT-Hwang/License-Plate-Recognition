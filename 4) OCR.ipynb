{
 "cells": [
  {
   "cell_type": "markdown",
   "metadata": {},
   "source": [
    "### This notebook explains the part 2 of this assignment which is Optical Character Recognition"
   ]
  },
  {
   "cell_type": "markdown",
   "metadata": {},
   "source": [
    "# 0) Dependencies"
   ]
  },
  {
   "cell_type": "code",
   "execution_count": 24,
   "metadata": {},
   "outputs": [],
   "source": [
    "import numpy as np\n",
    "import cv2\n",
    "from matplotlib import pyplot as plt\n",
    "from os import listdir\n",
    "from os.path import isfile, join\n",
    "import os\n",
    "import glob\n",
    "from matplotlib.pylab import rcParams"
   ]
  },
  {
   "cell_type": "code",
   "execution_count": 25,
   "metadata": {},
   "outputs": [],
   "source": [
    "import pytesseract\n",
    "from PIL import Image"
   ]
  },
  {
   "cell_type": "code",
   "execution_count": 26,
   "metadata": {},
   "outputs": [],
   "source": [
    "pytesseract.pytesseract.tesseract_cmd = r\"C:\\Program Files\\Tesseract-OCR\\tesseract.exe\""
   ]
  },
  {
   "cell_type": "markdown",
   "metadata": {},
   "source": [
    "# Help Functions"
   ]
  },
  {
   "cell_type": "code",
   "execution_count": 27,
   "metadata": {},
   "outputs": [],
   "source": [
    "'''This function shows the image with converting from BGR to RGB because opencv read images as RGB'''\n",
    "\n",
    "def imshow(image, cmap=None):\n",
    "    plt.imshow(cv2.cvtColor(image, cv2.COLOR_BGR2RGB))"
   ]
  },
  {
   "cell_type": "code",
   "execution_count": 111,
   "metadata": {},
   "outputs": [],
   "source": [
    "'''This function equalizes the histogram'''\n",
    "\n",
    "def histogram_equalizer(image, limit=2.0):\n",
    "    \n",
    "    ## CLAHE (Contrast Limited Adaptive Histogram Equalization)\n",
    "    clahe = cv2.createCLAHE(clipLimit= limit, tileGridSize=(8,8))\n",
    "    cl1 = clahe.apply(image)\n",
    "    \n",
    "    return cl1"
   ]
  },
  {
   "cell_type": "code",
   "execution_count": 226,
   "metadata": {},
   "outputs": [],
   "source": [
    "'''This function finds the most plate-like contour'''\n",
    "\n",
    "def find_plate(image):\n",
    "    # use thresholding to isolate the plate\n",
    "    (_,thresh) = cv2.threshold(image, 60, 255,cv2.THRESH_BINARY)\n",
    "\n",
    "    # find the contours of the thresholded image\n",
    "    (cnts, _) = cv2.findContours(thresh.copy(), cv2.RETR_LIST, cv2.CHAIN_APPROX_SIMPLE)\n",
    "\n",
    "    # sort the contours by size\n",
    "    srt_cnts =  sorted(cnts, key=cv2.contourArea, reverse=True)\n",
    "    # find the aspect ratio of each of the four largest contours to eliminate any with\n",
    "    # the wrong shape\n",
    "    bestContour = []\n",
    "    for (i,c) in enumerate(srt_cnts[:4]):\n",
    "        (x,y,w,h) = cv2.boundingRect(c)\n",
    "        aspectRatio = w / float(h)\n",
    "        if 1.5 <= aspectRatio <= 2.5:\n",
    "            bestContour = srt_cnts[i]\n",
    "            break\n",
    "\n",
    "    # create a mask to isolate the plate area\n",
    "    mask = np.zeros((img_height, img_width), np.uint8)\n",
    "    cv2.fillConvexPoly(mask, bestContour, 1)\n",
    "    masked_img = cv2.bitwise_and(image, image, mask=mask)\n",
    "\n",
    "\n",
    "    # fill mask in with white\n",
    "    mask2 = np.zeros((img_height+2, img_width+2), np.uint8)\n",
    "    seed = (0,0)\n",
    "    cv2.floodFill(masked_img, mask2, seed, (255,255,255))\n",
    "    \n",
    "    x,y,w,h = cv2.boundingRect(bestContour)\n",
    "\n",
    "    plate_crop = masked_img[y+2:y+h-2,x+5:x+w-5]\n",
    "    plate_crop = cv2.GaussianBlur(plate_crop, ksize=(3,3), sigmaX=0)\n",
    "    \n",
    "    plate_thresh = cv2.adaptiveThreshold(plate_crop, 255, cv2.ADAPTIVE_THRESH_GAUSSIAN_C, cv2.THRESH_BINARY, 11, 7)\n",
    "\n",
    "\n",
    "    \n",
    "    return plate_thresh"
   ]
  },
  {
   "cell_type": "code",
   "execution_count": 227,
   "metadata": {},
   "outputs": [],
   "source": [
    "''' This function applies the radon transform to the image to correct the angle. '''\n",
    "def radon_straighten(image):\n",
    "    \n",
    "    from skimage.transform import radon, rotate\n",
    "    from skimage import img_as_ubyte\n",
    "    \n",
    "    orig_image = image.copy()\n",
    "    if len(image.shape) == 3:\n",
    "        image = cv2.cvtColor(image, cv2.COLOR_BGR2GRAY)\n",
    "    \n",
    "    width, height = image.shape\n",
    "    image = cv2.resize(image,(int(height*180/width),180))\n",
    "    \n",
    "    image = image - np.mean(image)\n",
    "    theta = np.linspace(0,180,image.shape[1], endpoint=False)\n",
    "    sinogram = radon(image, theta=theta, circle=True)\n",
    "    rim = sum(abs(sinogram))\n",
    "    ang = np.argmax(rim)\n",
    "    angs = np.linspace(0, 180, len(rim))\n",
    "    principal_ang = angs[int(ang)] - 90\n",
    "    \n",
    "    image_rotated = rotate(orig_image, -principal_ang, resize=True, cval=1)\n",
    "    \n",
    "    import warnings\n",
    "    with warnings.catch_warnings():\n",
    "        warnings.simplefilter(\"ignore\")\n",
    "        image_rotated_uint8 = img_as_ubyte(image_rotated)\n",
    "        \n",
    "    image_rotated_uint8 = cv2.resize(image_rotated_uint8,(height,width))\n",
    "    #image_rotated_uint8 = cv2.cvtColor(image_rotated_uint8, cv2.COLOR_BGR2GRAY)\n",
    "\n",
    "    return image_rotated_uint8"
   ]
  },
  {
   "cell_type": "code",
   "execution_count": 228,
   "metadata": {},
   "outputs": [],
   "source": [
    "''' This function applies the motion blur to an image to remove the noises. '''\n",
    "def NoiseRemoval(image):\n",
    "\n",
    "    # blurr size\n",
    "    size = 5000\n",
    "\n",
    "    # generating the kernel\n",
    "    kernel_motion_blur = np.zeros((size, size))\n",
    "    kernel_motion_blur[int((size-1)/2), :] = np.ones(size)\n",
    "    kernel_motion_blur = kernel_motion_blur / size\n",
    "\n",
    "    # applying the kernel to the input image\n",
    "    output = cv2.filter2D(image, -1, kernel_motion_blur)\n",
    "\n",
    "    # Creating copies of the original images\n",
    "    output_cp = output.copy()\n",
    "    img_cp = plate_thresh.copy()\n",
    "\n",
    "    # threshold\n",
    "    ret,thresh = cv2.threshold(output_cp, 215, 255, cv2.THRESH_BINARY_INV)\n",
    "\n",
    "    # find the contours of the thresholded image\n",
    "    (cnts, _) = cv2.findContours(thresh.copy(), cv2.RETR_LIST, cv2.CHAIN_APPROX_SIMPLE)\n",
    "    img_cnt = cv2.drawContours(image.copy(), cnts, 0, (0,255,0), -1)\n",
    "\n",
    "    mask = np.zeros(image.shape, np.uint8)\n",
    "    largest_area = sorted(cnts, key=cv2.contourArea, reverse=True)[0]\n",
    "\n",
    "    p1 = largest_area[0]-2\n",
    "    p2 = largest_area[1]\n",
    "    p3 = largest_area[2]\n",
    "    p4 = largest_area[3]-2\n",
    "\n",
    "    largest_area = np.vstack([p1,p2,p3,p4])\n",
    "\n",
    "    mask_cnt = cv2.drawContours(mask.copy(), [largest_area], 0, (255,255,255,255), -1)\n",
    "\n",
    "    removed = cv2.subtract(mask_cnt, image)\n",
    "\n",
    "    return removed"
   ]
  },
  {
   "cell_type": "code",
   "execution_count": 230,
   "metadata": {},
   "outputs": [],
   "source": [
    "'''after we preprocess the image, we applied some more effects to help tesseract for reading.'''\n",
    "def after_process(image):\n",
    "    img_result = histogram_equalizer(image, 10)\n",
    "    img_result = cv2.GaussianBlur(removed, ksize=(3,3), sigmaX=0)\n",
    "    _, img_result = cv2.threshold(removed, thresh=0.0, maxval=255.0, type=cv2.THRESH_BINARY | cv2.THRESH_OTSU)\n",
    "    img_result = cv2.copyMakeBorder(img_result, top=3, bottom=3, left=3, right=3, borderType=cv2.BORDER_CONSTANT, value=(0,0,0))\n",
    "    \n",
    "    return img_result"
   ]
  },
  {
   "cell_type": "code",
   "execution_count": 231,
   "metadata": {},
   "outputs": [],
   "source": [
    "'''This function utilizes tesseract to recognize characters'''\n",
    "def plate_to_string(img):\n",
    "\n",
    "\n",
    "    plate_OCR = Image.fromarray(img)\n",
    "    \n",
    "    \n",
    "    plate_text = pytesseract.image_to_string(plate_OCR, config='-c tessedit_char_whitelist=/xX0123456789 --psm=7')\n",
    "    \n",
    "    print (plate_text)"
   ]
  },
  {
   "cell_type": "markdown",
   "metadata": {},
   "source": [
    "# Step-by-Step Process"
   ]
  },
  {
   "cell_type": "markdown",
   "metadata": {},
   "source": [
    "## 1) Load Data"
   ]
  },
  {
   "cell_type": "code",
   "execution_count": 495,
   "metadata": {},
   "outputs": [
    {
     "name": "stdout",
     "output_type": "stream",
     "text": [
      "height: 80, width: 280\n"
     ]
    },
    {
     "data": {
      "image/png": "[encoded data removed]",
      "text/plain": [
       "<Figure size 1800x864 with 1 Axes>"
      ]
     },
     "metadata": {
      "needs_background": "light"
     },
     "output_type": "display_data"
    }
   ],
   "source": [
    "image_path = 'D:\\\\OneDrive - Georgia State University\\\\MSA\\\\Fall 2019\\\\MSA 8650 - Image and Text Analytics with Deep Neural Networks\\\\Assignments\\\\Assignment 1\\\\Data\\\\ir_patch\\\\'\n",
    "from os import listdir\n",
    "from os.path import isfile, join\n",
    "data_list = [f for f in listdir(image_path) if isfile(join(image_path, f))]\n",
    "#data_list = sorted(data_list, key=lambda x: float(x.split('.')[0]))\n",
    "\n",
    "\n",
    "# load the image\n",
    "number = 749 #444 #722 #91 #874 #850\n",
    "image = cv2.imread(image_path + data_list[number]) # read as grayscale\n",
    "img_height, img_width = image.shape[:2]\n",
    "print(f'height: {img_height}, width: {img_width}')\n",
    "image = cv2.cvtColor(image, cv2.COLOR_BGR2GRAY)\n",
    "\n",
    "rcParams['figure.figsize'] = 25, 12\n",
    "\n",
    "imshow(image)"
   ]
  },
  {
   "cell_type": "markdown",
   "metadata": {},
   "source": [
    "## 2a) Histogram Equalization"
   ]
  },
  {
   "cell_type": "code",
   "execution_count": 496,
   "metadata": {},
   "outputs": [
    {
     "data": {
      "image/png": "[encoded data removed]",
      "text/plain": [
       "<Figure size 1800x864 with 1 Axes>"
      ]
     },
     "metadata": {
      "needs_background": "light"
     },
     "output_type": "display_data"
    }
   ],
   "source": [
    "hist_equal = histogram_equalizer(image, 2)\n",
    "imshow(hist_equal)"
   ]
  },
  {
   "cell_type": "markdown",
   "metadata": {},
   "source": [
    "## 2b) Finds the plate contour and threshold it"
   ]
  },
  {
   "cell_type": "code",
   "execution_count": 497,
   "metadata": {},
   "outputs": [
    {
     "data": {
      "image/png": "[encoded data removed]",
      "text/plain": [
       "<Figure size 1800x864 with 1 Axes>"
      ]
     },
     "metadata": {
      "needs_background": "light"
     },
     "output_type": "display_data"
    }
   ],
   "source": [
    "plate_thresh = find_plate(hist_equal)\n",
    "imshow(plate_thresh)"
   ]
  },
  {
   "cell_type": "markdown",
   "metadata": {},
   "source": [
    "## 2c) Applies radon transform to straighten the tilted image"
   ]
  },
  {
   "cell_type": "code",
   "execution_count": 498,
   "metadata": {},
   "outputs": [
    {
     "name": "stderr",
     "output_type": "stream",
     "text": [
      "D:\\Programming\\Anaconda\\envs\\image\\lib\\site-packages\\skimage\\transform\\radon_transform.py:63: UserWarning: Radon transform: image must be zero outside the reconstruction circle\n",
      "  warn('Radon transform: image must be zero outside the '\n"
     ]
    },
    {
     "data": {
      "image/png": "[encoded data removed]",
      "text/plain": [
       "<Figure size 1800x864 with 1 Axes>"
      ]
     },
     "metadata": {
      "needs_background": "light"
     },
     "output_type": "display_data"
    }
   ],
   "source": [
    "straightened = radon_straighten(plate_thresh)\n",
    "imshow(straightened)"
   ]
  },
  {
   "cell_type": "markdown",
   "metadata": {},
   "source": [
    "## 2d) Noise Removal"
   ]
  },
  {
   "cell_type": "markdown",
   "metadata": {},
   "source": [
    "### First of all, we applied horizontal motion blur. It will show where the license plate numbers are aligned"
   ]
  },
  {
   "cell_type": "code",
   "execution_count": 499,
   "metadata": {},
   "outputs": [
    {
     "data": {
      "image/png": "[encoded data removed]",
      "text/plain": [
       "<Figure size 1800x864 with 1 Axes>"
      ]
     },
     "metadata": {
      "needs_background": "light"
     },
     "output_type": "display_data"
    }
   ],
   "source": [
    "# blurr size\n",
    "size = 5000\n",
    "\n",
    "# generating the kernel\n",
    "kernel_motion_blur = np.zeros((size, size))\n",
    "kernel_motion_blur[int((size-1)/2), :] = np.ones(size)\n",
    "kernel_motion_blur = kernel_motion_blur / size\n",
    "\n",
    "# applying the kernel to the input image\n",
    "output = cv2.filter2D(straightened, -1, kernel_motion_blur)\n",
    "\n",
    "imshow(output)\n"
   ]
  },
  {
   "cell_type": "markdown",
   "metadata": {},
   "source": [
    "### Now if we threshold it, it will produce the image below"
   ]
  },
  {
   "cell_type": "code",
   "execution_count": 506,
   "metadata": {},
   "outputs": [
    {
     "data": {
      "image/png": "[encoded data removed]",
      "text/plain": [
       "<Figure size 1800x864 with 1 Axes>"
      ]
     },
     "metadata": {
      "needs_background": "light"
     },
     "output_type": "display_data"
    }
   ],
   "source": [
    "# Creating copies of the original images\n",
    "output_cp = output.copy()\n",
    "img_cp = straightened.copy()\n",
    "\n",
    "# threshold\n",
    "ret,thresh = cv2.threshold(output_cp, 215, 255, cv2.THRESH_BINARY_INV)\n",
    "\n",
    "imshow(thresh)"
   ]
  },
  {
   "cell_type": "markdown",
   "metadata": {},
   "source": [
    "## 2e) At this point, all we have to do is just to grap the biggest contour and mask it on the straightened image above."
   ]
  },
  {
   "cell_type": "code",
   "execution_count": 511,
   "metadata": {},
   "outputs": [
    {
     "data": {
      "text/plain": [
       "<matplotlib.image.AxesImage at 0x14b05a1c408>"
      ]
     },
     "execution_count": 511,
     "metadata": {},
     "output_type": "execute_result"
    },
    {
     "data": {
      "image/png": "[encoded data removed]",
      "text/plain": [
       "<Figure size 1800x864 with 1 Axes>"
      ]
     },
     "metadata": {
      "needs_background": "light"
     },
     "output_type": "display_data"
    }
   ],
   "source": [
    "# find the contours of the thresholded image\n",
    "(cnts, _) = cv2.findContours(thresh.copy(), cv2.RETR_LIST, cv2.CHAIN_APPROX_SIMPLE)\n",
    "img_cnt = cv2.drawContours(straightened.copy(), cnts, 0, (0,255,0), -1)\n",
    "\n",
    "mask = np.zeros(straightened.shape, np.uint8)\n",
    "largest_area = sorted(cnts, key=cv2.contourArea, reverse=True)[0]\n",
    "\n",
    "p1 = largest_area[0]-2\n",
    "p2 = largest_area[1]\n",
    "p3 = largest_area[2]\n",
    "p4 = largest_area[3]-2\n",
    "\n",
    "largest_area = np.vstack([p1,p2,p3,p4])\n",
    "\n",
    "mask_cnt = cv2.drawContours(mask.copy(), [largest_area], 0, (255,255,255,255), -1)\n",
    "\n",
    "removed = cv2.subtract(mask_cnt, straightened)\n",
    "\n",
    "\n",
    "plt.figure()\n",
    "plt.imshow(removed, cmap='gray')"
   ]
  },
  {
   "cell_type": "markdown",
   "metadata": {},
   "source": [
    "## 2f) After Process\n",
    "\n",
    "###  I applied histogram equalization once more"
   ]
  },
  {
   "cell_type": "code",
   "execution_count": 512,
   "metadata": {},
   "outputs": [
    {
     "data": {
      "image/png": "[encoded data removed]",
      "text/plain": [
       "<Figure size 1800x864 with 1 Axes>"
      ]
     },
     "metadata": {
      "needs_background": "light"
     },
     "output_type": "display_data"
    }
   ],
   "source": [
    "img_result = histogram_equalizer(removed, 10)\n",
    "imshow(img_result)"
   ]
  },
  {
   "cell_type": "markdown",
   "metadata": {},
   "source": [
    "### Next, I applied some more effects on the image to help tesseract to read more accurately"
   ]
  },
  {
   "cell_type": "code",
   "execution_count": 503,
   "metadata": {},
   "outputs": [
    {
     "data": {
      "image/png": "[encoded data removed]",
      "text/plain": [
       "<Figure size 1800x864 with 1 Axes>"
      ]
     },
     "metadata": {
      "needs_background": "light"
     },
     "output_type": "display_data"
    }
   ],
   "source": [
    "img_result = cv2.GaussianBlur(img_result, ksize=(3,3), sigmaX=0)\n",
    "_, img_result = cv2.threshold(img_result, thresh=0.0, maxval=255.0, type=cv2.THRESH_BINARY | cv2.THRESH_OTSU)\n",
    "\n",
    "\n",
    "img_result = cv2.copyMakeBorder(img_result, top=3, bottom=3, left=3, right=3, borderType=cv2.BORDER_CONSTANT, value=(0,0,0))\n",
    "imshow(img_result)"
   ]
  },
  {
   "cell_type": "markdown",
   "metadata": {},
   "source": [
    "## 2g) Finally, tesseract will recognize the characters.\n",
    "\n",
    "### However, for some images, tesseract recognizes the character from an image in the middle of the process not the final output of the process.\n",
    "\n",
    "### So, I put all the images in a list and loop the tesseract algorithm on each images. Then filter the strings with some filters to get the most license plate number-like string."
   ]
  },
  {
   "cell_type": "code",
   "execution_count": 513,
   "metadata": {},
   "outputs": [
    {
     "name": "stdout",
     "output_type": "stream",
     "text": [
      "0: \n",
      "1: BMP2235\n",
      "2: PE\n",
      "3: E\n",
      "\n",
      "['BMP2235']\n"
     ]
    }
   ],
   "source": [
    "images = [image, plate_thresh, straightened, removed, img_result]\n",
    "answer = []\n",
    "for i,c in enumerate(images): \n",
    "    \n",
    "    plate_OCR = Image.fromarray(c)\n",
    "    plate_text = pytesseract.image_to_string(plate_OCR, config='-c tessedit_char_whitelist=ABCDEFGHIJKLMNOPQRSTUVWXYZ0123456789 --psm 13')\n",
    "    plate_text = ''.join(e for e in plate_text if e.isalnum())\n",
    "    if len(plate_text)>=5:\n",
    "        if plate_text not in answer:\n",
    "            answer.append(plate_text)\n",
    "    print(f'{i}: {plate_text}')\n",
    "print(f'\\n{answer}')"
   ]
  },
  {
   "cell_type": "markdown",
   "metadata": {},
   "source": [
    "# 3) Overall Process"
   ]
  },
  {
   "cell_type": "markdown",
   "metadata": {},
   "source": [
    "### This is just the overall process."
   ]
  },
  {
   "cell_type": "code",
   "execution_count": 140,
   "metadata": {},
   "outputs": [
    {
     "name": "stdout",
     "output_type": "stream",
     "text": [
      "height: 80, width: 280\n"
     ]
    },
    {
     "data": {
      "image/png": "[encoded data removed]",
      "text/plain": [
       "<Figure size 1800x864 with 1 Axes>"
      ]
     },
     "metadata": {
      "needs_background": "light"
     },
     "output_type": "display_data"
    }
   ],
   "source": [
    "number = 0\n",
    "\n",
    "image = cv2.imread(image_path + data_list[number]) \n",
    "img_height, img_width = image.shape[:2]\n",
    "print(f'height: {img_height}, width: {img_width}')\n",
    "image = cv2.cvtColor(image, cv2.COLOR_BGR2GRAY)\n",
    "imshow(image)"
   ]
  },
  {
   "cell_type": "code",
   "execution_count": 141,
   "metadata": {},
   "outputs": [
    {
     "name": "stderr",
     "output_type": "stream",
     "text": [
      "D:\\Programming\\Anaconda\\envs\\image\\lib\\site-packages\\skimage\\transform\\radon_transform.py:63: UserWarning: Radon transform: image must be zero outside the reconstruction circle\n",
      "  warn('Radon transform: image must be zero outside the '\n"
     ]
    },
    {
     "data": {
      "image/png": "[encoded data removed]",
      "text/plain": [
       "<Figure size 1800x864 with 1 Axes>"
      ]
     },
     "metadata": {
      "needs_background": "light"
     },
     "output_type": "display_data"
    }
   ],
   "source": [
    "hist_equal = histogram_equalizer(image, 2)\n",
    "straightened = radon_straighten(hist_equal)\n",
    "plate_thresh = find_plate(straightened)\n",
    "removed = NoiseRemoval(plate_thresh)\n",
    "img_result = after_process(removed)\n",
    "\n",
    "imshow(img_result)"
   ]
  },
  {
   "cell_type": "code",
   "execution_count": 148,
   "metadata": {},
   "outputs": [
    {
     "name": "stdout",
     "output_type": "stream",
     "text": [
      "0: \n",
      "1: BBJ9033\n",
      "2: \n",
      "3: PAIS\n",
      "4: AE\n",
      "\n",
      "['BBJ9033']\n"
     ]
    }
   ],
   "source": [
    "images = [image, plate_thresh, straightened, removed, img_result]\n",
    "answer = []\n",
    "for i,c in enumerate(images): \n",
    "    \n",
    "    plate_OCR = Image.fromarray(c)\n",
    "    plate_text = pytesseract.image_to_string(plate_OCR, config='-c tessedit_char_whitelist=ABCDEFGHIJKLMNOPQRSTUVWXYZ0123456789 --psm 13')\n",
    "    plate_text = ''.join(e for e in plate_text if e.isalnum())\n",
    "    if len(plate_text)>5:\n",
    "        answer.append(plate_text)\n",
    "    print(f'{i}: {plate_text}')\n",
    "print(f'\\n{answer}')"
   ]
  },
  {
   "cell_type": "markdown",
   "metadata": {},
   "source": [
    "# 4) Run on a batch"
   ]
  },
  {
   "cell_type": "code",
   "execution_count": 143,
   "metadata": {},
   "outputs": [],
   "source": [
    "# set the saving directory to specified path \n",
    "\n",
    "result_path = 'D:\\\\OneDrive - Georgia State University\\\\MSA\\\\Fall 2019\\\\MSA 8650 - Image and Text Analytics with Deep Neural Networks\\\\Assignments\\\\Assignment 1\\\\Results\\\\'\n",
    "\n",
    "OCR_path = result_path + 'For_OCR\\\\'"
   ]
  },
  {
   "cell_type": "code",
   "execution_count": 145,
   "metadata": {},
   "outputs": [
    {
     "name": "stderr",
     "output_type": "stream",
     "text": [
      "D:\\Programming\\Anaconda\\envs\\image\\lib\\site-packages\\skimage\\transform\\radon_transform.py:63: UserWarning: Radon transform: image must be zero outside the reconstruction circle\n",
      "  warn('Radon transform: image must be zero outside the '\n",
      "D:\\Programming\\Anaconda\\envs\\image\\lib\\site-packages\\skimage\\transform\\radon_transform.py:63: UserWarning: Radon transform: image must be zero outside the reconstruction circle\n",
      "  warn('Radon transform: image must be zero outside the '\n",
      "D:\\Programming\\Anaconda\\envs\\image\\lib\\site-packages\\skimage\\transform\\radon_transform.py:63: UserWarning: Radon transform: image must be zero outside the reconstruction circle\n",
      "  warn('Radon transform: image must be zero outside the '\n",
      "D:\\Programming\\Anaconda\\envs\\image\\lib\\site-packages\\skimage\\transform\\radon_transform.py:63: UserWarning: Radon transform: image must be zero outside the reconstruction circle\n",
      "  warn('Radon transform: image must be zero outside the '\n",
      "D:\\Programming\\Anaconda\\envs\\image\\lib\\site-packages\\skimage\\transform\\radon_transform.py:63: UserWarning: Radon transform: image must be zero outside the reconstruction circle\n",
      "  warn('Radon transform: image must be zero outside the '\n"
     ]
    },
    {
     "name": "stdout",
     "output_type": "stream",
     "text": [
      "4\n"
     ]
    },
    {
     "name": "stderr",
     "output_type": "stream",
     "text": [
      "D:\\Programming\\Anaconda\\envs\\image\\lib\\site-packages\\skimage\\transform\\radon_transform.py:63: UserWarning: Radon transform: image must be zero outside the reconstruction circle\n",
      "  warn('Radon transform: image must be zero outside the '\n",
      "D:\\Programming\\Anaconda\\envs\\image\\lib\\site-packages\\skimage\\transform\\radon_transform.py:63: UserWarning: Radon transform: image must be zero outside the reconstruction circle\n",
      "  warn('Radon transform: image must be zero outside the '\n",
      "D:\\Programming\\Anaconda\\envs\\image\\lib\\site-packages\\skimage\\transform\\radon_transform.py:63: UserWarning: Radon transform: image must be zero outside the reconstruction circle\n",
      "  warn('Radon transform: image must be zero outside the '\n",
      "D:\\Programming\\Anaconda\\envs\\image\\lib\\site-packages\\skimage\\transform\\radon_transform.py:63: UserWarning: Radon transform: image must be zero outside the reconstruction circle\n",
      "  warn('Radon transform: image must be zero outside the '\n",
      "D:\\Programming\\Anaconda\\envs\\image\\lib\\site-packages\\skimage\\transform\\radon_transform.py:63: UserWarning: Radon transform: image must be zero outside the reconstruction circle\n",
      "  warn('Radon transform: image must be zero outside the '\n",
      "D:\\Programming\\Anaconda\\envs\\image\\lib\\site-packages\\skimage\\transform\\radon_transform.py:63: UserWarning: Radon transform: image must be zero outside the reconstruction circle\n",
      "  warn('Radon transform: image must be zero outside the '\n",
      "D:\\Programming\\Anaconda\\envs\\image\\lib\\site-packages\\skimage\\transform\\radon_transform.py:63: UserWarning: Radon transform: image must be zero outside the reconstruction circle\n",
      "  warn('Radon transform: image must be zero outside the '\n",
      "D:\\Programming\\Anaconda\\envs\\image\\lib\\site-packages\\skimage\\transform\\radon_transform.py:63: UserWarning: Radon transform: image must be zero outside the reconstruction circle\n",
      "  warn('Radon transform: image must be zero outside the '\n"
     ]
    },
    {
     "name": "stdout",
     "output_type": "stream",
     "text": [
      "12\n"
     ]
    },
    {
     "name": "stderr",
     "output_type": "stream",
     "text": [
      "D:\\Programming\\Anaconda\\envs\\image\\lib\\site-packages\\skimage\\transform\\radon_transform.py:63: UserWarning: Radon transform: image must be zero outside the reconstruction circle\n",
      "  warn('Radon transform: image must be zero outside the '\n"
     ]
    },
    {
     "name": "stdout",
     "output_type": "stream",
     "text": [
      "13\n"
     ]
    },
    {
     "name": "stderr",
     "output_type": "stream",
     "text": [
      "D:\\Programming\\Anaconda\\envs\\image\\lib\\site-packages\\skimage\\transform\\radon_transform.py:63: UserWarning: Radon transform: image must be zero outside the reconstruction circle\n",
      "  warn('Radon transform: image must be zero outside the '\n"
     ]
    },
    {
     "name": "stdout",
     "output_type": "stream",
     "text": [
      "14\n"
     ]
    },
    {
     "name": "stderr",
     "output_type": "stream",
     "text": [
      "D:\\Programming\\Anaconda\\envs\\image\\lib\\site-packages\\skimage\\transform\\radon_transform.py:63: UserWarning: Radon transform: image must be zero outside the reconstruction circle\n",
      "  warn('Radon transform: image must be zero outside the '\n",
      "D:\\Programming\\Anaconda\\envs\\image\\lib\\site-packages\\skimage\\transform\\radon_transform.py:63: UserWarning: Radon transform: image must be zero outside the reconstruction circle\n",
      "  warn('Radon transform: image must be zero outside the '\n",
      "D:\\Programming\\Anaconda\\envs\\image\\lib\\site-packages\\skimage\\transform\\radon_transform.py:63: UserWarning: Radon transform: image must be zero outside the reconstruction circle\n",
      "  warn('Radon transform: image must be zero outside the '\n"
     ]
    },
    {
     "name": "stdout",
     "output_type": "stream",
     "text": [
      "17\n"
     ]
    },
    {
     "name": "stderr",
     "output_type": "stream",
     "text": [
      "D:\\Programming\\Anaconda\\envs\\image\\lib\\site-packages\\skimage\\transform\\radon_transform.py:63: UserWarning: Radon transform: image must be zero outside the reconstruction circle\n",
      "  warn('Radon transform: image must be zero outside the '\n",
      "D:\\Programming\\Anaconda\\envs\\image\\lib\\site-packages\\skimage\\transform\\radon_transform.py:63: UserWarning: Radon transform: image must be zero outside the reconstruction circle\n",
      "  warn('Radon transform: image must be zero outside the '\n"
     ]
    },
    {
     "name": "stdout",
     "output_type": "stream",
     "text": [
      "19\n"
     ]
    },
    {
     "name": "stderr",
     "output_type": "stream",
     "text": [
      "D:\\Programming\\Anaconda\\envs\\image\\lib\\site-packages\\skimage\\transform\\radon_transform.py:63: UserWarning: Radon transform: image must be zero outside the reconstruction circle\n",
      "  warn('Radon transform: image must be zero outside the '\n",
      "D:\\Programming\\Anaconda\\envs\\image\\lib\\site-packages\\skimage\\transform\\radon_transform.py:63: UserWarning: Radon transform: image must be zero outside the reconstruction circle\n",
      "  warn('Radon transform: image must be zero outside the '\n",
      "D:\\Programming\\Anaconda\\envs\\image\\lib\\site-packages\\skimage\\transform\\radon_transform.py:63: UserWarning: Radon transform: image must be zero outside the reconstruction circle\n",
      "  warn('Radon transform: image must be zero outside the '\n",
      "D:\\Programming\\Anaconda\\envs\\image\\lib\\site-packages\\skimage\\transform\\radon_transform.py:63: UserWarning: Radon transform: image must be zero outside the reconstruction circle\n",
      "  warn('Radon transform: image must be zero outside the '\n",
      "D:\\Programming\\Anaconda\\envs\\image\\lib\\site-packages\\skimage\\transform\\radon_transform.py:63: UserWarning: Radon transform: image must be zero outside the reconstruction circle\n",
      "  warn('Radon transform: image must be zero outside the '\n",
      "D:\\Programming\\Anaconda\\envs\\image\\lib\\site-packages\\skimage\\transform\\radon_transform.py:63: UserWarning: Radon transform: image must be zero outside the reconstruction circle\n",
      "  warn('Radon transform: image must be zero outside the '\n",
      "D:\\Programming\\Anaconda\\envs\\image\\lib\\site-packages\\skimage\\transform\\radon_transform.py:63: UserWarning: Radon transform: image must be zero outside the reconstruction circle\n",
      "  warn('Radon transform: image must be zero outside the '\n"
     ]
    },
    {
     "name": "stdout",
     "output_type": "stream",
     "text": [
      "26\n"
     ]
    },
    {
     "name": "stderr",
     "output_type": "stream",
     "text": [
      "D:\\Programming\\Anaconda\\envs\\image\\lib\\site-packages\\skimage\\transform\\radon_transform.py:63: UserWarning: Radon transform: image must be zero outside the reconstruction circle\n",
      "  warn('Radon transform: image must be zero outside the '\n"
     ]
    },
    {
     "name": "stdout",
     "output_type": "stream",
     "text": [
      "27\n"
     ]
    },
    {
     "name": "stderr",
     "output_type": "stream",
     "text": [
      "D:\\Programming\\Anaconda\\envs\\image\\lib\\site-packages\\skimage\\transform\\radon_transform.py:63: UserWarning: Radon transform: image must be zero outside the reconstruction circle\n",
      "  warn('Radon transform: image must be zero outside the '\n",
      "D:\\Programming\\Anaconda\\envs\\image\\lib\\site-packages\\skimage\\transform\\radon_transform.py:63: UserWarning: Radon transform: image must be zero outside the reconstruction circle\n",
      "  warn('Radon transform: image must be zero outside the '\n",
      "D:\\Programming\\Anaconda\\envs\\image\\lib\\site-packages\\skimage\\transform\\radon_transform.py:63: UserWarning: Radon transform: image must be zero outside the reconstruction circle\n",
      "  warn('Radon transform: image must be zero outside the '\n",
      "D:\\Programming\\Anaconda\\envs\\image\\lib\\site-packages\\skimage\\transform\\radon_transform.py:63: UserWarning: Radon transform: image must be zero outside the reconstruction circle\n",
      "  warn('Radon transform: image must be zero outside the '\n",
      "D:\\Programming\\Anaconda\\envs\\image\\lib\\site-packages\\skimage\\transform\\radon_transform.py:63: UserWarning: Radon transform: image must be zero outside the reconstruction circle\n",
      "  warn('Radon transform: image must be zero outside the '\n",
      "D:\\Programming\\Anaconda\\envs\\image\\lib\\site-packages\\skimage\\transform\\radon_transform.py:63: UserWarning: Radon transform: image must be zero outside the reconstruction circle\n",
      "  warn('Radon transform: image must be zero outside the '\n",
      "D:\\Programming\\Anaconda\\envs\\image\\lib\\site-packages\\skimage\\transform\\radon_transform.py:63: UserWarning: Radon transform: image must be zero outside the reconstruction circle\n",
      "  warn('Radon transform: image must be zero outside the '\n",
      "D:\\Programming\\Anaconda\\envs\\image\\lib\\site-packages\\skimage\\transform\\radon_transform.py:63: UserWarning: Radon transform: image must be zero outside the reconstruction circle\n",
      "  warn('Radon transform: image must be zero outside the '\n",
      "D:\\Programming\\Anaconda\\envs\\image\\lib\\site-packages\\skimage\\transform\\radon_transform.py:63: UserWarning: Radon transform: image must be zero outside the reconstruction circle\n",
      "  warn('Radon transform: image must be zero outside the '\n",
      "D:\\Programming\\Anaconda\\envs\\image\\lib\\site-packages\\skimage\\transform\\radon_transform.py:63: UserWarning: Radon transform: image must be zero outside the reconstruction circle\n",
      "  warn('Radon transform: image must be zero outside the '\n",
      "D:\\Programming\\Anaconda\\envs\\image\\lib\\site-packages\\skimage\\transform\\radon_transform.py:63: UserWarning: Radon transform: image must be zero outside the reconstruction circle\n",
      "  warn('Radon transform: image must be zero outside the '\n",
      "D:\\Programming\\Anaconda\\envs\\image\\lib\\site-packages\\skimage\\transform\\radon_transform.py:63: UserWarning: Radon transform: image must be zero outside the reconstruction circle\n",
      "  warn('Radon transform: image must be zero outside the '\n",
      "D:\\Programming\\Anaconda\\envs\\image\\lib\\site-packages\\skimage\\transform\\radon_transform.py:63: UserWarning: Radon transform: image must be zero outside the reconstruction circle\n",
      "  warn('Radon transform: image must be zero outside the '\n",
      "D:\\Programming\\Anaconda\\envs\\image\\lib\\site-packages\\skimage\\transform\\radon_transform.py:63: UserWarning: Radon transform: image must be zero outside the reconstruction circle\n",
      "  warn('Radon transform: image must be zero outside the '\n",
      "D:\\Programming\\Anaconda\\envs\\image\\lib\\site-packages\\skimage\\transform\\radon_transform.py:63: UserWarning: Radon transform: image must be zero outside the reconstruction circle\n",
      "  warn('Radon transform: image must be zero outside the '\n",
      "D:\\Programming\\Anaconda\\envs\\image\\lib\\site-packages\\skimage\\transform\\radon_transform.py:63: UserWarning: Radon transform: image must be zero outside the reconstruction circle\n",
      "  warn('Radon transform: image must be zero outside the '\n",
      "D:\\Programming\\Anaconda\\envs\\image\\lib\\site-packages\\skimage\\transform\\radon_transform.py:63: UserWarning: Radon transform: image must be zero outside the reconstruction circle\n",
      "  warn('Radon transform: image must be zero outside the '\n"
     ]
    },
    {
     "name": "stdout",
     "output_type": "stream",
     "text": [
      "44\n"
     ]
    },
    {
     "name": "stderr",
     "output_type": "stream",
     "text": [
      "D:\\Programming\\Anaconda\\envs\\image\\lib\\site-packages\\skimage\\transform\\radon_transform.py:63: UserWarning: Radon transform: image must be zero outside the reconstruction circle\n",
      "  warn('Radon transform: image must be zero outside the '\n",
      "D:\\Programming\\Anaconda\\envs\\image\\lib\\site-packages\\skimage\\transform\\radon_transform.py:63: UserWarning: Radon transform: image must be zero outside the reconstruction circle\n",
      "  warn('Radon transform: image must be zero outside the '\n",
      "D:\\Programming\\Anaconda\\envs\\image\\lib\\site-packages\\skimage\\transform\\radon_transform.py:63: UserWarning: Radon transform: image must be zero outside the reconstruction circle\n",
      "  warn('Radon transform: image must be zero outside the '\n",
      "D:\\Programming\\Anaconda\\envs\\image\\lib\\site-packages\\skimage\\transform\\radon_transform.py:63: UserWarning: Radon transform: image must be zero outside the reconstruction circle\n",
      "  warn('Radon transform: image must be zero outside the '\n",
      "D:\\Programming\\Anaconda\\envs\\image\\lib\\site-packages\\skimage\\transform\\radon_transform.py:63: UserWarning: Radon transform: image must be zero outside the reconstruction circle\n",
      "  warn('Radon transform: image must be zero outside the '\n",
      "D:\\Programming\\Anaconda\\envs\\image\\lib\\site-packages\\skimage\\transform\\radon_transform.py:63: UserWarning: Radon transform: image must be zero outside the reconstruction circle\n",
      "  warn('Radon transform: image must be zero outside the '\n",
      "D:\\Programming\\Anaconda\\envs\\image\\lib\\site-packages\\skimage\\transform\\radon_transform.py:63: UserWarning: Radon transform: image must be zero outside the reconstruction circle\n",
      "  warn('Radon transform: image must be zero outside the '\n",
      "D:\\Programming\\Anaconda\\envs\\image\\lib\\site-packages\\skimage\\transform\\radon_transform.py:63: UserWarning: Radon transform: image must be zero outside the reconstruction circle\n",
      "  warn('Radon transform: image must be zero outside the '\n",
      "D:\\Programming\\Anaconda\\envs\\image\\lib\\site-packages\\skimage\\transform\\radon_transform.py:63: UserWarning: Radon transform: image must be zero outside the reconstruction circle\n",
      "  warn('Radon transform: image must be zero outside the '\n",
      "D:\\Programming\\Anaconda\\envs\\image\\lib\\site-packages\\skimage\\transform\\radon_transform.py:63: UserWarning: Radon transform: image must be zero outside the reconstruction circle\n",
      "  warn('Radon transform: image must be zero outside the '\n",
      "D:\\Programming\\Anaconda\\envs\\image\\lib\\site-packages\\skimage\\transform\\radon_transform.py:63: UserWarning: Radon transform: image must be zero outside the reconstruction circle\n",
      "  warn('Radon transform: image must be zero outside the '\n",
      "D:\\Programming\\Anaconda\\envs\\image\\lib\\site-packages\\skimage\\transform\\radon_transform.py:63: UserWarning: Radon transform: image must be zero outside the reconstruction circle\n",
      "  warn('Radon transform: image must be zero outside the '\n",
      "D:\\Programming\\Anaconda\\envs\\image\\lib\\site-packages\\skimage\\transform\\radon_transform.py:63: UserWarning: Radon transform: image must be zero outside the reconstruction circle\n",
      "  warn('Radon transform: image must be zero outside the '\n"
     ]
    },
    {
     "name": "stdout",
     "output_type": "stream",
     "text": [
      "57\n"
     ]
    },
    {
     "name": "stderr",
     "output_type": "stream",
     "text": [
      "D:\\Programming\\Anaconda\\envs\\image\\lib\\site-packages\\skimage\\transform\\radon_transform.py:63: UserWarning: Radon transform: image must be zero outside the reconstruction circle\n",
      "  warn('Radon transform: image must be zero outside the '\n",
      "D:\\Programming\\Anaconda\\envs\\image\\lib\\site-packages\\skimage\\transform\\radon_transform.py:63: UserWarning: Radon transform: image must be zero outside the reconstruction circle\n",
      "  warn('Radon transform: image must be zero outside the '\n",
      "D:\\Programming\\Anaconda\\envs\\image\\lib\\site-packages\\skimage\\transform\\radon_transform.py:63: UserWarning: Radon transform: image must be zero outside the reconstruction circle\n",
      "  warn('Radon transform: image must be zero outside the '\n",
      "D:\\Programming\\Anaconda\\envs\\image\\lib\\site-packages\\skimage\\transform\\radon_transform.py:63: UserWarning: Radon transform: image must be zero outside the reconstruction circle\n",
      "  warn('Radon transform: image must be zero outside the '\n"
     ]
    },
    {
     "name": "stdout",
     "output_type": "stream",
     "text": [
      "61\n"
     ]
    },
    {
     "name": "stderr",
     "output_type": "stream",
     "text": [
      "D:\\Programming\\Anaconda\\envs\\image\\lib\\site-packages\\skimage\\transform\\radon_transform.py:63: UserWarning: Radon transform: image must be zero outside the reconstruction circle\n",
      "  warn('Radon transform: image must be zero outside the '\n",
      "D:\\Programming\\Anaconda\\envs\\image\\lib\\site-packages\\skimage\\transform\\radon_transform.py:63: UserWarning: Radon transform: image must be zero outside the reconstruction circle\n",
      "  warn('Radon transform: image must be zero outside the '\n",
      "D:\\Programming\\Anaconda\\envs\\image\\lib\\site-packages\\skimage\\transform\\radon_transform.py:63: UserWarning: Radon transform: image must be zero outside the reconstruction circle\n",
      "  warn('Radon transform: image must be zero outside the '\n",
      "D:\\Programming\\Anaconda\\envs\\image\\lib\\site-packages\\skimage\\transform\\radon_transform.py:63: UserWarning: Radon transform: image must be zero outside the reconstruction circle\n",
      "  warn('Radon transform: image must be zero outside the '\n",
      "D:\\Programming\\Anaconda\\envs\\image\\lib\\site-packages\\skimage\\transform\\radon_transform.py:63: UserWarning: Radon transform: image must be zero outside the reconstruction circle\n",
      "  warn('Radon transform: image must be zero outside the '\n",
      "D:\\Programming\\Anaconda\\envs\\image\\lib\\site-packages\\skimage\\transform\\radon_transform.py:63: UserWarning: Radon transform: image must be zero outside the reconstruction circle\n",
      "  warn('Radon transform: image must be zero outside the '\n",
      "D:\\Programming\\Anaconda\\envs\\image\\lib\\site-packages\\skimage\\transform\\radon_transform.py:63: UserWarning: Radon transform: image must be zero outside the reconstruction circle\n",
      "  warn('Radon transform: image must be zero outside the '\n"
     ]
    },
    {
     "name": "stdout",
     "output_type": "stream",
     "text": [
      "68\n"
     ]
    },
    {
     "name": "stderr",
     "output_type": "stream",
     "text": [
      "D:\\Programming\\Anaconda\\envs\\image\\lib\\site-packages\\skimage\\transform\\radon_transform.py:63: UserWarning: Radon transform: image must be zero outside the reconstruction circle\n",
      "  warn('Radon transform: image must be zero outside the '\n"
     ]
    },
    {
     "name": "stdout",
     "output_type": "stream",
     "text": [
      "69\n"
     ]
    },
    {
     "name": "stderr",
     "output_type": "stream",
     "text": [
      "D:\\Programming\\Anaconda\\envs\\image\\lib\\site-packages\\skimage\\transform\\radon_transform.py:63: UserWarning: Radon transform: image must be zero outside the reconstruction circle\n",
      "  warn('Radon transform: image must be zero outside the '\n",
      "D:\\Programming\\Anaconda\\envs\\image\\lib\\site-packages\\skimage\\transform\\radon_transform.py:63: UserWarning: Radon transform: image must be zero outside the reconstruction circle\n",
      "  warn('Radon transform: image must be zero outside the '\n",
      "D:\\Programming\\Anaconda\\envs\\image\\lib\\site-packages\\skimage\\transform\\radon_transform.py:63: UserWarning: Radon transform: image must be zero outside the reconstruction circle\n",
      "  warn('Radon transform: image must be zero outside the '\n",
      "D:\\Programming\\Anaconda\\envs\\image\\lib\\site-packages\\skimage\\transform\\radon_transform.py:63: UserWarning: Radon transform: image must be zero outside the reconstruction circle\n",
      "  warn('Radon transform: image must be zero outside the '\n",
      "D:\\Programming\\Anaconda\\envs\\image\\lib\\site-packages\\skimage\\transform\\radon_transform.py:63: UserWarning: Radon transform: image must be zero outside the reconstruction circle\n",
      "  warn('Radon transform: image must be zero outside the '\n",
      "D:\\Programming\\Anaconda\\envs\\image\\lib\\site-packages\\skimage\\transform\\radon_transform.py:63: UserWarning: Radon transform: image must be zero outside the reconstruction circle\n",
      "  warn('Radon transform: image must be zero outside the '\n"
     ]
    },
    {
     "name": "stdout",
     "output_type": "stream",
     "text": [
      "75\n"
     ]
    },
    {
     "name": "stderr",
     "output_type": "stream",
     "text": [
      "D:\\Programming\\Anaconda\\envs\\image\\lib\\site-packages\\skimage\\transform\\radon_transform.py:63: UserWarning: Radon transform: image must be zero outside the reconstruction circle\n",
      "  warn('Radon transform: image must be zero outside the '\n",
      "D:\\Programming\\Anaconda\\envs\\image\\lib\\site-packages\\skimage\\transform\\radon_transform.py:63: UserWarning: Radon transform: image must be zero outside the reconstruction circle\n",
      "  warn('Radon transform: image must be zero outside the '\n"
     ]
    },
    {
     "name": "stdout",
     "output_type": "stream",
     "text": [
      "77\n"
     ]
    },
    {
     "name": "stderr",
     "output_type": "stream",
     "text": [
      "D:\\Programming\\Anaconda\\envs\\image\\lib\\site-packages\\skimage\\transform\\radon_transform.py:63: UserWarning: Radon transform: image must be zero outside the reconstruction circle\n",
      "  warn('Radon transform: image must be zero outside the '\n",
      "D:\\Programming\\Anaconda\\envs\\image\\lib\\site-packages\\skimage\\transform\\radon_transform.py:63: UserWarning: Radon transform: image must be zero outside the reconstruction circle\n",
      "  warn('Radon transform: image must be zero outside the '\n",
      "D:\\Programming\\Anaconda\\envs\\image\\lib\\site-packages\\skimage\\transform\\radon_transform.py:63: UserWarning: Radon transform: image must be zero outside the reconstruction circle\n",
      "  warn('Radon transform: image must be zero outside the '\n"
     ]
    },
    {
     "name": "stdout",
     "output_type": "stream",
     "text": [
      "80\n"
     ]
    },
    {
     "name": "stderr",
     "output_type": "stream",
     "text": [
      "D:\\Programming\\Anaconda\\envs\\image\\lib\\site-packages\\skimage\\transform\\radon_transform.py:63: UserWarning: Radon transform: image must be zero outside the reconstruction circle\n",
      "  warn('Radon transform: image must be zero outside the '\n",
      "D:\\Programming\\Anaconda\\envs\\image\\lib\\site-packages\\skimage\\transform\\radon_transform.py:63: UserWarning: Radon transform: image must be zero outside the reconstruction circle\n",
      "  warn('Radon transform: image must be zero outside the '\n"
     ]
    },
    {
     "name": "stdout",
     "output_type": "stream",
     "text": [
      "82\n"
     ]
    },
    {
     "name": "stderr",
     "output_type": "stream",
     "text": [
      "D:\\Programming\\Anaconda\\envs\\image\\lib\\site-packages\\skimage\\transform\\radon_transform.py:63: UserWarning: Radon transform: image must be zero outside the reconstruction circle\n",
      "  warn('Radon transform: image must be zero outside the '\n",
      "D:\\Programming\\Anaconda\\envs\\image\\lib\\site-packages\\skimage\\transform\\radon_transform.py:63: UserWarning: Radon transform: image must be zero outside the reconstruction circle\n",
      "  warn('Radon transform: image must be zero outside the '\n",
      "D:\\Programming\\Anaconda\\envs\\image\\lib\\site-packages\\skimage\\transform\\radon_transform.py:63: UserWarning: Radon transform: image must be zero outside the reconstruction circle\n",
      "  warn('Radon transform: image must be zero outside the '\n",
      "D:\\Programming\\Anaconda\\envs\\image\\lib\\site-packages\\skimage\\transform\\radon_transform.py:63: UserWarning: Radon transform: image must be zero outside the reconstruction circle\n",
      "  warn('Radon transform: image must be zero outside the '\n"
     ]
    },
    {
     "name": "stdout",
     "output_type": "stream",
     "text": [
      "86\n"
     ]
    },
    {
     "name": "stderr",
     "output_type": "stream",
     "text": [
      "D:\\Programming\\Anaconda\\envs\\image\\lib\\site-packages\\skimage\\transform\\radon_transform.py:63: UserWarning: Radon transform: image must be zero outside the reconstruction circle\n",
      "  warn('Radon transform: image must be zero outside the '\n",
      "D:\\Programming\\Anaconda\\envs\\image\\lib\\site-packages\\skimage\\transform\\radon_transform.py:63: UserWarning: Radon transform: image must be zero outside the reconstruction circle\n",
      "  warn('Radon transform: image must be zero outside the '\n"
     ]
    },
    {
     "name": "stdout",
     "output_type": "stream",
     "text": [
      "88\n"
     ]
    },
    {
     "name": "stderr",
     "output_type": "stream",
     "text": [
      "D:\\Programming\\Anaconda\\envs\\image\\lib\\site-packages\\skimage\\transform\\radon_transform.py:63: UserWarning: Radon transform: image must be zero outside the reconstruction circle\n",
      "  warn('Radon transform: image must be zero outside the '\n",
      "D:\\Programming\\Anaconda\\envs\\image\\lib\\site-packages\\skimage\\transform\\radon_transform.py:63: UserWarning: Radon transform: image must be zero outside the reconstruction circle\n",
      "  warn('Radon transform: image must be zero outside the '\n",
      "D:\\Programming\\Anaconda\\envs\\image\\lib\\site-packages\\skimage\\transform\\radon_transform.py:63: UserWarning: Radon transform: image must be zero outside the reconstruction circle\n",
      "  warn('Radon transform: image must be zero outside the '\n",
      "D:\\Programming\\Anaconda\\envs\\image\\lib\\site-packages\\skimage\\transform\\radon_transform.py:63: UserWarning: Radon transform: image must be zero outside the reconstruction circle\n",
      "  warn('Radon transform: image must be zero outside the '\n",
      "D:\\Programming\\Anaconda\\envs\\image\\lib\\site-packages\\skimage\\transform\\radon_transform.py:63: UserWarning: Radon transform: image must be zero outside the reconstruction circle\n",
      "  warn('Radon transform: image must be zero outside the '\n",
      "D:\\Programming\\Anaconda\\envs\\image\\lib\\site-packages\\skimage\\transform\\radon_transform.py:63: UserWarning: Radon transform: image must be zero outside the reconstruction circle\n",
      "  warn('Radon transform: image must be zero outside the '\n",
      "D:\\Programming\\Anaconda\\envs\\image\\lib\\site-packages\\skimage\\transform\\radon_transform.py:63: UserWarning: Radon transform: image must be zero outside the reconstruction circle\n",
      "  warn('Radon transform: image must be zero outside the '\n",
      "D:\\Programming\\Anaconda\\envs\\image\\lib\\site-packages\\skimage\\transform\\radon_transform.py:63: UserWarning: Radon transform: image must be zero outside the reconstruction circle\n",
      "  warn('Radon transform: image must be zero outside the '\n",
      "D:\\Programming\\Anaconda\\envs\\image\\lib\\site-packages\\skimage\\transform\\radon_transform.py:63: UserWarning: Radon transform: image must be zero outside the reconstruction circle\n",
      "  warn('Radon transform: image must be zero outside the '\n",
      "D:\\Programming\\Anaconda\\envs\\image\\lib\\site-packages\\skimage\\transform\\radon_transform.py:63: UserWarning: Radon transform: image must be zero outside the reconstruction circle\n",
      "  warn('Radon transform: image must be zero outside the '\n",
      "D:\\Programming\\Anaconda\\envs\\image\\lib\\site-packages\\skimage\\transform\\radon_transform.py:63: UserWarning: Radon transform: image must be zero outside the reconstruction circle\n",
      "  warn('Radon transform: image must be zero outside the '\n",
      "D:\\Programming\\Anaconda\\envs\\image\\lib\\site-packages\\skimage\\transform\\radon_transform.py:63: UserWarning: Radon transform: image must be zero outside the reconstruction circle\n",
      "  warn('Radon transform: image must be zero outside the '\n",
      "D:\\Programming\\Anaconda\\envs\\image\\lib\\site-packages\\skimage\\transform\\radon_transform.py:63: UserWarning: Radon transform: image must be zero outside the reconstruction circle\n",
      "  warn('Radon transform: image must be zero outside the '\n",
      "D:\\Programming\\Anaconda\\envs\\image\\lib\\site-packages\\skimage\\transform\\radon_transform.py:63: UserWarning: Radon transform: image must be zero outside the reconstruction circle\n",
      "  warn('Radon transform: image must be zero outside the '\n",
      "D:\\Programming\\Anaconda\\envs\\image\\lib\\site-packages\\skimage\\transform\\radon_transform.py:63: UserWarning: Radon transform: image must be zero outside the reconstruction circle\n",
      "  warn('Radon transform: image must be zero outside the '\n",
      "D:\\Programming\\Anaconda\\envs\\image\\lib\\site-packages\\skimage\\transform\\radon_transform.py:63: UserWarning: Radon transform: image must be zero outside the reconstruction circle\n",
      "  warn('Radon transform: image must be zero outside the '\n",
      "D:\\Programming\\Anaconda\\envs\\image\\lib\\site-packages\\skimage\\transform\\radon_transform.py:63: UserWarning: Radon transform: image must be zero outside the reconstruction circle\n",
      "  warn('Radon transform: image must be zero outside the '\n",
      "D:\\Programming\\Anaconda\\envs\\image\\lib\\site-packages\\skimage\\transform\\radon_transform.py:63: UserWarning: Radon transform: image must be zero outside the reconstruction circle\n",
      "  warn('Radon transform: image must be zero outside the '\n",
      "D:\\Programming\\Anaconda\\envs\\image\\lib\\site-packages\\skimage\\transform\\radon_transform.py:63: UserWarning: Radon transform: image must be zero outside the reconstruction circle\n",
      "  warn('Radon transform: image must be zero outside the '\n",
      "D:\\Programming\\Anaconda\\envs\\image\\lib\\site-packages\\skimage\\transform\\radon_transform.py:63: UserWarning: Radon transform: image must be zero outside the reconstruction circle\n",
      "  warn('Radon transform: image must be zero outside the '\n",
      "D:\\Programming\\Anaconda\\envs\\image\\lib\\site-packages\\skimage\\transform\\radon_transform.py:63: UserWarning: Radon transform: image must be zero outside the reconstruction circle\n",
      "  warn('Radon transform: image must be zero outside the '\n"
     ]
    },
    {
     "name": "stdout",
     "output_type": "stream",
     "text": [
      "109\n"
     ]
    },
    {
     "name": "stderr",
     "output_type": "stream",
     "text": [
      "D:\\Programming\\Anaconda\\envs\\image\\lib\\site-packages\\skimage\\transform\\radon_transform.py:63: UserWarning: Radon transform: image must be zero outside the reconstruction circle\n",
      "  warn('Radon transform: image must be zero outside the '\n",
      "D:\\Programming\\Anaconda\\envs\\image\\lib\\site-packages\\skimage\\transform\\radon_transform.py:63: UserWarning: Radon transform: image must be zero outside the reconstruction circle\n",
      "  warn('Radon transform: image must be zero outside the '\n",
      "D:\\Programming\\Anaconda\\envs\\image\\lib\\site-packages\\skimage\\transform\\radon_transform.py:63: UserWarning: Radon transform: image must be zero outside the reconstruction circle\n",
      "  warn('Radon transform: image must be zero outside the '\n"
     ]
    },
    {
     "name": "stdout",
     "output_type": "stream",
     "text": [
      "112\n"
     ]
    },
    {
     "name": "stderr",
     "output_type": "stream",
     "text": [
      "D:\\Programming\\Anaconda\\envs\\image\\lib\\site-packages\\skimage\\transform\\radon_transform.py:63: UserWarning: Radon transform: image must be zero outside the reconstruction circle\n",
      "  warn('Radon transform: image must be zero outside the '\n",
      "D:\\Programming\\Anaconda\\envs\\image\\lib\\site-packages\\skimage\\transform\\radon_transform.py:63: UserWarning: Radon transform: image must be zero outside the reconstruction circle\n",
      "  warn('Radon transform: image must be zero outside the '\n",
      "D:\\Programming\\Anaconda\\envs\\image\\lib\\site-packages\\skimage\\transform\\radon_transform.py:63: UserWarning: Radon transform: image must be zero outside the reconstruction circle\n",
      "  warn('Radon transform: image must be zero outside the '\n",
      "D:\\Programming\\Anaconda\\envs\\image\\lib\\site-packages\\skimage\\transform\\radon_transform.py:63: UserWarning: Radon transform: image must be zero outside the reconstruction circle\n",
      "  warn('Radon transform: image must be zero outside the '\n"
     ]
    },
    {
     "name": "stdout",
     "output_type": "stream",
     "text": [
      "116\n"
     ]
    },
    {
     "name": "stderr",
     "output_type": "stream",
     "text": [
      "D:\\Programming\\Anaconda\\envs\\image\\lib\\site-packages\\skimage\\transform\\radon_transform.py:63: UserWarning: Radon transform: image must be zero outside the reconstruction circle\n",
      "  warn('Radon transform: image must be zero outside the '\n",
      "D:\\Programming\\Anaconda\\envs\\image\\lib\\site-packages\\skimage\\transform\\radon_transform.py:63: UserWarning: Radon transform: image must be zero outside the reconstruction circle\n",
      "  warn('Radon transform: image must be zero outside the '\n",
      "D:\\Programming\\Anaconda\\envs\\image\\lib\\site-packages\\skimage\\transform\\radon_transform.py:63: UserWarning: Radon transform: image must be zero outside the reconstruction circle\n",
      "  warn('Radon transform: image must be zero outside the '\n"
     ]
    },
    {
     "name": "stdout",
     "output_type": "stream",
     "text": [
      "119\n"
     ]
    },
    {
     "name": "stderr",
     "output_type": "stream",
     "text": [
      "D:\\Programming\\Anaconda\\envs\\image\\lib\\site-packages\\skimage\\transform\\radon_transform.py:63: UserWarning: Radon transform: image must be zero outside the reconstruction circle\n",
      "  warn('Radon transform: image must be zero outside the '\n",
      "D:\\Programming\\Anaconda\\envs\\image\\lib\\site-packages\\skimage\\transform\\radon_transform.py:63: UserWarning: Radon transform: image must be zero outside the reconstruction circle\n",
      "  warn('Radon transform: image must be zero outside the '\n",
      "D:\\Programming\\Anaconda\\envs\\image\\lib\\site-packages\\skimage\\transform\\radon_transform.py:63: UserWarning: Radon transform: image must be zero outside the reconstruction circle\n",
      "  warn('Radon transform: image must be zero outside the '\n",
      "D:\\Programming\\Anaconda\\envs\\image\\lib\\site-packages\\skimage\\transform\\radon_transform.py:63: UserWarning: Radon transform: image must be zero outside the reconstruction circle\n",
      "  warn('Radon transform: image must be zero outside the '\n",
      "D:\\Programming\\Anaconda\\envs\\image\\lib\\site-packages\\skimage\\transform\\radon_transform.py:63: UserWarning: Radon transform: image must be zero outside the reconstruction circle\n",
      "  warn('Radon transform: image must be zero outside the '\n",
      "D:\\Programming\\Anaconda\\envs\\image\\lib\\site-packages\\skimage\\transform\\radon_transform.py:63: UserWarning: Radon transform: image must be zero outside the reconstruction circle\n",
      "  warn('Radon transform: image must be zero outside the '\n",
      "D:\\Programming\\Anaconda\\envs\\image\\lib\\site-packages\\skimage\\transform\\radon_transform.py:63: UserWarning: Radon transform: image must be zero outside the reconstruction circle\n",
      "  warn('Radon transform: image must be zero outside the '\n"
     ]
    },
    {
     "name": "stdout",
     "output_type": "stream",
     "text": [
      "126\n"
     ]
    },
    {
     "name": "stderr",
     "output_type": "stream",
     "text": [
      "D:\\Programming\\Anaconda\\envs\\image\\lib\\site-packages\\skimage\\transform\\radon_transform.py:63: UserWarning: Radon transform: image must be zero outside the reconstruction circle\n",
      "  warn('Radon transform: image must be zero outside the '\n",
      "D:\\Programming\\Anaconda\\envs\\image\\lib\\site-packages\\skimage\\transform\\radon_transform.py:63: UserWarning: Radon transform: image must be zero outside the reconstruction circle\n",
      "  warn('Radon transform: image must be zero outside the '\n",
      "D:\\Programming\\Anaconda\\envs\\image\\lib\\site-packages\\skimage\\transform\\radon_transform.py:63: UserWarning: Radon transform: image must be zero outside the reconstruction circle\n",
      "  warn('Radon transform: image must be zero outside the '\n"
     ]
    },
    {
     "name": "stdout",
     "output_type": "stream",
     "text": [
      "129\n"
     ]
    },
    {
     "name": "stderr",
     "output_type": "stream",
     "text": [
      "D:\\Programming\\Anaconda\\envs\\image\\lib\\site-packages\\skimage\\transform\\radon_transform.py:63: UserWarning: Radon transform: image must be zero outside the reconstruction circle\n",
      "  warn('Radon transform: image must be zero outside the '\n",
      "D:\\Programming\\Anaconda\\envs\\image\\lib\\site-packages\\skimage\\transform\\radon_transform.py:63: UserWarning: Radon transform: image must be zero outside the reconstruction circle\n",
      "  warn('Radon transform: image must be zero outside the '\n"
     ]
    },
    {
     "name": "stdout",
     "output_type": "stream",
     "text": [
      "131\n"
     ]
    },
    {
     "name": "stderr",
     "output_type": "stream",
     "text": [
      "D:\\Programming\\Anaconda\\envs\\image\\lib\\site-packages\\skimage\\transform\\radon_transform.py:63: UserWarning: Radon transform: image must be zero outside the reconstruction circle\n",
      "  warn('Radon transform: image must be zero outside the '\n",
      "D:\\Programming\\Anaconda\\envs\\image\\lib\\site-packages\\skimage\\transform\\radon_transform.py:63: UserWarning: Radon transform: image must be zero outside the reconstruction circle\n",
      "  warn('Radon transform: image must be zero outside the '\n",
      "D:\\Programming\\Anaconda\\envs\\image\\lib\\site-packages\\skimage\\transform\\radon_transform.py:63: UserWarning: Radon transform: image must be zero outside the reconstruction circle\n",
      "  warn('Radon transform: image must be zero outside the '\n"
     ]
    },
    {
     "name": "stdout",
     "output_type": "stream",
     "text": [
      "134\n"
     ]
    },
    {
     "name": "stderr",
     "output_type": "stream",
     "text": [
      "D:\\Programming\\Anaconda\\envs\\image\\lib\\site-packages\\skimage\\transform\\radon_transform.py:63: UserWarning: Radon transform: image must be zero outside the reconstruction circle\n",
      "  warn('Radon transform: image must be zero outside the '\n",
      "D:\\Programming\\Anaconda\\envs\\image\\lib\\site-packages\\skimage\\transform\\radon_transform.py:63: UserWarning: Radon transform: image must be zero outside the reconstruction circle\n",
      "  warn('Radon transform: image must be zero outside the '\n",
      "D:\\Programming\\Anaconda\\envs\\image\\lib\\site-packages\\skimage\\transform\\radon_transform.py:63: UserWarning: Radon transform: image must be zero outside the reconstruction circle\n",
      "  warn('Radon transform: image must be zero outside the '\n",
      "D:\\Programming\\Anaconda\\envs\\image\\lib\\site-packages\\skimage\\transform\\radon_transform.py:63: UserWarning: Radon transform: image must be zero outside the reconstruction circle\n",
      "  warn('Radon transform: image must be zero outside the '\n",
      "D:\\Programming\\Anaconda\\envs\\image\\lib\\site-packages\\skimage\\transform\\radon_transform.py:63: UserWarning: Radon transform: image must be zero outside the reconstruction circle\n",
      "  warn('Radon transform: image must be zero outside the '\n",
      "D:\\Programming\\Anaconda\\envs\\image\\lib\\site-packages\\skimage\\transform\\radon_transform.py:63: UserWarning: Radon transform: image must be zero outside the reconstruction circle\n",
      "  warn('Radon transform: image must be zero outside the '\n"
     ]
    },
    {
     "name": "stdout",
     "output_type": "stream",
     "text": [
      "140\n"
     ]
    },
    {
     "name": "stderr",
     "output_type": "stream",
     "text": [
      "D:\\Programming\\Anaconda\\envs\\image\\lib\\site-packages\\skimage\\transform\\radon_transform.py:63: UserWarning: Radon transform: image must be zero outside the reconstruction circle\n",
      "  warn('Radon transform: image must be zero outside the '\n",
      "D:\\Programming\\Anaconda\\envs\\image\\lib\\site-packages\\skimage\\transform\\radon_transform.py:63: UserWarning: Radon transform: image must be zero outside the reconstruction circle\n",
      "  warn('Radon transform: image must be zero outside the '\n"
     ]
    },
    {
     "name": "stdout",
     "output_type": "stream",
     "text": [
      "142\n"
     ]
    },
    {
     "name": "stderr",
     "output_type": "stream",
     "text": [
      "D:\\Programming\\Anaconda\\envs\\image\\lib\\site-packages\\skimage\\transform\\radon_transform.py:63: UserWarning: Radon transform: image must be zero outside the reconstruction circle\n",
      "  warn('Radon transform: image must be zero outside the '\n"
     ]
    },
    {
     "name": "stdout",
     "output_type": "stream",
     "text": [
      "143\n"
     ]
    },
    {
     "name": "stderr",
     "output_type": "stream",
     "text": [
      "D:\\Programming\\Anaconda\\envs\\image\\lib\\site-packages\\skimage\\transform\\radon_transform.py:63: UserWarning: Radon transform: image must be zero outside the reconstruction circle\n",
      "  warn('Radon transform: image must be zero outside the '\n",
      "D:\\Programming\\Anaconda\\envs\\image\\lib\\site-packages\\skimage\\transform\\radon_transform.py:63: UserWarning: Radon transform: image must be zero outside the reconstruction circle\n",
      "  warn('Radon transform: image must be zero outside the '\n",
      "D:\\Programming\\Anaconda\\envs\\image\\lib\\site-packages\\skimage\\transform\\radon_transform.py:63: UserWarning: Radon transform: image must be zero outside the reconstruction circle\n",
      "  warn('Radon transform: image must be zero outside the '\n",
      "D:\\Programming\\Anaconda\\envs\\image\\lib\\site-packages\\skimage\\transform\\radon_transform.py:63: UserWarning: Radon transform: image must be zero outside the reconstruction circle\n",
      "  warn('Radon transform: image must be zero outside the '\n",
      "D:\\Programming\\Anaconda\\envs\\image\\lib\\site-packages\\skimage\\transform\\radon_transform.py:63: UserWarning: Radon transform: image must be zero outside the reconstruction circle\n",
      "  warn('Radon transform: image must be zero outside the '\n",
      "D:\\Programming\\Anaconda\\envs\\image\\lib\\site-packages\\skimage\\transform\\radon_transform.py:63: UserWarning: Radon transform: image must be zero outside the reconstruction circle\n",
      "  warn('Radon transform: image must be zero outside the '\n",
      "D:\\Programming\\Anaconda\\envs\\image\\lib\\site-packages\\skimage\\transform\\radon_transform.py:63: UserWarning: Radon transform: image must be zero outside the reconstruction circle\n",
      "  warn('Radon transform: image must be zero outside the '\n",
      "D:\\Programming\\Anaconda\\envs\\image\\lib\\site-packages\\skimage\\transform\\radon_transform.py:63: UserWarning: Radon transform: image must be zero outside the reconstruction circle\n",
      "  warn('Radon transform: image must be zero outside the '\n",
      "D:\\Programming\\Anaconda\\envs\\image\\lib\\site-packages\\skimage\\transform\\radon_transform.py:63: UserWarning: Radon transform: image must be zero outside the reconstruction circle\n",
      "  warn('Radon transform: image must be zero outside the '\n",
      "D:\\Programming\\Anaconda\\envs\\image\\lib\\site-packages\\skimage\\transform\\radon_transform.py:63: UserWarning: Radon transform: image must be zero outside the reconstruction circle\n",
      "  warn('Radon transform: image must be zero outside the '\n",
      "D:\\Programming\\Anaconda\\envs\\image\\lib\\site-packages\\skimage\\transform\\radon_transform.py:63: UserWarning: Radon transform: image must be zero outside the reconstruction circle\n",
      "  warn('Radon transform: image must be zero outside the '\n",
      "D:\\Programming\\Anaconda\\envs\\image\\lib\\site-packages\\skimage\\transform\\radon_transform.py:63: UserWarning: Radon transform: image must be zero outside the reconstruction circle\n",
      "  warn('Radon transform: image must be zero outside the '\n"
     ]
    },
    {
     "name": "stdout",
     "output_type": "stream",
     "text": [
      "155\n"
     ]
    },
    {
     "name": "stderr",
     "output_type": "stream",
     "text": [
      "D:\\Programming\\Anaconda\\envs\\image\\lib\\site-packages\\skimage\\transform\\radon_transform.py:63: UserWarning: Radon transform: image must be zero outside the reconstruction circle\n",
      "  warn('Radon transform: image must be zero outside the '\n",
      "D:\\Programming\\Anaconda\\envs\\image\\lib\\site-packages\\skimage\\transform\\radon_transform.py:63: UserWarning: Radon transform: image must be zero outside the reconstruction circle\n",
      "  warn('Radon transform: image must be zero outside the '\n"
     ]
    },
    {
     "name": "stdout",
     "output_type": "stream",
     "text": [
      "157\n"
     ]
    },
    {
     "name": "stderr",
     "output_type": "stream",
     "text": [
      "D:\\Programming\\Anaconda\\envs\\image\\lib\\site-packages\\skimage\\transform\\radon_transform.py:63: UserWarning: Radon transform: image must be zero outside the reconstruction circle\n",
      "  warn('Radon transform: image must be zero outside the '\n",
      "D:\\Programming\\Anaconda\\envs\\image\\lib\\site-packages\\skimage\\transform\\radon_transform.py:63: UserWarning: Radon transform: image must be zero outside the reconstruction circle\n",
      "  warn('Radon transform: image must be zero outside the '\n",
      "D:\\Programming\\Anaconda\\envs\\image\\lib\\site-packages\\skimage\\transform\\radon_transform.py:63: UserWarning: Radon transform: image must be zero outside the reconstruction circle\n",
      "  warn('Radon transform: image must be zero outside the '\n",
      "D:\\Programming\\Anaconda\\envs\\image\\lib\\site-packages\\skimage\\transform\\radon_transform.py:63: UserWarning: Radon transform: image must be zero outside the reconstruction circle\n",
      "  warn('Radon transform: image must be zero outside the '\n",
      "D:\\Programming\\Anaconda\\envs\\image\\lib\\site-packages\\skimage\\transform\\radon_transform.py:63: UserWarning: Radon transform: image must be zero outside the reconstruction circle\n",
      "  warn('Radon transform: image must be zero outside the '\n",
      "D:\\Programming\\Anaconda\\envs\\image\\lib\\site-packages\\skimage\\transform\\radon_transform.py:63: UserWarning: Radon transform: image must be zero outside the reconstruction circle\n",
      "  warn('Radon transform: image must be zero outside the '\n",
      "D:\\Programming\\Anaconda\\envs\\image\\lib\\site-packages\\skimage\\transform\\radon_transform.py:63: UserWarning: Radon transform: image must be zero outside the reconstruction circle\n",
      "  warn('Radon transform: image must be zero outside the '\n",
      "D:\\Programming\\Anaconda\\envs\\image\\lib\\site-packages\\skimage\\transform\\radon_transform.py:63: UserWarning: Radon transform: image must be zero outside the reconstruction circle\n",
      "  warn('Radon transform: image must be zero outside the '\n",
      "D:\\Programming\\Anaconda\\envs\\image\\lib\\site-packages\\skimage\\transform\\radon_transform.py:63: UserWarning: Radon transform: image must be zero outside the reconstruction circle\n",
      "  warn('Radon transform: image must be zero outside the '\n",
      "D:\\Programming\\Anaconda\\envs\\image\\lib\\site-packages\\skimage\\transform\\radon_transform.py:63: UserWarning: Radon transform: image must be zero outside the reconstruction circle\n",
      "  warn('Radon transform: image must be zero outside the '\n"
     ]
    },
    {
     "name": "stdout",
     "output_type": "stream",
     "text": [
      "167\n"
     ]
    },
    {
     "name": "stderr",
     "output_type": "stream",
     "text": [
      "D:\\Programming\\Anaconda\\envs\\image\\lib\\site-packages\\skimage\\transform\\radon_transform.py:63: UserWarning: Radon transform: image must be zero outside the reconstruction circle\n",
      "  warn('Radon transform: image must be zero outside the '\n",
      "D:\\Programming\\Anaconda\\envs\\image\\lib\\site-packages\\skimage\\transform\\radon_transform.py:63: UserWarning: Radon transform: image must be zero outside the reconstruction circle\n",
      "  warn('Radon transform: image must be zero outside the '\n",
      "D:\\Programming\\Anaconda\\envs\\image\\lib\\site-packages\\skimage\\transform\\radon_transform.py:63: UserWarning: Radon transform: image must be zero outside the reconstruction circle\n",
      "  warn('Radon transform: image must be zero outside the '\n",
      "D:\\Programming\\Anaconda\\envs\\image\\lib\\site-packages\\skimage\\transform\\radon_transform.py:63: UserWarning: Radon transform: image must be zero outside the reconstruction circle\n",
      "  warn('Radon transform: image must be zero outside the '\n",
      "D:\\Programming\\Anaconda\\envs\\image\\lib\\site-packages\\skimage\\transform\\radon_transform.py:63: UserWarning: Radon transform: image must be zero outside the reconstruction circle\n",
      "  warn('Radon transform: image must be zero outside the '\n",
      "D:\\Programming\\Anaconda\\envs\\image\\lib\\site-packages\\skimage\\transform\\radon_transform.py:63: UserWarning: Radon transform: image must be zero outside the reconstruction circle\n",
      "  warn('Radon transform: image must be zero outside the '\n",
      "D:\\Programming\\Anaconda\\envs\\image\\lib\\site-packages\\skimage\\transform\\radon_transform.py:63: UserWarning: Radon transform: image must be zero outside the reconstruction circle\n",
      "  warn('Radon transform: image must be zero outside the '\n",
      "D:\\Programming\\Anaconda\\envs\\image\\lib\\site-packages\\skimage\\transform\\radon_transform.py:63: UserWarning: Radon transform: image must be zero outside the reconstruction circle\n",
      "  warn('Radon transform: image must be zero outside the '\n"
     ]
    },
    {
     "name": "stdout",
     "output_type": "stream",
     "text": [
      "175\n"
     ]
    },
    {
     "name": "stderr",
     "output_type": "stream",
     "text": [
      "D:\\Programming\\Anaconda\\envs\\image\\lib\\site-packages\\skimage\\transform\\radon_transform.py:63: UserWarning: Radon transform: image must be zero outside the reconstruction circle\n",
      "  warn('Radon transform: image must be zero outside the '\n"
     ]
    },
    {
     "name": "stdout",
     "output_type": "stream",
     "text": [
      "176\n"
     ]
    },
    {
     "name": "stderr",
     "output_type": "stream",
     "text": [
      "D:\\Programming\\Anaconda\\envs\\image\\lib\\site-packages\\skimage\\transform\\radon_transform.py:63: UserWarning: Radon transform: image must be zero outside the reconstruction circle\n",
      "  warn('Radon transform: image must be zero outside the '\n",
      "D:\\Programming\\Anaconda\\envs\\image\\lib\\site-packages\\skimage\\transform\\radon_transform.py:63: UserWarning: Radon transform: image must be zero outside the reconstruction circle\n",
      "  warn('Radon transform: image must be zero outside the '\n",
      "D:\\Programming\\Anaconda\\envs\\image\\lib\\site-packages\\skimage\\transform\\radon_transform.py:63: UserWarning: Radon transform: image must be zero outside the reconstruction circle\n",
      "  warn('Radon transform: image must be zero outside the '\n",
      "D:\\Programming\\Anaconda\\envs\\image\\lib\\site-packages\\skimage\\transform\\radon_transform.py:63: UserWarning: Radon transform: image must be zero outside the reconstruction circle\n",
      "  warn('Radon transform: image must be zero outside the '\n",
      "D:\\Programming\\Anaconda\\envs\\image\\lib\\site-packages\\skimage\\transform\\radon_transform.py:63: UserWarning: Radon transform: image must be zero outside the reconstruction circle\n",
      "  warn('Radon transform: image must be zero outside the '\n",
      "D:\\Programming\\Anaconda\\envs\\image\\lib\\site-packages\\skimage\\transform\\radon_transform.py:63: UserWarning: Radon transform: image must be zero outside the reconstruction circle\n",
      "  warn('Radon transform: image must be zero outside the '\n",
      "D:\\Programming\\Anaconda\\envs\\image\\lib\\site-packages\\skimage\\transform\\radon_transform.py:63: UserWarning: Radon transform: image must be zero outside the reconstruction circle\n",
      "  warn('Radon transform: image must be zero outside the '\n"
     ]
    },
    {
     "name": "stdout",
     "output_type": "stream",
     "text": [
      "183\n"
     ]
    },
    {
     "name": "stderr",
     "output_type": "stream",
     "text": [
      "D:\\Programming\\Anaconda\\envs\\image\\lib\\site-packages\\skimage\\transform\\radon_transform.py:63: UserWarning: Radon transform: image must be zero outside the reconstruction circle\n",
      "  warn('Radon transform: image must be zero outside the '\n",
      "D:\\Programming\\Anaconda\\envs\\image\\lib\\site-packages\\skimage\\transform\\radon_transform.py:63: UserWarning: Radon transform: image must be zero outside the reconstruction circle\n",
      "  warn('Radon transform: image must be zero outside the '\n",
      "D:\\Programming\\Anaconda\\envs\\image\\lib\\site-packages\\skimage\\transform\\radon_transform.py:63: UserWarning: Radon transform: image must be zero outside the reconstruction circle\n",
      "  warn('Radon transform: image must be zero outside the '\n",
      "D:\\Programming\\Anaconda\\envs\\image\\lib\\site-packages\\skimage\\transform\\radon_transform.py:63: UserWarning: Radon transform: image must be zero outside the reconstruction circle\n",
      "  warn('Radon transform: image must be zero outside the '\n",
      "D:\\Programming\\Anaconda\\envs\\image\\lib\\site-packages\\skimage\\transform\\radon_transform.py:63: UserWarning: Radon transform: image must be zero outside the reconstruction circle\n",
      "  warn('Radon transform: image must be zero outside the '\n",
      "D:\\Programming\\Anaconda\\envs\\image\\lib\\site-packages\\skimage\\transform\\radon_transform.py:63: UserWarning: Radon transform: image must be zero outside the reconstruction circle\n",
      "  warn('Radon transform: image must be zero outside the '\n",
      "D:\\Programming\\Anaconda\\envs\\image\\lib\\site-packages\\skimage\\transform\\radon_transform.py:63: UserWarning: Radon transform: image must be zero outside the reconstruction circle\n",
      "  warn('Radon transform: image must be zero outside the '\n",
      "D:\\Programming\\Anaconda\\envs\\image\\lib\\site-packages\\skimage\\transform\\radon_transform.py:63: UserWarning: Radon transform: image must be zero outside the reconstruction circle\n",
      "  warn('Radon transform: image must be zero outside the '\n",
      "D:\\Programming\\Anaconda\\envs\\image\\lib\\site-packages\\skimage\\transform\\radon_transform.py:63: UserWarning: Radon transform: image must be zero outside the reconstruction circle\n",
      "  warn('Radon transform: image must be zero outside the '\n",
      "D:\\Programming\\Anaconda\\envs\\image\\lib\\site-packages\\skimage\\transform\\radon_transform.py:63: UserWarning: Radon transform: image must be zero outside the reconstruction circle\n",
      "  warn('Radon transform: image must be zero outside the '\n",
      "D:\\Programming\\Anaconda\\envs\\image\\lib\\site-packages\\skimage\\transform\\radon_transform.py:63: UserWarning: Radon transform: image must be zero outside the reconstruction circle\n",
      "  warn('Radon transform: image must be zero outside the '\n",
      "D:\\Programming\\Anaconda\\envs\\image\\lib\\site-packages\\skimage\\transform\\radon_transform.py:63: UserWarning: Radon transform: image must be zero outside the reconstruction circle\n",
      "  warn('Radon transform: image must be zero outside the '\n",
      "D:\\Programming\\Anaconda\\envs\\image\\lib\\site-packages\\skimage\\transform\\radon_transform.py:63: UserWarning: Radon transform: image must be zero outside the reconstruction circle\n",
      "  warn('Radon transform: image must be zero outside the '\n",
      "D:\\Programming\\Anaconda\\envs\\image\\lib\\site-packages\\skimage\\transform\\radon_transform.py:63: UserWarning: Radon transform: image must be zero outside the reconstruction circle\n",
      "  warn('Radon transform: image must be zero outside the '\n",
      "D:\\Programming\\Anaconda\\envs\\image\\lib\\site-packages\\skimage\\transform\\radon_transform.py:63: UserWarning: Radon transform: image must be zero outside the reconstruction circle\n",
      "  warn('Radon transform: image must be zero outside the '\n",
      "D:\\Programming\\Anaconda\\envs\\image\\lib\\site-packages\\skimage\\transform\\radon_transform.py:63: UserWarning: Radon transform: image must be zero outside the reconstruction circle\n",
      "  warn('Radon transform: image must be zero outside the '\n",
      "D:\\Programming\\Anaconda\\envs\\image\\lib\\site-packages\\skimage\\transform\\radon_transform.py:63: UserWarning: Radon transform: image must be zero outside the reconstruction circle\n",
      "  warn('Radon transform: image must be zero outside the '\n"
     ]
    },
    {
     "name": "stdout",
     "output_type": "stream",
     "text": [
      "200\n"
     ]
    },
    {
     "name": "stderr",
     "output_type": "stream",
     "text": [
      "D:\\Programming\\Anaconda\\envs\\image\\lib\\site-packages\\skimage\\transform\\radon_transform.py:63: UserWarning: Radon transform: image must be zero outside the reconstruction circle\n",
      "  warn('Radon transform: image must be zero outside the '\n",
      "D:\\Programming\\Anaconda\\envs\\image\\lib\\site-packages\\skimage\\transform\\radon_transform.py:63: UserWarning: Radon transform: image must be zero outside the reconstruction circle\n",
      "  warn('Radon transform: image must be zero outside the '\n"
     ]
    },
    {
     "name": "stdout",
     "output_type": "stream",
     "text": [
      "202\n"
     ]
    },
    {
     "name": "stderr",
     "output_type": "stream",
     "text": [
      "D:\\Programming\\Anaconda\\envs\\image\\lib\\site-packages\\skimage\\transform\\radon_transform.py:63: UserWarning: Radon transform: image must be zero outside the reconstruction circle\n",
      "  warn('Radon transform: image must be zero outside the '\n",
      "D:\\Programming\\Anaconda\\envs\\image\\lib\\site-packages\\skimage\\transform\\radon_transform.py:63: UserWarning: Radon transform: image must be zero outside the reconstruction circle\n",
      "  warn('Radon transform: image must be zero outside the '\n",
      "D:\\Programming\\Anaconda\\envs\\image\\lib\\site-packages\\skimage\\transform\\radon_transform.py:63: UserWarning: Radon transform: image must be zero outside the reconstruction circle\n",
      "  warn('Radon transform: image must be zero outside the '\n",
      "D:\\Programming\\Anaconda\\envs\\image\\lib\\site-packages\\skimage\\transform\\radon_transform.py:63: UserWarning: Radon transform: image must be zero outside the reconstruction circle\n",
      "  warn('Radon transform: image must be zero outside the '\n",
      "D:\\Programming\\Anaconda\\envs\\image\\lib\\site-packages\\skimage\\transform\\radon_transform.py:63: UserWarning: Radon transform: image must be zero outside the reconstruction circle\n",
      "  warn('Radon transform: image must be zero outside the '\n",
      "D:\\Programming\\Anaconda\\envs\\image\\lib\\site-packages\\skimage\\transform\\radon_transform.py:63: UserWarning: Radon transform: image must be zero outside the reconstruction circle\n",
      "  warn('Radon transform: image must be zero outside the '\n",
      "D:\\Programming\\Anaconda\\envs\\image\\lib\\site-packages\\skimage\\transform\\radon_transform.py:63: UserWarning: Radon transform: image must be zero outside the reconstruction circle\n",
      "  warn('Radon transform: image must be zero outside the '\n"
     ]
    },
    {
     "name": "stdout",
     "output_type": "stream",
     "text": [
      "209\n"
     ]
    },
    {
     "name": "stderr",
     "output_type": "stream",
     "text": [
      "D:\\Programming\\Anaconda\\envs\\image\\lib\\site-packages\\skimage\\transform\\radon_transform.py:63: UserWarning: Radon transform: image must be zero outside the reconstruction circle\n",
      "  warn('Radon transform: image must be zero outside the '\n",
      "D:\\Programming\\Anaconda\\envs\\image\\lib\\site-packages\\skimage\\transform\\radon_transform.py:63: UserWarning: Radon transform: image must be zero outside the reconstruction circle\n",
      "  warn('Radon transform: image must be zero outside the '\n",
      "D:\\Programming\\Anaconda\\envs\\image\\lib\\site-packages\\skimage\\transform\\radon_transform.py:63: UserWarning: Radon transform: image must be zero outside the reconstruction circle\n",
      "  warn('Radon transform: image must be zero outside the '\n",
      "D:\\Programming\\Anaconda\\envs\\image\\lib\\site-packages\\skimage\\transform\\radon_transform.py:63: UserWarning: Radon transform: image must be zero outside the reconstruction circle\n",
      "  warn('Radon transform: image must be zero outside the '\n",
      "D:\\Programming\\Anaconda\\envs\\image\\lib\\site-packages\\skimage\\transform\\radon_transform.py:63: UserWarning: Radon transform: image must be zero outside the reconstruction circle\n",
      "  warn('Radon transform: image must be zero outside the '\n",
      "D:\\Programming\\Anaconda\\envs\\image\\lib\\site-packages\\skimage\\transform\\radon_transform.py:63: UserWarning: Radon transform: image must be zero outside the reconstruction circle\n",
      "  warn('Radon transform: image must be zero outside the '\n",
      "D:\\Programming\\Anaconda\\envs\\image\\lib\\site-packages\\skimage\\transform\\radon_transform.py:63: UserWarning: Radon transform: image must be zero outside the reconstruction circle\n",
      "  warn('Radon transform: image must be zero outside the '\n"
     ]
    },
    {
     "name": "stdout",
     "output_type": "stream",
     "text": [
      "216\n"
     ]
    },
    {
     "name": "stderr",
     "output_type": "stream",
     "text": [
      "D:\\Programming\\Anaconda\\envs\\image\\lib\\site-packages\\skimage\\transform\\radon_transform.py:63: UserWarning: Radon transform: image must be zero outside the reconstruction circle\n",
      "  warn('Radon transform: image must be zero outside the '\n",
      "D:\\Programming\\Anaconda\\envs\\image\\lib\\site-packages\\skimage\\transform\\radon_transform.py:63: UserWarning: Radon transform: image must be zero outside the reconstruction circle\n",
      "  warn('Radon transform: image must be zero outside the '\n",
      "D:\\Programming\\Anaconda\\envs\\image\\lib\\site-packages\\skimage\\transform\\radon_transform.py:63: UserWarning: Radon transform: image must be zero outside the reconstruction circle\n",
      "  warn('Radon transform: image must be zero outside the '\n",
      "D:\\Programming\\Anaconda\\envs\\image\\lib\\site-packages\\skimage\\transform\\radon_transform.py:63: UserWarning: Radon transform: image must be zero outside the reconstruction circle\n",
      "  warn('Radon transform: image must be zero outside the '\n",
      "D:\\Programming\\Anaconda\\envs\\image\\lib\\site-packages\\skimage\\transform\\radon_transform.py:63: UserWarning: Radon transform: image must be zero outside the reconstruction circle\n",
      "  warn('Radon transform: image must be zero outside the '\n",
      "D:\\Programming\\Anaconda\\envs\\image\\lib\\site-packages\\skimage\\transform\\radon_transform.py:63: UserWarning: Radon transform: image must be zero outside the reconstruction circle\n",
      "  warn('Radon transform: image must be zero outside the '\n"
     ]
    },
    {
     "name": "stdout",
     "output_type": "stream",
     "text": [
      "222\n"
     ]
    },
    {
     "name": "stderr",
     "output_type": "stream",
     "text": [
      "D:\\Programming\\Anaconda\\envs\\image\\lib\\site-packages\\skimage\\transform\\radon_transform.py:63: UserWarning: Radon transform: image must be zero outside the reconstruction circle\n",
      "  warn('Radon transform: image must be zero outside the '\n",
      "D:\\Programming\\Anaconda\\envs\\image\\lib\\site-packages\\skimage\\transform\\radon_transform.py:63: UserWarning: Radon transform: image must be zero outside the reconstruction circle\n",
      "  warn('Radon transform: image must be zero outside the '\n"
     ]
    },
    {
     "name": "stdout",
     "output_type": "stream",
     "text": [
      "224\n"
     ]
    },
    {
     "name": "stderr",
     "output_type": "stream",
     "text": [
      "D:\\Programming\\Anaconda\\envs\\image\\lib\\site-packages\\skimage\\transform\\radon_transform.py:63: UserWarning: Radon transform: image must be zero outside the reconstruction circle\n",
      "  warn('Radon transform: image must be zero outside the '\n"
     ]
    },
    {
     "name": "stdout",
     "output_type": "stream",
     "text": [
      "225\n"
     ]
    },
    {
     "name": "stderr",
     "output_type": "stream",
     "text": [
      "D:\\Programming\\Anaconda\\envs\\image\\lib\\site-packages\\skimage\\transform\\radon_transform.py:63: UserWarning: Radon transform: image must be zero outside the reconstruction circle\n",
      "  warn('Radon transform: image must be zero outside the '\n",
      "D:\\Programming\\Anaconda\\envs\\image\\lib\\site-packages\\skimage\\transform\\radon_transform.py:63: UserWarning: Radon transform: image must be zero outside the reconstruction circle\n",
      "  warn('Radon transform: image must be zero outside the '\n",
      "D:\\Programming\\Anaconda\\envs\\image\\lib\\site-packages\\skimage\\transform\\radon_transform.py:63: UserWarning: Radon transform: image must be zero outside the reconstruction circle\n",
      "  warn('Radon transform: image must be zero outside the '\n",
      "D:\\Programming\\Anaconda\\envs\\image\\lib\\site-packages\\skimage\\transform\\radon_transform.py:63: UserWarning: Radon transform: image must be zero outside the reconstruction circle\n",
      "  warn('Radon transform: image must be zero outside the '\n",
      "D:\\Programming\\Anaconda\\envs\\image\\lib\\site-packages\\skimage\\transform\\radon_transform.py:63: UserWarning: Radon transform: image must be zero outside the reconstruction circle\n",
      "  warn('Radon transform: image must be zero outside the '\n"
     ]
    },
    {
     "name": "stdout",
     "output_type": "stream",
     "text": [
      "230\n"
     ]
    },
    {
     "name": "stderr",
     "output_type": "stream",
     "text": [
      "D:\\Programming\\Anaconda\\envs\\image\\lib\\site-packages\\skimage\\transform\\radon_transform.py:63: UserWarning: Radon transform: image must be zero outside the reconstruction circle\n",
      "  warn('Radon transform: image must be zero outside the '\n",
      "D:\\Programming\\Anaconda\\envs\\image\\lib\\site-packages\\skimage\\transform\\radon_transform.py:63: UserWarning: Radon transform: image must be zero outside the reconstruction circle\n",
      "  warn('Radon transform: image must be zero outside the '\n",
      "D:\\Programming\\Anaconda\\envs\\image\\lib\\site-packages\\skimage\\transform\\radon_transform.py:63: UserWarning: Radon transform: image must be zero outside the reconstruction circle\n",
      "  warn('Radon transform: image must be zero outside the '\n",
      "D:\\Programming\\Anaconda\\envs\\image\\lib\\site-packages\\skimage\\transform\\radon_transform.py:63: UserWarning: Radon transform: image must be zero outside the reconstruction circle\n",
      "  warn('Radon transform: image must be zero outside the '\n",
      "D:\\Programming\\Anaconda\\envs\\image\\lib\\site-packages\\skimage\\transform\\radon_transform.py:63: UserWarning: Radon transform: image must be zero outside the reconstruction circle\n",
      "  warn('Radon transform: image must be zero outside the '\n",
      "D:\\Programming\\Anaconda\\envs\\image\\lib\\site-packages\\skimage\\transform\\radon_transform.py:63: UserWarning: Radon transform: image must be zero outside the reconstruction circle\n",
      "  warn('Radon transform: image must be zero outside the '\n",
      "D:\\Programming\\Anaconda\\envs\\image\\lib\\site-packages\\skimage\\transform\\radon_transform.py:63: UserWarning: Radon transform: image must be zero outside the reconstruction circle\n",
      "  warn('Radon transform: image must be zero outside the '\n",
      "D:\\Programming\\Anaconda\\envs\\image\\lib\\site-packages\\skimage\\transform\\radon_transform.py:63: UserWarning: Radon transform: image must be zero outside the reconstruction circle\n",
      "  warn('Radon transform: image must be zero outside the '\n",
      "D:\\Programming\\Anaconda\\envs\\image\\lib\\site-packages\\skimage\\transform\\radon_transform.py:63: UserWarning: Radon transform: image must be zero outside the reconstruction circle\n",
      "  warn('Radon transform: image must be zero outside the '\n",
      "D:\\Programming\\Anaconda\\envs\\image\\lib\\site-packages\\skimage\\transform\\radon_transform.py:63: UserWarning: Radon transform: image must be zero outside the reconstruction circle\n",
      "  warn('Radon transform: image must be zero outside the '\n",
      "D:\\Programming\\Anaconda\\envs\\image\\lib\\site-packages\\skimage\\transform\\radon_transform.py:63: UserWarning: Radon transform: image must be zero outside the reconstruction circle\n",
      "  warn('Radon transform: image must be zero outside the '\n",
      "D:\\Programming\\Anaconda\\envs\\image\\lib\\site-packages\\skimage\\transform\\radon_transform.py:63: UserWarning: Radon transform: image must be zero outside the reconstruction circle\n",
      "  warn('Radon transform: image must be zero outside the '\n",
      "D:\\Programming\\Anaconda\\envs\\image\\lib\\site-packages\\skimage\\transform\\radon_transform.py:63: UserWarning: Radon transform: image must be zero outside the reconstruction circle\n",
      "  warn('Radon transform: image must be zero outside the '\n",
      "D:\\Programming\\Anaconda\\envs\\image\\lib\\site-packages\\skimage\\transform\\radon_transform.py:63: UserWarning: Radon transform: image must be zero outside the reconstruction circle\n",
      "  warn('Radon transform: image must be zero outside the '\n"
     ]
    },
    {
     "name": "stdout",
     "output_type": "stream",
     "text": [
      "244\n"
     ]
    },
    {
     "name": "stderr",
     "output_type": "stream",
     "text": [
      "D:\\Programming\\Anaconda\\envs\\image\\lib\\site-packages\\skimage\\transform\\radon_transform.py:63: UserWarning: Radon transform: image must be zero outside the reconstruction circle\n",
      "  warn('Radon transform: image must be zero outside the '\n",
      "D:\\Programming\\Anaconda\\envs\\image\\lib\\site-packages\\skimage\\transform\\radon_transform.py:63: UserWarning: Radon transform: image must be zero outside the reconstruction circle\n",
      "  warn('Radon transform: image must be zero outside the '\n"
     ]
    },
    {
     "name": "stdout",
     "output_type": "stream",
     "text": [
      "246\n"
     ]
    },
    {
     "name": "stderr",
     "output_type": "stream",
     "text": [
      "D:\\Programming\\Anaconda\\envs\\image\\lib\\site-packages\\skimage\\transform\\radon_transform.py:63: UserWarning: Radon transform: image must be zero outside the reconstruction circle\n",
      "  warn('Radon transform: image must be zero outside the '\n",
      "D:\\Programming\\Anaconda\\envs\\image\\lib\\site-packages\\skimage\\transform\\radon_transform.py:63: UserWarning: Radon transform: image must be zero outside the reconstruction circle\n",
      "  warn('Radon transform: image must be zero outside the '\n",
      "D:\\Programming\\Anaconda\\envs\\image\\lib\\site-packages\\skimage\\transform\\radon_transform.py:63: UserWarning: Radon transform: image must be zero outside the reconstruction circle\n",
      "  warn('Radon transform: image must be zero outside the '\n",
      "D:\\Programming\\Anaconda\\envs\\image\\lib\\site-packages\\skimage\\transform\\radon_transform.py:63: UserWarning: Radon transform: image must be zero outside the reconstruction circle\n",
      "  warn('Radon transform: image must be zero outside the '\n"
     ]
    },
    {
     "name": "stdout",
     "output_type": "stream",
     "text": [
      "250\n"
     ]
    },
    {
     "name": "stderr",
     "output_type": "stream",
     "text": [
      "D:\\Programming\\Anaconda\\envs\\image\\lib\\site-packages\\skimage\\transform\\radon_transform.py:63: UserWarning: Radon transform: image must be zero outside the reconstruction circle\n",
      "  warn('Radon transform: image must be zero outside the '\n",
      "D:\\Programming\\Anaconda\\envs\\image\\lib\\site-packages\\skimage\\transform\\radon_transform.py:63: UserWarning: Radon transform: image must be zero outside the reconstruction circle\n",
      "  warn('Radon transform: image must be zero outside the '\n",
      "D:\\Programming\\Anaconda\\envs\\image\\lib\\site-packages\\skimage\\transform\\radon_transform.py:63: UserWarning: Radon transform: image must be zero outside the reconstruction circle\n",
      "  warn('Radon transform: image must be zero outside the '\n",
      "D:\\Programming\\Anaconda\\envs\\image\\lib\\site-packages\\skimage\\transform\\radon_transform.py:63: UserWarning: Radon transform: image must be zero outside the reconstruction circle\n",
      "  warn('Radon transform: image must be zero outside the '\n",
      "D:\\Programming\\Anaconda\\envs\\image\\lib\\site-packages\\skimage\\transform\\radon_transform.py:63: UserWarning: Radon transform: image must be zero outside the reconstruction circle\n",
      "  warn('Radon transform: image must be zero outside the '\n"
     ]
    },
    {
     "name": "stdout",
     "output_type": "stream",
     "text": [
      "255\n"
     ]
    },
    {
     "name": "stderr",
     "output_type": "stream",
     "text": [
      "D:\\Programming\\Anaconda\\envs\\image\\lib\\site-packages\\skimage\\transform\\radon_transform.py:63: UserWarning: Radon transform: image must be zero outside the reconstruction circle\n",
      "  warn('Radon transform: image must be zero outside the '\n",
      "D:\\Programming\\Anaconda\\envs\\image\\lib\\site-packages\\skimage\\transform\\radon_transform.py:63: UserWarning: Radon transform: image must be zero outside the reconstruction circle\n",
      "  warn('Radon transform: image must be zero outside the '\n"
     ]
    },
    {
     "name": "stdout",
     "output_type": "stream",
     "text": [
      "257\n"
     ]
    },
    {
     "name": "stderr",
     "output_type": "stream",
     "text": [
      "D:\\Programming\\Anaconda\\envs\\image\\lib\\site-packages\\skimage\\transform\\radon_transform.py:63: UserWarning: Radon transform: image must be zero outside the reconstruction circle\n",
      "  warn('Radon transform: image must be zero outside the '\n",
      "D:\\Programming\\Anaconda\\envs\\image\\lib\\site-packages\\skimage\\transform\\radon_transform.py:63: UserWarning: Radon transform: image must be zero outside the reconstruction circle\n",
      "  warn('Radon transform: image must be zero outside the '\n"
     ]
    },
    {
     "name": "stdout",
     "output_type": "stream",
     "text": [
      "259\n"
     ]
    },
    {
     "name": "stderr",
     "output_type": "stream",
     "text": [
      "D:\\Programming\\Anaconda\\envs\\image\\lib\\site-packages\\skimage\\transform\\radon_transform.py:63: UserWarning: Radon transform: image must be zero outside the reconstruction circle\n",
      "  warn('Radon transform: image must be zero outside the '\n",
      "D:\\Programming\\Anaconda\\envs\\image\\lib\\site-packages\\skimage\\transform\\radon_transform.py:63: UserWarning: Radon transform: image must be zero outside the reconstruction circle\n",
      "  warn('Radon transform: image must be zero outside the '\n",
      "D:\\Programming\\Anaconda\\envs\\image\\lib\\site-packages\\skimage\\transform\\radon_transform.py:63: UserWarning: Radon transform: image must be zero outside the reconstruction circle\n",
      "  warn('Radon transform: image must be zero outside the '\n",
      "D:\\Programming\\Anaconda\\envs\\image\\lib\\site-packages\\skimage\\transform\\radon_transform.py:63: UserWarning: Radon transform: image must be zero outside the reconstruction circle\n",
      "  warn('Radon transform: image must be zero outside the '\n",
      "D:\\Programming\\Anaconda\\envs\\image\\lib\\site-packages\\skimage\\transform\\radon_transform.py:63: UserWarning: Radon transform: image must be zero outside the reconstruction circle\n",
      "  warn('Radon transform: image must be zero outside the '\n",
      "D:\\Programming\\Anaconda\\envs\\image\\lib\\site-packages\\skimage\\transform\\radon_transform.py:63: UserWarning: Radon transform: image must be zero outside the reconstruction circle\n",
      "  warn('Radon transform: image must be zero outside the '\n",
      "D:\\Programming\\Anaconda\\envs\\image\\lib\\site-packages\\skimage\\transform\\radon_transform.py:63: UserWarning: Radon transform: image must be zero outside the reconstruction circle\n",
      "  warn('Radon transform: image must be zero outside the '\n",
      "D:\\Programming\\Anaconda\\envs\\image\\lib\\site-packages\\skimage\\transform\\radon_transform.py:63: UserWarning: Radon transform: image must be zero outside the reconstruction circle\n",
      "  warn('Radon transform: image must be zero outside the '\n",
      "D:\\Programming\\Anaconda\\envs\\image\\lib\\site-packages\\skimage\\transform\\radon_transform.py:63: UserWarning: Radon transform: image must be zero outside the reconstruction circle\n",
      "  warn('Radon transform: image must be zero outside the '\n",
      "D:\\Programming\\Anaconda\\envs\\image\\lib\\site-packages\\skimage\\transform\\radon_transform.py:63: UserWarning: Radon transform: image must be zero outside the reconstruction circle\n",
      "  warn('Radon transform: image must be zero outside the '\n",
      "D:\\Programming\\Anaconda\\envs\\image\\lib\\site-packages\\skimage\\transform\\radon_transform.py:63: UserWarning: Radon transform: image must be zero outside the reconstruction circle\n",
      "  warn('Radon transform: image must be zero outside the '\n",
      "D:\\Programming\\Anaconda\\envs\\image\\lib\\site-packages\\skimage\\transform\\radon_transform.py:63: UserWarning: Radon transform: image must be zero outside the reconstruction circle\n",
      "  warn('Radon transform: image must be zero outside the '\n",
      "D:\\Programming\\Anaconda\\envs\\image\\lib\\site-packages\\skimage\\transform\\radon_transform.py:63: UserWarning: Radon transform: image must be zero outside the reconstruction circle\n",
      "  warn('Radon transform: image must be zero outside the '\n",
      "D:\\Programming\\Anaconda\\envs\\image\\lib\\site-packages\\skimage\\transform\\radon_transform.py:63: UserWarning: Radon transform: image must be zero outside the reconstruction circle\n",
      "  warn('Radon transform: image must be zero outside the '\n",
      "D:\\Programming\\Anaconda\\envs\\image\\lib\\site-packages\\skimage\\transform\\radon_transform.py:63: UserWarning: Radon transform: image must be zero outside the reconstruction circle\n",
      "  warn('Radon transform: image must be zero outside the '\n",
      "D:\\Programming\\Anaconda\\envs\\image\\lib\\site-packages\\skimage\\transform\\radon_transform.py:63: UserWarning: Radon transform: image must be zero outside the reconstruction circle\n",
      "  warn('Radon transform: image must be zero outside the '\n"
     ]
    },
    {
     "name": "stdout",
     "output_type": "stream",
     "text": [
      "275\n"
     ]
    },
    {
     "name": "stderr",
     "output_type": "stream",
     "text": [
      "D:\\Programming\\Anaconda\\envs\\image\\lib\\site-packages\\skimage\\transform\\radon_transform.py:63: UserWarning: Radon transform: image must be zero outside the reconstruction circle\n",
      "  warn('Radon transform: image must be zero outside the '\n",
      "D:\\Programming\\Anaconda\\envs\\image\\lib\\site-packages\\skimage\\transform\\radon_transform.py:63: UserWarning: Radon transform: image must be zero outside the reconstruction circle\n",
      "  warn('Radon transform: image must be zero outside the '\n",
      "D:\\Programming\\Anaconda\\envs\\image\\lib\\site-packages\\skimage\\transform\\radon_transform.py:63: UserWarning: Radon transform: image must be zero outside the reconstruction circle\n",
      "  warn('Radon transform: image must be zero outside the '\n",
      "D:\\Programming\\Anaconda\\envs\\image\\lib\\site-packages\\skimage\\transform\\radon_transform.py:63: UserWarning: Radon transform: image must be zero outside the reconstruction circle\n",
      "  warn('Radon transform: image must be zero outside the '\n",
      "D:\\Programming\\Anaconda\\envs\\image\\lib\\site-packages\\skimage\\transform\\radon_transform.py:63: UserWarning: Radon transform: image must be zero outside the reconstruction circle\n",
      "  warn('Radon transform: image must be zero outside the '\n",
      "D:\\Programming\\Anaconda\\envs\\image\\lib\\site-packages\\skimage\\transform\\radon_transform.py:63: UserWarning: Radon transform: image must be zero outside the reconstruction circle\n",
      "  warn('Radon transform: image must be zero outside the '\n",
      "D:\\Programming\\Anaconda\\envs\\image\\lib\\site-packages\\skimage\\transform\\radon_transform.py:63: UserWarning: Radon transform: image must be zero outside the reconstruction circle\n",
      "  warn('Radon transform: image must be zero outside the '\n",
      "D:\\Programming\\Anaconda\\envs\\image\\lib\\site-packages\\skimage\\transform\\radon_transform.py:63: UserWarning: Radon transform: image must be zero outside the reconstruction circle\n",
      "  warn('Radon transform: image must be zero outside the '\n"
     ]
    },
    {
     "name": "stdout",
     "output_type": "stream",
     "text": [
      "283\n"
     ]
    },
    {
     "name": "stderr",
     "output_type": "stream",
     "text": [
      "D:\\Programming\\Anaconda\\envs\\image\\lib\\site-packages\\skimage\\transform\\radon_transform.py:63: UserWarning: Radon transform: image must be zero outside the reconstruction circle\n",
      "  warn('Radon transform: image must be zero outside the '\n"
     ]
    },
    {
     "name": "stdout",
     "output_type": "stream",
     "text": [
      "284\n"
     ]
    },
    {
     "name": "stderr",
     "output_type": "stream",
     "text": [
      "D:\\Programming\\Anaconda\\envs\\image\\lib\\site-packages\\skimage\\transform\\radon_transform.py:63: UserWarning: Radon transform: image must be zero outside the reconstruction circle\n",
      "  warn('Radon transform: image must be zero outside the '\n"
     ]
    },
    {
     "name": "stdout",
     "output_type": "stream",
     "text": [
      "285\n"
     ]
    },
    {
     "name": "stderr",
     "output_type": "stream",
     "text": [
      "D:\\Programming\\Anaconda\\envs\\image\\lib\\site-packages\\skimage\\transform\\radon_transform.py:63: UserWarning: Radon transform: image must be zero outside the reconstruction circle\n",
      "  warn('Radon transform: image must be zero outside the '\n",
      "D:\\Programming\\Anaconda\\envs\\image\\lib\\site-packages\\skimage\\transform\\radon_transform.py:63: UserWarning: Radon transform: image must be zero outside the reconstruction circle\n",
      "  warn('Radon transform: image must be zero outside the '\n",
      "D:\\Programming\\Anaconda\\envs\\image\\lib\\site-packages\\skimage\\transform\\radon_transform.py:63: UserWarning: Radon transform: image must be zero outside the reconstruction circle\n",
      "  warn('Radon transform: image must be zero outside the '\n"
     ]
    },
    {
     "name": "stdout",
     "output_type": "stream",
     "text": [
      "288\n"
     ]
    },
    {
     "name": "stderr",
     "output_type": "stream",
     "text": [
      "D:\\Programming\\Anaconda\\envs\\image\\lib\\site-packages\\skimage\\transform\\radon_transform.py:63: UserWarning: Radon transform: image must be zero outside the reconstruction circle\n",
      "  warn('Radon transform: image must be zero outside the '\n",
      "D:\\Programming\\Anaconda\\envs\\image\\lib\\site-packages\\skimage\\transform\\radon_transform.py:63: UserWarning: Radon transform: image must be zero outside the reconstruction circle\n",
      "  warn('Radon transform: image must be zero outside the '\n",
      "D:\\Programming\\Anaconda\\envs\\image\\lib\\site-packages\\skimage\\transform\\radon_transform.py:63: UserWarning: Radon transform: image must be zero outside the reconstruction circle\n",
      "  warn('Radon transform: image must be zero outside the '\n",
      "D:\\Programming\\Anaconda\\envs\\image\\lib\\site-packages\\skimage\\transform\\radon_transform.py:63: UserWarning: Radon transform: image must be zero outside the reconstruction circle\n",
      "  warn('Radon transform: image must be zero outside the '\n"
     ]
    },
    {
     "name": "stdout",
     "output_type": "stream",
     "text": [
      "292\n"
     ]
    },
    {
     "name": "stderr",
     "output_type": "stream",
     "text": [
      "D:\\Programming\\Anaconda\\envs\\image\\lib\\site-packages\\skimage\\transform\\radon_transform.py:63: UserWarning: Radon transform: image must be zero outside the reconstruction circle\n",
      "  warn('Radon transform: image must be zero outside the '\n",
      "D:\\Programming\\Anaconda\\envs\\image\\lib\\site-packages\\skimage\\transform\\radon_transform.py:63: UserWarning: Radon transform: image must be zero outside the reconstruction circle\n",
      "  warn('Radon transform: image must be zero outside the '\n",
      "D:\\Programming\\Anaconda\\envs\\image\\lib\\site-packages\\skimage\\transform\\radon_transform.py:63: UserWarning: Radon transform: image must be zero outside the reconstruction circle\n",
      "  warn('Radon transform: image must be zero outside the '\n",
      "D:\\Programming\\Anaconda\\envs\\image\\lib\\site-packages\\skimage\\transform\\radon_transform.py:63: UserWarning: Radon transform: image must be zero outside the reconstruction circle\n",
      "  warn('Radon transform: image must be zero outside the '\n"
     ]
    },
    {
     "name": "stdout",
     "output_type": "stream",
     "text": [
      "296\n"
     ]
    },
    {
     "name": "stderr",
     "output_type": "stream",
     "text": [
      "D:\\Programming\\Anaconda\\envs\\image\\lib\\site-packages\\skimage\\transform\\radon_transform.py:63: UserWarning: Radon transform: image must be zero outside the reconstruction circle\n",
      "  warn('Radon transform: image must be zero outside the '\n",
      "D:\\Programming\\Anaconda\\envs\\image\\lib\\site-packages\\skimage\\transform\\radon_transform.py:63: UserWarning: Radon transform: image must be zero outside the reconstruction circle\n",
      "  warn('Radon transform: image must be zero outside the '\n"
     ]
    },
    {
     "name": "stdout",
     "output_type": "stream",
     "text": [
      "298\n"
     ]
    },
    {
     "name": "stderr",
     "output_type": "stream",
     "text": [
      "D:\\Programming\\Anaconda\\envs\\image\\lib\\site-packages\\skimage\\transform\\radon_transform.py:63: UserWarning: Radon transform: image must be zero outside the reconstruction circle\n",
      "  warn('Radon transform: image must be zero outside the '\n"
     ]
    },
    {
     "name": "stdout",
     "output_type": "stream",
     "text": [
      "299\n"
     ]
    },
    {
     "name": "stderr",
     "output_type": "stream",
     "text": [
      "D:\\Programming\\Anaconda\\envs\\image\\lib\\site-packages\\skimage\\transform\\radon_transform.py:63: UserWarning: Radon transform: image must be zero outside the reconstruction circle\n",
      "  warn('Radon transform: image must be zero outside the '\n",
      "D:\\Programming\\Anaconda\\envs\\image\\lib\\site-packages\\skimage\\transform\\radon_transform.py:63: UserWarning: Radon transform: image must be zero outside the reconstruction circle\n",
      "  warn('Radon transform: image must be zero outside the '\n",
      "D:\\Programming\\Anaconda\\envs\\image\\lib\\site-packages\\skimage\\transform\\radon_transform.py:63: UserWarning: Radon transform: image must be zero outside the reconstruction circle\n",
      "  warn('Radon transform: image must be zero outside the '\n",
      "D:\\Programming\\Anaconda\\envs\\image\\lib\\site-packages\\skimage\\transform\\radon_transform.py:63: UserWarning: Radon transform: image must be zero outside the reconstruction circle\n",
      "  warn('Radon transform: image must be zero outside the '\n",
      "D:\\Programming\\Anaconda\\envs\\image\\lib\\site-packages\\skimage\\transform\\radon_transform.py:63: UserWarning: Radon transform: image must be zero outside the reconstruction circle\n",
      "  warn('Radon transform: image must be zero outside the '\n",
      "D:\\Programming\\Anaconda\\envs\\image\\lib\\site-packages\\skimage\\transform\\radon_transform.py:63: UserWarning: Radon transform: image must be zero outside the reconstruction circle\n",
      "  warn('Radon transform: image must be zero outside the '\n",
      "D:\\Programming\\Anaconda\\envs\\image\\lib\\site-packages\\skimage\\transform\\radon_transform.py:63: UserWarning: Radon transform: image must be zero outside the reconstruction circle\n",
      "  warn('Radon transform: image must be zero outside the '\n",
      "D:\\Programming\\Anaconda\\envs\\image\\lib\\site-packages\\skimage\\transform\\radon_transform.py:63: UserWarning: Radon transform: image must be zero outside the reconstruction circle\n",
      "  warn('Radon transform: image must be zero outside the '\n"
     ]
    },
    {
     "name": "stdout",
     "output_type": "stream",
     "text": [
      "307\n"
     ]
    },
    {
     "name": "stderr",
     "output_type": "stream",
     "text": [
      "D:\\Programming\\Anaconda\\envs\\image\\lib\\site-packages\\skimage\\transform\\radon_transform.py:63: UserWarning: Radon transform: image must be zero outside the reconstruction circle\n",
      "  warn('Radon transform: image must be zero outside the '\n"
     ]
    },
    {
     "name": "stdout",
     "output_type": "stream",
     "text": [
      "308\n"
     ]
    },
    {
     "name": "stderr",
     "output_type": "stream",
     "text": [
      "D:\\Programming\\Anaconda\\envs\\image\\lib\\site-packages\\skimage\\transform\\radon_transform.py:63: UserWarning: Radon transform: image must be zero outside the reconstruction circle\n",
      "  warn('Radon transform: image must be zero outside the '\n"
     ]
    },
    {
     "name": "stdout",
     "output_type": "stream",
     "text": [
      "309\n"
     ]
    },
    {
     "name": "stderr",
     "output_type": "stream",
     "text": [
      "D:\\Programming\\Anaconda\\envs\\image\\lib\\site-packages\\skimage\\transform\\radon_transform.py:63: UserWarning: Radon transform: image must be zero outside the reconstruction circle\n",
      "  warn('Radon transform: image must be zero outside the '\n",
      "D:\\Programming\\Anaconda\\envs\\image\\lib\\site-packages\\skimage\\transform\\radon_transform.py:63: UserWarning: Radon transform: image must be zero outside the reconstruction circle\n",
      "  warn('Radon transform: image must be zero outside the '\n"
     ]
    },
    {
     "name": "stdout",
     "output_type": "stream",
     "text": [
      "311\n"
     ]
    },
    {
     "name": "stderr",
     "output_type": "stream",
     "text": [
      "D:\\Programming\\Anaconda\\envs\\image\\lib\\site-packages\\skimage\\transform\\radon_transform.py:63: UserWarning: Radon transform: image must be zero outside the reconstruction circle\n",
      "  warn('Radon transform: image must be zero outside the '\n"
     ]
    },
    {
     "name": "stdout",
     "output_type": "stream",
     "text": [
      "312\n"
     ]
    },
    {
     "name": "stderr",
     "output_type": "stream",
     "text": [
      "D:\\Programming\\Anaconda\\envs\\image\\lib\\site-packages\\skimage\\transform\\radon_transform.py:63: UserWarning: Radon transform: image must be zero outside the reconstruction circle\n",
      "  warn('Radon transform: image must be zero outside the '\n"
     ]
    },
    {
     "name": "stdout",
     "output_type": "stream",
     "text": [
      "313\n"
     ]
    },
    {
     "name": "stderr",
     "output_type": "stream",
     "text": [
      "D:\\Programming\\Anaconda\\envs\\image\\lib\\site-packages\\skimage\\transform\\radon_transform.py:63: UserWarning: Radon transform: image must be zero outside the reconstruction circle\n",
      "  warn('Radon transform: image must be zero outside the '\n",
      "D:\\Programming\\Anaconda\\envs\\image\\lib\\site-packages\\skimage\\transform\\radon_transform.py:63: UserWarning: Radon transform: image must be zero outside the reconstruction circle\n",
      "  warn('Radon transform: image must be zero outside the '\n",
      "D:\\Programming\\Anaconda\\envs\\image\\lib\\site-packages\\skimage\\transform\\radon_transform.py:63: UserWarning: Radon transform: image must be zero outside the reconstruction circle\n",
      "  warn('Radon transform: image must be zero outside the '\n"
     ]
    },
    {
     "name": "stdout",
     "output_type": "stream",
     "text": [
      "316\n"
     ]
    },
    {
     "name": "stderr",
     "output_type": "stream",
     "text": [
      "D:\\Programming\\Anaconda\\envs\\image\\lib\\site-packages\\skimage\\transform\\radon_transform.py:63: UserWarning: Radon transform: image must be zero outside the reconstruction circle\n",
      "  warn('Radon transform: image must be zero outside the '\n",
      "D:\\Programming\\Anaconda\\envs\\image\\lib\\site-packages\\skimage\\transform\\radon_transform.py:63: UserWarning: Radon transform: image must be zero outside the reconstruction circle\n",
      "  warn('Radon transform: image must be zero outside the '\n",
      "D:\\Programming\\Anaconda\\envs\\image\\lib\\site-packages\\skimage\\transform\\radon_transform.py:63: UserWarning: Radon transform: image must be zero outside the reconstruction circle\n",
      "  warn('Radon transform: image must be zero outside the '\n",
      "D:\\Programming\\Anaconda\\envs\\image\\lib\\site-packages\\skimage\\transform\\radon_transform.py:63: UserWarning: Radon transform: image must be zero outside the reconstruction circle\n",
      "  warn('Radon transform: image must be zero outside the '\n"
     ]
    },
    {
     "name": "stdout",
     "output_type": "stream",
     "text": [
      "320\n"
     ]
    },
    {
     "name": "stderr",
     "output_type": "stream",
     "text": [
      "D:\\Programming\\Anaconda\\envs\\image\\lib\\site-packages\\skimage\\transform\\radon_transform.py:63: UserWarning: Radon transform: image must be zero outside the reconstruction circle\n",
      "  warn('Radon transform: image must be zero outside the '\n",
      "D:\\Programming\\Anaconda\\envs\\image\\lib\\site-packages\\skimage\\transform\\radon_transform.py:63: UserWarning: Radon transform: image must be zero outside the reconstruction circle\n",
      "  warn('Radon transform: image must be zero outside the '\n",
      "D:\\Programming\\Anaconda\\envs\\image\\lib\\site-packages\\skimage\\transform\\radon_transform.py:63: UserWarning: Radon transform: image must be zero outside the reconstruction circle\n",
      "  warn('Radon transform: image must be zero outside the '\n",
      "D:\\Programming\\Anaconda\\envs\\image\\lib\\site-packages\\skimage\\transform\\radon_transform.py:63: UserWarning: Radon transform: image must be zero outside the reconstruction circle\n",
      "  warn('Radon transform: image must be zero outside the '\n",
      "D:\\Programming\\Anaconda\\envs\\image\\lib\\site-packages\\skimage\\transform\\radon_transform.py:63: UserWarning: Radon transform: image must be zero outside the reconstruction circle\n",
      "  warn('Radon transform: image must be zero outside the '\n",
      "D:\\Programming\\Anaconda\\envs\\image\\lib\\site-packages\\skimage\\transform\\radon_transform.py:63: UserWarning: Radon transform: image must be zero outside the reconstruction circle\n",
      "  warn('Radon transform: image must be zero outside the '\n"
     ]
    },
    {
     "name": "stdout",
     "output_type": "stream",
     "text": [
      "326\n"
     ]
    },
    {
     "name": "stderr",
     "output_type": "stream",
     "text": [
      "D:\\Programming\\Anaconda\\envs\\image\\lib\\site-packages\\skimage\\transform\\radon_transform.py:63: UserWarning: Radon transform: image must be zero outside the reconstruction circle\n",
      "  warn('Radon transform: image must be zero outside the '\n",
      "D:\\Programming\\Anaconda\\envs\\image\\lib\\site-packages\\skimage\\transform\\radon_transform.py:63: UserWarning: Radon transform: image must be zero outside the reconstruction circle\n",
      "  warn('Radon transform: image must be zero outside the '\n",
      "D:\\Programming\\Anaconda\\envs\\image\\lib\\site-packages\\skimage\\transform\\radon_transform.py:63: UserWarning: Radon transform: image must be zero outside the reconstruction circle\n",
      "  warn('Radon transform: image must be zero outside the '\n",
      "D:\\Programming\\Anaconda\\envs\\image\\lib\\site-packages\\skimage\\transform\\radon_transform.py:63: UserWarning: Radon transform: image must be zero outside the reconstruction circle\n",
      "  warn('Radon transform: image must be zero outside the '\n",
      "D:\\Programming\\Anaconda\\envs\\image\\lib\\site-packages\\skimage\\transform\\radon_transform.py:63: UserWarning: Radon transform: image must be zero outside the reconstruction circle\n",
      "  warn('Radon transform: image must be zero outside the '\n",
      "D:\\Programming\\Anaconda\\envs\\image\\lib\\site-packages\\skimage\\transform\\radon_transform.py:63: UserWarning: Radon transform: image must be zero outside the reconstruction circle\n",
      "  warn('Radon transform: image must be zero outside the '\n",
      "D:\\Programming\\Anaconda\\envs\\image\\lib\\site-packages\\skimage\\transform\\radon_transform.py:63: UserWarning: Radon transform: image must be zero outside the reconstruction circle\n",
      "  warn('Radon transform: image must be zero outside the '\n",
      "D:\\Programming\\Anaconda\\envs\\image\\lib\\site-packages\\skimage\\transform\\radon_transform.py:63: UserWarning: Radon transform: image must be zero outside the reconstruction circle\n",
      "  warn('Radon transform: image must be zero outside the '\n",
      "D:\\Programming\\Anaconda\\envs\\image\\lib\\site-packages\\skimage\\transform\\radon_transform.py:63: UserWarning: Radon transform: image must be zero outside the reconstruction circle\n",
      "  warn('Radon transform: image must be zero outside the '\n",
      "D:\\Programming\\Anaconda\\envs\\image\\lib\\site-packages\\skimage\\transform\\radon_transform.py:63: UserWarning: Radon transform: image must be zero outside the reconstruction circle\n",
      "  warn('Radon transform: image must be zero outside the '\n",
      "D:\\Programming\\Anaconda\\envs\\image\\lib\\site-packages\\skimage\\transform\\radon_transform.py:63: UserWarning: Radon transform: image must be zero outside the reconstruction circle\n",
      "  warn('Radon transform: image must be zero outside the '\n",
      "D:\\Programming\\Anaconda\\envs\\image\\lib\\site-packages\\skimage\\transform\\radon_transform.py:63: UserWarning: Radon transform: image must be zero outside the reconstruction circle\n",
      "  warn('Radon transform: image must be zero outside the '\n",
      "D:\\Programming\\Anaconda\\envs\\image\\lib\\site-packages\\skimage\\transform\\radon_transform.py:63: UserWarning: Radon transform: image must be zero outside the reconstruction circle\n",
      "  warn('Radon transform: image must be zero outside the '\n",
      "D:\\Programming\\Anaconda\\envs\\image\\lib\\site-packages\\skimage\\transform\\radon_transform.py:63: UserWarning: Radon transform: image must be zero outside the reconstruction circle\n",
      "  warn('Radon transform: image must be zero outside the '\n",
      "D:\\Programming\\Anaconda\\envs\\image\\lib\\site-packages\\skimage\\transform\\radon_transform.py:63: UserWarning: Radon transform: image must be zero outside the reconstruction circle\n",
      "  warn('Radon transform: image must be zero outside the '\n",
      "D:\\Programming\\Anaconda\\envs\\image\\lib\\site-packages\\skimage\\transform\\radon_transform.py:63: UserWarning: Radon transform: image must be zero outside the reconstruction circle\n",
      "  warn('Radon transform: image must be zero outside the '\n",
      "D:\\Programming\\Anaconda\\envs\\image\\lib\\site-packages\\skimage\\transform\\radon_transform.py:63: UserWarning: Radon transform: image must be zero outside the reconstruction circle\n",
      "  warn('Radon transform: image must be zero outside the '\n",
      "D:\\Programming\\Anaconda\\envs\\image\\lib\\site-packages\\skimage\\transform\\radon_transform.py:63: UserWarning: Radon transform: image must be zero outside the reconstruction circle\n",
      "  warn('Radon transform: image must be zero outside the '\n",
      "D:\\Programming\\Anaconda\\envs\\image\\lib\\site-packages\\skimage\\transform\\radon_transform.py:63: UserWarning: Radon transform: image must be zero outside the reconstruction circle\n",
      "  warn('Radon transform: image must be zero outside the '\n",
      "D:\\Programming\\Anaconda\\envs\\image\\lib\\site-packages\\skimage\\transform\\radon_transform.py:63: UserWarning: Radon transform: image must be zero outside the reconstruction circle\n",
      "  warn('Radon transform: image must be zero outside the '\n",
      "D:\\Programming\\Anaconda\\envs\\image\\lib\\site-packages\\skimage\\transform\\radon_transform.py:63: UserWarning: Radon transform: image must be zero outside the reconstruction circle\n",
      "  warn('Radon transform: image must be zero outside the '\n",
      "D:\\Programming\\Anaconda\\envs\\image\\lib\\site-packages\\skimage\\transform\\radon_transform.py:63: UserWarning: Radon transform: image must be zero outside the reconstruction circle\n",
      "  warn('Radon transform: image must be zero outside the '\n",
      "D:\\Programming\\Anaconda\\envs\\image\\lib\\site-packages\\skimage\\transform\\radon_transform.py:63: UserWarning: Radon transform: image must be zero outside the reconstruction circle\n",
      "  warn('Radon transform: image must be zero outside the '\n"
     ]
    },
    {
     "name": "stdout",
     "output_type": "stream",
     "text": [
      "349\n"
     ]
    },
    {
     "name": "stderr",
     "output_type": "stream",
     "text": [
      "D:\\Programming\\Anaconda\\envs\\image\\lib\\site-packages\\skimage\\transform\\radon_transform.py:63: UserWarning: Radon transform: image must be zero outside the reconstruction circle\n",
      "  warn('Radon transform: image must be zero outside the '\n",
      "D:\\Programming\\Anaconda\\envs\\image\\lib\\site-packages\\skimage\\transform\\radon_transform.py:63: UserWarning: Radon transform: image must be zero outside the reconstruction circle\n",
      "  warn('Radon transform: image must be zero outside the '\n"
     ]
    },
    {
     "name": "stdout",
     "output_type": "stream",
     "text": [
      "351\n"
     ]
    },
    {
     "name": "stderr",
     "output_type": "stream",
     "text": [
      "D:\\Programming\\Anaconda\\envs\\image\\lib\\site-packages\\skimage\\transform\\radon_transform.py:63: UserWarning: Radon transform: image must be zero outside the reconstruction circle\n",
      "  warn('Radon transform: image must be zero outside the '\n",
      "D:\\Programming\\Anaconda\\envs\\image\\lib\\site-packages\\skimage\\transform\\radon_transform.py:63: UserWarning: Radon transform: image must be zero outside the reconstruction circle\n",
      "  warn('Radon transform: image must be zero outside the '\n",
      "D:\\Programming\\Anaconda\\envs\\image\\lib\\site-packages\\skimage\\transform\\radon_transform.py:63: UserWarning: Radon transform: image must be zero outside the reconstruction circle\n",
      "  warn('Radon transform: image must be zero outside the '\n",
      "D:\\Programming\\Anaconda\\envs\\image\\lib\\site-packages\\skimage\\transform\\radon_transform.py:63: UserWarning: Radon transform: image must be zero outside the reconstruction circle\n",
      "  warn('Radon transform: image must be zero outside the '\n",
      "D:\\Programming\\Anaconda\\envs\\image\\lib\\site-packages\\skimage\\transform\\radon_transform.py:63: UserWarning: Radon transform: image must be zero outside the reconstruction circle\n",
      "  warn('Radon transform: image must be zero outside the '\n",
      "D:\\Programming\\Anaconda\\envs\\image\\lib\\site-packages\\skimage\\transform\\radon_transform.py:63: UserWarning: Radon transform: image must be zero outside the reconstruction circle\n",
      "  warn('Radon transform: image must be zero outside the '\n",
      "D:\\Programming\\Anaconda\\envs\\image\\lib\\site-packages\\skimage\\transform\\radon_transform.py:63: UserWarning: Radon transform: image must be zero outside the reconstruction circle\n",
      "  warn('Radon transform: image must be zero outside the '\n",
      "D:\\Programming\\Anaconda\\envs\\image\\lib\\site-packages\\skimage\\transform\\radon_transform.py:63: UserWarning: Radon transform: image must be zero outside the reconstruction circle\n",
      "  warn('Radon transform: image must be zero outside the '\n",
      "D:\\Programming\\Anaconda\\envs\\image\\lib\\site-packages\\skimage\\transform\\radon_transform.py:63: UserWarning: Radon transform: image must be zero outside the reconstruction circle\n",
      "  warn('Radon transform: image must be zero outside the '\n",
      "D:\\Programming\\Anaconda\\envs\\image\\lib\\site-packages\\skimage\\transform\\radon_transform.py:63: UserWarning: Radon transform: image must be zero outside the reconstruction circle\n",
      "  warn('Radon transform: image must be zero outside the '\n",
      "D:\\Programming\\Anaconda\\envs\\image\\lib\\site-packages\\skimage\\transform\\radon_transform.py:63: UserWarning: Radon transform: image must be zero outside the reconstruction circle\n",
      "  warn('Radon transform: image must be zero outside the '\n",
      "D:\\Programming\\Anaconda\\envs\\image\\lib\\site-packages\\skimage\\transform\\radon_transform.py:63: UserWarning: Radon transform: image must be zero outside the reconstruction circle\n",
      "  warn('Radon transform: image must be zero outside the '\n",
      "D:\\Programming\\Anaconda\\envs\\image\\lib\\site-packages\\skimage\\transform\\radon_transform.py:63: UserWarning: Radon transform: image must be zero outside the reconstruction circle\n",
      "  warn('Radon transform: image must be zero outside the '\n"
     ]
    },
    {
     "name": "stdout",
     "output_type": "stream",
     "text": [
      "364\n"
     ]
    },
    {
     "name": "stderr",
     "output_type": "stream",
     "text": [
      "D:\\Programming\\Anaconda\\envs\\image\\lib\\site-packages\\skimage\\transform\\radon_transform.py:63: UserWarning: Radon transform: image must be zero outside the reconstruction circle\n",
      "  warn('Radon transform: image must be zero outside the '\n",
      "D:\\Programming\\Anaconda\\envs\\image\\lib\\site-packages\\skimage\\transform\\radon_transform.py:63: UserWarning: Radon transform: image must be zero outside the reconstruction circle\n",
      "  warn('Radon transform: image must be zero outside the '\n",
      "D:\\Programming\\Anaconda\\envs\\image\\lib\\site-packages\\skimage\\transform\\radon_transform.py:63: UserWarning: Radon transform: image must be zero outside the reconstruction circle\n",
      "  warn('Radon transform: image must be zero outside the '\n",
      "D:\\Programming\\Anaconda\\envs\\image\\lib\\site-packages\\skimage\\transform\\radon_transform.py:63: UserWarning: Radon transform: image must be zero outside the reconstruction circle\n",
      "  warn('Radon transform: image must be zero outside the '\n",
      "D:\\Programming\\Anaconda\\envs\\image\\lib\\site-packages\\skimage\\transform\\radon_transform.py:63: UserWarning: Radon transform: image must be zero outside the reconstruction circle\n",
      "  warn('Radon transform: image must be zero outside the '\n",
      "D:\\Programming\\Anaconda\\envs\\image\\lib\\site-packages\\skimage\\transform\\radon_transform.py:63: UserWarning: Radon transform: image must be zero outside the reconstruction circle\n",
      "  warn('Radon transform: image must be zero outside the '\n",
      "D:\\Programming\\Anaconda\\envs\\image\\lib\\site-packages\\skimage\\transform\\radon_transform.py:63: UserWarning: Radon transform: image must be zero outside the reconstruction circle\n",
      "  warn('Radon transform: image must be zero outside the '\n",
      "D:\\Programming\\Anaconda\\envs\\image\\lib\\site-packages\\skimage\\transform\\radon_transform.py:63: UserWarning: Radon transform: image must be zero outside the reconstruction circle\n",
      "  warn('Radon transform: image must be zero outside the '\n",
      "D:\\Programming\\Anaconda\\envs\\image\\lib\\site-packages\\skimage\\transform\\radon_transform.py:63: UserWarning: Radon transform: image must be zero outside the reconstruction circle\n",
      "  warn('Radon transform: image must be zero outside the '\n",
      "D:\\Programming\\Anaconda\\envs\\image\\lib\\site-packages\\skimage\\transform\\radon_transform.py:63: UserWarning: Radon transform: image must be zero outside the reconstruction circle\n",
      "  warn('Radon transform: image must be zero outside the '\n",
      "D:\\Programming\\Anaconda\\envs\\image\\lib\\site-packages\\skimage\\transform\\radon_transform.py:63: UserWarning: Radon transform: image must be zero outside the reconstruction circle\n",
      "  warn('Radon transform: image must be zero outside the '\n",
      "D:\\Programming\\Anaconda\\envs\\image\\lib\\site-packages\\skimage\\transform\\radon_transform.py:63: UserWarning: Radon transform: image must be zero outside the reconstruction circle\n",
      "  warn('Radon transform: image must be zero outside the '\n",
      "D:\\Programming\\Anaconda\\envs\\image\\lib\\site-packages\\skimage\\transform\\radon_transform.py:63: UserWarning: Radon transform: image must be zero outside the reconstruction circle\n",
      "  warn('Radon transform: image must be zero outside the '\n",
      "D:\\Programming\\Anaconda\\envs\\image\\lib\\site-packages\\skimage\\transform\\radon_transform.py:63: UserWarning: Radon transform: image must be zero outside the reconstruction circle\n",
      "  warn('Radon transform: image must be zero outside the '\n"
     ]
    },
    {
     "name": "stdout",
     "output_type": "stream",
     "text": [
      "378\n"
     ]
    },
    {
     "name": "stderr",
     "output_type": "stream",
     "text": [
      "D:\\Programming\\Anaconda\\envs\\image\\lib\\site-packages\\skimage\\transform\\radon_transform.py:63: UserWarning: Radon transform: image must be zero outside the reconstruction circle\n",
      "  warn('Radon transform: image must be zero outside the '\n",
      "D:\\Programming\\Anaconda\\envs\\image\\lib\\site-packages\\skimage\\transform\\radon_transform.py:63: UserWarning: Radon transform: image must be zero outside the reconstruction circle\n",
      "  warn('Radon transform: image must be zero outside the '\n",
      "D:\\Programming\\Anaconda\\envs\\image\\lib\\site-packages\\skimage\\transform\\radon_transform.py:63: UserWarning: Radon transform: image must be zero outside the reconstruction circle\n",
      "  warn('Radon transform: image must be zero outside the '\n",
      "D:\\Programming\\Anaconda\\envs\\image\\lib\\site-packages\\skimage\\transform\\radon_transform.py:63: UserWarning: Radon transform: image must be zero outside the reconstruction circle\n",
      "  warn('Radon transform: image must be zero outside the '\n",
      "D:\\Programming\\Anaconda\\envs\\image\\lib\\site-packages\\skimage\\transform\\radon_transform.py:63: UserWarning: Radon transform: image must be zero outside the reconstruction circle\n",
      "  warn('Radon transform: image must be zero outside the '\n",
      "D:\\Programming\\Anaconda\\envs\\image\\lib\\site-packages\\skimage\\transform\\radon_transform.py:63: UserWarning: Radon transform: image must be zero outside the reconstruction circle\n",
      "  warn('Radon transform: image must be zero outside the '\n",
      "D:\\Programming\\Anaconda\\envs\\image\\lib\\site-packages\\skimage\\transform\\radon_transform.py:63: UserWarning: Radon transform: image must be zero outside the reconstruction circle\n",
      "  warn('Radon transform: image must be zero outside the '\n",
      "D:\\Programming\\Anaconda\\envs\\image\\lib\\site-packages\\skimage\\transform\\radon_transform.py:63: UserWarning: Radon transform: image must be zero outside the reconstruction circle\n",
      "  warn('Radon transform: image must be zero outside the '\n",
      "D:\\Programming\\Anaconda\\envs\\image\\lib\\site-packages\\skimage\\transform\\radon_transform.py:63: UserWarning: Radon transform: image must be zero outside the reconstruction circle\n",
      "  warn('Radon transform: image must be zero outside the '\n",
      "D:\\Programming\\Anaconda\\envs\\image\\lib\\site-packages\\skimage\\transform\\radon_transform.py:63: UserWarning: Radon transform: image must be zero outside the reconstruction circle\n",
      "  warn('Radon transform: image must be zero outside the '\n",
      "D:\\Programming\\Anaconda\\envs\\image\\lib\\site-packages\\skimage\\transform\\radon_transform.py:63: UserWarning: Radon transform: image must be zero outside the reconstruction circle\n",
      "  warn('Radon transform: image must be zero outside the '\n",
      "D:\\Programming\\Anaconda\\envs\\image\\lib\\site-packages\\skimage\\transform\\radon_transform.py:63: UserWarning: Radon transform: image must be zero outside the reconstruction circle\n",
      "  warn('Radon transform: image must be zero outside the '\n",
      "D:\\Programming\\Anaconda\\envs\\image\\lib\\site-packages\\skimage\\transform\\radon_transform.py:63: UserWarning: Radon transform: image must be zero outside the reconstruction circle\n",
      "  warn('Radon transform: image must be zero outside the '\n",
      "D:\\Programming\\Anaconda\\envs\\image\\lib\\site-packages\\skimage\\transform\\radon_transform.py:63: UserWarning: Radon transform: image must be zero outside the reconstruction circle\n",
      "  warn('Radon transform: image must be zero outside the '\n",
      "D:\\Programming\\Anaconda\\envs\\image\\lib\\site-packages\\skimage\\transform\\radon_transform.py:63: UserWarning: Radon transform: image must be zero outside the reconstruction circle\n",
      "  warn('Radon transform: image must be zero outside the '\n",
      "D:\\Programming\\Anaconda\\envs\\image\\lib\\site-packages\\skimage\\transform\\radon_transform.py:63: UserWarning: Radon transform: image must be zero outside the reconstruction circle\n",
      "  warn('Radon transform: image must be zero outside the '\n",
      "D:\\Programming\\Anaconda\\envs\\image\\lib\\site-packages\\skimage\\transform\\radon_transform.py:63: UserWarning: Radon transform: image must be zero outside the reconstruction circle\n",
      "  warn('Radon transform: image must be zero outside the '\n",
      "D:\\Programming\\Anaconda\\envs\\image\\lib\\site-packages\\skimage\\transform\\radon_transform.py:63: UserWarning: Radon transform: image must be zero outside the reconstruction circle\n",
      "  warn('Radon transform: image must be zero outside the '\n"
     ]
    },
    {
     "name": "stdout",
     "output_type": "stream",
     "text": [
      "396\n"
     ]
    },
    {
     "name": "stderr",
     "output_type": "stream",
     "text": [
      "D:\\Programming\\Anaconda\\envs\\image\\lib\\site-packages\\skimage\\transform\\radon_transform.py:63: UserWarning: Radon transform: image must be zero outside the reconstruction circle\n",
      "  warn('Radon transform: image must be zero outside the '\n"
     ]
    },
    {
     "name": "stdout",
     "output_type": "stream",
     "text": [
      "397\n"
     ]
    },
    {
     "name": "stderr",
     "output_type": "stream",
     "text": [
      "D:\\Programming\\Anaconda\\envs\\image\\lib\\site-packages\\skimage\\transform\\radon_transform.py:63: UserWarning: Radon transform: image must be zero outside the reconstruction circle\n",
      "  warn('Radon transform: image must be zero outside the '\n"
     ]
    },
    {
     "name": "stdout",
     "output_type": "stream",
     "text": [
      "398\n"
     ]
    },
    {
     "name": "stderr",
     "output_type": "stream",
     "text": [
      "D:\\Programming\\Anaconda\\envs\\image\\lib\\site-packages\\skimage\\transform\\radon_transform.py:63: UserWarning: Radon transform: image must be zero outside the reconstruction circle\n",
      "  warn('Radon transform: image must be zero outside the '\n",
      "D:\\Programming\\Anaconda\\envs\\image\\lib\\site-packages\\skimage\\transform\\radon_transform.py:63: UserWarning: Radon transform: image must be zero outside the reconstruction circle\n",
      "  warn('Radon transform: image must be zero outside the '\n",
      "D:\\Programming\\Anaconda\\envs\\image\\lib\\site-packages\\skimage\\transform\\radon_transform.py:63: UserWarning: Radon transform: image must be zero outside the reconstruction circle\n",
      "  warn('Radon transform: image must be zero outside the '\n",
      "D:\\Programming\\Anaconda\\envs\\image\\lib\\site-packages\\skimage\\transform\\radon_transform.py:63: UserWarning: Radon transform: image must be zero outside the reconstruction circle\n",
      "  warn('Radon transform: image must be zero outside the '\n",
      "D:\\Programming\\Anaconda\\envs\\image\\lib\\site-packages\\skimage\\transform\\radon_transform.py:63: UserWarning: Radon transform: image must be zero outside the reconstruction circle\n",
      "  warn('Radon transform: image must be zero outside the '\n"
     ]
    },
    {
     "name": "stdout",
     "output_type": "stream",
     "text": [
      "403\n"
     ]
    },
    {
     "name": "stderr",
     "output_type": "stream",
     "text": [
      "D:\\Programming\\Anaconda\\envs\\image\\lib\\site-packages\\skimage\\transform\\radon_transform.py:63: UserWarning: Radon transform: image must be zero outside the reconstruction circle\n",
      "  warn('Radon transform: image must be zero outside the '\n"
     ]
    },
    {
     "name": "stdout",
     "output_type": "stream",
     "text": [
      "404\n"
     ]
    },
    {
     "name": "stderr",
     "output_type": "stream",
     "text": [
      "D:\\Programming\\Anaconda\\envs\\image\\lib\\site-packages\\skimage\\transform\\radon_transform.py:63: UserWarning: Radon transform: image must be zero outside the reconstruction circle\n",
      "  warn('Radon transform: image must be zero outside the '\n",
      "D:\\Programming\\Anaconda\\envs\\image\\lib\\site-packages\\skimage\\transform\\radon_transform.py:63: UserWarning: Radon transform: image must be zero outside the reconstruction circle\n",
      "  warn('Radon transform: image must be zero outside the '\n",
      "D:\\Programming\\Anaconda\\envs\\image\\lib\\site-packages\\skimage\\transform\\radon_transform.py:63: UserWarning: Radon transform: image must be zero outside the reconstruction circle\n",
      "  warn('Radon transform: image must be zero outside the '\n",
      "D:\\Programming\\Anaconda\\envs\\image\\lib\\site-packages\\skimage\\transform\\radon_transform.py:63: UserWarning: Radon transform: image must be zero outside the reconstruction circle\n",
      "  warn('Radon transform: image must be zero outside the '\n",
      "D:\\Programming\\Anaconda\\envs\\image\\lib\\site-packages\\skimage\\transform\\radon_transform.py:63: UserWarning: Radon transform: image must be zero outside the reconstruction circle\n",
      "  warn('Radon transform: image must be zero outside the '\n",
      "D:\\Programming\\Anaconda\\envs\\image\\lib\\site-packages\\skimage\\transform\\radon_transform.py:63: UserWarning: Radon transform: image must be zero outside the reconstruction circle\n",
      "  warn('Radon transform: image must be zero outside the '\n"
     ]
    },
    {
     "name": "stdout",
     "output_type": "stream",
     "text": [
      "410\n"
     ]
    },
    {
     "name": "stderr",
     "output_type": "stream",
     "text": [
      "D:\\Programming\\Anaconda\\envs\\image\\lib\\site-packages\\skimage\\transform\\radon_transform.py:63: UserWarning: Radon transform: image must be zero outside the reconstruction circle\n",
      "  warn('Radon transform: image must be zero outside the '\n",
      "D:\\Programming\\Anaconda\\envs\\image\\lib\\site-packages\\skimage\\transform\\radon_transform.py:63: UserWarning: Radon transform: image must be zero outside the reconstruction circle\n",
      "  warn('Radon transform: image must be zero outside the '\n",
      "D:\\Programming\\Anaconda\\envs\\image\\lib\\site-packages\\skimage\\transform\\radon_transform.py:63: UserWarning: Radon transform: image must be zero outside the reconstruction circle\n",
      "  warn('Radon transform: image must be zero outside the '\n",
      "D:\\Programming\\Anaconda\\envs\\image\\lib\\site-packages\\skimage\\transform\\radon_transform.py:63: UserWarning: Radon transform: image must be zero outside the reconstruction circle\n",
      "  warn('Radon transform: image must be zero outside the '\n",
      "D:\\Programming\\Anaconda\\envs\\image\\lib\\site-packages\\skimage\\transform\\radon_transform.py:63: UserWarning: Radon transform: image must be zero outside the reconstruction circle\n",
      "  warn('Radon transform: image must be zero outside the '\n",
      "D:\\Programming\\Anaconda\\envs\\image\\lib\\site-packages\\skimage\\transform\\radon_transform.py:63: UserWarning: Radon transform: image must be zero outside the reconstruction circle\n",
      "  warn('Radon transform: image must be zero outside the '\n",
      "D:\\Programming\\Anaconda\\envs\\image\\lib\\site-packages\\skimage\\transform\\radon_transform.py:63: UserWarning: Radon transform: image must be zero outside the reconstruction circle\n",
      "  warn('Radon transform: image must be zero outside the '\n",
      "D:\\Programming\\Anaconda\\envs\\image\\lib\\site-packages\\skimage\\transform\\radon_transform.py:63: UserWarning: Radon transform: image must be zero outside the reconstruction circle\n",
      "  warn('Radon transform: image must be zero outside the '\n",
      "D:\\Programming\\Anaconda\\envs\\image\\lib\\site-packages\\skimage\\transform\\radon_transform.py:63: UserWarning: Radon transform: image must be zero outside the reconstruction circle\n",
      "  warn('Radon transform: image must be zero outside the '\n",
      "D:\\Programming\\Anaconda\\envs\\image\\lib\\site-packages\\skimage\\transform\\radon_transform.py:63: UserWarning: Radon transform: image must be zero outside the reconstruction circle\n",
      "  warn('Radon transform: image must be zero outside the '\n"
     ]
    },
    {
     "name": "stdout",
     "output_type": "stream",
     "text": [
      "420\n"
     ]
    },
    {
     "name": "stderr",
     "output_type": "stream",
     "text": [
      "D:\\Programming\\Anaconda\\envs\\image\\lib\\site-packages\\skimage\\transform\\radon_transform.py:63: UserWarning: Radon transform: image must be zero outside the reconstruction circle\n",
      "  warn('Radon transform: image must be zero outside the '\n",
      "D:\\Programming\\Anaconda\\envs\\image\\lib\\site-packages\\skimage\\transform\\radon_transform.py:63: UserWarning: Radon transform: image must be zero outside the reconstruction circle\n",
      "  warn('Radon transform: image must be zero outside the '\n"
     ]
    },
    {
     "name": "stdout",
     "output_type": "stream",
     "text": [
      "422\n"
     ]
    },
    {
     "name": "stderr",
     "output_type": "stream",
     "text": [
      "D:\\Programming\\Anaconda\\envs\\image\\lib\\site-packages\\skimage\\transform\\radon_transform.py:63: UserWarning: Radon transform: image must be zero outside the reconstruction circle\n",
      "  warn('Radon transform: image must be zero outside the '\n",
      "D:\\Programming\\Anaconda\\envs\\image\\lib\\site-packages\\skimage\\transform\\radon_transform.py:63: UserWarning: Radon transform: image must be zero outside the reconstruction circle\n",
      "  warn('Radon transform: image must be zero outside the '\n",
      "D:\\Programming\\Anaconda\\envs\\image\\lib\\site-packages\\skimage\\transform\\radon_transform.py:63: UserWarning: Radon transform: image must be zero outside the reconstruction circle\n",
      "  warn('Radon transform: image must be zero outside the '\n",
      "D:\\Programming\\Anaconda\\envs\\image\\lib\\site-packages\\skimage\\transform\\radon_transform.py:63: UserWarning: Radon transform: image must be zero outside the reconstruction circle\n",
      "  warn('Radon transform: image must be zero outside the '\n",
      "D:\\Programming\\Anaconda\\envs\\image\\lib\\site-packages\\skimage\\transform\\radon_transform.py:63: UserWarning: Radon transform: image must be zero outside the reconstruction circle\n",
      "  warn('Radon transform: image must be zero outside the '\n",
      "D:\\Programming\\Anaconda\\envs\\image\\lib\\site-packages\\skimage\\transform\\radon_transform.py:63: UserWarning: Radon transform: image must be zero outside the reconstruction circle\n",
      "  warn('Radon transform: image must be zero outside the '\n",
      "D:\\Programming\\Anaconda\\envs\\image\\lib\\site-packages\\skimage\\transform\\radon_transform.py:63: UserWarning: Radon transform: image must be zero outside the reconstruction circle\n",
      "  warn('Radon transform: image must be zero outside the '\n",
      "D:\\Programming\\Anaconda\\envs\\image\\lib\\site-packages\\skimage\\transform\\radon_transform.py:63: UserWarning: Radon transform: image must be zero outside the reconstruction circle\n",
      "  warn('Radon transform: image must be zero outside the '\n",
      "D:\\Programming\\Anaconda\\envs\\image\\lib\\site-packages\\skimage\\transform\\radon_transform.py:63: UserWarning: Radon transform: image must be zero outside the reconstruction circle\n",
      "  warn('Radon transform: image must be zero outside the '\n"
     ]
    },
    {
     "name": "stdout",
     "output_type": "stream",
     "text": [
      "431\n"
     ]
    },
    {
     "name": "stderr",
     "output_type": "stream",
     "text": [
      "D:\\Programming\\Anaconda\\envs\\image\\lib\\site-packages\\skimage\\transform\\radon_transform.py:63: UserWarning: Radon transform: image must be zero outside the reconstruction circle\n",
      "  warn('Radon transform: image must be zero outside the '\n",
      "D:\\Programming\\Anaconda\\envs\\image\\lib\\site-packages\\skimage\\transform\\radon_transform.py:63: UserWarning: Radon transform: image must be zero outside the reconstruction circle\n",
      "  warn('Radon transform: image must be zero outside the '\n",
      "D:\\Programming\\Anaconda\\envs\\image\\lib\\site-packages\\skimage\\transform\\radon_transform.py:63: UserWarning: Radon transform: image must be zero outside the reconstruction circle\n",
      "  warn('Radon transform: image must be zero outside the '\n",
      "D:\\Programming\\Anaconda\\envs\\image\\lib\\site-packages\\skimage\\transform\\radon_transform.py:63: UserWarning: Radon transform: image must be zero outside the reconstruction circle\n",
      "  warn('Radon transform: image must be zero outside the '\n",
      "D:\\Programming\\Anaconda\\envs\\image\\lib\\site-packages\\skimage\\transform\\radon_transform.py:63: UserWarning: Radon transform: image must be zero outside the reconstruction circle\n",
      "  warn('Radon transform: image must be zero outside the '\n",
      "D:\\Programming\\Anaconda\\envs\\image\\lib\\site-packages\\skimage\\transform\\radon_transform.py:63: UserWarning: Radon transform: image must be zero outside the reconstruction circle\n",
      "  warn('Radon transform: image must be zero outside the '\n",
      "D:\\Programming\\Anaconda\\envs\\image\\lib\\site-packages\\skimage\\transform\\radon_transform.py:63: UserWarning: Radon transform: image must be zero outside the reconstruction circle\n",
      "  warn('Radon transform: image must be zero outside the '\n",
      "D:\\Programming\\Anaconda\\envs\\image\\lib\\site-packages\\skimage\\transform\\radon_transform.py:63: UserWarning: Radon transform: image must be zero outside the reconstruction circle\n",
      "  warn('Radon transform: image must be zero outside the '\n",
      "D:\\Programming\\Anaconda\\envs\\image\\lib\\site-packages\\skimage\\transform\\radon_transform.py:63: UserWarning: Radon transform: image must be zero outside the reconstruction circle\n",
      "  warn('Radon transform: image must be zero outside the '\n",
      "D:\\Programming\\Anaconda\\envs\\image\\lib\\site-packages\\skimage\\transform\\radon_transform.py:63: UserWarning: Radon transform: image must be zero outside the reconstruction circle\n",
      "  warn('Radon transform: image must be zero outside the '\n",
      "D:\\Programming\\Anaconda\\envs\\image\\lib\\site-packages\\skimage\\transform\\radon_transform.py:63: UserWarning: Radon transform: image must be zero outside the reconstruction circle\n",
      "  warn('Radon transform: image must be zero outside the '\n",
      "D:\\Programming\\Anaconda\\envs\\image\\lib\\site-packages\\skimage\\transform\\radon_transform.py:63: UserWarning: Radon transform: image must be zero outside the reconstruction circle\n",
      "  warn('Radon transform: image must be zero outside the '\n",
      "D:\\Programming\\Anaconda\\envs\\image\\lib\\site-packages\\skimage\\transform\\radon_transform.py:63: UserWarning: Radon transform: image must be zero outside the reconstruction circle\n",
      "  warn('Radon transform: image must be zero outside the '\n",
      "D:\\Programming\\Anaconda\\envs\\image\\lib\\site-packages\\skimage\\transform\\radon_transform.py:63: UserWarning: Radon transform: image must be zero outside the reconstruction circle\n",
      "  warn('Radon transform: image must be zero outside the '\n",
      "D:\\Programming\\Anaconda\\envs\\image\\lib\\site-packages\\skimage\\transform\\radon_transform.py:63: UserWarning: Radon transform: image must be zero outside the reconstruction circle\n",
      "  warn('Radon transform: image must be zero outside the '\n",
      "D:\\Programming\\Anaconda\\envs\\image\\lib\\site-packages\\skimage\\transform\\radon_transform.py:63: UserWarning: Radon transform: image must be zero outside the reconstruction circle\n",
      "  warn('Radon transform: image must be zero outside the '\n",
      "D:\\Programming\\Anaconda\\envs\\image\\lib\\site-packages\\skimage\\transform\\radon_transform.py:63: UserWarning: Radon transform: image must be zero outside the reconstruction circle\n",
      "  warn('Radon transform: image must be zero outside the '\n",
      "D:\\Programming\\Anaconda\\envs\\image\\lib\\site-packages\\skimage\\transform\\radon_transform.py:63: UserWarning: Radon transform: image must be zero outside the reconstruction circle\n",
      "  warn('Radon transform: image must be zero outside the '\n",
      "D:\\Programming\\Anaconda\\envs\\image\\lib\\site-packages\\skimage\\transform\\radon_transform.py:63: UserWarning: Radon transform: image must be zero outside the reconstruction circle\n",
      "  warn('Radon transform: image must be zero outside the '\n",
      "D:\\Programming\\Anaconda\\envs\\image\\lib\\site-packages\\skimage\\transform\\radon_transform.py:63: UserWarning: Radon transform: image must be zero outside the reconstruction circle\n",
      "  warn('Radon transform: image must be zero outside the '\n",
      "D:\\Programming\\Anaconda\\envs\\image\\lib\\site-packages\\skimage\\transform\\radon_transform.py:63: UserWarning: Radon transform: image must be zero outside the reconstruction circle\n",
      "  warn('Radon transform: image must be zero outside the '\n"
     ]
    },
    {
     "name": "stdout",
     "output_type": "stream",
     "text": [
      "452\n"
     ]
    },
    {
     "name": "stderr",
     "output_type": "stream",
     "text": [
      "D:\\Programming\\Anaconda\\envs\\image\\lib\\site-packages\\skimage\\transform\\radon_transform.py:63: UserWarning: Radon transform: image must be zero outside the reconstruction circle\n",
      "  warn('Radon transform: image must be zero outside the '\n",
      "D:\\Programming\\Anaconda\\envs\\image\\lib\\site-packages\\skimage\\transform\\radon_transform.py:63: UserWarning: Radon transform: image must be zero outside the reconstruction circle\n",
      "  warn('Radon transform: image must be zero outside the '\n",
      "D:\\Programming\\Anaconda\\envs\\image\\lib\\site-packages\\skimage\\transform\\radon_transform.py:63: UserWarning: Radon transform: image must be zero outside the reconstruction circle\n",
      "  warn('Radon transform: image must be zero outside the '\n",
      "D:\\Programming\\Anaconda\\envs\\image\\lib\\site-packages\\skimage\\transform\\radon_transform.py:63: UserWarning: Radon transform: image must be zero outside the reconstruction circle\n",
      "  warn('Radon transform: image must be zero outside the '\n",
      "D:\\Programming\\Anaconda\\envs\\image\\lib\\site-packages\\skimage\\transform\\radon_transform.py:63: UserWarning: Radon transform: image must be zero outside the reconstruction circle\n",
      "  warn('Radon transform: image must be zero outside the '\n",
      "D:\\Programming\\Anaconda\\envs\\image\\lib\\site-packages\\skimage\\transform\\radon_transform.py:63: UserWarning: Radon transform: image must be zero outside the reconstruction circle\n",
      "  warn('Radon transform: image must be zero outside the '\n",
      "D:\\Programming\\Anaconda\\envs\\image\\lib\\site-packages\\skimage\\transform\\radon_transform.py:63: UserWarning: Radon transform: image must be zero outside the reconstruction circle\n",
      "  warn('Radon transform: image must be zero outside the '\n",
      "D:\\Programming\\Anaconda\\envs\\image\\lib\\site-packages\\skimage\\transform\\radon_transform.py:63: UserWarning: Radon transform: image must be zero outside the reconstruction circle\n",
      "  warn('Radon transform: image must be zero outside the '\n"
     ]
    },
    {
     "name": "stdout",
     "output_type": "stream",
     "text": [
      "460\n"
     ]
    },
    {
     "name": "stderr",
     "output_type": "stream",
     "text": [
      "D:\\Programming\\Anaconda\\envs\\image\\lib\\site-packages\\skimage\\transform\\radon_transform.py:63: UserWarning: Radon transform: image must be zero outside the reconstruction circle\n",
      "  warn('Radon transform: image must be zero outside the '\n",
      "D:\\Programming\\Anaconda\\envs\\image\\lib\\site-packages\\skimage\\transform\\radon_transform.py:63: UserWarning: Radon transform: image must be zero outside the reconstruction circle\n",
      "  warn('Radon transform: image must be zero outside the '\n",
      "D:\\Programming\\Anaconda\\envs\\image\\lib\\site-packages\\skimage\\transform\\radon_transform.py:63: UserWarning: Radon transform: image must be zero outside the reconstruction circle\n",
      "  warn('Radon transform: image must be zero outside the '\n",
      "D:\\Programming\\Anaconda\\envs\\image\\lib\\site-packages\\skimage\\transform\\radon_transform.py:63: UserWarning: Radon transform: image must be zero outside the reconstruction circle\n",
      "  warn('Radon transform: image must be zero outside the '\n",
      "D:\\Programming\\Anaconda\\envs\\image\\lib\\site-packages\\skimage\\transform\\radon_transform.py:63: UserWarning: Radon transform: image must be zero outside the reconstruction circle\n",
      "  warn('Radon transform: image must be zero outside the '\n",
      "D:\\Programming\\Anaconda\\envs\\image\\lib\\site-packages\\skimage\\transform\\radon_transform.py:63: UserWarning: Radon transform: image must be zero outside the reconstruction circle\n",
      "  warn('Radon transform: image must be zero outside the '\n"
     ]
    },
    {
     "name": "stdout",
     "output_type": "stream",
     "text": [
      "466\n"
     ]
    },
    {
     "name": "stderr",
     "output_type": "stream",
     "text": [
      "D:\\Programming\\Anaconda\\envs\\image\\lib\\site-packages\\skimage\\transform\\radon_transform.py:63: UserWarning: Radon transform: image must be zero outside the reconstruction circle\n",
      "  warn('Radon transform: image must be zero outside the '\n"
     ]
    },
    {
     "name": "stdout",
     "output_type": "stream",
     "text": [
      "467\n"
     ]
    },
    {
     "name": "stderr",
     "output_type": "stream",
     "text": [
      "D:\\Programming\\Anaconda\\envs\\image\\lib\\site-packages\\skimage\\transform\\radon_transform.py:63: UserWarning: Radon transform: image must be zero outside the reconstruction circle\n",
      "  warn('Radon transform: image must be zero outside the '\n",
      "D:\\Programming\\Anaconda\\envs\\image\\lib\\site-packages\\skimage\\transform\\radon_transform.py:63: UserWarning: Radon transform: image must be zero outside the reconstruction circle\n",
      "  warn('Radon transform: image must be zero outside the '\n"
     ]
    },
    {
     "name": "stdout",
     "output_type": "stream",
     "text": [
      "469\n"
     ]
    },
    {
     "name": "stderr",
     "output_type": "stream",
     "text": [
      "D:\\Programming\\Anaconda\\envs\\image\\lib\\site-packages\\skimage\\transform\\radon_transform.py:63: UserWarning: Radon transform: image must be zero outside the reconstruction circle\n",
      "  warn('Radon transform: image must be zero outside the '\n",
      "D:\\Programming\\Anaconda\\envs\\image\\lib\\site-packages\\skimage\\transform\\radon_transform.py:63: UserWarning: Radon transform: image must be zero outside the reconstruction circle\n",
      "  warn('Radon transform: image must be zero outside the '\n",
      "D:\\Programming\\Anaconda\\envs\\image\\lib\\site-packages\\skimage\\transform\\radon_transform.py:63: UserWarning: Radon transform: image must be zero outside the reconstruction circle\n",
      "  warn('Radon transform: image must be zero outside the '\n",
      "D:\\Programming\\Anaconda\\envs\\image\\lib\\site-packages\\skimage\\transform\\radon_transform.py:63: UserWarning: Radon transform: image must be zero outside the reconstruction circle\n",
      "  warn('Radon transform: image must be zero outside the '\n",
      "D:\\Programming\\Anaconda\\envs\\image\\lib\\site-packages\\skimage\\transform\\radon_transform.py:63: UserWarning: Radon transform: image must be zero outside the reconstruction circle\n",
      "  warn('Radon transform: image must be zero outside the '\n",
      "D:\\Programming\\Anaconda\\envs\\image\\lib\\site-packages\\skimage\\transform\\radon_transform.py:63: UserWarning: Radon transform: image must be zero outside the reconstruction circle\n",
      "  warn('Radon transform: image must be zero outside the '\n",
      "D:\\Programming\\Anaconda\\envs\\image\\lib\\site-packages\\skimage\\transform\\radon_transform.py:63: UserWarning: Radon transform: image must be zero outside the reconstruction circle\n",
      "  warn('Radon transform: image must be zero outside the '\n"
     ]
    },
    {
     "name": "stdout",
     "output_type": "stream",
     "text": [
      "476\n"
     ]
    },
    {
     "name": "stderr",
     "output_type": "stream",
     "text": [
      "D:\\Programming\\Anaconda\\envs\\image\\lib\\site-packages\\skimage\\transform\\radon_transform.py:63: UserWarning: Radon transform: image must be zero outside the reconstruction circle\n",
      "  warn('Radon transform: image must be zero outside the '\n",
      "D:\\Programming\\Anaconda\\envs\\image\\lib\\site-packages\\skimage\\transform\\radon_transform.py:63: UserWarning: Radon transform: image must be zero outside the reconstruction circle\n",
      "  warn('Radon transform: image must be zero outside the '\n",
      "D:\\Programming\\Anaconda\\envs\\image\\lib\\site-packages\\skimage\\transform\\radon_transform.py:63: UserWarning: Radon transform: image must be zero outside the reconstruction circle\n",
      "  warn('Radon transform: image must be zero outside the '\n",
      "D:\\Programming\\Anaconda\\envs\\image\\lib\\site-packages\\skimage\\transform\\radon_transform.py:63: UserWarning: Radon transform: image must be zero outside the reconstruction circle\n",
      "  warn('Radon transform: image must be zero outside the '\n",
      "D:\\Programming\\Anaconda\\envs\\image\\lib\\site-packages\\skimage\\transform\\radon_transform.py:63: UserWarning: Radon transform: image must be zero outside the reconstruction circle\n",
      "  warn('Radon transform: image must be zero outside the '\n",
      "D:\\Programming\\Anaconda\\envs\\image\\lib\\site-packages\\skimage\\transform\\radon_transform.py:63: UserWarning: Radon transform: image must be zero outside the reconstruction circle\n",
      "  warn('Radon transform: image must be zero outside the '\n",
      "D:\\Programming\\Anaconda\\envs\\image\\lib\\site-packages\\skimage\\transform\\radon_transform.py:63: UserWarning: Radon transform: image must be zero outside the reconstruction circle\n",
      "  warn('Radon transform: image must be zero outside the '\n",
      "D:\\Programming\\Anaconda\\envs\\image\\lib\\site-packages\\skimage\\transform\\radon_transform.py:63: UserWarning: Radon transform: image must be zero outside the reconstruction circle\n",
      "  warn('Radon transform: image must be zero outside the '\n",
      "D:\\Programming\\Anaconda\\envs\\image\\lib\\site-packages\\skimage\\transform\\radon_transform.py:63: UserWarning: Radon transform: image must be zero outside the reconstruction circle\n",
      "  warn('Radon transform: image must be zero outside the '\n",
      "D:\\Programming\\Anaconda\\envs\\image\\lib\\site-packages\\skimage\\transform\\radon_transform.py:63: UserWarning: Radon transform: image must be zero outside the reconstruction circle\n",
      "  warn('Radon transform: image must be zero outside the '\n",
      "D:\\Programming\\Anaconda\\envs\\image\\lib\\site-packages\\skimage\\transform\\radon_transform.py:63: UserWarning: Radon transform: image must be zero outside the reconstruction circle\n",
      "  warn('Radon transform: image must be zero outside the '\n",
      "D:\\Programming\\Anaconda\\envs\\image\\lib\\site-packages\\skimage\\transform\\radon_transform.py:63: UserWarning: Radon transform: image must be zero outside the reconstruction circle\n",
      "  warn('Radon transform: image must be zero outside the '\n",
      "D:\\Programming\\Anaconda\\envs\\image\\lib\\site-packages\\skimage\\transform\\radon_transform.py:63: UserWarning: Radon transform: image must be zero outside the reconstruction circle\n",
      "  warn('Radon transform: image must be zero outside the '\n",
      "D:\\Programming\\Anaconda\\envs\\image\\lib\\site-packages\\skimage\\transform\\radon_transform.py:63: UserWarning: Radon transform: image must be zero outside the reconstruction circle\n",
      "  warn('Radon transform: image must be zero outside the '\n",
      "D:\\Programming\\Anaconda\\envs\\image\\lib\\site-packages\\skimage\\transform\\radon_transform.py:63: UserWarning: Radon transform: image must be zero outside the reconstruction circle\n",
      "  warn('Radon transform: image must be zero outside the '\n",
      "D:\\Programming\\Anaconda\\envs\\image\\lib\\site-packages\\skimage\\transform\\radon_transform.py:63: UserWarning: Radon transform: image must be zero outside the reconstruction circle\n",
      "  warn('Radon transform: image must be zero outside the '\n"
     ]
    },
    {
     "name": "stdout",
     "output_type": "stream",
     "text": [
      "492\n"
     ]
    },
    {
     "name": "stderr",
     "output_type": "stream",
     "text": [
      "D:\\Programming\\Anaconda\\envs\\image\\lib\\site-packages\\skimage\\transform\\radon_transform.py:63: UserWarning: Radon transform: image must be zero outside the reconstruction circle\n",
      "  warn('Radon transform: image must be zero outside the '\n",
      "D:\\Programming\\Anaconda\\envs\\image\\lib\\site-packages\\skimage\\transform\\radon_transform.py:63: UserWarning: Radon transform: image must be zero outside the reconstruction circle\n",
      "  warn('Radon transform: image must be zero outside the '\n",
      "D:\\Programming\\Anaconda\\envs\\image\\lib\\site-packages\\skimage\\transform\\radon_transform.py:63: UserWarning: Radon transform: image must be zero outside the reconstruction circle\n",
      "  warn('Radon transform: image must be zero outside the '\n",
      "D:\\Programming\\Anaconda\\envs\\image\\lib\\site-packages\\skimage\\transform\\radon_transform.py:63: UserWarning: Radon transform: image must be zero outside the reconstruction circle\n",
      "  warn('Radon transform: image must be zero outside the '\n",
      "D:\\Programming\\Anaconda\\envs\\image\\lib\\site-packages\\skimage\\transform\\radon_transform.py:63: UserWarning: Radon transform: image must be zero outside the reconstruction circle\n",
      "  warn('Radon transform: image must be zero outside the '\n"
     ]
    },
    {
     "name": "stdout",
     "output_type": "stream",
     "text": [
      "497\n"
     ]
    },
    {
     "name": "stderr",
     "output_type": "stream",
     "text": [
      "D:\\Programming\\Anaconda\\envs\\image\\lib\\site-packages\\skimage\\transform\\radon_transform.py:63: UserWarning: Radon transform: image must be zero outside the reconstruction circle\n",
      "  warn('Radon transform: image must be zero outside the '\n",
      "D:\\Programming\\Anaconda\\envs\\image\\lib\\site-packages\\skimage\\transform\\radon_transform.py:63: UserWarning: Radon transform: image must be zero outside the reconstruction circle\n",
      "  warn('Radon transform: image must be zero outside the '\n",
      "D:\\Programming\\Anaconda\\envs\\image\\lib\\site-packages\\skimage\\transform\\radon_transform.py:63: UserWarning: Radon transform: image must be zero outside the reconstruction circle\n",
      "  warn('Radon transform: image must be zero outside the '\n",
      "D:\\Programming\\Anaconda\\envs\\image\\lib\\site-packages\\skimage\\transform\\radon_transform.py:63: UserWarning: Radon transform: image must be zero outside the reconstruction circle\n",
      "  warn('Radon transform: image must be zero outside the '\n",
      "D:\\Programming\\Anaconda\\envs\\image\\lib\\site-packages\\skimage\\transform\\radon_transform.py:63: UserWarning: Radon transform: image must be zero outside the reconstruction circle\n",
      "  warn('Radon transform: image must be zero outside the '\n"
     ]
    },
    {
     "name": "stdout",
     "output_type": "stream",
     "text": [
      "502\n"
     ]
    },
    {
     "name": "stderr",
     "output_type": "stream",
     "text": [
      "D:\\Programming\\Anaconda\\envs\\image\\lib\\site-packages\\skimage\\transform\\radon_transform.py:63: UserWarning: Radon transform: image must be zero outside the reconstruction circle\n",
      "  warn('Radon transform: image must be zero outside the '\n",
      "D:\\Programming\\Anaconda\\envs\\image\\lib\\site-packages\\skimage\\transform\\radon_transform.py:63: UserWarning: Radon transform: image must be zero outside the reconstruction circle\n",
      "  warn('Radon transform: image must be zero outside the '\n"
     ]
    },
    {
     "name": "stdout",
     "output_type": "stream",
     "text": [
      "504\n"
     ]
    },
    {
     "name": "stderr",
     "output_type": "stream",
     "text": [
      "D:\\Programming\\Anaconda\\envs\\image\\lib\\site-packages\\skimage\\transform\\radon_transform.py:63: UserWarning: Radon transform: image must be zero outside the reconstruction circle\n",
      "  warn('Radon transform: image must be zero outside the '\n"
     ]
    },
    {
     "name": "stdout",
     "output_type": "stream",
     "text": [
      "505\n"
     ]
    },
    {
     "name": "stderr",
     "output_type": "stream",
     "text": [
      "D:\\Programming\\Anaconda\\envs\\image\\lib\\site-packages\\skimage\\transform\\radon_transform.py:63: UserWarning: Radon transform: image must be zero outside the reconstruction circle\n",
      "  warn('Radon transform: image must be zero outside the '\n",
      "D:\\Programming\\Anaconda\\envs\\image\\lib\\site-packages\\skimage\\transform\\radon_transform.py:63: UserWarning: Radon transform: image must be zero outside the reconstruction circle\n",
      "  warn('Radon transform: image must be zero outside the '\n",
      "D:\\Programming\\Anaconda\\envs\\image\\lib\\site-packages\\skimage\\transform\\radon_transform.py:63: UserWarning: Radon transform: image must be zero outside the reconstruction circle\n",
      "  warn('Radon transform: image must be zero outside the '\n",
      "D:\\Programming\\Anaconda\\envs\\image\\lib\\site-packages\\skimage\\transform\\radon_transform.py:63: UserWarning: Radon transform: image must be zero outside the reconstruction circle\n",
      "  warn('Radon transform: image must be zero outside the '\n",
      "D:\\Programming\\Anaconda\\envs\\image\\lib\\site-packages\\skimage\\transform\\radon_transform.py:63: UserWarning: Radon transform: image must be zero outside the reconstruction circle\n",
      "  warn('Radon transform: image must be zero outside the '\n",
      "D:\\Programming\\Anaconda\\envs\\image\\lib\\site-packages\\skimage\\transform\\radon_transform.py:63: UserWarning: Radon transform: image must be zero outside the reconstruction circle\n",
      "  warn('Radon transform: image must be zero outside the '\n",
      "D:\\Programming\\Anaconda\\envs\\image\\lib\\site-packages\\skimage\\transform\\radon_transform.py:63: UserWarning: Radon transform: image must be zero outside the reconstruction circle\n",
      "  warn('Radon transform: image must be zero outside the '\n",
      "D:\\Programming\\Anaconda\\envs\\image\\lib\\site-packages\\skimage\\transform\\radon_transform.py:63: UserWarning: Radon transform: image must be zero outside the reconstruction circle\n",
      "  warn('Radon transform: image must be zero outside the '\n",
      "D:\\Programming\\Anaconda\\envs\\image\\lib\\site-packages\\skimage\\transform\\radon_transform.py:63: UserWarning: Radon transform: image must be zero outside the reconstruction circle\n",
      "  warn('Radon transform: image must be zero outside the '\n",
      "D:\\Programming\\Anaconda\\envs\\image\\lib\\site-packages\\skimage\\transform\\radon_transform.py:63: UserWarning: Radon transform: image must be zero outside the reconstruction circle\n",
      "  warn('Radon transform: image must be zero outside the '\n",
      "D:\\Programming\\Anaconda\\envs\\image\\lib\\site-packages\\skimage\\transform\\radon_transform.py:63: UserWarning: Radon transform: image must be zero outside the reconstruction circle\n",
      "  warn('Radon transform: image must be zero outside the '\n",
      "D:\\Programming\\Anaconda\\envs\\image\\lib\\site-packages\\skimage\\transform\\radon_transform.py:63: UserWarning: Radon transform: image must be zero outside the reconstruction circle\n",
      "  warn('Radon transform: image must be zero outside the '\n",
      "D:\\Programming\\Anaconda\\envs\\image\\lib\\site-packages\\skimage\\transform\\radon_transform.py:63: UserWarning: Radon transform: image must be zero outside the reconstruction circle\n",
      "  warn('Radon transform: image must be zero outside the '\n",
      "D:\\Programming\\Anaconda\\envs\\image\\lib\\site-packages\\skimage\\transform\\radon_transform.py:63: UserWarning: Radon transform: image must be zero outside the reconstruction circle\n",
      "  warn('Radon transform: image must be zero outside the '\n",
      "D:\\Programming\\Anaconda\\envs\\image\\lib\\site-packages\\skimage\\transform\\radon_transform.py:63: UserWarning: Radon transform: image must be zero outside the reconstruction circle\n",
      "  warn('Radon transform: image must be zero outside the '\n",
      "D:\\Programming\\Anaconda\\envs\\image\\lib\\site-packages\\skimage\\transform\\radon_transform.py:63: UserWarning: Radon transform: image must be zero outside the reconstruction circle\n",
      "  warn('Radon transform: image must be zero outside the '\n",
      "D:\\Programming\\Anaconda\\envs\\image\\lib\\site-packages\\skimage\\transform\\radon_transform.py:63: UserWarning: Radon transform: image must be zero outside the reconstruction circle\n",
      "  warn('Radon transform: image must be zero outside the '\n",
      "D:\\Programming\\Anaconda\\envs\\image\\lib\\site-packages\\skimage\\transform\\radon_transform.py:63: UserWarning: Radon transform: image must be zero outside the reconstruction circle\n",
      "  warn('Radon transform: image must be zero outside the '\n",
      "D:\\Programming\\Anaconda\\envs\\image\\lib\\site-packages\\skimage\\transform\\radon_transform.py:63: UserWarning: Radon transform: image must be zero outside the reconstruction circle\n",
      "  warn('Radon transform: image must be zero outside the '\n",
      "D:\\Programming\\Anaconda\\envs\\image\\lib\\site-packages\\skimage\\transform\\radon_transform.py:63: UserWarning: Radon transform: image must be zero outside the reconstruction circle\n",
      "  warn('Radon transform: image must be zero outside the '\n",
      "D:\\Programming\\Anaconda\\envs\\image\\lib\\site-packages\\skimage\\transform\\radon_transform.py:63: UserWarning: Radon transform: image must be zero outside the reconstruction circle\n",
      "  warn('Radon transform: image must be zero outside the '\n",
      "D:\\Programming\\Anaconda\\envs\\image\\lib\\site-packages\\skimage\\transform\\radon_transform.py:63: UserWarning: Radon transform: image must be zero outside the reconstruction circle\n",
      "  warn('Radon transform: image must be zero outside the '\n",
      "D:\\Programming\\Anaconda\\envs\\image\\lib\\site-packages\\skimage\\transform\\radon_transform.py:63: UserWarning: Radon transform: image must be zero outside the reconstruction circle\n",
      "  warn('Radon transform: image must be zero outside the '\n",
      "D:\\Programming\\Anaconda\\envs\\image\\lib\\site-packages\\skimage\\transform\\radon_transform.py:63: UserWarning: Radon transform: image must be zero outside the reconstruction circle\n",
      "  warn('Radon transform: image must be zero outside the '\n",
      "D:\\Programming\\Anaconda\\envs\\image\\lib\\site-packages\\skimage\\transform\\radon_transform.py:63: UserWarning: Radon transform: image must be zero outside the reconstruction circle\n",
      "  warn('Radon transform: image must be zero outside the '\n"
     ]
    },
    {
     "name": "stdout",
     "output_type": "stream",
     "text": [
      "530\n"
     ]
    },
    {
     "name": "stderr",
     "output_type": "stream",
     "text": [
      "D:\\Programming\\Anaconda\\envs\\image\\lib\\site-packages\\skimage\\transform\\radon_transform.py:63: UserWarning: Radon transform: image must be zero outside the reconstruction circle\n",
      "  warn('Radon transform: image must be zero outside the '\n",
      "D:\\Programming\\Anaconda\\envs\\image\\lib\\site-packages\\skimage\\transform\\radon_transform.py:63: UserWarning: Radon transform: image must be zero outside the reconstruction circle\n",
      "  warn('Radon transform: image must be zero outside the '\n",
      "D:\\Programming\\Anaconda\\envs\\image\\lib\\site-packages\\skimage\\transform\\radon_transform.py:63: UserWarning: Radon transform: image must be zero outside the reconstruction circle\n",
      "  warn('Radon transform: image must be zero outside the '\n",
      "D:\\Programming\\Anaconda\\envs\\image\\lib\\site-packages\\skimage\\transform\\radon_transform.py:63: UserWarning: Radon transform: image must be zero outside the reconstruction circle\n",
      "  warn('Radon transform: image must be zero outside the '\n",
      "D:\\Programming\\Anaconda\\envs\\image\\lib\\site-packages\\skimage\\transform\\radon_transform.py:63: UserWarning: Radon transform: image must be zero outside the reconstruction circle\n",
      "  warn('Radon transform: image must be zero outside the '\n",
      "D:\\Programming\\Anaconda\\envs\\image\\lib\\site-packages\\skimage\\transform\\radon_transform.py:63: UserWarning: Radon transform: image must be zero outside the reconstruction circle\n",
      "  warn('Radon transform: image must be zero outside the '\n",
      "D:\\Programming\\Anaconda\\envs\\image\\lib\\site-packages\\skimage\\transform\\radon_transform.py:63: UserWarning: Radon transform: image must be zero outside the reconstruction circle\n",
      "  warn('Radon transform: image must be zero outside the '\n",
      "D:\\Programming\\Anaconda\\envs\\image\\lib\\site-packages\\skimage\\transform\\radon_transform.py:63: UserWarning: Radon transform: image must be zero outside the reconstruction circle\n",
      "  warn('Radon transform: image must be zero outside the '\n",
      "D:\\Programming\\Anaconda\\envs\\image\\lib\\site-packages\\skimage\\transform\\radon_transform.py:63: UserWarning: Radon transform: image must be zero outside the reconstruction circle\n",
      "  warn('Radon transform: image must be zero outside the '\n",
      "D:\\Programming\\Anaconda\\envs\\image\\lib\\site-packages\\skimage\\transform\\radon_transform.py:63: UserWarning: Radon transform: image must be zero outside the reconstruction circle\n",
      "  warn('Radon transform: image must be zero outside the '\n",
      "D:\\Programming\\Anaconda\\envs\\image\\lib\\site-packages\\skimage\\transform\\radon_transform.py:63: UserWarning: Radon transform: image must be zero outside the reconstruction circle\n",
      "  warn('Radon transform: image must be zero outside the '\n",
      "D:\\Programming\\Anaconda\\envs\\image\\lib\\site-packages\\skimage\\transform\\radon_transform.py:63: UserWarning: Radon transform: image must be zero outside the reconstruction circle\n",
      "  warn('Radon transform: image must be zero outside the '\n",
      "D:\\Programming\\Anaconda\\envs\\image\\lib\\site-packages\\skimage\\transform\\radon_transform.py:63: UserWarning: Radon transform: image must be zero outside the reconstruction circle\n",
      "  warn('Radon transform: image must be zero outside the '\n",
      "D:\\Programming\\Anaconda\\envs\\image\\lib\\site-packages\\skimage\\transform\\radon_transform.py:63: UserWarning: Radon transform: image must be zero outside the reconstruction circle\n",
      "  warn('Radon transform: image must be zero outside the '\n",
      "D:\\Programming\\Anaconda\\envs\\image\\lib\\site-packages\\skimage\\transform\\radon_transform.py:63: UserWarning: Radon transform: image must be zero outside the reconstruction circle\n",
      "  warn('Radon transform: image must be zero outside the '\n",
      "D:\\Programming\\Anaconda\\envs\\image\\lib\\site-packages\\skimage\\transform\\radon_transform.py:63: UserWarning: Radon transform: image must be zero outside the reconstruction circle\n",
      "  warn('Radon transform: image must be zero outside the '\n",
      "D:\\Programming\\Anaconda\\envs\\image\\lib\\site-packages\\skimage\\transform\\radon_transform.py:63: UserWarning: Radon transform: image must be zero outside the reconstruction circle\n",
      "  warn('Radon transform: image must be zero outside the '\n",
      "D:\\Programming\\Anaconda\\envs\\image\\lib\\site-packages\\skimage\\transform\\radon_transform.py:63: UserWarning: Radon transform: image must be zero outside the reconstruction circle\n",
      "  warn('Radon transform: image must be zero outside the '\n"
     ]
    },
    {
     "name": "stdout",
     "output_type": "stream",
     "text": [
      "548\n"
     ]
    },
    {
     "name": "stderr",
     "output_type": "stream",
     "text": [
      "D:\\Programming\\Anaconda\\envs\\image\\lib\\site-packages\\skimage\\transform\\radon_transform.py:63: UserWarning: Radon transform: image must be zero outside the reconstruction circle\n",
      "  warn('Radon transform: image must be zero outside the '\n",
      "D:\\Programming\\Anaconda\\envs\\image\\lib\\site-packages\\skimage\\transform\\radon_transform.py:63: UserWarning: Radon transform: image must be zero outside the reconstruction circle\n",
      "  warn('Radon transform: image must be zero outside the '\n",
      "D:\\Programming\\Anaconda\\envs\\image\\lib\\site-packages\\skimage\\transform\\radon_transform.py:63: UserWarning: Radon transform: image must be zero outside the reconstruction circle\n",
      "  warn('Radon transform: image must be zero outside the '\n",
      "D:\\Programming\\Anaconda\\envs\\image\\lib\\site-packages\\skimage\\transform\\radon_transform.py:63: UserWarning: Radon transform: image must be zero outside the reconstruction circle\n",
      "  warn('Radon transform: image must be zero outside the '\n",
      "D:\\Programming\\Anaconda\\envs\\image\\lib\\site-packages\\skimage\\transform\\radon_transform.py:63: UserWarning: Radon transform: image must be zero outside the reconstruction circle\n",
      "  warn('Radon transform: image must be zero outside the '\n",
      "D:\\Programming\\Anaconda\\envs\\image\\lib\\site-packages\\skimage\\transform\\radon_transform.py:63: UserWarning: Radon transform: image must be zero outside the reconstruction circle\n",
      "  warn('Radon transform: image must be zero outside the '\n",
      "D:\\Programming\\Anaconda\\envs\\image\\lib\\site-packages\\skimage\\transform\\radon_transform.py:63: UserWarning: Radon transform: image must be zero outside the reconstruction circle\n",
      "  warn('Radon transform: image must be zero outside the '\n"
     ]
    },
    {
     "name": "stdout",
     "output_type": "stream",
     "text": [
      "555\n"
     ]
    },
    {
     "name": "stderr",
     "output_type": "stream",
     "text": [
      "D:\\Programming\\Anaconda\\envs\\image\\lib\\site-packages\\skimage\\transform\\radon_transform.py:63: UserWarning: Radon transform: image must be zero outside the reconstruction circle\n",
      "  warn('Radon transform: image must be zero outside the '\n",
      "D:\\Programming\\Anaconda\\envs\\image\\lib\\site-packages\\skimage\\transform\\radon_transform.py:63: UserWarning: Radon transform: image must be zero outside the reconstruction circle\n",
      "  warn('Radon transform: image must be zero outside the '\n",
      "D:\\Programming\\Anaconda\\envs\\image\\lib\\site-packages\\skimage\\transform\\radon_transform.py:63: UserWarning: Radon transform: image must be zero outside the reconstruction circle\n",
      "  warn('Radon transform: image must be zero outside the '\n",
      "D:\\Programming\\Anaconda\\envs\\image\\lib\\site-packages\\skimage\\transform\\radon_transform.py:63: UserWarning: Radon transform: image must be zero outside the reconstruction circle\n",
      "  warn('Radon transform: image must be zero outside the '\n",
      "D:\\Programming\\Anaconda\\envs\\image\\lib\\site-packages\\skimage\\transform\\radon_transform.py:63: UserWarning: Radon transform: image must be zero outside the reconstruction circle\n",
      "  warn('Radon transform: image must be zero outside the '\n"
     ]
    },
    {
     "name": "stdout",
     "output_type": "stream",
     "text": [
      "560\n"
     ]
    },
    {
     "name": "stderr",
     "output_type": "stream",
     "text": [
      "D:\\Programming\\Anaconda\\envs\\image\\lib\\site-packages\\skimage\\transform\\radon_transform.py:63: UserWarning: Radon transform: image must be zero outside the reconstruction circle\n",
      "  warn('Radon transform: image must be zero outside the '\n",
      "D:\\Programming\\Anaconda\\envs\\image\\lib\\site-packages\\skimage\\transform\\radon_transform.py:63: UserWarning: Radon transform: image must be zero outside the reconstruction circle\n",
      "  warn('Radon transform: image must be zero outside the '\n",
      "D:\\Programming\\Anaconda\\envs\\image\\lib\\site-packages\\skimage\\transform\\radon_transform.py:63: UserWarning: Radon transform: image must be zero outside the reconstruction circle\n",
      "  warn('Radon transform: image must be zero outside the '\n",
      "D:\\Programming\\Anaconda\\envs\\image\\lib\\site-packages\\skimage\\transform\\radon_transform.py:63: UserWarning: Radon transform: image must be zero outside the reconstruction circle\n",
      "  warn('Radon transform: image must be zero outside the '\n",
      "D:\\Programming\\Anaconda\\envs\\image\\lib\\site-packages\\skimage\\transform\\radon_transform.py:63: UserWarning: Radon transform: image must be zero outside the reconstruction circle\n",
      "  warn('Radon transform: image must be zero outside the '\n",
      "D:\\Programming\\Anaconda\\envs\\image\\lib\\site-packages\\skimage\\transform\\radon_transform.py:63: UserWarning: Radon transform: image must be zero outside the reconstruction circle\n",
      "  warn('Radon transform: image must be zero outside the '\n",
      "D:\\Programming\\Anaconda\\envs\\image\\lib\\site-packages\\skimage\\transform\\radon_transform.py:63: UserWarning: Radon transform: image must be zero outside the reconstruction circle\n",
      "  warn('Radon transform: image must be zero outside the '\n",
      "D:\\Programming\\Anaconda\\envs\\image\\lib\\site-packages\\skimage\\transform\\radon_transform.py:63: UserWarning: Radon transform: image must be zero outside the reconstruction circle\n",
      "  warn('Radon transform: image must be zero outside the '\n",
      "D:\\Programming\\Anaconda\\envs\\image\\lib\\site-packages\\skimage\\transform\\radon_transform.py:63: UserWarning: Radon transform: image must be zero outside the reconstruction circle\n",
      "  warn('Radon transform: image must be zero outside the '\n",
      "D:\\Programming\\Anaconda\\envs\\image\\lib\\site-packages\\skimage\\transform\\radon_transform.py:63: UserWarning: Radon transform: image must be zero outside the reconstruction circle\n",
      "  warn('Radon transform: image must be zero outside the '\n",
      "D:\\Programming\\Anaconda\\envs\\image\\lib\\site-packages\\skimage\\transform\\radon_transform.py:63: UserWarning: Radon transform: image must be zero outside the reconstruction circle\n",
      "  warn('Radon transform: image must be zero outside the '\n",
      "D:\\Programming\\Anaconda\\envs\\image\\lib\\site-packages\\skimage\\transform\\radon_transform.py:63: UserWarning: Radon transform: image must be zero outside the reconstruction circle\n",
      "  warn('Radon transform: image must be zero outside the '\n",
      "D:\\Programming\\Anaconda\\envs\\image\\lib\\site-packages\\skimage\\transform\\radon_transform.py:63: UserWarning: Radon transform: image must be zero outside the reconstruction circle\n",
      "  warn('Radon transform: image must be zero outside the '\n",
      "D:\\Programming\\Anaconda\\envs\\image\\lib\\site-packages\\skimage\\transform\\radon_transform.py:63: UserWarning: Radon transform: image must be zero outside the reconstruction circle\n",
      "  warn('Radon transform: image must be zero outside the '\n",
      "D:\\Programming\\Anaconda\\envs\\image\\lib\\site-packages\\skimage\\transform\\radon_transform.py:63: UserWarning: Radon transform: image must be zero outside the reconstruction circle\n",
      "  warn('Radon transform: image must be zero outside the '\n",
      "D:\\Programming\\Anaconda\\envs\\image\\lib\\site-packages\\skimage\\transform\\radon_transform.py:63: UserWarning: Radon transform: image must be zero outside the reconstruction circle\n",
      "  warn('Radon transform: image must be zero outside the '\n",
      "D:\\Programming\\Anaconda\\envs\\image\\lib\\site-packages\\skimage\\transform\\radon_transform.py:63: UserWarning: Radon transform: image must be zero outside the reconstruction circle\n",
      "  warn('Radon transform: image must be zero outside the '\n",
      "D:\\Programming\\Anaconda\\envs\\image\\lib\\site-packages\\skimage\\transform\\radon_transform.py:63: UserWarning: Radon transform: image must be zero outside the reconstruction circle\n",
      "  warn('Radon transform: image must be zero outside the '\n",
      "D:\\Programming\\Anaconda\\envs\\image\\lib\\site-packages\\skimage\\transform\\radon_transform.py:63: UserWarning: Radon transform: image must be zero outside the reconstruction circle\n",
      "  warn('Radon transform: image must be zero outside the '\n",
      "D:\\Programming\\Anaconda\\envs\\image\\lib\\site-packages\\skimage\\transform\\radon_transform.py:63: UserWarning: Radon transform: image must be zero outside the reconstruction circle\n",
      "  warn('Radon transform: image must be zero outside the '\n",
      "D:\\Programming\\Anaconda\\envs\\image\\lib\\site-packages\\skimage\\transform\\radon_transform.py:63: UserWarning: Radon transform: image must be zero outside the reconstruction circle\n",
      "  warn('Radon transform: image must be zero outside the '\n",
      "D:\\Programming\\Anaconda\\envs\\image\\lib\\site-packages\\skimage\\transform\\radon_transform.py:63: UserWarning: Radon transform: image must be zero outside the reconstruction circle\n",
      "  warn('Radon transform: image must be zero outside the '\n",
      "D:\\Programming\\Anaconda\\envs\\image\\lib\\site-packages\\skimage\\transform\\radon_transform.py:63: UserWarning: Radon transform: image must be zero outside the reconstruction circle\n",
      "  warn('Radon transform: image must be zero outside the '\n",
      "D:\\Programming\\Anaconda\\envs\\image\\lib\\site-packages\\skimage\\transform\\radon_transform.py:63: UserWarning: Radon transform: image must be zero outside the reconstruction circle\n",
      "  warn('Radon transform: image must be zero outside the '\n",
      "D:\\Programming\\Anaconda\\envs\\image\\lib\\site-packages\\skimage\\transform\\radon_transform.py:63: UserWarning: Radon transform: image must be zero outside the reconstruction circle\n",
      "  warn('Radon transform: image must be zero outside the '\n"
     ]
    },
    {
     "name": "stdout",
     "output_type": "stream",
     "text": [
      "585\n"
     ]
    },
    {
     "name": "stderr",
     "output_type": "stream",
     "text": [
      "D:\\Programming\\Anaconda\\envs\\image\\lib\\site-packages\\skimage\\transform\\radon_transform.py:63: UserWarning: Radon transform: image must be zero outside the reconstruction circle\n",
      "  warn('Radon transform: image must be zero outside the '\n",
      "D:\\Programming\\Anaconda\\envs\\image\\lib\\site-packages\\skimage\\transform\\radon_transform.py:63: UserWarning: Radon transform: image must be zero outside the reconstruction circle\n",
      "  warn('Radon transform: image must be zero outside the '\n"
     ]
    },
    {
     "name": "stdout",
     "output_type": "stream",
     "text": [
      "587\n"
     ]
    },
    {
     "name": "stderr",
     "output_type": "stream",
     "text": [
      "D:\\Programming\\Anaconda\\envs\\image\\lib\\site-packages\\skimage\\transform\\radon_transform.py:63: UserWarning: Radon transform: image must be zero outside the reconstruction circle\n",
      "  warn('Radon transform: image must be zero outside the '\n",
      "D:\\Programming\\Anaconda\\envs\\image\\lib\\site-packages\\skimage\\transform\\radon_transform.py:63: UserWarning: Radon transform: image must be zero outside the reconstruction circle\n",
      "  warn('Radon transform: image must be zero outside the '\n",
      "D:\\Programming\\Anaconda\\envs\\image\\lib\\site-packages\\skimage\\transform\\radon_transform.py:63: UserWarning: Radon transform: image must be zero outside the reconstruction circle\n",
      "  warn('Radon transform: image must be zero outside the '\n",
      "D:\\Programming\\Anaconda\\envs\\image\\lib\\site-packages\\skimage\\transform\\radon_transform.py:63: UserWarning: Radon transform: image must be zero outside the reconstruction circle\n",
      "  warn('Radon transform: image must be zero outside the '\n",
      "D:\\Programming\\Anaconda\\envs\\image\\lib\\site-packages\\skimage\\transform\\radon_transform.py:63: UserWarning: Radon transform: image must be zero outside the reconstruction circle\n",
      "  warn('Radon transform: image must be zero outside the '\n"
     ]
    },
    {
     "name": "stdout",
     "output_type": "stream",
     "text": [
      "592\n"
     ]
    },
    {
     "name": "stderr",
     "output_type": "stream",
     "text": [
      "D:\\Programming\\Anaconda\\envs\\image\\lib\\site-packages\\skimage\\transform\\radon_transform.py:63: UserWarning: Radon transform: image must be zero outside the reconstruction circle\n",
      "  warn('Radon transform: image must be zero outside the '\n",
      "D:\\Programming\\Anaconda\\envs\\image\\lib\\site-packages\\skimage\\transform\\radon_transform.py:63: UserWarning: Radon transform: image must be zero outside the reconstruction circle\n",
      "  warn('Radon transform: image must be zero outside the '\n",
      "D:\\Programming\\Anaconda\\envs\\image\\lib\\site-packages\\skimage\\transform\\radon_transform.py:63: UserWarning: Radon transform: image must be zero outside the reconstruction circle\n",
      "  warn('Radon transform: image must be zero outside the '\n",
      "D:\\Programming\\Anaconda\\envs\\image\\lib\\site-packages\\skimage\\transform\\radon_transform.py:63: UserWarning: Radon transform: image must be zero outside the reconstruction circle\n",
      "  warn('Radon transform: image must be zero outside the '\n"
     ]
    },
    {
     "name": "stdout",
     "output_type": "stream",
     "text": [
      "596\n"
     ]
    },
    {
     "name": "stderr",
     "output_type": "stream",
     "text": [
      "D:\\Programming\\Anaconda\\envs\\image\\lib\\site-packages\\skimage\\transform\\radon_transform.py:63: UserWarning: Radon transform: image must be zero outside the reconstruction circle\n",
      "  warn('Radon transform: image must be zero outside the '\n",
      "D:\\Programming\\Anaconda\\envs\\image\\lib\\site-packages\\skimage\\transform\\radon_transform.py:63: UserWarning: Radon transform: image must be zero outside the reconstruction circle\n",
      "  warn('Radon transform: image must be zero outside the '\n",
      "D:\\Programming\\Anaconda\\envs\\image\\lib\\site-packages\\skimage\\transform\\radon_transform.py:63: UserWarning: Radon transform: image must be zero outside the reconstruction circle\n",
      "  warn('Radon transform: image must be zero outside the '\n",
      "D:\\Programming\\Anaconda\\envs\\image\\lib\\site-packages\\skimage\\transform\\radon_transform.py:63: UserWarning: Radon transform: image must be zero outside the reconstruction circle\n",
      "  warn('Radon transform: image must be zero outside the '\n",
      "D:\\Programming\\Anaconda\\envs\\image\\lib\\site-packages\\skimage\\transform\\radon_transform.py:63: UserWarning: Radon transform: image must be zero outside the reconstruction circle\n",
      "  warn('Radon transform: image must be zero outside the '\n",
      "D:\\Programming\\Anaconda\\envs\\image\\lib\\site-packages\\skimage\\transform\\radon_transform.py:63: UserWarning: Radon transform: image must be zero outside the reconstruction circle\n",
      "  warn('Radon transform: image must be zero outside the '\n",
      "D:\\Programming\\Anaconda\\envs\\image\\lib\\site-packages\\skimage\\transform\\radon_transform.py:63: UserWarning: Radon transform: image must be zero outside the reconstruction circle\n",
      "  warn('Radon transform: image must be zero outside the '\n",
      "D:\\Programming\\Anaconda\\envs\\image\\lib\\site-packages\\skimage\\transform\\radon_transform.py:63: UserWarning: Radon transform: image must be zero outside the reconstruction circle\n",
      "  warn('Radon transform: image must be zero outside the '\n",
      "D:\\Programming\\Anaconda\\envs\\image\\lib\\site-packages\\skimage\\transform\\radon_transform.py:63: UserWarning: Radon transform: image must be zero outside the reconstruction circle\n",
      "  warn('Radon transform: image must be zero outside the '\n",
      "D:\\Programming\\Anaconda\\envs\\image\\lib\\site-packages\\skimage\\transform\\radon_transform.py:63: UserWarning: Radon transform: image must be zero outside the reconstruction circle\n",
      "  warn('Radon transform: image must be zero outside the '\n"
     ]
    },
    {
     "name": "stdout",
     "output_type": "stream",
     "text": [
      "606\n"
     ]
    },
    {
     "name": "stderr",
     "output_type": "stream",
     "text": [
      "D:\\Programming\\Anaconda\\envs\\image\\lib\\site-packages\\skimage\\transform\\radon_transform.py:63: UserWarning: Radon transform: image must be zero outside the reconstruction circle\n",
      "  warn('Radon transform: image must be zero outside the '\n"
     ]
    },
    {
     "name": "stdout",
     "output_type": "stream",
     "text": [
      "607\n"
     ]
    },
    {
     "name": "stderr",
     "output_type": "stream",
     "text": [
      "D:\\Programming\\Anaconda\\envs\\image\\lib\\site-packages\\skimage\\transform\\radon_transform.py:63: UserWarning: Radon transform: image must be zero outside the reconstruction circle\n",
      "  warn('Radon transform: image must be zero outside the '\n",
      "D:\\Programming\\Anaconda\\envs\\image\\lib\\site-packages\\skimage\\transform\\radon_transform.py:63: UserWarning: Radon transform: image must be zero outside the reconstruction circle\n",
      "  warn('Radon transform: image must be zero outside the '\n",
      "D:\\Programming\\Anaconda\\envs\\image\\lib\\site-packages\\skimage\\transform\\radon_transform.py:63: UserWarning: Radon transform: image must be zero outside the reconstruction circle\n",
      "  warn('Radon transform: image must be zero outside the '\n",
      "D:\\Programming\\Anaconda\\envs\\image\\lib\\site-packages\\skimage\\transform\\radon_transform.py:63: UserWarning: Radon transform: image must be zero outside the reconstruction circle\n",
      "  warn('Radon transform: image must be zero outside the '\n",
      "D:\\Programming\\Anaconda\\envs\\image\\lib\\site-packages\\skimage\\transform\\radon_transform.py:63: UserWarning: Radon transform: image must be zero outside the reconstruction circle\n",
      "  warn('Radon transform: image must be zero outside the '\n"
     ]
    },
    {
     "name": "stdout",
     "output_type": "stream",
     "text": [
      "612\n"
     ]
    },
    {
     "name": "stderr",
     "output_type": "stream",
     "text": [
      "D:\\Programming\\Anaconda\\envs\\image\\lib\\site-packages\\skimage\\transform\\radon_transform.py:63: UserWarning: Radon transform: image must be zero outside the reconstruction circle\n",
      "  warn('Radon transform: image must be zero outside the '\n",
      "D:\\Programming\\Anaconda\\envs\\image\\lib\\site-packages\\skimage\\transform\\radon_transform.py:63: UserWarning: Radon transform: image must be zero outside the reconstruction circle\n",
      "  warn('Radon transform: image must be zero outside the '\n",
      "D:\\Programming\\Anaconda\\envs\\image\\lib\\site-packages\\skimage\\transform\\radon_transform.py:63: UserWarning: Radon transform: image must be zero outside the reconstruction circle\n",
      "  warn('Radon transform: image must be zero outside the '\n",
      "D:\\Programming\\Anaconda\\envs\\image\\lib\\site-packages\\skimage\\transform\\radon_transform.py:63: UserWarning: Radon transform: image must be zero outside the reconstruction circle\n",
      "  warn('Radon transform: image must be zero outside the '\n",
      "D:\\Programming\\Anaconda\\envs\\image\\lib\\site-packages\\skimage\\transform\\radon_transform.py:63: UserWarning: Radon transform: image must be zero outside the reconstruction circle\n",
      "  warn('Radon transform: image must be zero outside the '\n",
      "D:\\Programming\\Anaconda\\envs\\image\\lib\\site-packages\\skimage\\transform\\radon_transform.py:63: UserWarning: Radon transform: image must be zero outside the reconstruction circle\n",
      "  warn('Radon transform: image must be zero outside the '\n",
      "D:\\Programming\\Anaconda\\envs\\image\\lib\\site-packages\\skimage\\transform\\radon_transform.py:63: UserWarning: Radon transform: image must be zero outside the reconstruction circle\n",
      "  warn('Radon transform: image must be zero outside the '\n"
     ]
    },
    {
     "name": "stdout",
     "output_type": "stream",
     "text": [
      "619\n"
     ]
    },
    {
     "name": "stderr",
     "output_type": "stream",
     "text": [
      "D:\\Programming\\Anaconda\\envs\\image\\lib\\site-packages\\skimage\\transform\\radon_transform.py:63: UserWarning: Radon transform: image must be zero outside the reconstruction circle\n",
      "  warn('Radon transform: image must be zero outside the '\n"
     ]
    },
    {
     "name": "stdout",
     "output_type": "stream",
     "text": [
      "620\n"
     ]
    },
    {
     "name": "stderr",
     "output_type": "stream",
     "text": [
      "D:\\Programming\\Anaconda\\envs\\image\\lib\\site-packages\\skimage\\transform\\radon_transform.py:63: UserWarning: Radon transform: image must be zero outside the reconstruction circle\n",
      "  warn('Radon transform: image must be zero outside the '\n",
      "D:\\Programming\\Anaconda\\envs\\image\\lib\\site-packages\\skimage\\transform\\radon_transform.py:63: UserWarning: Radon transform: image must be zero outside the reconstruction circle\n",
      "  warn('Radon transform: image must be zero outside the '\n",
      "D:\\Programming\\Anaconda\\envs\\image\\lib\\site-packages\\skimage\\transform\\radon_transform.py:63: UserWarning: Radon transform: image must be zero outside the reconstruction circle\n",
      "  warn('Radon transform: image must be zero outside the '\n",
      "D:\\Programming\\Anaconda\\envs\\image\\lib\\site-packages\\skimage\\transform\\radon_transform.py:63: UserWarning: Radon transform: image must be zero outside the reconstruction circle\n",
      "  warn('Radon transform: image must be zero outside the '\n",
      "D:\\Programming\\Anaconda\\envs\\image\\lib\\site-packages\\skimage\\transform\\radon_transform.py:63: UserWarning: Radon transform: image must be zero outside the reconstruction circle\n",
      "  warn('Radon transform: image must be zero outside the '\n"
     ]
    },
    {
     "name": "stdout",
     "output_type": "stream",
     "text": [
      "625\n"
     ]
    },
    {
     "name": "stderr",
     "output_type": "stream",
     "text": [
      "D:\\Programming\\Anaconda\\envs\\image\\lib\\site-packages\\skimage\\transform\\radon_transform.py:63: UserWarning: Radon transform: image must be zero outside the reconstruction circle\n",
      "  warn('Radon transform: image must be zero outside the '\n",
      "D:\\Programming\\Anaconda\\envs\\image\\lib\\site-packages\\skimage\\transform\\radon_transform.py:63: UserWarning: Radon transform: image must be zero outside the reconstruction circle\n",
      "  warn('Radon transform: image must be zero outside the '\n"
     ]
    },
    {
     "name": "stdout",
     "output_type": "stream",
     "text": [
      "627\n"
     ]
    },
    {
     "name": "stderr",
     "output_type": "stream",
     "text": [
      "D:\\Programming\\Anaconda\\envs\\image\\lib\\site-packages\\skimage\\transform\\radon_transform.py:63: UserWarning: Radon transform: image must be zero outside the reconstruction circle\n",
      "  warn('Radon transform: image must be zero outside the '\n",
      "D:\\Programming\\Anaconda\\envs\\image\\lib\\site-packages\\skimage\\transform\\radon_transform.py:63: UserWarning: Radon transform: image must be zero outside the reconstruction circle\n",
      "  warn('Radon transform: image must be zero outside the '\n",
      "D:\\Programming\\Anaconda\\envs\\image\\lib\\site-packages\\skimage\\transform\\radon_transform.py:63: UserWarning: Radon transform: image must be zero outside the reconstruction circle\n",
      "  warn('Radon transform: image must be zero outside the '\n"
     ]
    },
    {
     "name": "stdout",
     "output_type": "stream",
     "text": [
      "630\n"
     ]
    },
    {
     "name": "stderr",
     "output_type": "stream",
     "text": [
      "D:\\Programming\\Anaconda\\envs\\image\\lib\\site-packages\\skimage\\transform\\radon_transform.py:63: UserWarning: Radon transform: image must be zero outside the reconstruction circle\n",
      "  warn('Radon transform: image must be zero outside the '\n",
      "D:\\Programming\\Anaconda\\envs\\image\\lib\\site-packages\\skimage\\transform\\radon_transform.py:63: UserWarning: Radon transform: image must be zero outside the reconstruction circle\n",
      "  warn('Radon transform: image must be zero outside the '\n",
      "D:\\Programming\\Anaconda\\envs\\image\\lib\\site-packages\\skimage\\transform\\radon_transform.py:63: UserWarning: Radon transform: image must be zero outside the reconstruction circle\n",
      "  warn('Radon transform: image must be zero outside the '\n"
     ]
    },
    {
     "name": "stdout",
     "output_type": "stream",
     "text": [
      "633\n"
     ]
    },
    {
     "name": "stderr",
     "output_type": "stream",
     "text": [
      "D:\\Programming\\Anaconda\\envs\\image\\lib\\site-packages\\skimage\\transform\\radon_transform.py:63: UserWarning: Radon transform: image must be zero outside the reconstruction circle\n",
      "  warn('Radon transform: image must be zero outside the '\n",
      "D:\\Programming\\Anaconda\\envs\\image\\lib\\site-packages\\skimage\\transform\\radon_transform.py:63: UserWarning: Radon transform: image must be zero outside the reconstruction circle\n",
      "  warn('Radon transform: image must be zero outside the '\n",
      "D:\\Programming\\Anaconda\\envs\\image\\lib\\site-packages\\skimage\\transform\\radon_transform.py:63: UserWarning: Radon transform: image must be zero outside the reconstruction circle\n",
      "  warn('Radon transform: image must be zero outside the '\n"
     ]
    },
    {
     "name": "stdout",
     "output_type": "stream",
     "text": [
      "636\n"
     ]
    },
    {
     "name": "stderr",
     "output_type": "stream",
     "text": [
      "D:\\Programming\\Anaconda\\envs\\image\\lib\\site-packages\\skimage\\transform\\radon_transform.py:63: UserWarning: Radon transform: image must be zero outside the reconstruction circle\n",
      "  warn('Radon transform: image must be zero outside the '\n"
     ]
    },
    {
     "name": "stdout",
     "output_type": "stream",
     "text": [
      "637\n"
     ]
    },
    {
     "name": "stderr",
     "output_type": "stream",
     "text": [
      "D:\\Programming\\Anaconda\\envs\\image\\lib\\site-packages\\skimage\\transform\\radon_transform.py:63: UserWarning: Radon transform: image must be zero outside the reconstruction circle\n",
      "  warn('Radon transform: image must be zero outside the '\n"
     ]
    },
    {
     "name": "stdout",
     "output_type": "stream",
     "text": [
      "638\n"
     ]
    },
    {
     "name": "stderr",
     "output_type": "stream",
     "text": [
      "D:\\Programming\\Anaconda\\envs\\image\\lib\\site-packages\\skimage\\transform\\radon_transform.py:63: UserWarning: Radon transform: image must be zero outside the reconstruction circle\n",
      "  warn('Radon transform: image must be zero outside the '\n",
      "D:\\Programming\\Anaconda\\envs\\image\\lib\\site-packages\\skimage\\transform\\radon_transform.py:63: UserWarning: Radon transform: image must be zero outside the reconstruction circle\n",
      "  warn('Radon transform: image must be zero outside the '\n",
      "D:\\Programming\\Anaconda\\envs\\image\\lib\\site-packages\\skimage\\transform\\radon_transform.py:63: UserWarning: Radon transform: image must be zero outside the reconstruction circle\n",
      "  warn('Radon transform: image must be zero outside the '\n",
      "D:\\Programming\\Anaconda\\envs\\image\\lib\\site-packages\\skimage\\transform\\radon_transform.py:63: UserWarning: Radon transform: image must be zero outside the reconstruction circle\n",
      "  warn('Radon transform: image must be zero outside the '\n",
      "D:\\Programming\\Anaconda\\envs\\image\\lib\\site-packages\\skimage\\transform\\radon_transform.py:63: UserWarning: Radon transform: image must be zero outside the reconstruction circle\n",
      "  warn('Radon transform: image must be zero outside the '\n",
      "D:\\Programming\\Anaconda\\envs\\image\\lib\\site-packages\\skimage\\transform\\radon_transform.py:63: UserWarning: Radon transform: image must be zero outside the reconstruction circle\n",
      "  warn('Radon transform: image must be zero outside the '\n",
      "D:\\Programming\\Anaconda\\envs\\image\\lib\\site-packages\\skimage\\transform\\radon_transform.py:63: UserWarning: Radon transform: image must be zero outside the reconstruction circle\n",
      "  warn('Radon transform: image must be zero outside the '\n",
      "D:\\Programming\\Anaconda\\envs\\image\\lib\\site-packages\\skimage\\transform\\radon_transform.py:63: UserWarning: Radon transform: image must be zero outside the reconstruction circle\n",
      "  warn('Radon transform: image must be zero outside the '\n"
     ]
    },
    {
     "name": "stdout",
     "output_type": "stream",
     "text": [
      "646\n"
     ]
    },
    {
     "name": "stderr",
     "output_type": "stream",
     "text": [
      "D:\\Programming\\Anaconda\\envs\\image\\lib\\site-packages\\skimage\\transform\\radon_transform.py:63: UserWarning: Radon transform: image must be zero outside the reconstruction circle\n",
      "  warn('Radon transform: image must be zero outside the '\n",
      "D:\\Programming\\Anaconda\\envs\\image\\lib\\site-packages\\skimage\\transform\\radon_transform.py:63: UserWarning: Radon transform: image must be zero outside the reconstruction circle\n",
      "  warn('Radon transform: image must be zero outside the '\n",
      "D:\\Programming\\Anaconda\\envs\\image\\lib\\site-packages\\skimage\\transform\\radon_transform.py:63: UserWarning: Radon transform: image must be zero outside the reconstruction circle\n",
      "  warn('Radon transform: image must be zero outside the '\n",
      "D:\\Programming\\Anaconda\\envs\\image\\lib\\site-packages\\skimage\\transform\\radon_transform.py:63: UserWarning: Radon transform: image must be zero outside the reconstruction circle\n",
      "  warn('Radon transform: image must be zero outside the '\n",
      "D:\\Programming\\Anaconda\\envs\\image\\lib\\site-packages\\skimage\\transform\\radon_transform.py:63: UserWarning: Radon transform: image must be zero outside the reconstruction circle\n",
      "  warn('Radon transform: image must be zero outside the '\n",
      "D:\\Programming\\Anaconda\\envs\\image\\lib\\site-packages\\skimage\\transform\\radon_transform.py:63: UserWarning: Radon transform: image must be zero outside the reconstruction circle\n",
      "  warn('Radon transform: image must be zero outside the '\n",
      "D:\\Programming\\Anaconda\\envs\\image\\lib\\site-packages\\skimage\\transform\\radon_transform.py:63: UserWarning: Radon transform: image must be zero outside the reconstruction circle\n",
      "  warn('Radon transform: image must be zero outside the '\n",
      "D:\\Programming\\Anaconda\\envs\\image\\lib\\site-packages\\skimage\\transform\\radon_transform.py:63: UserWarning: Radon transform: image must be zero outside the reconstruction circle\n",
      "  warn('Radon transform: image must be zero outside the '\n",
      "D:\\Programming\\Anaconda\\envs\\image\\lib\\site-packages\\skimage\\transform\\radon_transform.py:63: UserWarning: Radon transform: image must be zero outside the reconstruction circle\n",
      "  warn('Radon transform: image must be zero outside the '\n",
      "D:\\Programming\\Anaconda\\envs\\image\\lib\\site-packages\\skimage\\transform\\radon_transform.py:63: UserWarning: Radon transform: image must be zero outside the reconstruction circle\n",
      "  warn('Radon transform: image must be zero outside the '\n",
      "D:\\Programming\\Anaconda\\envs\\image\\lib\\site-packages\\skimage\\transform\\radon_transform.py:63: UserWarning: Radon transform: image must be zero outside the reconstruction circle\n",
      "  warn('Radon transform: image must be zero outside the '\n"
     ]
    },
    {
     "name": "stdout",
     "output_type": "stream",
     "text": [
      "657\n"
     ]
    },
    {
     "name": "stderr",
     "output_type": "stream",
     "text": [
      "D:\\Programming\\Anaconda\\envs\\image\\lib\\site-packages\\skimage\\transform\\radon_transform.py:63: UserWarning: Radon transform: image must be zero outside the reconstruction circle\n",
      "  warn('Radon transform: image must be zero outside the '\n",
      "D:\\Programming\\Anaconda\\envs\\image\\lib\\site-packages\\skimage\\transform\\radon_transform.py:63: UserWarning: Radon transform: image must be zero outside the reconstruction circle\n",
      "  warn('Radon transform: image must be zero outside the '\n",
      "D:\\Programming\\Anaconda\\envs\\image\\lib\\site-packages\\skimage\\transform\\radon_transform.py:63: UserWarning: Radon transform: image must be zero outside the reconstruction circle\n",
      "  warn('Radon transform: image must be zero outside the '\n"
     ]
    },
    {
     "name": "stdout",
     "output_type": "stream",
     "text": [
      "660\n"
     ]
    },
    {
     "name": "stderr",
     "output_type": "stream",
     "text": [
      "D:\\Programming\\Anaconda\\envs\\image\\lib\\site-packages\\skimage\\transform\\radon_transform.py:63: UserWarning: Radon transform: image must be zero outside the reconstruction circle\n",
      "  warn('Radon transform: image must be zero outside the '\n",
      "D:\\Programming\\Anaconda\\envs\\image\\lib\\site-packages\\skimage\\transform\\radon_transform.py:63: UserWarning: Radon transform: image must be zero outside the reconstruction circle\n",
      "  warn('Radon transform: image must be zero outside the '\n",
      "D:\\Programming\\Anaconda\\envs\\image\\lib\\site-packages\\skimage\\transform\\radon_transform.py:63: UserWarning: Radon transform: image must be zero outside the reconstruction circle\n",
      "  warn('Radon transform: image must be zero outside the '\n"
     ]
    },
    {
     "name": "stdout",
     "output_type": "stream",
     "text": [
      "663\n"
     ]
    },
    {
     "name": "stderr",
     "output_type": "stream",
     "text": [
      "D:\\Programming\\Anaconda\\envs\\image\\lib\\site-packages\\skimage\\transform\\radon_transform.py:63: UserWarning: Radon transform: image must be zero outside the reconstruction circle\n",
      "  warn('Radon transform: image must be zero outside the '\n",
      "D:\\Programming\\Anaconda\\envs\\image\\lib\\site-packages\\skimage\\transform\\radon_transform.py:63: UserWarning: Radon transform: image must be zero outside the reconstruction circle\n",
      "  warn('Radon transform: image must be zero outside the '\n",
      "D:\\Programming\\Anaconda\\envs\\image\\lib\\site-packages\\skimage\\transform\\radon_transform.py:63: UserWarning: Radon transform: image must be zero outside the reconstruction circle\n",
      "  warn('Radon transform: image must be zero outside the '\n"
     ]
    },
    {
     "name": "stdout",
     "output_type": "stream",
     "text": [
      "666\n"
     ]
    },
    {
     "name": "stderr",
     "output_type": "stream",
     "text": [
      "D:\\Programming\\Anaconda\\envs\\image\\lib\\site-packages\\skimage\\transform\\radon_transform.py:63: UserWarning: Radon transform: image must be zero outside the reconstruction circle\n",
      "  warn('Radon transform: image must be zero outside the '\n",
      "D:\\Programming\\Anaconda\\envs\\image\\lib\\site-packages\\skimage\\transform\\radon_transform.py:63: UserWarning: Radon transform: image must be zero outside the reconstruction circle\n",
      "  warn('Radon transform: image must be zero outside the '\n",
      "D:\\Programming\\Anaconda\\envs\\image\\lib\\site-packages\\skimage\\transform\\radon_transform.py:63: UserWarning: Radon transform: image must be zero outside the reconstruction circle\n",
      "  warn('Radon transform: image must be zero outside the '\n",
      "D:\\Programming\\Anaconda\\envs\\image\\lib\\site-packages\\skimage\\transform\\radon_transform.py:63: UserWarning: Radon transform: image must be zero outside the reconstruction circle\n",
      "  warn('Radon transform: image must be zero outside the '\n"
     ]
    },
    {
     "name": "stdout",
     "output_type": "stream",
     "text": [
      "670\n"
     ]
    },
    {
     "name": "stderr",
     "output_type": "stream",
     "text": [
      "D:\\Programming\\Anaconda\\envs\\image\\lib\\site-packages\\skimage\\transform\\radon_transform.py:63: UserWarning: Radon transform: image must be zero outside the reconstruction circle\n",
      "  warn('Radon transform: image must be zero outside the '\n",
      "D:\\Programming\\Anaconda\\envs\\image\\lib\\site-packages\\skimage\\transform\\radon_transform.py:63: UserWarning: Radon transform: image must be zero outside the reconstruction circle\n",
      "  warn('Radon transform: image must be zero outside the '\n",
      "D:\\Programming\\Anaconda\\envs\\image\\lib\\site-packages\\skimage\\transform\\radon_transform.py:63: UserWarning: Radon transform: image must be zero outside the reconstruction circle\n",
      "  warn('Radon transform: image must be zero outside the '\n",
      "D:\\Programming\\Anaconda\\envs\\image\\lib\\site-packages\\skimage\\transform\\radon_transform.py:63: UserWarning: Radon transform: image must be zero outside the reconstruction circle\n",
      "  warn('Radon transform: image must be zero outside the '\n",
      "D:\\Programming\\Anaconda\\envs\\image\\lib\\site-packages\\skimage\\transform\\radon_transform.py:63: UserWarning: Radon transform: image must be zero outside the reconstruction circle\n",
      "  warn('Radon transform: image must be zero outside the '\n",
      "D:\\Programming\\Anaconda\\envs\\image\\lib\\site-packages\\skimage\\transform\\radon_transform.py:63: UserWarning: Radon transform: image must be zero outside the reconstruction circle\n",
      "  warn('Radon transform: image must be zero outside the '\n",
      "D:\\Programming\\Anaconda\\envs\\image\\lib\\site-packages\\skimage\\transform\\radon_transform.py:63: UserWarning: Radon transform: image must be zero outside the reconstruction circle\n",
      "  warn('Radon transform: image must be zero outside the '\n",
      "D:\\Programming\\Anaconda\\envs\\image\\lib\\site-packages\\skimage\\transform\\radon_transform.py:63: UserWarning: Radon transform: image must be zero outside the reconstruction circle\n",
      "  warn('Radon transform: image must be zero outside the '\n",
      "D:\\Programming\\Anaconda\\envs\\image\\lib\\site-packages\\skimage\\transform\\radon_transform.py:63: UserWarning: Radon transform: image must be zero outside the reconstruction circle\n",
      "  warn('Radon transform: image must be zero outside the '\n",
      "D:\\Programming\\Anaconda\\envs\\image\\lib\\site-packages\\skimage\\transform\\radon_transform.py:63: UserWarning: Radon transform: image must be zero outside the reconstruction circle\n",
      "  warn('Radon transform: image must be zero outside the '\n",
      "D:\\Programming\\Anaconda\\envs\\image\\lib\\site-packages\\skimage\\transform\\radon_transform.py:63: UserWarning: Radon transform: image must be zero outside the reconstruction circle\n",
      "  warn('Radon transform: image must be zero outside the '\n",
      "D:\\Programming\\Anaconda\\envs\\image\\lib\\site-packages\\skimage\\transform\\radon_transform.py:63: UserWarning: Radon transform: image must be zero outside the reconstruction circle\n",
      "  warn('Radon transform: image must be zero outside the '\n"
     ]
    },
    {
     "name": "stdout",
     "output_type": "stream",
     "text": [
      "682\n"
     ]
    },
    {
     "name": "stderr",
     "output_type": "stream",
     "text": [
      "D:\\Programming\\Anaconda\\envs\\image\\lib\\site-packages\\skimage\\transform\\radon_transform.py:63: UserWarning: Radon transform: image must be zero outside the reconstruction circle\n",
      "  warn('Radon transform: image must be zero outside the '\n",
      "D:\\Programming\\Anaconda\\envs\\image\\lib\\site-packages\\skimage\\transform\\radon_transform.py:63: UserWarning: Radon transform: image must be zero outside the reconstruction circle\n",
      "  warn('Radon transform: image must be zero outside the '\n",
      "D:\\Programming\\Anaconda\\envs\\image\\lib\\site-packages\\skimage\\transform\\radon_transform.py:63: UserWarning: Radon transform: image must be zero outside the reconstruction circle\n",
      "  warn('Radon transform: image must be zero outside the '\n"
     ]
    },
    {
     "name": "stdout",
     "output_type": "stream",
     "text": [
      "685\n"
     ]
    },
    {
     "name": "stderr",
     "output_type": "stream",
     "text": [
      "D:\\Programming\\Anaconda\\envs\\image\\lib\\site-packages\\skimage\\transform\\radon_transform.py:63: UserWarning: Radon transform: image must be zero outside the reconstruction circle\n",
      "  warn('Radon transform: image must be zero outside the '\n",
      "D:\\Programming\\Anaconda\\envs\\image\\lib\\site-packages\\skimage\\transform\\radon_transform.py:63: UserWarning: Radon transform: image must be zero outside the reconstruction circle\n",
      "  warn('Radon transform: image must be zero outside the '\n",
      "D:\\Programming\\Anaconda\\envs\\image\\lib\\site-packages\\skimage\\transform\\radon_transform.py:63: UserWarning: Radon transform: image must be zero outside the reconstruction circle\n",
      "  warn('Radon transform: image must be zero outside the '\n",
      "D:\\Programming\\Anaconda\\envs\\image\\lib\\site-packages\\skimage\\transform\\radon_transform.py:63: UserWarning: Radon transform: image must be zero outside the reconstruction circle\n",
      "  warn('Radon transform: image must be zero outside the '\n",
      "D:\\Programming\\Anaconda\\envs\\image\\lib\\site-packages\\skimage\\transform\\radon_transform.py:63: UserWarning: Radon transform: image must be zero outside the reconstruction circle\n",
      "  warn('Radon transform: image must be zero outside the '\n",
      "D:\\Programming\\Anaconda\\envs\\image\\lib\\site-packages\\skimage\\transform\\radon_transform.py:63: UserWarning: Radon transform: image must be zero outside the reconstruction circle\n",
      "  warn('Radon transform: image must be zero outside the '\n",
      "D:\\Programming\\Anaconda\\envs\\image\\lib\\site-packages\\skimage\\transform\\radon_transform.py:63: UserWarning: Radon transform: image must be zero outside the reconstruction circle\n",
      "  warn('Radon transform: image must be zero outside the '\n",
      "D:\\Programming\\Anaconda\\envs\\image\\lib\\site-packages\\skimage\\transform\\radon_transform.py:63: UserWarning: Radon transform: image must be zero outside the reconstruction circle\n",
      "  warn('Radon transform: image must be zero outside the '\n",
      "D:\\Programming\\Anaconda\\envs\\image\\lib\\site-packages\\skimage\\transform\\radon_transform.py:63: UserWarning: Radon transform: image must be zero outside the reconstruction circle\n",
      "  warn('Radon transform: image must be zero outside the '\n",
      "D:\\Programming\\Anaconda\\envs\\image\\lib\\site-packages\\skimage\\transform\\radon_transform.py:63: UserWarning: Radon transform: image must be zero outside the reconstruction circle\n",
      "  warn('Radon transform: image must be zero outside the '\n",
      "D:\\Programming\\Anaconda\\envs\\image\\lib\\site-packages\\skimage\\transform\\radon_transform.py:63: UserWarning: Radon transform: image must be zero outside the reconstruction circle\n",
      "  warn('Radon transform: image must be zero outside the '\n",
      "D:\\Programming\\Anaconda\\envs\\image\\lib\\site-packages\\skimage\\transform\\radon_transform.py:63: UserWarning: Radon transform: image must be zero outside the reconstruction circle\n",
      "  warn('Radon transform: image must be zero outside the '\n",
      "D:\\Programming\\Anaconda\\envs\\image\\lib\\site-packages\\skimage\\transform\\radon_transform.py:63: UserWarning: Radon transform: image must be zero outside the reconstruction circle\n",
      "  warn('Radon transform: image must be zero outside the '\n",
      "D:\\Programming\\Anaconda\\envs\\image\\lib\\site-packages\\skimage\\transform\\radon_transform.py:63: UserWarning: Radon transform: image must be zero outside the reconstruction circle\n",
      "  warn('Radon transform: image must be zero outside the '\n",
      "D:\\Programming\\Anaconda\\envs\\image\\lib\\site-packages\\skimage\\transform\\radon_transform.py:63: UserWarning: Radon transform: image must be zero outside the reconstruction circle\n",
      "  warn('Radon transform: image must be zero outside the '\n",
      "D:\\Programming\\Anaconda\\envs\\image\\lib\\site-packages\\skimage\\transform\\radon_transform.py:63: UserWarning: Radon transform: image must be zero outside the reconstruction circle\n",
      "  warn('Radon transform: image must be zero outside the '\n",
      "D:\\Programming\\Anaconda\\envs\\image\\lib\\site-packages\\skimage\\transform\\radon_transform.py:63: UserWarning: Radon transform: image must be zero outside the reconstruction circle\n",
      "  warn('Radon transform: image must be zero outside the '\n",
      "D:\\Programming\\Anaconda\\envs\\image\\lib\\site-packages\\skimage\\transform\\radon_transform.py:63: UserWarning: Radon transform: image must be zero outside the reconstruction circle\n",
      "  warn('Radon transform: image must be zero outside the '\n",
      "D:\\Programming\\Anaconda\\envs\\image\\lib\\site-packages\\skimage\\transform\\radon_transform.py:63: UserWarning: Radon transform: image must be zero outside the reconstruction circle\n",
      "  warn('Radon transform: image must be zero outside the '\n",
      "D:\\Programming\\Anaconda\\envs\\image\\lib\\site-packages\\skimage\\transform\\radon_transform.py:63: UserWarning: Radon transform: image must be zero outside the reconstruction circle\n",
      "  warn('Radon transform: image must be zero outside the '\n",
      "D:\\Programming\\Anaconda\\envs\\image\\lib\\site-packages\\skimage\\transform\\radon_transform.py:63: UserWarning: Radon transform: image must be zero outside the reconstruction circle\n",
      "  warn('Radon transform: image must be zero outside the '\n"
     ]
    },
    {
     "name": "stdout",
     "output_type": "stream",
     "text": [
      "706\n"
     ]
    },
    {
     "name": "stderr",
     "output_type": "stream",
     "text": [
      "D:\\Programming\\Anaconda\\envs\\image\\lib\\site-packages\\skimage\\transform\\radon_transform.py:63: UserWarning: Radon transform: image must be zero outside the reconstruction circle\n",
      "  warn('Radon transform: image must be zero outside the '\n",
      "D:\\Programming\\Anaconda\\envs\\image\\lib\\site-packages\\skimage\\transform\\radon_transform.py:63: UserWarning: Radon transform: image must be zero outside the reconstruction circle\n",
      "  warn('Radon transform: image must be zero outside the '\n",
      "D:\\Programming\\Anaconda\\envs\\image\\lib\\site-packages\\skimage\\transform\\radon_transform.py:63: UserWarning: Radon transform: image must be zero outside the reconstruction circle\n",
      "  warn('Radon transform: image must be zero outside the '\n",
      "D:\\Programming\\Anaconda\\envs\\image\\lib\\site-packages\\skimage\\transform\\radon_transform.py:63: UserWarning: Radon transform: image must be zero outside the reconstruction circle\n",
      "  warn('Radon transform: image must be zero outside the '\n",
      "D:\\Programming\\Anaconda\\envs\\image\\lib\\site-packages\\skimage\\transform\\radon_transform.py:63: UserWarning: Radon transform: image must be zero outside the reconstruction circle\n",
      "  warn('Radon transform: image must be zero outside the '\n",
      "D:\\Programming\\Anaconda\\envs\\image\\lib\\site-packages\\skimage\\transform\\radon_transform.py:63: UserWarning: Radon transform: image must be zero outside the reconstruction circle\n",
      "  warn('Radon transform: image must be zero outside the '\n",
      "D:\\Programming\\Anaconda\\envs\\image\\lib\\site-packages\\skimage\\transform\\radon_transform.py:63: UserWarning: Radon transform: image must be zero outside the reconstruction circle\n",
      "  warn('Radon transform: image must be zero outside the '\n",
      "D:\\Programming\\Anaconda\\envs\\image\\lib\\site-packages\\skimage\\transform\\radon_transform.py:63: UserWarning: Radon transform: image must be zero outside the reconstruction circle\n",
      "  warn('Radon transform: image must be zero outside the '\n",
      "D:\\Programming\\Anaconda\\envs\\image\\lib\\site-packages\\skimage\\transform\\radon_transform.py:63: UserWarning: Radon transform: image must be zero outside the reconstruction circle\n",
      "  warn('Radon transform: image must be zero outside the '\n"
     ]
    },
    {
     "name": "stdout",
     "output_type": "stream",
     "text": [
      "715\n"
     ]
    },
    {
     "name": "stderr",
     "output_type": "stream",
     "text": [
      "D:\\Programming\\Anaconda\\envs\\image\\lib\\site-packages\\skimage\\transform\\radon_transform.py:63: UserWarning: Radon transform: image must be zero outside the reconstruction circle\n",
      "  warn('Radon transform: image must be zero outside the '\n",
      "D:\\Programming\\Anaconda\\envs\\image\\lib\\site-packages\\skimage\\transform\\radon_transform.py:63: UserWarning: Radon transform: image must be zero outside the reconstruction circle\n",
      "  warn('Radon transform: image must be zero outside the '\n",
      "D:\\Programming\\Anaconda\\envs\\image\\lib\\site-packages\\skimage\\transform\\radon_transform.py:63: UserWarning: Radon transform: image must be zero outside the reconstruction circle\n",
      "  warn('Radon transform: image must be zero outside the '\n",
      "D:\\Programming\\Anaconda\\envs\\image\\lib\\site-packages\\skimage\\transform\\radon_transform.py:63: UserWarning: Radon transform: image must be zero outside the reconstruction circle\n",
      "  warn('Radon transform: image must be zero outside the '\n",
      "D:\\Programming\\Anaconda\\envs\\image\\lib\\site-packages\\skimage\\transform\\radon_transform.py:63: UserWarning: Radon transform: image must be zero outside the reconstruction circle\n",
      "  warn('Radon transform: image must be zero outside the '\n",
      "D:\\Programming\\Anaconda\\envs\\image\\lib\\site-packages\\skimage\\transform\\radon_transform.py:63: UserWarning: Radon transform: image must be zero outside the reconstruction circle\n",
      "  warn('Radon transform: image must be zero outside the '\n",
      "D:\\Programming\\Anaconda\\envs\\image\\lib\\site-packages\\skimage\\transform\\radon_transform.py:63: UserWarning: Radon transform: image must be zero outside the reconstruction circle\n",
      "  warn('Radon transform: image must be zero outside the '\n",
      "D:\\Programming\\Anaconda\\envs\\image\\lib\\site-packages\\skimage\\transform\\radon_transform.py:63: UserWarning: Radon transform: image must be zero outside the reconstruction circle\n",
      "  warn('Radon transform: image must be zero outside the '\n",
      "D:\\Programming\\Anaconda\\envs\\image\\lib\\site-packages\\skimage\\transform\\radon_transform.py:63: UserWarning: Radon transform: image must be zero outside the reconstruction circle\n",
      "  warn('Radon transform: image must be zero outside the '\n",
      "D:\\Programming\\Anaconda\\envs\\image\\lib\\site-packages\\skimage\\transform\\radon_transform.py:63: UserWarning: Radon transform: image must be zero outside the reconstruction circle\n",
      "  warn('Radon transform: image must be zero outside the '\n",
      "D:\\Programming\\Anaconda\\envs\\image\\lib\\site-packages\\skimage\\transform\\radon_transform.py:63: UserWarning: Radon transform: image must be zero outside the reconstruction circle\n",
      "  warn('Radon transform: image must be zero outside the '\n"
     ]
    },
    {
     "name": "stdout",
     "output_type": "stream",
     "text": [
      "726\n"
     ]
    },
    {
     "name": "stderr",
     "output_type": "stream",
     "text": [
      "D:\\Programming\\Anaconda\\envs\\image\\lib\\site-packages\\skimage\\transform\\radon_transform.py:63: UserWarning: Radon transform: image must be zero outside the reconstruction circle\n",
      "  warn('Radon transform: image must be zero outside the '\n",
      "D:\\Programming\\Anaconda\\envs\\image\\lib\\site-packages\\skimage\\transform\\radon_transform.py:63: UserWarning: Radon transform: image must be zero outside the reconstruction circle\n",
      "  warn('Radon transform: image must be zero outside the '\n",
      "D:\\Programming\\Anaconda\\envs\\image\\lib\\site-packages\\skimage\\transform\\radon_transform.py:63: UserWarning: Radon transform: image must be zero outside the reconstruction circle\n",
      "  warn('Radon transform: image must be zero outside the '\n",
      "D:\\Programming\\Anaconda\\envs\\image\\lib\\site-packages\\skimage\\transform\\radon_transform.py:63: UserWarning: Radon transform: image must be zero outside the reconstruction circle\n",
      "  warn('Radon transform: image must be zero outside the '\n",
      "D:\\Programming\\Anaconda\\envs\\image\\lib\\site-packages\\skimage\\transform\\radon_transform.py:63: UserWarning: Radon transform: image must be zero outside the reconstruction circle\n",
      "  warn('Radon transform: image must be zero outside the '\n"
     ]
    },
    {
     "name": "stdout",
     "output_type": "stream",
     "text": [
      "731\n"
     ]
    },
    {
     "name": "stderr",
     "output_type": "stream",
     "text": [
      "D:\\Programming\\Anaconda\\envs\\image\\lib\\site-packages\\skimage\\transform\\radon_transform.py:63: UserWarning: Radon transform: image must be zero outside the reconstruction circle\n",
      "  warn('Radon transform: image must be zero outside the '\n",
      "D:\\Programming\\Anaconda\\envs\\image\\lib\\site-packages\\skimage\\transform\\radon_transform.py:63: UserWarning: Radon transform: image must be zero outside the reconstruction circle\n",
      "  warn('Radon transform: image must be zero outside the '\n",
      "D:\\Programming\\Anaconda\\envs\\image\\lib\\site-packages\\skimage\\transform\\radon_transform.py:63: UserWarning: Radon transform: image must be zero outside the reconstruction circle\n",
      "  warn('Radon transform: image must be zero outside the '\n",
      "D:\\Programming\\Anaconda\\envs\\image\\lib\\site-packages\\skimage\\transform\\radon_transform.py:63: UserWarning: Radon transform: image must be zero outside the reconstruction circle\n",
      "  warn('Radon transform: image must be zero outside the '\n",
      "D:\\Programming\\Anaconda\\envs\\image\\lib\\site-packages\\skimage\\transform\\radon_transform.py:63: UserWarning: Radon transform: image must be zero outside the reconstruction circle\n",
      "  warn('Radon transform: image must be zero outside the '\n",
      "D:\\Programming\\Anaconda\\envs\\image\\lib\\site-packages\\skimage\\transform\\radon_transform.py:63: UserWarning: Radon transform: image must be zero outside the reconstruction circle\n",
      "  warn('Radon transform: image must be zero outside the '\n",
      "D:\\Programming\\Anaconda\\envs\\image\\lib\\site-packages\\skimage\\transform\\radon_transform.py:63: UserWarning: Radon transform: image must be zero outside the reconstruction circle\n",
      "  warn('Radon transform: image must be zero outside the '\n",
      "D:\\Programming\\Anaconda\\envs\\image\\lib\\site-packages\\skimage\\transform\\radon_transform.py:63: UserWarning: Radon transform: image must be zero outside the reconstruction circle\n",
      "  warn('Radon transform: image must be zero outside the '\n",
      "D:\\Programming\\Anaconda\\envs\\image\\lib\\site-packages\\skimage\\transform\\radon_transform.py:63: UserWarning: Radon transform: image must be zero outside the reconstruction circle\n",
      "  warn('Radon transform: image must be zero outside the '\n",
      "D:\\Programming\\Anaconda\\envs\\image\\lib\\site-packages\\skimage\\transform\\radon_transform.py:63: UserWarning: Radon transform: image must be zero outside the reconstruction circle\n",
      "  warn('Radon transform: image must be zero outside the '\n",
      "D:\\Programming\\Anaconda\\envs\\image\\lib\\site-packages\\skimage\\transform\\radon_transform.py:63: UserWarning: Radon transform: image must be zero outside the reconstruction circle\n",
      "  warn('Radon transform: image must be zero outside the '\n",
      "D:\\Programming\\Anaconda\\envs\\image\\lib\\site-packages\\skimage\\transform\\radon_transform.py:63: UserWarning: Radon transform: image must be zero outside the reconstruction circle\n",
      "  warn('Radon transform: image must be zero outside the '\n",
      "D:\\Programming\\Anaconda\\envs\\image\\lib\\site-packages\\skimage\\transform\\radon_transform.py:63: UserWarning: Radon transform: image must be zero outside the reconstruction circle\n",
      "  warn('Radon transform: image must be zero outside the '\n"
     ]
    },
    {
     "name": "stdout",
     "output_type": "stream",
     "text": [
      "744\n"
     ]
    },
    {
     "name": "stderr",
     "output_type": "stream",
     "text": [
      "D:\\Programming\\Anaconda\\envs\\image\\lib\\site-packages\\skimage\\transform\\radon_transform.py:63: UserWarning: Radon transform: image must be zero outside the reconstruction circle\n",
      "  warn('Radon transform: image must be zero outside the '\n",
      "D:\\Programming\\Anaconda\\envs\\image\\lib\\site-packages\\skimage\\transform\\radon_transform.py:63: UserWarning: Radon transform: image must be zero outside the reconstruction circle\n",
      "  warn('Radon transform: image must be zero outside the '\n",
      "D:\\Programming\\Anaconda\\envs\\image\\lib\\site-packages\\skimage\\transform\\radon_transform.py:63: UserWarning: Radon transform: image must be zero outside the reconstruction circle\n",
      "  warn('Radon transform: image must be zero outside the '\n",
      "D:\\Programming\\Anaconda\\envs\\image\\lib\\site-packages\\skimage\\transform\\radon_transform.py:63: UserWarning: Radon transform: image must be zero outside the reconstruction circle\n",
      "  warn('Radon transform: image must be zero outside the '\n"
     ]
    },
    {
     "name": "stdout",
     "output_type": "stream",
     "text": [
      "748\n"
     ]
    },
    {
     "name": "stderr",
     "output_type": "stream",
     "text": [
      "D:\\Programming\\Anaconda\\envs\\image\\lib\\site-packages\\skimage\\transform\\radon_transform.py:63: UserWarning: Radon transform: image must be zero outside the reconstruction circle\n",
      "  warn('Radon transform: image must be zero outside the '\n",
      "D:\\Programming\\Anaconda\\envs\\image\\lib\\site-packages\\skimage\\transform\\radon_transform.py:63: UserWarning: Radon transform: image must be zero outside the reconstruction circle\n",
      "  warn('Radon transform: image must be zero outside the '\n",
      "D:\\Programming\\Anaconda\\envs\\image\\lib\\site-packages\\skimage\\transform\\radon_transform.py:63: UserWarning: Radon transform: image must be zero outside the reconstruction circle\n",
      "  warn('Radon transform: image must be zero outside the '\n",
      "D:\\Programming\\Anaconda\\envs\\image\\lib\\site-packages\\skimage\\transform\\radon_transform.py:63: UserWarning: Radon transform: image must be zero outside the reconstruction circle\n",
      "  warn('Radon transform: image must be zero outside the '\n"
     ]
    },
    {
     "name": "stdout",
     "output_type": "stream",
     "text": [
      "752\n"
     ]
    },
    {
     "name": "stderr",
     "output_type": "stream",
     "text": [
      "D:\\Programming\\Anaconda\\envs\\image\\lib\\site-packages\\skimage\\transform\\radon_transform.py:63: UserWarning: Radon transform: image must be zero outside the reconstruction circle\n",
      "  warn('Radon transform: image must be zero outside the '\n",
      "D:\\Programming\\Anaconda\\envs\\image\\lib\\site-packages\\skimage\\transform\\radon_transform.py:63: UserWarning: Radon transform: image must be zero outside the reconstruction circle\n",
      "  warn('Radon transform: image must be zero outside the '\n",
      "D:\\Programming\\Anaconda\\envs\\image\\lib\\site-packages\\skimage\\transform\\radon_transform.py:63: UserWarning: Radon transform: image must be zero outside the reconstruction circle\n",
      "  warn('Radon transform: image must be zero outside the '\n",
      "D:\\Programming\\Anaconda\\envs\\image\\lib\\site-packages\\skimage\\transform\\radon_transform.py:63: UserWarning: Radon transform: image must be zero outside the reconstruction circle\n",
      "  warn('Radon transform: image must be zero outside the '\n",
      "D:\\Programming\\Anaconda\\envs\\image\\lib\\site-packages\\skimage\\transform\\radon_transform.py:63: UserWarning: Radon transform: image must be zero outside the reconstruction circle\n",
      "  warn('Radon transform: image must be zero outside the '\n",
      "D:\\Programming\\Anaconda\\envs\\image\\lib\\site-packages\\skimage\\transform\\radon_transform.py:63: UserWarning: Radon transform: image must be zero outside the reconstruction circle\n",
      "  warn('Radon transform: image must be zero outside the '\n",
      "D:\\Programming\\Anaconda\\envs\\image\\lib\\site-packages\\skimage\\transform\\radon_transform.py:63: UserWarning: Radon transform: image must be zero outside the reconstruction circle\n",
      "  warn('Radon transform: image must be zero outside the '\n",
      "D:\\Programming\\Anaconda\\envs\\image\\lib\\site-packages\\skimage\\transform\\radon_transform.py:63: UserWarning: Radon transform: image must be zero outside the reconstruction circle\n",
      "  warn('Radon transform: image must be zero outside the '\n",
      "D:\\Programming\\Anaconda\\envs\\image\\lib\\site-packages\\skimage\\transform\\radon_transform.py:63: UserWarning: Radon transform: image must be zero outside the reconstruction circle\n",
      "  warn('Radon transform: image must be zero outside the '\n",
      "D:\\Programming\\Anaconda\\envs\\image\\lib\\site-packages\\skimage\\transform\\radon_transform.py:63: UserWarning: Radon transform: image must be zero outside the reconstruction circle\n",
      "  warn('Radon transform: image must be zero outside the '\n",
      "D:\\Programming\\Anaconda\\envs\\image\\lib\\site-packages\\skimage\\transform\\radon_transform.py:63: UserWarning: Radon transform: image must be zero outside the reconstruction circle\n",
      "  warn('Radon transform: image must be zero outside the '\n",
      "D:\\Programming\\Anaconda\\envs\\image\\lib\\site-packages\\skimage\\transform\\radon_transform.py:63: UserWarning: Radon transform: image must be zero outside the reconstruction circle\n",
      "  warn('Radon transform: image must be zero outside the '\n",
      "D:\\Programming\\Anaconda\\envs\\image\\lib\\site-packages\\skimage\\transform\\radon_transform.py:63: UserWarning: Radon transform: image must be zero outside the reconstruction circle\n",
      "  warn('Radon transform: image must be zero outside the '\n",
      "D:\\Programming\\Anaconda\\envs\\image\\lib\\site-packages\\skimage\\transform\\radon_transform.py:63: UserWarning: Radon transform: image must be zero outside the reconstruction circle\n",
      "  warn('Radon transform: image must be zero outside the '\n",
      "D:\\Programming\\Anaconda\\envs\\image\\lib\\site-packages\\skimage\\transform\\radon_transform.py:63: UserWarning: Radon transform: image must be zero outside the reconstruction circle\n",
      "  warn('Radon transform: image must be zero outside the '\n",
      "D:\\Programming\\Anaconda\\envs\\image\\lib\\site-packages\\skimage\\transform\\radon_transform.py:63: UserWarning: Radon transform: image must be zero outside the reconstruction circle\n",
      "  warn('Radon transform: image must be zero outside the '\n",
      "D:\\Programming\\Anaconda\\envs\\image\\lib\\site-packages\\skimage\\transform\\radon_transform.py:63: UserWarning: Radon transform: image must be zero outside the reconstruction circle\n",
      "  warn('Radon transform: image must be zero outside the '\n",
      "D:\\Programming\\Anaconda\\envs\\image\\lib\\site-packages\\skimage\\transform\\radon_transform.py:63: UserWarning: Radon transform: image must be zero outside the reconstruction circle\n",
      "  warn('Radon transform: image must be zero outside the '\n",
      "D:\\Programming\\Anaconda\\envs\\image\\lib\\site-packages\\skimage\\transform\\radon_transform.py:63: UserWarning: Radon transform: image must be zero outside the reconstruction circle\n",
      "  warn('Radon transform: image must be zero outside the '\n",
      "D:\\Programming\\Anaconda\\envs\\image\\lib\\site-packages\\skimage\\transform\\radon_transform.py:63: UserWarning: Radon transform: image must be zero outside the reconstruction circle\n",
      "  warn('Radon transform: image must be zero outside the '\n"
     ]
    },
    {
     "name": "stdout",
     "output_type": "stream",
     "text": [
      "772\n"
     ]
    },
    {
     "name": "stderr",
     "output_type": "stream",
     "text": [
      "D:\\Programming\\Anaconda\\envs\\image\\lib\\site-packages\\skimage\\transform\\radon_transform.py:63: UserWarning: Radon transform: image must be zero outside the reconstruction circle\n",
      "  warn('Radon transform: image must be zero outside the '\n",
      "D:\\Programming\\Anaconda\\envs\\image\\lib\\site-packages\\skimage\\transform\\radon_transform.py:63: UserWarning: Radon transform: image must be zero outside the reconstruction circle\n",
      "  warn('Radon transform: image must be zero outside the '\n",
      "D:\\Programming\\Anaconda\\envs\\image\\lib\\site-packages\\skimage\\transform\\radon_transform.py:63: UserWarning: Radon transform: image must be zero outside the reconstruction circle\n",
      "  warn('Radon transform: image must be zero outside the '\n",
      "D:\\Programming\\Anaconda\\envs\\image\\lib\\site-packages\\skimage\\transform\\radon_transform.py:63: UserWarning: Radon transform: image must be zero outside the reconstruction circle\n",
      "  warn('Radon transform: image must be zero outside the '\n",
      "D:\\Programming\\Anaconda\\envs\\image\\lib\\site-packages\\skimage\\transform\\radon_transform.py:63: UserWarning: Radon transform: image must be zero outside the reconstruction circle\n",
      "  warn('Radon transform: image must be zero outside the '\n",
      "D:\\Programming\\Anaconda\\envs\\image\\lib\\site-packages\\skimage\\transform\\radon_transform.py:63: UserWarning: Radon transform: image must be zero outside the reconstruction circle\n",
      "  warn('Radon transform: image must be zero outside the '\n",
      "D:\\Programming\\Anaconda\\envs\\image\\lib\\site-packages\\skimage\\transform\\radon_transform.py:63: UserWarning: Radon transform: image must be zero outside the reconstruction circle\n",
      "  warn('Radon transform: image must be zero outside the '\n"
     ]
    },
    {
     "name": "stdout",
     "output_type": "stream",
     "text": [
      "779\n"
     ]
    },
    {
     "name": "stderr",
     "output_type": "stream",
     "text": [
      "D:\\Programming\\Anaconda\\envs\\image\\lib\\site-packages\\skimage\\transform\\radon_transform.py:63: UserWarning: Radon transform: image must be zero outside the reconstruction circle\n",
      "  warn('Radon transform: image must be zero outside the '\n",
      "D:\\Programming\\Anaconda\\envs\\image\\lib\\site-packages\\skimage\\transform\\radon_transform.py:63: UserWarning: Radon transform: image must be zero outside the reconstruction circle\n",
      "  warn('Radon transform: image must be zero outside the '\n",
      "D:\\Programming\\Anaconda\\envs\\image\\lib\\site-packages\\skimage\\transform\\radon_transform.py:63: UserWarning: Radon transform: image must be zero outside the reconstruction circle\n",
      "  warn('Radon transform: image must be zero outside the '\n",
      "D:\\Programming\\Anaconda\\envs\\image\\lib\\site-packages\\skimage\\transform\\radon_transform.py:63: UserWarning: Radon transform: image must be zero outside the reconstruction circle\n",
      "  warn('Radon transform: image must be zero outside the '\n",
      "D:\\Programming\\Anaconda\\envs\\image\\lib\\site-packages\\skimage\\transform\\radon_transform.py:63: UserWarning: Radon transform: image must be zero outside the reconstruction circle\n",
      "  warn('Radon transform: image must be zero outside the '\n"
     ]
    },
    {
     "name": "stdout",
     "output_type": "stream",
     "text": [
      "784\n"
     ]
    },
    {
     "name": "stderr",
     "output_type": "stream",
     "text": [
      "D:\\Programming\\Anaconda\\envs\\image\\lib\\site-packages\\skimage\\transform\\radon_transform.py:63: UserWarning: Radon transform: image must be zero outside the reconstruction circle\n",
      "  warn('Radon transform: image must be zero outside the '\n",
      "D:\\Programming\\Anaconda\\envs\\image\\lib\\site-packages\\skimage\\transform\\radon_transform.py:63: UserWarning: Radon transform: image must be zero outside the reconstruction circle\n",
      "  warn('Radon transform: image must be zero outside the '\n",
      "D:\\Programming\\Anaconda\\envs\\image\\lib\\site-packages\\skimage\\transform\\radon_transform.py:63: UserWarning: Radon transform: image must be zero outside the reconstruction circle\n",
      "  warn('Radon transform: image must be zero outside the '\n",
      "D:\\Programming\\Anaconda\\envs\\image\\lib\\site-packages\\skimage\\transform\\radon_transform.py:63: UserWarning: Radon transform: image must be zero outside the reconstruction circle\n",
      "  warn('Radon transform: image must be zero outside the '\n",
      "D:\\Programming\\Anaconda\\envs\\image\\lib\\site-packages\\skimage\\transform\\radon_transform.py:63: UserWarning: Radon transform: image must be zero outside the reconstruction circle\n",
      "  warn('Radon transform: image must be zero outside the '\n",
      "D:\\Programming\\Anaconda\\envs\\image\\lib\\site-packages\\skimage\\transform\\radon_transform.py:63: UserWarning: Radon transform: image must be zero outside the reconstruction circle\n",
      "  warn('Radon transform: image must be zero outside the '\n",
      "D:\\Programming\\Anaconda\\envs\\image\\lib\\site-packages\\skimage\\transform\\radon_transform.py:63: UserWarning: Radon transform: image must be zero outside the reconstruction circle\n",
      "  warn('Radon transform: image must be zero outside the '\n",
      "D:\\Programming\\Anaconda\\envs\\image\\lib\\site-packages\\skimage\\transform\\radon_transform.py:63: UserWarning: Radon transform: image must be zero outside the reconstruction circle\n",
      "  warn('Radon transform: image must be zero outside the '\n",
      "D:\\Programming\\Anaconda\\envs\\image\\lib\\site-packages\\skimage\\transform\\radon_transform.py:63: UserWarning: Radon transform: image must be zero outside the reconstruction circle\n",
      "  warn('Radon transform: image must be zero outside the '\n",
      "D:\\Programming\\Anaconda\\envs\\image\\lib\\site-packages\\skimage\\transform\\radon_transform.py:63: UserWarning: Radon transform: image must be zero outside the reconstruction circle\n",
      "  warn('Radon transform: image must be zero outside the '\n",
      "D:\\Programming\\Anaconda\\envs\\image\\lib\\site-packages\\skimage\\transform\\radon_transform.py:63: UserWarning: Radon transform: image must be zero outside the reconstruction circle\n",
      "  warn('Radon transform: image must be zero outside the '\n",
      "D:\\Programming\\Anaconda\\envs\\image\\lib\\site-packages\\skimage\\transform\\radon_transform.py:63: UserWarning: Radon transform: image must be zero outside the reconstruction circle\n",
      "  warn('Radon transform: image must be zero outside the '\n",
      "D:\\Programming\\Anaconda\\envs\\image\\lib\\site-packages\\skimage\\transform\\radon_transform.py:63: UserWarning: Radon transform: image must be zero outside the reconstruction circle\n",
      "  warn('Radon transform: image must be zero outside the '\n",
      "D:\\Programming\\Anaconda\\envs\\image\\lib\\site-packages\\skimage\\transform\\radon_transform.py:63: UserWarning: Radon transform: image must be zero outside the reconstruction circle\n",
      "  warn('Radon transform: image must be zero outside the '\n",
      "D:\\Programming\\Anaconda\\envs\\image\\lib\\site-packages\\skimage\\transform\\radon_transform.py:63: UserWarning: Radon transform: image must be zero outside the reconstruction circle\n",
      "  warn('Radon transform: image must be zero outside the '\n",
      "D:\\Programming\\Anaconda\\envs\\image\\lib\\site-packages\\skimage\\transform\\radon_transform.py:63: UserWarning: Radon transform: image must be zero outside the reconstruction circle\n",
      "  warn('Radon transform: image must be zero outside the '\n",
      "D:\\Programming\\Anaconda\\envs\\image\\lib\\site-packages\\skimage\\transform\\radon_transform.py:63: UserWarning: Radon transform: image must be zero outside the reconstruction circle\n",
      "  warn('Radon transform: image must be zero outside the '\n",
      "D:\\Programming\\Anaconda\\envs\\image\\lib\\site-packages\\skimage\\transform\\radon_transform.py:63: UserWarning: Radon transform: image must be zero outside the reconstruction circle\n",
      "  warn('Radon transform: image must be zero outside the '\n"
     ]
    },
    {
     "name": "stdout",
     "output_type": "stream",
     "text": [
      "802\n"
     ]
    },
    {
     "name": "stderr",
     "output_type": "stream",
     "text": [
      "D:\\Programming\\Anaconda\\envs\\image\\lib\\site-packages\\skimage\\transform\\radon_transform.py:63: UserWarning: Radon transform: image must be zero outside the reconstruction circle\n",
      "  warn('Radon transform: image must be zero outside the '\n",
      "D:\\Programming\\Anaconda\\envs\\image\\lib\\site-packages\\skimage\\transform\\radon_transform.py:63: UserWarning: Radon transform: image must be zero outside the reconstruction circle\n",
      "  warn('Radon transform: image must be zero outside the '\n",
      "D:\\Programming\\Anaconda\\envs\\image\\lib\\site-packages\\skimage\\transform\\radon_transform.py:63: UserWarning: Radon transform: image must be zero outside the reconstruction circle\n",
      "  warn('Radon transform: image must be zero outside the '\n",
      "D:\\Programming\\Anaconda\\envs\\image\\lib\\site-packages\\skimage\\transform\\radon_transform.py:63: UserWarning: Radon transform: image must be zero outside the reconstruction circle\n",
      "  warn('Radon transform: image must be zero outside the '\n",
      "D:\\Programming\\Anaconda\\envs\\image\\lib\\site-packages\\skimage\\transform\\radon_transform.py:63: UserWarning: Radon transform: image must be zero outside the reconstruction circle\n",
      "  warn('Radon transform: image must be zero outside the '\n",
      "D:\\Programming\\Anaconda\\envs\\image\\lib\\site-packages\\skimage\\transform\\radon_transform.py:63: UserWarning: Radon transform: image must be zero outside the reconstruction circle\n",
      "  warn('Radon transform: image must be zero outside the '\n"
     ]
    },
    {
     "name": "stdout",
     "output_type": "stream",
     "text": [
      "808\n"
     ]
    },
    {
     "name": "stderr",
     "output_type": "stream",
     "text": [
      "D:\\Programming\\Anaconda\\envs\\image\\lib\\site-packages\\skimage\\transform\\radon_transform.py:63: UserWarning: Radon transform: image must be zero outside the reconstruction circle\n",
      "  warn('Radon transform: image must be zero outside the '\n",
      "D:\\Programming\\Anaconda\\envs\\image\\lib\\site-packages\\skimage\\transform\\radon_transform.py:63: UserWarning: Radon transform: image must be zero outside the reconstruction circle\n",
      "  warn('Radon transform: image must be zero outside the '\n",
      "D:\\Programming\\Anaconda\\envs\\image\\lib\\site-packages\\skimage\\transform\\radon_transform.py:63: UserWarning: Radon transform: image must be zero outside the reconstruction circle\n",
      "  warn('Radon transform: image must be zero outside the '\n",
      "D:\\Programming\\Anaconda\\envs\\image\\lib\\site-packages\\skimage\\transform\\radon_transform.py:63: UserWarning: Radon transform: image must be zero outside the reconstruction circle\n",
      "  warn('Radon transform: image must be zero outside the '\n",
      "D:\\Programming\\Anaconda\\envs\\image\\lib\\site-packages\\skimage\\transform\\radon_transform.py:63: UserWarning: Radon transform: image must be zero outside the reconstruction circle\n",
      "  warn('Radon transform: image must be zero outside the '\n",
      "D:\\Programming\\Anaconda\\envs\\image\\lib\\site-packages\\skimage\\transform\\radon_transform.py:63: UserWarning: Radon transform: image must be zero outside the reconstruction circle\n",
      "  warn('Radon transform: image must be zero outside the '\n"
     ]
    },
    {
     "name": "stdout",
     "output_type": "stream",
     "text": [
      "814\n"
     ]
    },
    {
     "name": "stderr",
     "output_type": "stream",
     "text": [
      "D:\\Programming\\Anaconda\\envs\\image\\lib\\site-packages\\skimage\\transform\\radon_transform.py:63: UserWarning: Radon transform: image must be zero outside the reconstruction circle\n",
      "  warn('Radon transform: image must be zero outside the '\n",
      "D:\\Programming\\Anaconda\\envs\\image\\lib\\site-packages\\skimage\\transform\\radon_transform.py:63: UserWarning: Radon transform: image must be zero outside the reconstruction circle\n",
      "  warn('Radon transform: image must be zero outside the '\n",
      "D:\\Programming\\Anaconda\\envs\\image\\lib\\site-packages\\skimage\\transform\\radon_transform.py:63: UserWarning: Radon transform: image must be zero outside the reconstruction circle\n",
      "  warn('Radon transform: image must be zero outside the '\n",
      "D:\\Programming\\Anaconda\\envs\\image\\lib\\site-packages\\skimage\\transform\\radon_transform.py:63: UserWarning: Radon transform: image must be zero outside the reconstruction circle\n",
      "  warn('Radon transform: image must be zero outside the '\n"
     ]
    },
    {
     "name": "stdout",
     "output_type": "stream",
     "text": [
      "818\n"
     ]
    },
    {
     "name": "stderr",
     "output_type": "stream",
     "text": [
      "D:\\Programming\\Anaconda\\envs\\image\\lib\\site-packages\\skimage\\transform\\radon_transform.py:63: UserWarning: Radon transform: image must be zero outside the reconstruction circle\n",
      "  warn('Radon transform: image must be zero outside the '\n",
      "D:\\Programming\\Anaconda\\envs\\image\\lib\\site-packages\\skimage\\transform\\radon_transform.py:63: UserWarning: Radon transform: image must be zero outside the reconstruction circle\n",
      "  warn('Radon transform: image must be zero outside the '\n",
      "D:\\Programming\\Anaconda\\envs\\image\\lib\\site-packages\\skimage\\transform\\radon_transform.py:63: UserWarning: Radon transform: image must be zero outside the reconstruction circle\n",
      "  warn('Radon transform: image must be zero outside the '\n"
     ]
    },
    {
     "name": "stdout",
     "output_type": "stream",
     "text": [
      "821\n"
     ]
    },
    {
     "name": "stderr",
     "output_type": "stream",
     "text": [
      "D:\\Programming\\Anaconda\\envs\\image\\lib\\site-packages\\skimage\\transform\\radon_transform.py:63: UserWarning: Radon transform: image must be zero outside the reconstruction circle\n",
      "  warn('Radon transform: image must be zero outside the '\n",
      "D:\\Programming\\Anaconda\\envs\\image\\lib\\site-packages\\skimage\\transform\\radon_transform.py:63: UserWarning: Radon transform: image must be zero outside the reconstruction circle\n",
      "  warn('Radon transform: image must be zero outside the '\n",
      "D:\\Programming\\Anaconda\\envs\\image\\lib\\site-packages\\skimage\\transform\\radon_transform.py:63: UserWarning: Radon transform: image must be zero outside the reconstruction circle\n",
      "  warn('Radon transform: image must be zero outside the '\n"
     ]
    },
    {
     "name": "stdout",
     "output_type": "stream",
     "text": [
      "824\n"
     ]
    },
    {
     "name": "stderr",
     "output_type": "stream",
     "text": [
      "D:\\Programming\\Anaconda\\envs\\image\\lib\\site-packages\\skimage\\transform\\radon_transform.py:63: UserWarning: Radon transform: image must be zero outside the reconstruction circle\n",
      "  warn('Radon transform: image must be zero outside the '\n",
      "D:\\Programming\\Anaconda\\envs\\image\\lib\\site-packages\\skimage\\transform\\radon_transform.py:63: UserWarning: Radon transform: image must be zero outside the reconstruction circle\n",
      "  warn('Radon transform: image must be zero outside the '\n",
      "D:\\Programming\\Anaconda\\envs\\image\\lib\\site-packages\\skimage\\transform\\radon_transform.py:63: UserWarning: Radon transform: image must be zero outside the reconstruction circle\n",
      "  warn('Radon transform: image must be zero outside the '\n",
      "D:\\Programming\\Anaconda\\envs\\image\\lib\\site-packages\\skimage\\transform\\radon_transform.py:63: UserWarning: Radon transform: image must be zero outside the reconstruction circle\n",
      "  warn('Radon transform: image must be zero outside the '\n",
      "D:\\Programming\\Anaconda\\envs\\image\\lib\\site-packages\\skimage\\transform\\radon_transform.py:63: UserWarning: Radon transform: image must be zero outside the reconstruction circle\n",
      "  warn('Radon transform: image must be zero outside the '\n",
      "D:\\Programming\\Anaconda\\envs\\image\\lib\\site-packages\\skimage\\transform\\radon_transform.py:63: UserWarning: Radon transform: image must be zero outside the reconstruction circle\n",
      "  warn('Radon transform: image must be zero outside the '\n",
      "D:\\Programming\\Anaconda\\envs\\image\\lib\\site-packages\\skimage\\transform\\radon_transform.py:63: UserWarning: Radon transform: image must be zero outside the reconstruction circle\n",
      "  warn('Radon transform: image must be zero outside the '\n"
     ]
    },
    {
     "name": "stdout",
     "output_type": "stream",
     "text": [
      "831\n"
     ]
    },
    {
     "name": "stderr",
     "output_type": "stream",
     "text": [
      "D:\\Programming\\Anaconda\\envs\\image\\lib\\site-packages\\skimage\\transform\\radon_transform.py:63: UserWarning: Radon transform: image must be zero outside the reconstruction circle\n",
      "  warn('Radon transform: image must be zero outside the '\n",
      "D:\\Programming\\Anaconda\\envs\\image\\lib\\site-packages\\skimage\\transform\\radon_transform.py:63: UserWarning: Radon transform: image must be zero outside the reconstruction circle\n",
      "  warn('Radon transform: image must be zero outside the '\n"
     ]
    },
    {
     "name": "stdout",
     "output_type": "stream",
     "text": [
      "833\n"
     ]
    },
    {
     "name": "stderr",
     "output_type": "stream",
     "text": [
      "D:\\Programming\\Anaconda\\envs\\image\\lib\\site-packages\\skimage\\transform\\radon_transform.py:63: UserWarning: Radon transform: image must be zero outside the reconstruction circle\n",
      "  warn('Radon transform: image must be zero outside the '\n",
      "D:\\Programming\\Anaconda\\envs\\image\\lib\\site-packages\\skimage\\transform\\radon_transform.py:63: UserWarning: Radon transform: image must be zero outside the reconstruction circle\n",
      "  warn('Radon transform: image must be zero outside the '\n",
      "D:\\Programming\\Anaconda\\envs\\image\\lib\\site-packages\\skimage\\transform\\radon_transform.py:63: UserWarning: Radon transform: image must be zero outside the reconstruction circle\n",
      "  warn('Radon transform: image must be zero outside the '\n",
      "D:\\Programming\\Anaconda\\envs\\image\\lib\\site-packages\\skimage\\transform\\radon_transform.py:63: UserWarning: Radon transform: image must be zero outside the reconstruction circle\n",
      "  warn('Radon transform: image must be zero outside the '\n",
      "D:\\Programming\\Anaconda\\envs\\image\\lib\\site-packages\\skimage\\transform\\radon_transform.py:63: UserWarning: Radon transform: image must be zero outside the reconstruction circle\n",
      "  warn('Radon transform: image must be zero outside the '\n"
     ]
    },
    {
     "name": "stdout",
     "output_type": "stream",
     "text": [
      "838\n"
     ]
    },
    {
     "name": "stderr",
     "output_type": "stream",
     "text": [
      "D:\\Programming\\Anaconda\\envs\\image\\lib\\site-packages\\skimage\\transform\\radon_transform.py:63: UserWarning: Radon transform: image must be zero outside the reconstruction circle\n",
      "  warn('Radon transform: image must be zero outside the '\n",
      "D:\\Programming\\Anaconda\\envs\\image\\lib\\site-packages\\skimage\\transform\\radon_transform.py:63: UserWarning: Radon transform: image must be zero outside the reconstruction circle\n",
      "  warn('Radon transform: image must be zero outside the '\n",
      "D:\\Programming\\Anaconda\\envs\\image\\lib\\site-packages\\skimage\\transform\\radon_transform.py:63: UserWarning: Radon transform: image must be zero outside the reconstruction circle\n",
      "  warn('Radon transform: image must be zero outside the '\n",
      "D:\\Programming\\Anaconda\\envs\\image\\lib\\site-packages\\skimage\\transform\\radon_transform.py:63: UserWarning: Radon transform: image must be zero outside the reconstruction circle\n",
      "  warn('Radon transform: image must be zero outside the '\n",
      "D:\\Programming\\Anaconda\\envs\\image\\lib\\site-packages\\skimage\\transform\\radon_transform.py:63: UserWarning: Radon transform: image must be zero outside the reconstruction circle\n",
      "  warn('Radon transform: image must be zero outside the '\n",
      "D:\\Programming\\Anaconda\\envs\\image\\lib\\site-packages\\skimage\\transform\\radon_transform.py:63: UserWarning: Radon transform: image must be zero outside the reconstruction circle\n",
      "  warn('Radon transform: image must be zero outside the '\n",
      "D:\\Programming\\Anaconda\\envs\\image\\lib\\site-packages\\skimage\\transform\\radon_transform.py:63: UserWarning: Radon transform: image must be zero outside the reconstruction circle\n",
      "  warn('Radon transform: image must be zero outside the '\n",
      "D:\\Programming\\Anaconda\\envs\\image\\lib\\site-packages\\skimage\\transform\\radon_transform.py:63: UserWarning: Radon transform: image must be zero outside the reconstruction circle\n",
      "  warn('Radon transform: image must be zero outside the '\n",
      "D:\\Programming\\Anaconda\\envs\\image\\lib\\site-packages\\skimage\\transform\\radon_transform.py:63: UserWarning: Radon transform: image must be zero outside the reconstruction circle\n",
      "  warn('Radon transform: image must be zero outside the '\n",
      "D:\\Programming\\Anaconda\\envs\\image\\lib\\site-packages\\skimage\\transform\\radon_transform.py:63: UserWarning: Radon transform: image must be zero outside the reconstruction circle\n",
      "  warn('Radon transform: image must be zero outside the '\n",
      "D:\\Programming\\Anaconda\\envs\\image\\lib\\site-packages\\skimage\\transform\\radon_transform.py:63: UserWarning: Radon transform: image must be zero outside the reconstruction circle\n",
      "  warn('Radon transform: image must be zero outside the '\n",
      "D:\\Programming\\Anaconda\\envs\\image\\lib\\site-packages\\skimage\\transform\\radon_transform.py:63: UserWarning: Radon transform: image must be zero outside the reconstruction circle\n",
      "  warn('Radon transform: image must be zero outside the '\n",
      "D:\\Programming\\Anaconda\\envs\\image\\lib\\site-packages\\skimage\\transform\\radon_transform.py:63: UserWarning: Radon transform: image must be zero outside the reconstruction circle\n",
      "  warn('Radon transform: image must be zero outside the '\n"
     ]
    },
    {
     "name": "stdout",
     "output_type": "stream",
     "text": [
      "851\n"
     ]
    },
    {
     "name": "stderr",
     "output_type": "stream",
     "text": [
      "D:\\Programming\\Anaconda\\envs\\image\\lib\\site-packages\\skimage\\transform\\radon_transform.py:63: UserWarning: Radon transform: image must be zero outside the reconstruction circle\n",
      "  warn('Radon transform: image must be zero outside the '\n"
     ]
    },
    {
     "name": "stdout",
     "output_type": "stream",
     "text": [
      "852\n"
     ]
    },
    {
     "name": "stderr",
     "output_type": "stream",
     "text": [
      "D:\\Programming\\Anaconda\\envs\\image\\lib\\site-packages\\skimage\\transform\\radon_transform.py:63: UserWarning: Radon transform: image must be zero outside the reconstruction circle\n",
      "  warn('Radon transform: image must be zero outside the '\n",
      "D:\\Programming\\Anaconda\\envs\\image\\lib\\site-packages\\skimage\\transform\\radon_transform.py:63: UserWarning: Radon transform: image must be zero outside the reconstruction circle\n",
      "  warn('Radon transform: image must be zero outside the '\n",
      "D:\\Programming\\Anaconda\\envs\\image\\lib\\site-packages\\skimage\\transform\\radon_transform.py:63: UserWarning: Radon transform: image must be zero outside the reconstruction circle\n",
      "  warn('Radon transform: image must be zero outside the '\n"
     ]
    },
    {
     "name": "stdout",
     "output_type": "stream",
     "text": [
      "855\n"
     ]
    },
    {
     "name": "stderr",
     "output_type": "stream",
     "text": [
      "D:\\Programming\\Anaconda\\envs\\image\\lib\\site-packages\\skimage\\transform\\radon_transform.py:63: UserWarning: Radon transform: image must be zero outside the reconstruction circle\n",
      "  warn('Radon transform: image must be zero outside the '\n",
      "D:\\Programming\\Anaconda\\envs\\image\\lib\\site-packages\\skimage\\transform\\radon_transform.py:63: UserWarning: Radon transform: image must be zero outside the reconstruction circle\n",
      "  warn('Radon transform: image must be zero outside the '\n",
      "D:\\Programming\\Anaconda\\envs\\image\\lib\\site-packages\\skimage\\transform\\radon_transform.py:63: UserWarning: Radon transform: image must be zero outside the reconstruction circle\n",
      "  warn('Radon transform: image must be zero outside the '\n"
     ]
    },
    {
     "name": "stdout",
     "output_type": "stream",
     "text": [
      "858\n"
     ]
    },
    {
     "name": "stderr",
     "output_type": "stream",
     "text": [
      "D:\\Programming\\Anaconda\\envs\\image\\lib\\site-packages\\skimage\\transform\\radon_transform.py:63: UserWarning: Radon transform: image must be zero outside the reconstruction circle\n",
      "  warn('Radon transform: image must be zero outside the '\n",
      "D:\\Programming\\Anaconda\\envs\\image\\lib\\site-packages\\skimage\\transform\\radon_transform.py:63: UserWarning: Radon transform: image must be zero outside the reconstruction circle\n",
      "  warn('Radon transform: image must be zero outside the '\n"
     ]
    },
    {
     "name": "stdout",
     "output_type": "stream",
     "text": [
      "860\n"
     ]
    },
    {
     "name": "stderr",
     "output_type": "stream",
     "text": [
      "D:\\Programming\\Anaconda\\envs\\image\\lib\\site-packages\\skimage\\transform\\radon_transform.py:63: UserWarning: Radon transform: image must be zero outside the reconstruction circle\n",
      "  warn('Radon transform: image must be zero outside the '\n",
      "D:\\Programming\\Anaconda\\envs\\image\\lib\\site-packages\\skimage\\transform\\radon_transform.py:63: UserWarning: Radon transform: image must be zero outside the reconstruction circle\n",
      "  warn('Radon transform: image must be zero outside the '\n",
      "D:\\Programming\\Anaconda\\envs\\image\\lib\\site-packages\\skimage\\transform\\radon_transform.py:63: UserWarning: Radon transform: image must be zero outside the reconstruction circle\n",
      "  warn('Radon transform: image must be zero outside the '\n",
      "D:\\Programming\\Anaconda\\envs\\image\\lib\\site-packages\\skimage\\transform\\radon_transform.py:63: UserWarning: Radon transform: image must be zero outside the reconstruction circle\n",
      "  warn('Radon transform: image must be zero outside the '\n",
      "D:\\Programming\\Anaconda\\envs\\image\\lib\\site-packages\\skimage\\transform\\radon_transform.py:63: UserWarning: Radon transform: image must be zero outside the reconstruction circle\n",
      "  warn('Radon transform: image must be zero outside the '\n",
      "D:\\Programming\\Anaconda\\envs\\image\\lib\\site-packages\\skimage\\transform\\radon_transform.py:63: UserWarning: Radon transform: image must be zero outside the reconstruction circle\n",
      "  warn('Radon transform: image must be zero outside the '\n",
      "D:\\Programming\\Anaconda\\envs\\image\\lib\\site-packages\\skimage\\transform\\radon_transform.py:63: UserWarning: Radon transform: image must be zero outside the reconstruction circle\n",
      "  warn('Radon transform: image must be zero outside the '\n",
      "D:\\Programming\\Anaconda\\envs\\image\\lib\\site-packages\\skimage\\transform\\radon_transform.py:63: UserWarning: Radon transform: image must be zero outside the reconstruction circle\n",
      "  warn('Radon transform: image must be zero outside the '\n",
      "D:\\Programming\\Anaconda\\envs\\image\\lib\\site-packages\\skimage\\transform\\radon_transform.py:63: UserWarning: Radon transform: image must be zero outside the reconstruction circle\n",
      "  warn('Radon transform: image must be zero outside the '\n",
      "D:\\Programming\\Anaconda\\envs\\image\\lib\\site-packages\\skimage\\transform\\radon_transform.py:63: UserWarning: Radon transform: image must be zero outside the reconstruction circle\n",
      "  warn('Radon transform: image must be zero outside the '\n"
     ]
    },
    {
     "name": "stdout",
     "output_type": "stream",
     "text": [
      "870\n"
     ]
    },
    {
     "name": "stderr",
     "output_type": "stream",
     "text": [
      "D:\\Programming\\Anaconda\\envs\\image\\lib\\site-packages\\skimage\\transform\\radon_transform.py:63: UserWarning: Radon transform: image must be zero outside the reconstruction circle\n",
      "  warn('Radon transform: image must be zero outside the '\n",
      "D:\\Programming\\Anaconda\\envs\\image\\lib\\site-packages\\skimage\\transform\\radon_transform.py:63: UserWarning: Radon transform: image must be zero outside the reconstruction circle\n",
      "  warn('Radon transform: image must be zero outside the '\n",
      "D:\\Programming\\Anaconda\\envs\\image\\lib\\site-packages\\skimage\\transform\\radon_transform.py:63: UserWarning: Radon transform: image must be zero outside the reconstruction circle\n",
      "  warn('Radon transform: image must be zero outside the '\n",
      "D:\\Programming\\Anaconda\\envs\\image\\lib\\site-packages\\skimage\\transform\\radon_transform.py:63: UserWarning: Radon transform: image must be zero outside the reconstruction circle\n",
      "  warn('Radon transform: image must be zero outside the '\n",
      "D:\\Programming\\Anaconda\\envs\\image\\lib\\site-packages\\skimage\\transform\\radon_transform.py:63: UserWarning: Radon transform: image must be zero outside the reconstruction circle\n",
      "  warn('Radon transform: image must be zero outside the '\n",
      "D:\\Programming\\Anaconda\\envs\\image\\lib\\site-packages\\skimage\\transform\\radon_transform.py:63: UserWarning: Radon transform: image must be zero outside the reconstruction circle\n",
      "  warn('Radon transform: image must be zero outside the '\n",
      "D:\\Programming\\Anaconda\\envs\\image\\lib\\site-packages\\skimage\\transform\\radon_transform.py:63: UserWarning: Radon transform: image must be zero outside the reconstruction circle\n",
      "  warn('Radon transform: image must be zero outside the '\n",
      "D:\\Programming\\Anaconda\\envs\\image\\lib\\site-packages\\skimage\\transform\\radon_transform.py:63: UserWarning: Radon transform: image must be zero outside the reconstruction circle\n",
      "  warn('Radon transform: image must be zero outside the '\n"
     ]
    },
    {
     "name": "stdout",
     "output_type": "stream",
     "text": [
      "878\n"
     ]
    },
    {
     "name": "stderr",
     "output_type": "stream",
     "text": [
      "D:\\Programming\\Anaconda\\envs\\image\\lib\\site-packages\\skimage\\transform\\radon_transform.py:63: UserWarning: Radon transform: image must be zero outside the reconstruction circle\n",
      "  warn('Radon transform: image must be zero outside the '\n"
     ]
    },
    {
     "name": "stdout",
     "output_type": "stream",
     "text": [
      "879\n"
     ]
    },
    {
     "name": "stderr",
     "output_type": "stream",
     "text": [
      "D:\\Programming\\Anaconda\\envs\\image\\lib\\site-packages\\skimage\\transform\\radon_transform.py:63: UserWarning: Radon transform: image must be zero outside the reconstruction circle\n",
      "  warn('Radon transform: image must be zero outside the '\n",
      "D:\\Programming\\Anaconda\\envs\\image\\lib\\site-packages\\skimage\\transform\\radon_transform.py:63: UserWarning: Radon transform: image must be zero outside the reconstruction circle\n",
      "  warn('Radon transform: image must be zero outside the '\n",
      "D:\\Programming\\Anaconda\\envs\\image\\lib\\site-packages\\skimage\\transform\\radon_transform.py:63: UserWarning: Radon transform: image must be zero outside the reconstruction circle\n",
      "  warn('Radon transform: image must be zero outside the '\n"
     ]
    },
    {
     "name": "stdout",
     "output_type": "stream",
     "text": [
      "882\n"
     ]
    },
    {
     "name": "stderr",
     "output_type": "stream",
     "text": [
      "D:\\Programming\\Anaconda\\envs\\image\\lib\\site-packages\\skimage\\transform\\radon_transform.py:63: UserWarning: Radon transform: image must be zero outside the reconstruction circle\n",
      "  warn('Radon transform: image must be zero outside the '\n"
     ]
    },
    {
     "name": "stdout",
     "output_type": "stream",
     "text": [
      "883\n"
     ]
    },
    {
     "name": "stderr",
     "output_type": "stream",
     "text": [
      "D:\\Programming\\Anaconda\\envs\\image\\lib\\site-packages\\skimage\\transform\\radon_transform.py:63: UserWarning: Radon transform: image must be zero outside the reconstruction circle\n",
      "  warn('Radon transform: image must be zero outside the '\n",
      "D:\\Programming\\Anaconda\\envs\\image\\lib\\site-packages\\skimage\\transform\\radon_transform.py:63: UserWarning: Radon transform: image must be zero outside the reconstruction circle\n",
      "  warn('Radon transform: image must be zero outside the '\n",
      "D:\\Programming\\Anaconda\\envs\\image\\lib\\site-packages\\skimage\\transform\\radon_transform.py:63: UserWarning: Radon transform: image must be zero outside the reconstruction circle\n",
      "  warn('Radon transform: image must be zero outside the '\n",
      "D:\\Programming\\Anaconda\\envs\\image\\lib\\site-packages\\skimage\\transform\\radon_transform.py:63: UserWarning: Radon transform: image must be zero outside the reconstruction circle\n",
      "  warn('Radon transform: image must be zero outside the '\n"
     ]
    },
    {
     "name": "stdout",
     "output_type": "stream",
     "text": [
      "887\n"
     ]
    },
    {
     "name": "stderr",
     "output_type": "stream",
     "text": [
      "D:\\Programming\\Anaconda\\envs\\image\\lib\\site-packages\\skimage\\transform\\radon_transform.py:63: UserWarning: Radon transform: image must be zero outside the reconstruction circle\n",
      "  warn('Radon transform: image must be zero outside the '\n"
     ]
    },
    {
     "name": "stdout",
     "output_type": "stream",
     "text": [
      "888\n"
     ]
    },
    {
     "name": "stderr",
     "output_type": "stream",
     "text": [
      "D:\\Programming\\Anaconda\\envs\\image\\lib\\site-packages\\skimage\\transform\\radon_transform.py:63: UserWarning: Radon transform: image must be zero outside the reconstruction circle\n",
      "  warn('Radon transform: image must be zero outside the '\n"
     ]
    },
    {
     "name": "stdout",
     "output_type": "stream",
     "text": [
      "889\n"
     ]
    },
    {
     "name": "stderr",
     "output_type": "stream",
     "text": [
      "D:\\Programming\\Anaconda\\envs\\image\\lib\\site-packages\\skimage\\transform\\radon_transform.py:63: UserWarning: Radon transform: image must be zero outside the reconstruction circle\n",
      "  warn('Radon transform: image must be zero outside the '\n",
      "D:\\Programming\\Anaconda\\envs\\image\\lib\\site-packages\\skimage\\transform\\radon_transform.py:63: UserWarning: Radon transform: image must be zero outside the reconstruction circle\n",
      "  warn('Radon transform: image must be zero outside the '\n",
      "D:\\Programming\\Anaconda\\envs\\image\\lib\\site-packages\\skimage\\transform\\radon_transform.py:63: UserWarning: Radon transform: image must be zero outside the reconstruction circle\n",
      "  warn('Radon transform: image must be zero outside the '\n",
      "D:\\Programming\\Anaconda\\envs\\image\\lib\\site-packages\\skimage\\transform\\radon_transform.py:63: UserWarning: Radon transform: image must be zero outside the reconstruction circle\n",
      "  warn('Radon transform: image must be zero outside the '\n",
      "D:\\Programming\\Anaconda\\envs\\image\\lib\\site-packages\\skimage\\transform\\radon_transform.py:63: UserWarning: Radon transform: image must be zero outside the reconstruction circle\n",
      "  warn('Radon transform: image must be zero outside the '\n",
      "D:\\Programming\\Anaconda\\envs\\image\\lib\\site-packages\\skimage\\transform\\radon_transform.py:63: UserWarning: Radon transform: image must be zero outside the reconstruction circle\n",
      "  warn('Radon transform: image must be zero outside the '\n"
     ]
    },
    {
     "name": "stdout",
     "output_type": "stream",
     "text": [
      "895\n"
     ]
    },
    {
     "name": "stderr",
     "output_type": "stream",
     "text": [
      "D:\\Programming\\Anaconda\\envs\\image\\lib\\site-packages\\skimage\\transform\\radon_transform.py:63: UserWarning: Radon transform: image must be zero outside the reconstruction circle\n",
      "  warn('Radon transform: image must be zero outside the '\n",
      "D:\\Programming\\Anaconda\\envs\\image\\lib\\site-packages\\skimage\\transform\\radon_transform.py:63: UserWarning: Radon transform: image must be zero outside the reconstruction circle\n",
      "  warn('Radon transform: image must be zero outside the '\n"
     ]
    },
    {
     "name": "stdout",
     "output_type": "stream",
     "text": [
      "897\n"
     ]
    },
    {
     "name": "stderr",
     "output_type": "stream",
     "text": [
      "D:\\Programming\\Anaconda\\envs\\image\\lib\\site-packages\\skimage\\transform\\radon_transform.py:63: UserWarning: Radon transform: image must be zero outside the reconstruction circle\n",
      "  warn('Radon transform: image must be zero outside the '\n",
      "D:\\Programming\\Anaconda\\envs\\image\\lib\\site-packages\\skimage\\transform\\radon_transform.py:63: UserWarning: Radon transform: image must be zero outside the reconstruction circle\n",
      "  warn('Radon transform: image must be zero outside the '\n",
      "D:\\Programming\\Anaconda\\envs\\image\\lib\\site-packages\\skimage\\transform\\radon_transform.py:63: UserWarning: Radon transform: image must be zero outside the reconstruction circle\n",
      "  warn('Radon transform: image must be zero outside the '\n",
      "D:\\Programming\\Anaconda\\envs\\image\\lib\\site-packages\\skimage\\transform\\radon_transform.py:63: UserWarning: Radon transform: image must be zero outside the reconstruction circle\n",
      "  warn('Radon transform: image must be zero outside the '\n",
      "D:\\Programming\\Anaconda\\envs\\image\\lib\\site-packages\\skimage\\transform\\radon_transform.py:63: UserWarning: Radon transform: image must be zero outside the reconstruction circle\n",
      "  warn('Radon transform: image must be zero outside the '\n",
      "D:\\Programming\\Anaconda\\envs\\image\\lib\\site-packages\\skimage\\transform\\radon_transform.py:63: UserWarning: Radon transform: image must be zero outside the reconstruction circle\n",
      "  warn('Radon transform: image must be zero outside the '\n",
      "D:\\Programming\\Anaconda\\envs\\image\\lib\\site-packages\\skimage\\transform\\radon_transform.py:63: UserWarning: Radon transform: image must be zero outside the reconstruction circle\n",
      "  warn('Radon transform: image must be zero outside the '\n",
      "D:\\Programming\\Anaconda\\envs\\image\\lib\\site-packages\\skimage\\transform\\radon_transform.py:63: UserWarning: Radon transform: image must be zero outside the reconstruction circle\n",
      "  warn('Radon transform: image must be zero outside the '\n",
      "D:\\Programming\\Anaconda\\envs\\image\\lib\\site-packages\\skimage\\transform\\radon_transform.py:63: UserWarning: Radon transform: image must be zero outside the reconstruction circle\n",
      "  warn('Radon transform: image must be zero outside the '\n",
      "D:\\Programming\\Anaconda\\envs\\image\\lib\\site-packages\\skimage\\transform\\radon_transform.py:63: UserWarning: Radon transform: image must be zero outside the reconstruction circle\n",
      "  warn('Radon transform: image must be zero outside the '\n"
     ]
    },
    {
     "name": "stdout",
     "output_type": "stream",
     "text": [
      "907\n"
     ]
    },
    {
     "name": "stderr",
     "output_type": "stream",
     "text": [
      "D:\\Programming\\Anaconda\\envs\\image\\lib\\site-packages\\skimage\\transform\\radon_transform.py:63: UserWarning: Radon transform: image must be zero outside the reconstruction circle\n",
      "  warn('Radon transform: image must be zero outside the '\n",
      "D:\\Programming\\Anaconda\\envs\\image\\lib\\site-packages\\skimage\\transform\\radon_transform.py:63: UserWarning: Radon transform: image must be zero outside the reconstruction circle\n",
      "  warn('Radon transform: image must be zero outside the '\n",
      "D:\\Programming\\Anaconda\\envs\\image\\lib\\site-packages\\skimage\\transform\\radon_transform.py:63: UserWarning: Radon transform: image must be zero outside the reconstruction circle\n",
      "  warn('Radon transform: image must be zero outside the '\n",
      "D:\\Programming\\Anaconda\\envs\\image\\lib\\site-packages\\skimage\\transform\\radon_transform.py:63: UserWarning: Radon transform: image must be zero outside the reconstruction circle\n",
      "  warn('Radon transform: image must be zero outside the '\n",
      "D:\\Programming\\Anaconda\\envs\\image\\lib\\site-packages\\skimage\\transform\\radon_transform.py:63: UserWarning: Radon transform: image must be zero outside the reconstruction circle\n",
      "  warn('Radon transform: image must be zero outside the '\n",
      "D:\\Programming\\Anaconda\\envs\\image\\lib\\site-packages\\skimage\\transform\\radon_transform.py:63: UserWarning: Radon transform: image must be zero outside the reconstruction circle\n",
      "  warn('Radon transform: image must be zero outside the '\n",
      "D:\\Programming\\Anaconda\\envs\\image\\lib\\site-packages\\skimage\\transform\\radon_transform.py:63: UserWarning: Radon transform: image must be zero outside the reconstruction circle\n",
      "  warn('Radon transform: image must be zero outside the '\n",
      "D:\\Programming\\Anaconda\\envs\\image\\lib\\site-packages\\skimage\\transform\\radon_transform.py:63: UserWarning: Radon transform: image must be zero outside the reconstruction circle\n",
      "  warn('Radon transform: image must be zero outside the '\n"
     ]
    },
    {
     "name": "stdout",
     "output_type": "stream",
     "text": [
      "915\n"
     ]
    },
    {
     "name": "stderr",
     "output_type": "stream",
     "text": [
      "D:\\Programming\\Anaconda\\envs\\image\\lib\\site-packages\\skimage\\transform\\radon_transform.py:63: UserWarning: Radon transform: image must be zero outside the reconstruction circle\n",
      "  warn('Radon transform: image must be zero outside the '\n",
      "D:\\Programming\\Anaconda\\envs\\image\\lib\\site-packages\\skimage\\transform\\radon_transform.py:63: UserWarning: Radon transform: image must be zero outside the reconstruction circle\n",
      "  warn('Radon transform: image must be zero outside the '\n"
     ]
    },
    {
     "name": "stdout",
     "output_type": "stream",
     "text": [
      "917\n"
     ]
    },
    {
     "name": "stderr",
     "output_type": "stream",
     "text": [
      "D:\\Programming\\Anaconda\\envs\\image\\lib\\site-packages\\skimage\\transform\\radon_transform.py:63: UserWarning: Radon transform: image must be zero outside the reconstruction circle\n",
      "  warn('Radon transform: image must be zero outside the '\n",
      "D:\\Programming\\Anaconda\\envs\\image\\lib\\site-packages\\skimage\\transform\\radon_transform.py:63: UserWarning: Radon transform: image must be zero outside the reconstruction circle\n",
      "  warn('Radon transform: image must be zero outside the '\n"
     ]
    },
    {
     "name": "stdout",
     "output_type": "stream",
     "text": [
      "919\n"
     ]
    },
    {
     "name": "stderr",
     "output_type": "stream",
     "text": [
      "D:\\Programming\\Anaconda\\envs\\image\\lib\\site-packages\\skimage\\transform\\radon_transform.py:63: UserWarning: Radon transform: image must be zero outside the reconstruction circle\n",
      "  warn('Radon transform: image must be zero outside the '\n",
      "D:\\Programming\\Anaconda\\envs\\image\\lib\\site-packages\\skimage\\transform\\radon_transform.py:63: UserWarning: Radon transform: image must be zero outside the reconstruction circle\n",
      "  warn('Radon transform: image must be zero outside the '\n",
      "D:\\Programming\\Anaconda\\envs\\image\\lib\\site-packages\\skimage\\transform\\radon_transform.py:63: UserWarning: Radon transform: image must be zero outside the reconstruction circle\n",
      "  warn('Radon transform: image must be zero outside the '\n"
     ]
    },
    {
     "name": "stdout",
     "output_type": "stream",
     "text": [
      "922\n"
     ]
    },
    {
     "name": "stderr",
     "output_type": "stream",
     "text": [
      "D:\\Programming\\Anaconda\\envs\\image\\lib\\site-packages\\skimage\\transform\\radon_transform.py:63: UserWarning: Radon transform: image must be zero outside the reconstruction circle\n",
      "  warn('Radon transform: image must be zero outside the '\n",
      "D:\\Programming\\Anaconda\\envs\\image\\lib\\site-packages\\skimage\\transform\\radon_transform.py:63: UserWarning: Radon transform: image must be zero outside the reconstruction circle\n",
      "  warn('Radon transform: image must be zero outside the '\n",
      "D:\\Programming\\Anaconda\\envs\\image\\lib\\site-packages\\skimage\\transform\\radon_transform.py:63: UserWarning: Radon transform: image must be zero outside the reconstruction circle\n",
      "  warn('Radon transform: image must be zero outside the '\n",
      "D:\\Programming\\Anaconda\\envs\\image\\lib\\site-packages\\skimage\\transform\\radon_transform.py:63: UserWarning: Radon transform: image must be zero outside the reconstruction circle\n",
      "  warn('Radon transform: image must be zero outside the '\n",
      "D:\\Programming\\Anaconda\\envs\\image\\lib\\site-packages\\skimage\\transform\\radon_transform.py:63: UserWarning: Radon transform: image must be zero outside the reconstruction circle\n",
      "  warn('Radon transform: image must be zero outside the '\n",
      "D:\\Programming\\Anaconda\\envs\\image\\lib\\site-packages\\skimage\\transform\\radon_transform.py:63: UserWarning: Radon transform: image must be zero outside the reconstruction circle\n",
      "  warn('Radon transform: image must be zero outside the '\n",
      "D:\\Programming\\Anaconda\\envs\\image\\lib\\site-packages\\skimage\\transform\\radon_transform.py:63: UserWarning: Radon transform: image must be zero outside the reconstruction circle\n",
      "  warn('Radon transform: image must be zero outside the '\n",
      "D:\\Programming\\Anaconda\\envs\\image\\lib\\site-packages\\skimage\\transform\\radon_transform.py:63: UserWarning: Radon transform: image must be zero outside the reconstruction circle\n",
      "  warn('Radon transform: image must be zero outside the '\n",
      "D:\\Programming\\Anaconda\\envs\\image\\lib\\site-packages\\skimage\\transform\\radon_transform.py:63: UserWarning: Radon transform: image must be zero outside the reconstruction circle\n",
      "  warn('Radon transform: image must be zero outside the '\n",
      "D:\\Programming\\Anaconda\\envs\\image\\lib\\site-packages\\skimage\\transform\\radon_transform.py:63: UserWarning: Radon transform: image must be zero outside the reconstruction circle\n",
      "  warn('Radon transform: image must be zero outside the '\n",
      "D:\\Programming\\Anaconda\\envs\\image\\lib\\site-packages\\skimage\\transform\\radon_transform.py:63: UserWarning: Radon transform: image must be zero outside the reconstruction circle\n",
      "  warn('Radon transform: image must be zero outside the '\n"
     ]
    },
    {
     "name": "stdout",
     "output_type": "stream",
     "text": [
      "933\n"
     ]
    },
    {
     "name": "stderr",
     "output_type": "stream",
     "text": [
      "D:\\Programming\\Anaconda\\envs\\image\\lib\\site-packages\\skimage\\transform\\radon_transform.py:63: UserWarning: Radon transform: image must be zero outside the reconstruction circle\n",
      "  warn('Radon transform: image must be zero outside the '\n",
      "D:\\Programming\\Anaconda\\envs\\image\\lib\\site-packages\\skimage\\transform\\radon_transform.py:63: UserWarning: Radon transform: image must be zero outside the reconstruction circle\n",
      "  warn('Radon transform: image must be zero outside the '\n"
     ]
    },
    {
     "name": "stdout",
     "output_type": "stream",
     "text": [
      "935\n"
     ]
    },
    {
     "name": "stderr",
     "output_type": "stream",
     "text": [
      "D:\\Programming\\Anaconda\\envs\\image\\lib\\site-packages\\skimage\\transform\\radon_transform.py:63: UserWarning: Radon transform: image must be zero outside the reconstruction circle\n",
      "  warn('Radon transform: image must be zero outside the '\n"
     ]
    },
    {
     "name": "stdout",
     "output_type": "stream",
     "text": [
      "936\n"
     ]
    },
    {
     "name": "stderr",
     "output_type": "stream",
     "text": [
      "D:\\Programming\\Anaconda\\envs\\image\\lib\\site-packages\\skimage\\transform\\radon_transform.py:63: UserWarning: Radon transform: image must be zero outside the reconstruction circle\n",
      "  warn('Radon transform: image must be zero outside the '\n",
      "D:\\Programming\\Anaconda\\envs\\image\\lib\\site-packages\\skimage\\transform\\radon_transform.py:63: UserWarning: Radon transform: image must be zero outside the reconstruction circle\n",
      "  warn('Radon transform: image must be zero outside the '\n",
      "D:\\Programming\\Anaconda\\envs\\image\\lib\\site-packages\\skimage\\transform\\radon_transform.py:63: UserWarning: Radon transform: image must be zero outside the reconstruction circle\n",
      "  warn('Radon transform: image must be zero outside the '\n",
      "D:\\Programming\\Anaconda\\envs\\image\\lib\\site-packages\\skimage\\transform\\radon_transform.py:63: UserWarning: Radon transform: image must be zero outside the reconstruction circle\n",
      "  warn('Radon transform: image must be zero outside the '\n",
      "D:\\Programming\\Anaconda\\envs\\image\\lib\\site-packages\\skimage\\transform\\radon_transform.py:63: UserWarning: Radon transform: image must be zero outside the reconstruction circle\n",
      "  warn('Radon transform: image must be zero outside the '\n"
     ]
    },
    {
     "name": "stdout",
     "output_type": "stream",
     "text": [
      "941\n"
     ]
    },
    {
     "name": "stderr",
     "output_type": "stream",
     "text": [
      "D:\\Programming\\Anaconda\\envs\\image\\lib\\site-packages\\skimage\\transform\\radon_transform.py:63: UserWarning: Radon transform: image must be zero outside the reconstruction circle\n",
      "  warn('Radon transform: image must be zero outside the '\n",
      "D:\\Programming\\Anaconda\\envs\\image\\lib\\site-packages\\skimage\\transform\\radon_transform.py:63: UserWarning: Radon transform: image must be zero outside the reconstruction circle\n",
      "  warn('Radon transform: image must be zero outside the '\n",
      "D:\\Programming\\Anaconda\\envs\\image\\lib\\site-packages\\skimage\\transform\\radon_transform.py:63: UserWarning: Radon transform: image must be zero outside the reconstruction circle\n",
      "  warn('Radon transform: image must be zero outside the '\n",
      "D:\\Programming\\Anaconda\\envs\\image\\lib\\site-packages\\skimage\\transform\\radon_transform.py:63: UserWarning: Radon transform: image must be zero outside the reconstruction circle\n",
      "  warn('Radon transform: image must be zero outside the '\n",
      "D:\\Programming\\Anaconda\\envs\\image\\lib\\site-packages\\skimage\\transform\\radon_transform.py:63: UserWarning: Radon transform: image must be zero outside the reconstruction circle\n",
      "  warn('Radon transform: image must be zero outside the '\n"
     ]
    },
    {
     "name": "stdout",
     "output_type": "stream",
     "text": [
      "946\n"
     ]
    },
    {
     "name": "stderr",
     "output_type": "stream",
     "text": [
      "D:\\Programming\\Anaconda\\envs\\image\\lib\\site-packages\\skimage\\transform\\radon_transform.py:63: UserWarning: Radon transform: image must be zero outside the reconstruction circle\n",
      "  warn('Radon transform: image must be zero outside the '\n",
      "D:\\Programming\\Anaconda\\envs\\image\\lib\\site-packages\\skimage\\transform\\radon_transform.py:63: UserWarning: Radon transform: image must be zero outside the reconstruction circle\n",
      "  warn('Radon transform: image must be zero outside the '\n",
      "D:\\Programming\\Anaconda\\envs\\image\\lib\\site-packages\\skimage\\transform\\radon_transform.py:63: UserWarning: Radon transform: image must be zero outside the reconstruction circle\n",
      "  warn('Radon transform: image must be zero outside the '\n",
      "D:\\Programming\\Anaconda\\envs\\image\\lib\\site-packages\\skimage\\transform\\radon_transform.py:63: UserWarning: Radon transform: image must be zero outside the reconstruction circle\n",
      "  warn('Radon transform: image must be zero outside the '\n",
      "D:\\Programming\\Anaconda\\envs\\image\\lib\\site-packages\\skimage\\transform\\radon_transform.py:63: UserWarning: Radon transform: image must be zero outside the reconstruction circle\n",
      "  warn('Radon transform: image must be zero outside the '\n",
      "D:\\Programming\\Anaconda\\envs\\image\\lib\\site-packages\\skimage\\transform\\radon_transform.py:63: UserWarning: Radon transform: image must be zero outside the reconstruction circle\n",
      "  warn('Radon transform: image must be zero outside the '\n",
      "D:\\Programming\\Anaconda\\envs\\image\\lib\\site-packages\\skimage\\transform\\radon_transform.py:63: UserWarning: Radon transform: image must be zero outside the reconstruction circle\n",
      "  warn('Radon transform: image must be zero outside the '\n",
      "D:\\Programming\\Anaconda\\envs\\image\\lib\\site-packages\\skimage\\transform\\radon_transform.py:63: UserWarning: Radon transform: image must be zero outside the reconstruction circle\n",
      "  warn('Radon transform: image must be zero outside the '\n",
      "D:\\Programming\\Anaconda\\envs\\image\\lib\\site-packages\\skimage\\transform\\radon_transform.py:63: UserWarning: Radon transform: image must be zero outside the reconstruction circle\n",
      "  warn('Radon transform: image must be zero outside the '\n"
     ]
    },
    {
     "name": "stdout",
     "output_type": "stream",
     "text": [
      "955\n"
     ]
    },
    {
     "name": "stderr",
     "output_type": "stream",
     "text": [
      "D:\\Programming\\Anaconda\\envs\\image\\lib\\site-packages\\skimage\\transform\\radon_transform.py:63: UserWarning: Radon transform: image must be zero outside the reconstruction circle\n",
      "  warn('Radon transform: image must be zero outside the '\n",
      "D:\\Programming\\Anaconda\\envs\\image\\lib\\site-packages\\skimage\\transform\\radon_transform.py:63: UserWarning: Radon transform: image must be zero outside the reconstruction circle\n",
      "  warn('Radon transform: image must be zero outside the '\n",
      "D:\\Programming\\Anaconda\\envs\\image\\lib\\site-packages\\skimage\\transform\\radon_transform.py:63: UserWarning: Radon transform: image must be zero outside the reconstruction circle\n",
      "  warn('Radon transform: image must be zero outside the '\n",
      "D:\\Programming\\Anaconda\\envs\\image\\lib\\site-packages\\skimage\\transform\\radon_transform.py:63: UserWarning: Radon transform: image must be zero outside the reconstruction circle\n",
      "  warn('Radon transform: image must be zero outside the '\n",
      "D:\\Programming\\Anaconda\\envs\\image\\lib\\site-packages\\skimage\\transform\\radon_transform.py:63: UserWarning: Radon transform: image must be zero outside the reconstruction circle\n",
      "  warn('Radon transform: image must be zero outside the '\n",
      "D:\\Programming\\Anaconda\\envs\\image\\lib\\site-packages\\skimage\\transform\\radon_transform.py:63: UserWarning: Radon transform: image must be zero outside the reconstruction circle\n",
      "  warn('Radon transform: image must be zero outside the '\n",
      "D:\\Programming\\Anaconda\\envs\\image\\lib\\site-packages\\skimage\\transform\\radon_transform.py:63: UserWarning: Radon transform: image must be zero outside the reconstruction circle\n",
      "  warn('Radon transform: image must be zero outside the '\n",
      "D:\\Programming\\Anaconda\\envs\\image\\lib\\site-packages\\skimage\\transform\\radon_transform.py:63: UserWarning: Radon transform: image must be zero outside the reconstruction circle\n",
      "  warn('Radon transform: image must be zero outside the '\n",
      "D:\\Programming\\Anaconda\\envs\\image\\lib\\site-packages\\skimage\\transform\\radon_transform.py:63: UserWarning: Radon transform: image must be zero outside the reconstruction circle\n",
      "  warn('Radon transform: image must be zero outside the '\n",
      "D:\\Programming\\Anaconda\\envs\\image\\lib\\site-packages\\skimage\\transform\\radon_transform.py:63: UserWarning: Radon transform: image must be zero outside the reconstruction circle\n",
      "  warn('Radon transform: image must be zero outside the '\n",
      "D:\\Programming\\Anaconda\\envs\\image\\lib\\site-packages\\skimage\\transform\\radon_transform.py:63: UserWarning: Radon transform: image must be zero outside the reconstruction circle\n",
      "  warn('Radon transform: image must be zero outside the '\n",
      "D:\\Programming\\Anaconda\\envs\\image\\lib\\site-packages\\skimage\\transform\\radon_transform.py:63: UserWarning: Radon transform: image must be zero outside the reconstruction circle\n",
      "  warn('Radon transform: image must be zero outside the '\n"
     ]
    },
    {
     "name": "stdout",
     "output_type": "stream",
     "text": [
      "967\n"
     ]
    },
    {
     "name": "stderr",
     "output_type": "stream",
     "text": [
      "D:\\Programming\\Anaconda\\envs\\image\\lib\\site-packages\\skimage\\transform\\radon_transform.py:63: UserWarning: Radon transform: image must be zero outside the reconstruction circle\n",
      "  warn('Radon transform: image must be zero outside the '\n"
     ]
    },
    {
     "name": "stdout",
     "output_type": "stream",
     "text": [
      "968\n"
     ]
    },
    {
     "name": "stderr",
     "output_type": "stream",
     "text": [
      "D:\\Programming\\Anaconda\\envs\\image\\lib\\site-packages\\skimage\\transform\\radon_transform.py:63: UserWarning: Radon transform: image must be zero outside the reconstruction circle\n",
      "  warn('Radon transform: image must be zero outside the '\n"
     ]
    },
    {
     "name": "stdout",
     "output_type": "stream",
     "text": [
      "969\n"
     ]
    },
    {
     "name": "stderr",
     "output_type": "stream",
     "text": [
      "D:\\Programming\\Anaconda\\envs\\image\\lib\\site-packages\\skimage\\transform\\radon_transform.py:63: UserWarning: Radon transform: image must be zero outside the reconstruction circle\n",
      "  warn('Radon transform: image must be zero outside the '\n",
      "D:\\Programming\\Anaconda\\envs\\image\\lib\\site-packages\\skimage\\transform\\radon_transform.py:63: UserWarning: Radon transform: image must be zero outside the reconstruction circle\n",
      "  warn('Radon transform: image must be zero outside the '\n",
      "D:\\Programming\\Anaconda\\envs\\image\\lib\\site-packages\\skimage\\transform\\radon_transform.py:63: UserWarning: Radon transform: image must be zero outside the reconstruction circle\n",
      "  warn('Radon transform: image must be zero outside the '\n",
      "D:\\Programming\\Anaconda\\envs\\image\\lib\\site-packages\\skimage\\transform\\radon_transform.py:63: UserWarning: Radon transform: image must be zero outside the reconstruction circle\n",
      "  warn('Radon transform: image must be zero outside the '\n",
      "D:\\Programming\\Anaconda\\envs\\image\\lib\\site-packages\\skimage\\transform\\radon_transform.py:63: UserWarning: Radon transform: image must be zero outside the reconstruction circle\n",
      "  warn('Radon transform: image must be zero outside the '\n",
      "D:\\Programming\\Anaconda\\envs\\image\\lib\\site-packages\\skimage\\transform\\radon_transform.py:63: UserWarning: Radon transform: image must be zero outside the reconstruction circle\n",
      "  warn('Radon transform: image must be zero outside the '\n"
     ]
    },
    {
     "name": "stdout",
     "output_type": "stream",
     "text": [
      "975\n"
     ]
    },
    {
     "name": "stderr",
     "output_type": "stream",
     "text": [
      "D:\\Programming\\Anaconda\\envs\\image\\lib\\site-packages\\skimage\\transform\\radon_transform.py:63: UserWarning: Radon transform: image must be zero outside the reconstruction circle\n",
      "  warn('Radon transform: image must be zero outside the '\n"
     ]
    },
    {
     "name": "stdout",
     "output_type": "stream",
     "text": [
      "976\n"
     ]
    },
    {
     "name": "stderr",
     "output_type": "stream",
     "text": [
      "D:\\Programming\\Anaconda\\envs\\image\\lib\\site-packages\\skimage\\transform\\radon_transform.py:63: UserWarning: Radon transform: image must be zero outside the reconstruction circle\n",
      "  warn('Radon transform: image must be zero outside the '\n"
     ]
    },
    {
     "name": "stdout",
     "output_type": "stream",
     "text": [
      "977\n"
     ]
    },
    {
     "name": "stderr",
     "output_type": "stream",
     "text": [
      "D:\\Programming\\Anaconda\\envs\\image\\lib\\site-packages\\skimage\\transform\\radon_transform.py:63: UserWarning: Radon transform: image must be zero outside the reconstruction circle\n",
      "  warn('Radon transform: image must be zero outside the '\n",
      "D:\\Programming\\Anaconda\\envs\\image\\lib\\site-packages\\skimage\\transform\\radon_transform.py:63: UserWarning: Radon transform: image must be zero outside the reconstruction circle\n",
      "  warn('Radon transform: image must be zero outside the '\n",
      "D:\\Programming\\Anaconda\\envs\\image\\lib\\site-packages\\skimage\\transform\\radon_transform.py:63: UserWarning: Radon transform: image must be zero outside the reconstruction circle\n",
      "  warn('Radon transform: image must be zero outside the '\n",
      "D:\\Programming\\Anaconda\\envs\\image\\lib\\site-packages\\skimage\\transform\\radon_transform.py:63: UserWarning: Radon transform: image must be zero outside the reconstruction circle\n",
      "  warn('Radon transform: image must be zero outside the '\n",
      "D:\\Programming\\Anaconda\\envs\\image\\lib\\site-packages\\skimage\\transform\\radon_transform.py:63: UserWarning: Radon transform: image must be zero outside the reconstruction circle\n",
      "  warn('Radon transform: image must be zero outside the '\n"
     ]
    },
    {
     "name": "stdout",
     "output_type": "stream",
     "text": [
      "982\n"
     ]
    },
    {
     "name": "stderr",
     "output_type": "stream",
     "text": [
      "D:\\Programming\\Anaconda\\envs\\image\\lib\\site-packages\\skimage\\transform\\radon_transform.py:63: UserWarning: Radon transform: image must be zero outside the reconstruction circle\n",
      "  warn('Radon transform: image must be zero outside the '\n"
     ]
    },
    {
     "name": "stdout",
     "output_type": "stream",
     "text": [
      "983\n"
     ]
    },
    {
     "name": "stderr",
     "output_type": "stream",
     "text": [
      "D:\\Programming\\Anaconda\\envs\\image\\lib\\site-packages\\skimage\\transform\\radon_transform.py:63: UserWarning: Radon transform: image must be zero outside the reconstruction circle\n",
      "  warn('Radon transform: image must be zero outside the '\n"
     ]
    },
    {
     "name": "stdout",
     "output_type": "stream",
     "text": [
      "984\n"
     ]
    },
    {
     "name": "stderr",
     "output_type": "stream",
     "text": [
      "D:\\Programming\\Anaconda\\envs\\image\\lib\\site-packages\\skimage\\transform\\radon_transform.py:63: UserWarning: Radon transform: image must be zero outside the reconstruction circle\n",
      "  warn('Radon transform: image must be zero outside the '\n",
      "D:\\Programming\\Anaconda\\envs\\image\\lib\\site-packages\\skimage\\transform\\radon_transform.py:63: UserWarning: Radon transform: image must be zero outside the reconstruction circle\n",
      "  warn('Radon transform: image must be zero outside the '\n",
      "D:\\Programming\\Anaconda\\envs\\image\\lib\\site-packages\\skimage\\transform\\radon_transform.py:63: UserWarning: Radon transform: image must be zero outside the reconstruction circle\n",
      "  warn('Radon transform: image must be zero outside the '\n",
      "D:\\Programming\\Anaconda\\envs\\image\\lib\\site-packages\\skimage\\transform\\radon_transform.py:63: UserWarning: Radon transform: image must be zero outside the reconstruction circle\n",
      "  warn('Radon transform: image must be zero outside the '\n",
      "D:\\Programming\\Anaconda\\envs\\image\\lib\\site-packages\\skimage\\transform\\radon_transform.py:63: UserWarning: Radon transform: image must be zero outside the reconstruction circle\n",
      "  warn('Radon transform: image must be zero outside the '\n",
      "D:\\Programming\\Anaconda\\envs\\image\\lib\\site-packages\\skimage\\transform\\radon_transform.py:63: UserWarning: Radon transform: image must be zero outside the reconstruction circle\n",
      "  warn('Radon transform: image must be zero outside the '\n",
      "D:\\Programming\\Anaconda\\envs\\image\\lib\\site-packages\\skimage\\transform\\radon_transform.py:63: UserWarning: Radon transform: image must be zero outside the reconstruction circle\n",
      "  warn('Radon transform: image must be zero outside the '\n"
     ]
    },
    {
     "name": "stdout",
     "output_type": "stream",
     "text": [
      "991\n"
     ]
    },
    {
     "name": "stderr",
     "output_type": "stream",
     "text": [
      "D:\\Programming\\Anaconda\\envs\\image\\lib\\site-packages\\skimage\\transform\\radon_transform.py:63: UserWarning: Radon transform: image must be zero outside the reconstruction circle\n",
      "  warn('Radon transform: image must be zero outside the '\n",
      "D:\\Programming\\Anaconda\\envs\\image\\lib\\site-packages\\skimage\\transform\\radon_transform.py:63: UserWarning: Radon transform: image must be zero outside the reconstruction circle\n",
      "  warn('Radon transform: image must be zero outside the '\n"
     ]
    },
    {
     "name": "stdout",
     "output_type": "stream",
     "text": [
      "993\n"
     ]
    },
    {
     "name": "stderr",
     "output_type": "stream",
     "text": [
      "D:\\Programming\\Anaconda\\envs\\image\\lib\\site-packages\\skimage\\transform\\radon_transform.py:63: UserWarning: Radon transform: image must be zero outside the reconstruction circle\n",
      "  warn('Radon transform: image must be zero outside the '\n",
      "D:\\Programming\\Anaconda\\envs\\image\\lib\\site-packages\\skimage\\transform\\radon_transform.py:63: UserWarning: Radon transform: image must be zero outside the reconstruction circle\n",
      "  warn('Radon transform: image must be zero outside the '\n",
      "D:\\Programming\\Anaconda\\envs\\image\\lib\\site-packages\\skimage\\transform\\radon_transform.py:63: UserWarning: Radon transform: image must be zero outside the reconstruction circle\n",
      "  warn('Radon transform: image must be zero outside the '\n"
     ]
    },
    {
     "name": "stdout",
     "output_type": "stream",
     "text": [
      "996\n"
     ]
    },
    {
     "name": "stderr",
     "output_type": "stream",
     "text": [
      "D:\\Programming\\Anaconda\\envs\\image\\lib\\site-packages\\skimage\\transform\\radon_transform.py:63: UserWarning: Radon transform: image must be zero outside the reconstruction circle\n",
      "  warn('Radon transform: image must be zero outside the '\n",
      "D:\\Programming\\Anaconda\\envs\\image\\lib\\site-packages\\skimage\\transform\\radon_transform.py:63: UserWarning: Radon transform: image must be zero outside the reconstruction circle\n",
      "  warn('Radon transform: image must be zero outside the '\n",
      "D:\\Programming\\Anaconda\\envs\\image\\lib\\site-packages\\skimage\\transform\\radon_transform.py:63: UserWarning: Radon transform: image must be zero outside the reconstruction circle\n",
      "  warn('Radon transform: image must be zero outside the '\n",
      "D:\\Programming\\Anaconda\\envs\\image\\lib\\site-packages\\skimage\\transform\\radon_transform.py:63: UserWarning: Radon transform: image must be zero outside the reconstruction circle\n",
      "  warn('Radon transform: image must be zero outside the '\n",
      "D:\\Programming\\Anaconda\\envs\\image\\lib\\site-packages\\skimage\\transform\\radon_transform.py:63: UserWarning: Radon transform: image must be zero outside the reconstruction circle\n",
      "  warn('Radon transform: image must be zero outside the '\n",
      "D:\\Programming\\Anaconda\\envs\\image\\lib\\site-packages\\skimage\\transform\\radon_transform.py:63: UserWarning: Radon transform: image must be zero outside the reconstruction circle\n",
      "  warn('Radon transform: image must be zero outside the '\n",
      "D:\\Programming\\Anaconda\\envs\\image\\lib\\site-packages\\skimage\\transform\\radon_transform.py:63: UserWarning: Radon transform: image must be zero outside the reconstruction circle\n",
      "  warn('Radon transform: image must be zero outside the '\n",
      "D:\\Programming\\Anaconda\\envs\\image\\lib\\site-packages\\skimage\\transform\\radon_transform.py:63: UserWarning: Radon transform: image must be zero outside the reconstruction circle\n",
      "  warn('Radon transform: image must be zero outside the '\n"
     ]
    },
    {
     "name": "stdout",
     "output_type": "stream",
     "text": [
      "1004\n"
     ]
    },
    {
     "name": "stderr",
     "output_type": "stream",
     "text": [
      "D:\\Programming\\Anaconda\\envs\\image\\lib\\site-packages\\skimage\\transform\\radon_transform.py:63: UserWarning: Radon transform: image must be zero outside the reconstruction circle\n",
      "  warn('Radon transform: image must be zero outside the '\n",
      "D:\\Programming\\Anaconda\\envs\\image\\lib\\site-packages\\skimage\\transform\\radon_transform.py:63: UserWarning: Radon transform: image must be zero outside the reconstruction circle\n",
      "  warn('Radon transform: image must be zero outside the '\n"
     ]
    },
    {
     "name": "stdout",
     "output_type": "stream",
     "text": [
      "1006\n"
     ]
    },
    {
     "name": "stderr",
     "output_type": "stream",
     "text": [
      "D:\\Programming\\Anaconda\\envs\\image\\lib\\site-packages\\skimage\\transform\\radon_transform.py:63: UserWarning: Radon transform: image must be zero outside the reconstruction circle\n",
      "  warn('Radon transform: image must be zero outside the '\n",
      "D:\\Programming\\Anaconda\\envs\\image\\lib\\site-packages\\skimage\\transform\\radon_transform.py:63: UserWarning: Radon transform: image must be zero outside the reconstruction circle\n",
      "  warn('Radon transform: image must be zero outside the '\n"
     ]
    },
    {
     "name": "stdout",
     "output_type": "stream",
     "text": [
      "1008\n"
     ]
    },
    {
     "name": "stderr",
     "output_type": "stream",
     "text": [
      "D:\\Programming\\Anaconda\\envs\\image\\lib\\site-packages\\skimage\\transform\\radon_transform.py:63: UserWarning: Radon transform: image must be zero outside the reconstruction circle\n",
      "  warn('Radon transform: image must be zero outside the '\n"
     ]
    },
    {
     "name": "stdout",
     "output_type": "stream",
     "text": [
      "1009\n"
     ]
    },
    {
     "name": "stderr",
     "output_type": "stream",
     "text": [
      "D:\\Programming\\Anaconda\\envs\\image\\lib\\site-packages\\skimage\\transform\\radon_transform.py:63: UserWarning: Radon transform: image must be zero outside the reconstruction circle\n",
      "  warn('Radon transform: image must be zero outside the '\n",
      "D:\\Programming\\Anaconda\\envs\\image\\lib\\site-packages\\skimage\\transform\\radon_transform.py:63: UserWarning: Radon transform: image must be zero outside the reconstruction circle\n",
      "  warn('Radon transform: image must be zero outside the '\n",
      "D:\\Programming\\Anaconda\\envs\\image\\lib\\site-packages\\skimage\\transform\\radon_transform.py:63: UserWarning: Radon transform: image must be zero outside the reconstruction circle\n",
      "  warn('Radon transform: image must be zero outside the '\n"
     ]
    },
    {
     "name": "stdout",
     "output_type": "stream",
     "text": [
      "1012\n"
     ]
    },
    {
     "name": "stderr",
     "output_type": "stream",
     "text": [
      "D:\\Programming\\Anaconda\\envs\\image\\lib\\site-packages\\skimage\\transform\\radon_transform.py:63: UserWarning: Radon transform: image must be zero outside the reconstruction circle\n",
      "  warn('Radon transform: image must be zero outside the '\n",
      "D:\\Programming\\Anaconda\\envs\\image\\lib\\site-packages\\skimage\\transform\\radon_transform.py:63: UserWarning: Radon transform: image must be zero outside the reconstruction circle\n",
      "  warn('Radon transform: image must be zero outside the '\n",
      "D:\\Programming\\Anaconda\\envs\\image\\lib\\site-packages\\skimage\\transform\\radon_transform.py:63: UserWarning: Radon transform: image must be zero outside the reconstruction circle\n",
      "  warn('Radon transform: image must be zero outside the '\n",
      "D:\\Programming\\Anaconda\\envs\\image\\lib\\site-packages\\skimage\\transform\\radon_transform.py:63: UserWarning: Radon transform: image must be zero outside the reconstruction circle\n",
      "  warn('Radon transform: image must be zero outside the '\n",
      "D:\\Programming\\Anaconda\\envs\\image\\lib\\site-packages\\skimage\\transform\\radon_transform.py:63: UserWarning: Radon transform: image must be zero outside the reconstruction circle\n",
      "  warn('Radon transform: image must be zero outside the '\n",
      "D:\\Programming\\Anaconda\\envs\\image\\lib\\site-packages\\skimage\\transform\\radon_transform.py:63: UserWarning: Radon transform: image must be zero outside the reconstruction circle\n",
      "  warn('Radon transform: image must be zero outside the '\n",
      "D:\\Programming\\Anaconda\\envs\\image\\lib\\site-packages\\skimage\\transform\\radon_transform.py:63: UserWarning: Radon transform: image must be zero outside the reconstruction circle\n",
      "  warn('Radon transform: image must be zero outside the '\n",
      "D:\\Programming\\Anaconda\\envs\\image\\lib\\site-packages\\skimage\\transform\\radon_transform.py:63: UserWarning: Radon transform: image must be zero outside the reconstruction circle\n",
      "  warn('Radon transform: image must be zero outside the '\n",
      "D:\\Programming\\Anaconda\\envs\\image\\lib\\site-packages\\skimage\\transform\\radon_transform.py:63: UserWarning: Radon transform: image must be zero outside the reconstruction circle\n",
      "  warn('Radon transform: image must be zero outside the '\n"
     ]
    },
    {
     "name": "stdout",
     "output_type": "stream",
     "text": [
      "1021\n"
     ]
    },
    {
     "name": "stderr",
     "output_type": "stream",
     "text": [
      "D:\\Programming\\Anaconda\\envs\\image\\lib\\site-packages\\skimage\\transform\\radon_transform.py:63: UserWarning: Radon transform: image must be zero outside the reconstruction circle\n",
      "  warn('Radon transform: image must be zero outside the '\n"
     ]
    },
    {
     "name": "stdout",
     "output_type": "stream",
     "text": [
      "1022\n"
     ]
    },
    {
     "name": "stderr",
     "output_type": "stream",
     "text": [
      "D:\\Programming\\Anaconda\\envs\\image\\lib\\site-packages\\skimage\\transform\\radon_transform.py:63: UserWarning: Radon transform: image must be zero outside the reconstruction circle\n",
      "  warn('Radon transform: image must be zero outside the '\n",
      "D:\\Programming\\Anaconda\\envs\\image\\lib\\site-packages\\skimage\\transform\\radon_transform.py:63: UserWarning: Radon transform: image must be zero outside the reconstruction circle\n",
      "  warn('Radon transform: image must be zero outside the '\n"
     ]
    },
    {
     "name": "stdout",
     "output_type": "stream",
     "text": [
      "1024\n"
     ]
    },
    {
     "name": "stderr",
     "output_type": "stream",
     "text": [
      "D:\\Programming\\Anaconda\\envs\\image\\lib\\site-packages\\skimage\\transform\\radon_transform.py:63: UserWarning: Radon transform: image must be zero outside the reconstruction circle\n",
      "  warn('Radon transform: image must be zero outside the '\n",
      "D:\\Programming\\Anaconda\\envs\\image\\lib\\site-packages\\skimage\\transform\\radon_transform.py:63: UserWarning: Radon transform: image must be zero outside the reconstruction circle\n",
      "  warn('Radon transform: image must be zero outside the '\n"
     ]
    },
    {
     "name": "stdout",
     "output_type": "stream",
     "text": [
      "1026\n"
     ]
    },
    {
     "name": "stderr",
     "output_type": "stream",
     "text": [
      "D:\\Programming\\Anaconda\\envs\\image\\lib\\site-packages\\skimage\\transform\\radon_transform.py:63: UserWarning: Radon transform: image must be zero outside the reconstruction circle\n",
      "  warn('Radon transform: image must be zero outside the '\n",
      "D:\\Programming\\Anaconda\\envs\\image\\lib\\site-packages\\skimage\\transform\\radon_transform.py:63: UserWarning: Radon transform: image must be zero outside the reconstruction circle\n",
      "  warn('Radon transform: image must be zero outside the '\n",
      "D:\\Programming\\Anaconda\\envs\\image\\lib\\site-packages\\skimage\\transform\\radon_transform.py:63: UserWarning: Radon transform: image must be zero outside the reconstruction circle\n",
      "  warn('Radon transform: image must be zero outside the '\n",
      "D:\\Programming\\Anaconda\\envs\\image\\lib\\site-packages\\skimage\\transform\\radon_transform.py:63: UserWarning: Radon transform: image must be zero outside the reconstruction circle\n",
      "  warn('Radon transform: image must be zero outside the '\n"
     ]
    },
    {
     "name": "stdout",
     "output_type": "stream",
     "text": [
      "1030\n"
     ]
    },
    {
     "name": "stderr",
     "output_type": "stream",
     "text": [
      "D:\\Programming\\Anaconda\\envs\\image\\lib\\site-packages\\skimage\\transform\\radon_transform.py:63: UserWarning: Radon transform: image must be zero outside the reconstruction circle\n",
      "  warn('Radon transform: image must be zero outside the '\n",
      "D:\\Programming\\Anaconda\\envs\\image\\lib\\site-packages\\skimage\\transform\\radon_transform.py:63: UserWarning: Radon transform: image must be zero outside the reconstruction circle\n",
      "  warn('Radon transform: image must be zero outside the '\n"
     ]
    },
    {
     "name": "stdout",
     "output_type": "stream",
     "text": [
      "1032\n"
     ]
    },
    {
     "name": "stderr",
     "output_type": "stream",
     "text": [
      "D:\\Programming\\Anaconda\\envs\\image\\lib\\site-packages\\skimage\\transform\\radon_transform.py:63: UserWarning: Radon transform: image must be zero outside the reconstruction circle\n",
      "  warn('Radon transform: image must be zero outside the '\n",
      "D:\\Programming\\Anaconda\\envs\\image\\lib\\site-packages\\skimage\\transform\\radon_transform.py:63: UserWarning: Radon transform: image must be zero outside the reconstruction circle\n",
      "  warn('Radon transform: image must be zero outside the '\n",
      "D:\\Programming\\Anaconda\\envs\\image\\lib\\site-packages\\skimage\\transform\\radon_transform.py:63: UserWarning: Radon transform: image must be zero outside the reconstruction circle\n",
      "  warn('Radon transform: image must be zero outside the '\n"
     ]
    },
    {
     "name": "stdout",
     "output_type": "stream",
     "text": [
      "1035\n"
     ]
    },
    {
     "name": "stderr",
     "output_type": "stream",
     "text": [
      "D:\\Programming\\Anaconda\\envs\\image\\lib\\site-packages\\skimage\\transform\\radon_transform.py:63: UserWarning: Radon transform: image must be zero outside the reconstruction circle\n",
      "  warn('Radon transform: image must be zero outside the '\n",
      "D:\\Programming\\Anaconda\\envs\\image\\lib\\site-packages\\skimage\\transform\\radon_transform.py:63: UserWarning: Radon transform: image must be zero outside the reconstruction circle\n",
      "  warn('Radon transform: image must be zero outside the '\n",
      "D:\\Programming\\Anaconda\\envs\\image\\lib\\site-packages\\skimage\\transform\\radon_transform.py:63: UserWarning: Radon transform: image must be zero outside the reconstruction circle\n",
      "  warn('Radon transform: image must be zero outside the '\n",
      "D:\\Programming\\Anaconda\\envs\\image\\lib\\site-packages\\skimage\\transform\\radon_transform.py:63: UserWarning: Radon transform: image must be zero outside the reconstruction circle\n",
      "  warn('Radon transform: image must be zero outside the '\n",
      "D:\\Programming\\Anaconda\\envs\\image\\lib\\site-packages\\skimage\\transform\\radon_transform.py:63: UserWarning: Radon transform: image must be zero outside the reconstruction circle\n",
      "  warn('Radon transform: image must be zero outside the '\n",
      "D:\\Programming\\Anaconda\\envs\\image\\lib\\site-packages\\skimage\\transform\\radon_transform.py:63: UserWarning: Radon transform: image must be zero outside the reconstruction circle\n",
      "  warn('Radon transform: image must be zero outside the '\n",
      "D:\\Programming\\Anaconda\\envs\\image\\lib\\site-packages\\skimage\\transform\\radon_transform.py:63: UserWarning: Radon transform: image must be zero outside the reconstruction circle\n",
      "  warn('Radon transform: image must be zero outside the '\n",
      "D:\\Programming\\Anaconda\\envs\\image\\lib\\site-packages\\skimage\\transform\\radon_transform.py:63: UserWarning: Radon transform: image must be zero outside the reconstruction circle\n",
      "  warn('Radon transform: image must be zero outside the '\n"
     ]
    },
    {
     "name": "stdout",
     "output_type": "stream",
     "text": [
      "1043\n"
     ]
    },
    {
     "name": "stderr",
     "output_type": "stream",
     "text": [
      "D:\\Programming\\Anaconda\\envs\\image\\lib\\site-packages\\skimage\\transform\\radon_transform.py:63: UserWarning: Radon transform: image must be zero outside the reconstruction circle\n",
      "  warn('Radon transform: image must be zero outside the '\n",
      "D:\\Programming\\Anaconda\\envs\\image\\lib\\site-packages\\skimage\\transform\\radon_transform.py:63: UserWarning: Radon transform: image must be zero outside the reconstruction circle\n",
      "  warn('Radon transform: image must be zero outside the '\n",
      "D:\\Programming\\Anaconda\\envs\\image\\lib\\site-packages\\skimage\\transform\\radon_transform.py:63: UserWarning: Radon transform: image must be zero outside the reconstruction circle\n",
      "  warn('Radon transform: image must be zero outside the '\n",
      "D:\\Programming\\Anaconda\\envs\\image\\lib\\site-packages\\skimage\\transform\\radon_transform.py:63: UserWarning: Radon transform: image must be zero outside the reconstruction circle\n",
      "  warn('Radon transform: image must be zero outside the '\n",
      "D:\\Programming\\Anaconda\\envs\\image\\lib\\site-packages\\skimage\\transform\\radon_transform.py:63: UserWarning: Radon transform: image must be zero outside the reconstruction circle\n",
      "  warn('Radon transform: image must be zero outside the '\n",
      "D:\\Programming\\Anaconda\\envs\\image\\lib\\site-packages\\skimage\\transform\\radon_transform.py:63: UserWarning: Radon transform: image must be zero outside the reconstruction circle\n",
      "  warn('Radon transform: image must be zero outside the '\n",
      "D:\\Programming\\Anaconda\\envs\\image\\lib\\site-packages\\skimage\\transform\\radon_transform.py:63: UserWarning: Radon transform: image must be zero outside the reconstruction circle\n",
      "  warn('Radon transform: image must be zero outside the '\n",
      "D:\\Programming\\Anaconda\\envs\\image\\lib\\site-packages\\skimage\\transform\\radon_transform.py:63: UserWarning: Radon transform: image must be zero outside the reconstruction circle\n",
      "  warn('Radon transform: image must be zero outside the '\n",
      "D:\\Programming\\Anaconda\\envs\\image\\lib\\site-packages\\skimage\\transform\\radon_transform.py:63: UserWarning: Radon transform: image must be zero outside the reconstruction circle\n",
      "  warn('Radon transform: image must be zero outside the '\n",
      "D:\\Programming\\Anaconda\\envs\\image\\lib\\site-packages\\skimage\\transform\\radon_transform.py:63: UserWarning: Radon transform: image must be zero outside the reconstruction circle\n",
      "  warn('Radon transform: image must be zero outside the '\n",
      "D:\\Programming\\Anaconda\\envs\\image\\lib\\site-packages\\skimage\\transform\\radon_transform.py:63: UserWarning: Radon transform: image must be zero outside the reconstruction circle\n",
      "  warn('Radon transform: image must be zero outside the '\n",
      "D:\\Programming\\Anaconda\\envs\\image\\lib\\site-packages\\skimage\\transform\\radon_transform.py:63: UserWarning: Radon transform: image must be zero outside the reconstruction circle\n",
      "  warn('Radon transform: image must be zero outside the '\n",
      "D:\\Programming\\Anaconda\\envs\\image\\lib\\site-packages\\skimage\\transform\\radon_transform.py:63: UserWarning: Radon transform: image must be zero outside the reconstruction circle\n",
      "  warn('Radon transform: image must be zero outside the '\n",
      "D:\\Programming\\Anaconda\\envs\\image\\lib\\site-packages\\skimage\\transform\\radon_transform.py:63: UserWarning: Radon transform: image must be zero outside the reconstruction circle\n",
      "  warn('Radon transform: image must be zero outside the '\n",
      "D:\\Programming\\Anaconda\\envs\\image\\lib\\site-packages\\skimage\\transform\\radon_transform.py:63: UserWarning: Radon transform: image must be zero outside the reconstruction circle\n",
      "  warn('Radon transform: image must be zero outside the '\n",
      "D:\\Programming\\Anaconda\\envs\\image\\lib\\site-packages\\skimage\\transform\\radon_transform.py:63: UserWarning: Radon transform: image must be zero outside the reconstruction circle\n",
      "  warn('Radon transform: image must be zero outside the '\n",
      "D:\\Programming\\Anaconda\\envs\\image\\lib\\site-packages\\skimage\\transform\\radon_transform.py:63: UserWarning: Radon transform: image must be zero outside the reconstruction circle\n",
      "  warn('Radon transform: image must be zero outside the '\n"
     ]
    },
    {
     "name": "stdout",
     "output_type": "stream",
     "text": [
      "1060\n"
     ]
    },
    {
     "name": "stderr",
     "output_type": "stream",
     "text": [
      "D:\\Programming\\Anaconda\\envs\\image\\lib\\site-packages\\skimage\\transform\\radon_transform.py:63: UserWarning: Radon transform: image must be zero outside the reconstruction circle\n",
      "  warn('Radon transform: image must be zero outside the '\n"
     ]
    },
    {
     "name": "stdout",
     "output_type": "stream",
     "text": [
      "1061\n"
     ]
    },
    {
     "name": "stderr",
     "output_type": "stream",
     "text": [
      "D:\\Programming\\Anaconda\\envs\\image\\lib\\site-packages\\skimage\\transform\\radon_transform.py:63: UserWarning: Radon transform: image must be zero outside the reconstruction circle\n",
      "  warn('Radon transform: image must be zero outside the '\n",
      "D:\\Programming\\Anaconda\\envs\\image\\lib\\site-packages\\skimage\\transform\\radon_transform.py:63: UserWarning: Radon transform: image must be zero outside the reconstruction circle\n",
      "  warn('Radon transform: image must be zero outside the '\n"
     ]
    },
    {
     "name": "stdout",
     "output_type": "stream",
     "text": [
      "1063\n"
     ]
    },
    {
     "name": "stderr",
     "output_type": "stream",
     "text": [
      "D:\\Programming\\Anaconda\\envs\\image\\lib\\site-packages\\skimage\\transform\\radon_transform.py:63: UserWarning: Radon transform: image must be zero outside the reconstruction circle\n",
      "  warn('Radon transform: image must be zero outside the '\n",
      "D:\\Programming\\Anaconda\\envs\\image\\lib\\site-packages\\skimage\\transform\\radon_transform.py:63: UserWarning: Radon transform: image must be zero outside the reconstruction circle\n",
      "  warn('Radon transform: image must be zero outside the '\n",
      "D:\\Programming\\Anaconda\\envs\\image\\lib\\site-packages\\skimage\\transform\\radon_transform.py:63: UserWarning: Radon transform: image must be zero outside the reconstruction circle\n",
      "  warn('Radon transform: image must be zero outside the '\n"
     ]
    },
    {
     "name": "stdout",
     "output_type": "stream",
     "text": [
      "1066\n"
     ]
    },
    {
     "name": "stderr",
     "output_type": "stream",
     "text": [
      "D:\\Programming\\Anaconda\\envs\\image\\lib\\site-packages\\skimage\\transform\\radon_transform.py:63: UserWarning: Radon transform: image must be zero outside the reconstruction circle\n",
      "  warn('Radon transform: image must be zero outside the '\n",
      "D:\\Programming\\Anaconda\\envs\\image\\lib\\site-packages\\skimage\\transform\\radon_transform.py:63: UserWarning: Radon transform: image must be zero outside the reconstruction circle\n",
      "  warn('Radon transform: image must be zero outside the '\n",
      "D:\\Programming\\Anaconda\\envs\\image\\lib\\site-packages\\skimage\\transform\\radon_transform.py:63: UserWarning: Radon transform: image must be zero outside the reconstruction circle\n",
      "  warn('Radon transform: image must be zero outside the '\n"
     ]
    },
    {
     "name": "stdout",
     "output_type": "stream",
     "text": [
      "1069\n"
     ]
    },
    {
     "name": "stderr",
     "output_type": "stream",
     "text": [
      "D:\\Programming\\Anaconda\\envs\\image\\lib\\site-packages\\skimage\\transform\\radon_transform.py:63: UserWarning: Radon transform: image must be zero outside the reconstruction circle\n",
      "  warn('Radon transform: image must be zero outside the '\n",
      "D:\\Programming\\Anaconda\\envs\\image\\lib\\site-packages\\skimage\\transform\\radon_transform.py:63: UserWarning: Radon transform: image must be zero outside the reconstruction circle\n",
      "  warn('Radon transform: image must be zero outside the '\n",
      "D:\\Programming\\Anaconda\\envs\\image\\lib\\site-packages\\skimage\\transform\\radon_transform.py:63: UserWarning: Radon transform: image must be zero outside the reconstruction circle\n",
      "  warn('Radon transform: image must be zero outside the '\n",
      "D:\\Programming\\Anaconda\\envs\\image\\lib\\site-packages\\skimage\\transform\\radon_transform.py:63: UserWarning: Radon transform: image must be zero outside the reconstruction circle\n",
      "  warn('Radon transform: image must be zero outside the '\n",
      "D:\\Programming\\Anaconda\\envs\\image\\lib\\site-packages\\skimage\\transform\\radon_transform.py:63: UserWarning: Radon transform: image must be zero outside the reconstruction circle\n",
      "  warn('Radon transform: image must be zero outside the '\n",
      "D:\\Programming\\Anaconda\\envs\\image\\lib\\site-packages\\skimage\\transform\\radon_transform.py:63: UserWarning: Radon transform: image must be zero outside the reconstruction circle\n",
      "  warn('Radon transform: image must be zero outside the '\n"
     ]
    },
    {
     "name": "stdout",
     "output_type": "stream",
     "text": [
      "1075\n"
     ]
    },
    {
     "name": "stderr",
     "output_type": "stream",
     "text": [
      "D:\\Programming\\Anaconda\\envs\\image\\lib\\site-packages\\skimage\\transform\\radon_transform.py:63: UserWarning: Radon transform: image must be zero outside the reconstruction circle\n",
      "  warn('Radon transform: image must be zero outside the '\n",
      "D:\\Programming\\Anaconda\\envs\\image\\lib\\site-packages\\skimage\\transform\\radon_transform.py:63: UserWarning: Radon transform: image must be zero outside the reconstruction circle\n",
      "  warn('Radon transform: image must be zero outside the '\n",
      "D:\\Programming\\Anaconda\\envs\\image\\lib\\site-packages\\skimage\\transform\\radon_transform.py:63: UserWarning: Radon transform: image must be zero outside the reconstruction circle\n",
      "  warn('Radon transform: image must be zero outside the '\n"
     ]
    },
    {
     "name": "stdout",
     "output_type": "stream",
     "text": [
      "1078\n"
     ]
    },
    {
     "name": "stderr",
     "output_type": "stream",
     "text": [
      "D:\\Programming\\Anaconda\\envs\\image\\lib\\site-packages\\skimage\\transform\\radon_transform.py:63: UserWarning: Radon transform: image must be zero outside the reconstruction circle\n",
      "  warn('Radon transform: image must be zero outside the '\n",
      "D:\\Programming\\Anaconda\\envs\\image\\lib\\site-packages\\skimage\\transform\\radon_transform.py:63: UserWarning: Radon transform: image must be zero outside the reconstruction circle\n",
      "  warn('Radon transform: image must be zero outside the '\n",
      "D:\\Programming\\Anaconda\\envs\\image\\lib\\site-packages\\skimage\\transform\\radon_transform.py:63: UserWarning: Radon transform: image must be zero outside the reconstruction circle\n",
      "  warn('Radon transform: image must be zero outside the '\n"
     ]
    },
    {
     "name": "stdout",
     "output_type": "stream",
     "text": [
      "1081\n"
     ]
    },
    {
     "name": "stderr",
     "output_type": "stream",
     "text": [
      "D:\\Programming\\Anaconda\\envs\\image\\lib\\site-packages\\skimage\\transform\\radon_transform.py:63: UserWarning: Radon transform: image must be zero outside the reconstruction circle\n",
      "  warn('Radon transform: image must be zero outside the '\n",
      "D:\\Programming\\Anaconda\\envs\\image\\lib\\site-packages\\skimage\\transform\\radon_transform.py:63: UserWarning: Radon transform: image must be zero outside the reconstruction circle\n",
      "  warn('Radon transform: image must be zero outside the '\n",
      "D:\\Programming\\Anaconda\\envs\\image\\lib\\site-packages\\skimage\\transform\\radon_transform.py:63: UserWarning: Radon transform: image must be zero outside the reconstruction circle\n",
      "  warn('Radon transform: image must be zero outside the '\n",
      "D:\\Programming\\Anaconda\\envs\\image\\lib\\site-packages\\skimage\\transform\\radon_transform.py:63: UserWarning: Radon transform: image must be zero outside the reconstruction circle\n",
      "  warn('Radon transform: image must be zero outside the '\n",
      "D:\\Programming\\Anaconda\\envs\\image\\lib\\site-packages\\skimage\\transform\\radon_transform.py:63: UserWarning: Radon transform: image must be zero outside the reconstruction circle\n",
      "  warn('Radon transform: image must be zero outside the '\n",
      "D:\\Programming\\Anaconda\\envs\\image\\lib\\site-packages\\skimage\\transform\\radon_transform.py:63: UserWarning: Radon transform: image must be zero outside the reconstruction circle\n",
      "  warn('Radon transform: image must be zero outside the '\n"
     ]
    },
    {
     "name": "stdout",
     "output_type": "stream",
     "text": [
      "1087\n"
     ]
    },
    {
     "name": "stderr",
     "output_type": "stream",
     "text": [
      "D:\\Programming\\Anaconda\\envs\\image\\lib\\site-packages\\skimage\\transform\\radon_transform.py:63: UserWarning: Radon transform: image must be zero outside the reconstruction circle\n",
      "  warn('Radon transform: image must be zero outside the '\n"
     ]
    },
    {
     "name": "stdout",
     "output_type": "stream",
     "text": [
      "1088\n"
     ]
    },
    {
     "name": "stderr",
     "output_type": "stream",
     "text": [
      "D:\\Programming\\Anaconda\\envs\\image\\lib\\site-packages\\skimage\\transform\\radon_transform.py:63: UserWarning: Radon transform: image must be zero outside the reconstruction circle\n",
      "  warn('Radon transform: image must be zero outside the '\n",
      "D:\\Programming\\Anaconda\\envs\\image\\lib\\site-packages\\skimage\\transform\\radon_transform.py:63: UserWarning: Radon transform: image must be zero outside the reconstruction circle\n",
      "  warn('Radon transform: image must be zero outside the '\n"
     ]
    },
    {
     "name": "stdout",
     "output_type": "stream",
     "text": [
      "1090\n"
     ]
    },
    {
     "name": "stderr",
     "output_type": "stream",
     "text": [
      "D:\\Programming\\Anaconda\\envs\\image\\lib\\site-packages\\skimage\\transform\\radon_transform.py:63: UserWarning: Radon transform: image must be zero outside the reconstruction circle\n",
      "  warn('Radon transform: image must be zero outside the '\n",
      "D:\\Programming\\Anaconda\\envs\\image\\lib\\site-packages\\skimage\\transform\\radon_transform.py:63: UserWarning: Radon transform: image must be zero outside the reconstruction circle\n",
      "  warn('Radon transform: image must be zero outside the '\n",
      "D:\\Programming\\Anaconda\\envs\\image\\lib\\site-packages\\skimage\\transform\\radon_transform.py:63: UserWarning: Radon transform: image must be zero outside the reconstruction circle\n",
      "  warn('Radon transform: image must be zero outside the '\n"
     ]
    },
    {
     "name": "stdout",
     "output_type": "stream",
     "text": [
      "1093\n"
     ]
    },
    {
     "name": "stderr",
     "output_type": "stream",
     "text": [
      "D:\\Programming\\Anaconda\\envs\\image\\lib\\site-packages\\skimage\\transform\\radon_transform.py:63: UserWarning: Radon transform: image must be zero outside the reconstruction circle\n",
      "  warn('Radon transform: image must be zero outside the '\n",
      "D:\\Programming\\Anaconda\\envs\\image\\lib\\site-packages\\skimage\\transform\\radon_transform.py:63: UserWarning: Radon transform: image must be zero outside the reconstruction circle\n",
      "  warn('Radon transform: image must be zero outside the '\n",
      "D:\\Programming\\Anaconda\\envs\\image\\lib\\site-packages\\skimage\\transform\\radon_transform.py:63: UserWarning: Radon transform: image must be zero outside the reconstruction circle\n",
      "  warn('Radon transform: image must be zero outside the '\n",
      "D:\\Programming\\Anaconda\\envs\\image\\lib\\site-packages\\skimage\\transform\\radon_transform.py:63: UserWarning: Radon transform: image must be zero outside the reconstruction circle\n",
      "  warn('Radon transform: image must be zero outside the '\n",
      "D:\\Programming\\Anaconda\\envs\\image\\lib\\site-packages\\skimage\\transform\\radon_transform.py:63: UserWarning: Radon transform: image must be zero outside the reconstruction circle\n",
      "  warn('Radon transform: image must be zero outside the '\n"
     ]
    },
    {
     "name": "stdout",
     "output_type": "stream",
     "text": [
      "1098\n"
     ]
    },
    {
     "name": "stderr",
     "output_type": "stream",
     "text": [
      "D:\\Programming\\Anaconda\\envs\\image\\lib\\site-packages\\skimage\\transform\\radon_transform.py:63: UserWarning: Radon transform: image must be zero outside the reconstruction circle\n",
      "  warn('Radon transform: image must be zero outside the '\n",
      "D:\\Programming\\Anaconda\\envs\\image\\lib\\site-packages\\skimage\\transform\\radon_transform.py:63: UserWarning: Radon transform: image must be zero outside the reconstruction circle\n",
      "  warn('Radon transform: image must be zero outside the '\n",
      "D:\\Programming\\Anaconda\\envs\\image\\lib\\site-packages\\skimage\\transform\\radon_transform.py:63: UserWarning: Radon transform: image must be zero outside the reconstruction circle\n",
      "  warn('Radon transform: image must be zero outside the '\n",
      "D:\\Programming\\Anaconda\\envs\\image\\lib\\site-packages\\skimage\\transform\\radon_transform.py:63: UserWarning: Radon transform: image must be zero outside the reconstruction circle\n",
      "  warn('Radon transform: image must be zero outside the '\n"
     ]
    },
    {
     "name": "stdout",
     "output_type": "stream",
     "text": [
      "1102\n"
     ]
    },
    {
     "name": "stderr",
     "output_type": "stream",
     "text": [
      "D:\\Programming\\Anaconda\\envs\\image\\lib\\site-packages\\skimage\\transform\\radon_transform.py:63: UserWarning: Radon transform: image must be zero outside the reconstruction circle\n",
      "  warn('Radon transform: image must be zero outside the '\n",
      "D:\\Programming\\Anaconda\\envs\\image\\lib\\site-packages\\skimage\\transform\\radon_transform.py:63: UserWarning: Radon transform: image must be zero outside the reconstruction circle\n",
      "  warn('Radon transform: image must be zero outside the '\n"
     ]
    },
    {
     "name": "stdout",
     "output_type": "stream",
     "text": [
      "1104\n"
     ]
    },
    {
     "name": "stderr",
     "output_type": "stream",
     "text": [
      "D:\\Programming\\Anaconda\\envs\\image\\lib\\site-packages\\skimage\\transform\\radon_transform.py:63: UserWarning: Radon transform: image must be zero outside the reconstruction circle\n",
      "  warn('Radon transform: image must be zero outside the '\n",
      "D:\\Programming\\Anaconda\\envs\\image\\lib\\site-packages\\skimage\\transform\\radon_transform.py:63: UserWarning: Radon transform: image must be zero outside the reconstruction circle\n",
      "  warn('Radon transform: image must be zero outside the '\n",
      "D:\\Programming\\Anaconda\\envs\\image\\lib\\site-packages\\skimage\\transform\\radon_transform.py:63: UserWarning: Radon transform: image must be zero outside the reconstruction circle\n",
      "  warn('Radon transform: image must be zero outside the '\n",
      "D:\\Programming\\Anaconda\\envs\\image\\lib\\site-packages\\skimage\\transform\\radon_transform.py:63: UserWarning: Radon transform: image must be zero outside the reconstruction circle\n",
      "  warn('Radon transform: image must be zero outside the '\n",
      "D:\\Programming\\Anaconda\\envs\\image\\lib\\site-packages\\skimage\\transform\\radon_transform.py:63: UserWarning: Radon transform: image must be zero outside the reconstruction circle\n",
      "  warn('Radon transform: image must be zero outside the '\n",
      "D:\\Programming\\Anaconda\\envs\\image\\lib\\site-packages\\skimage\\transform\\radon_transform.py:63: UserWarning: Radon transform: image must be zero outside the reconstruction circle\n",
      "  warn('Radon transform: image must be zero outside the '\n",
      "D:\\Programming\\Anaconda\\envs\\image\\lib\\site-packages\\skimage\\transform\\radon_transform.py:63: UserWarning: Radon transform: image must be zero outside the reconstruction circle\n",
      "  warn('Radon transform: image must be zero outside the '\n",
      "D:\\Programming\\Anaconda\\envs\\image\\lib\\site-packages\\skimage\\transform\\radon_transform.py:63: UserWarning: Radon transform: image must be zero outside the reconstruction circle\n",
      "  warn('Radon transform: image must be zero outside the '\n",
      "D:\\Programming\\Anaconda\\envs\\image\\lib\\site-packages\\skimage\\transform\\radon_transform.py:63: UserWarning: Radon transform: image must be zero outside the reconstruction circle\n",
      "  warn('Radon transform: image must be zero outside the '\n",
      "D:\\Programming\\Anaconda\\envs\\image\\lib\\site-packages\\skimage\\transform\\radon_transform.py:63: UserWarning: Radon transform: image must be zero outside the reconstruction circle\n",
      "  warn('Radon transform: image must be zero outside the '\n",
      "D:\\Programming\\Anaconda\\envs\\image\\lib\\site-packages\\skimage\\transform\\radon_transform.py:63: UserWarning: Radon transform: image must be zero outside the reconstruction circle\n",
      "  warn('Radon transform: image must be zero outside the '\n",
      "D:\\Programming\\Anaconda\\envs\\image\\lib\\site-packages\\skimage\\transform\\radon_transform.py:63: UserWarning: Radon transform: image must be zero outside the reconstruction circle\n",
      "  warn('Radon transform: image must be zero outside the '\n",
      "D:\\Programming\\Anaconda\\envs\\image\\lib\\site-packages\\skimage\\transform\\radon_transform.py:63: UserWarning: Radon transform: image must be zero outside the reconstruction circle\n",
      "  warn('Radon transform: image must be zero outside the '\n",
      "D:\\Programming\\Anaconda\\envs\\image\\lib\\site-packages\\skimage\\transform\\radon_transform.py:63: UserWarning: Radon transform: image must be zero outside the reconstruction circle\n",
      "  warn('Radon transform: image must be zero outside the '\n",
      "D:\\Programming\\Anaconda\\envs\\image\\lib\\site-packages\\skimage\\transform\\radon_transform.py:63: UserWarning: Radon transform: image must be zero outside the reconstruction circle\n",
      "  warn('Radon transform: image must be zero outside the '\n"
     ]
    },
    {
     "name": "stdout",
     "output_type": "stream",
     "text": [
      "1119\n"
     ]
    },
    {
     "name": "stderr",
     "output_type": "stream",
     "text": [
      "D:\\Programming\\Anaconda\\envs\\image\\lib\\site-packages\\skimage\\transform\\radon_transform.py:63: UserWarning: Radon transform: image must be zero outside the reconstruction circle\n",
      "  warn('Radon transform: image must be zero outside the '\n"
     ]
    },
    {
     "name": "stdout",
     "output_type": "stream",
     "text": [
      "1120\n"
     ]
    },
    {
     "name": "stderr",
     "output_type": "stream",
     "text": [
      "D:\\Programming\\Anaconda\\envs\\image\\lib\\site-packages\\skimage\\transform\\radon_transform.py:63: UserWarning: Radon transform: image must be zero outside the reconstruction circle\n",
      "  warn('Radon transform: image must be zero outside the '\n"
     ]
    },
    {
     "name": "stdout",
     "output_type": "stream",
     "text": [
      "1121\n"
     ]
    },
    {
     "name": "stderr",
     "output_type": "stream",
     "text": [
      "D:\\Programming\\Anaconda\\envs\\image\\lib\\site-packages\\skimage\\transform\\radon_transform.py:63: UserWarning: Radon transform: image must be zero outside the reconstruction circle\n",
      "  warn('Radon transform: image must be zero outside the '\n",
      "D:\\Programming\\Anaconda\\envs\\image\\lib\\site-packages\\skimage\\transform\\radon_transform.py:63: UserWarning: Radon transform: image must be zero outside the reconstruction circle\n",
      "  warn('Radon transform: image must be zero outside the '\n",
      "D:\\Programming\\Anaconda\\envs\\image\\lib\\site-packages\\skimage\\transform\\radon_transform.py:63: UserWarning: Radon transform: image must be zero outside the reconstruction circle\n",
      "  warn('Radon transform: image must be zero outside the '\n"
     ]
    },
    {
     "name": "stdout",
     "output_type": "stream",
     "text": [
      "1124\n"
     ]
    },
    {
     "name": "stderr",
     "output_type": "stream",
     "text": [
      "D:\\Programming\\Anaconda\\envs\\image\\lib\\site-packages\\skimage\\transform\\radon_transform.py:63: UserWarning: Radon transform: image must be zero outside the reconstruction circle\n",
      "  warn('Radon transform: image must be zero outside the '\n",
      "D:\\Programming\\Anaconda\\envs\\image\\lib\\site-packages\\skimage\\transform\\radon_transform.py:63: UserWarning: Radon transform: image must be zero outside the reconstruction circle\n",
      "  warn('Radon transform: image must be zero outside the '\n",
      "D:\\Programming\\Anaconda\\envs\\image\\lib\\site-packages\\skimage\\transform\\radon_transform.py:63: UserWarning: Radon transform: image must be zero outside the reconstruction circle\n",
      "  warn('Radon transform: image must be zero outside the '\n",
      "D:\\Programming\\Anaconda\\envs\\image\\lib\\site-packages\\skimage\\transform\\radon_transform.py:63: UserWarning: Radon transform: image must be zero outside the reconstruction circle\n",
      "  warn('Radon transform: image must be zero outside the '\n",
      "D:\\Programming\\Anaconda\\envs\\image\\lib\\site-packages\\skimage\\transform\\radon_transform.py:63: UserWarning: Radon transform: image must be zero outside the reconstruction circle\n",
      "  warn('Radon transform: image must be zero outside the '\n",
      "D:\\Programming\\Anaconda\\envs\\image\\lib\\site-packages\\skimage\\transform\\radon_transform.py:63: UserWarning: Radon transform: image must be zero outside the reconstruction circle\n",
      "  warn('Radon transform: image must be zero outside the '\n",
      "D:\\Programming\\Anaconda\\envs\\image\\lib\\site-packages\\skimage\\transform\\radon_transform.py:63: UserWarning: Radon transform: image must be zero outside the reconstruction circle\n",
      "  warn('Radon transform: image must be zero outside the '\n",
      "D:\\Programming\\Anaconda\\envs\\image\\lib\\site-packages\\skimage\\transform\\radon_transform.py:63: UserWarning: Radon transform: image must be zero outside the reconstruction circle\n",
      "  warn('Radon transform: image must be zero outside the '\n",
      "D:\\Programming\\Anaconda\\envs\\image\\lib\\site-packages\\skimage\\transform\\radon_transform.py:63: UserWarning: Radon transform: image must be zero outside the reconstruction circle\n",
      "  warn('Radon transform: image must be zero outside the '\n",
      "D:\\Programming\\Anaconda\\envs\\image\\lib\\site-packages\\skimage\\transform\\radon_transform.py:63: UserWarning: Radon transform: image must be zero outside the reconstruction circle\n",
      "  warn('Radon transform: image must be zero outside the '\n",
      "D:\\Programming\\Anaconda\\envs\\image\\lib\\site-packages\\skimage\\transform\\radon_transform.py:63: UserWarning: Radon transform: image must be zero outside the reconstruction circle\n",
      "  warn('Radon transform: image must be zero outside the '\n",
      "D:\\Programming\\Anaconda\\envs\\image\\lib\\site-packages\\skimage\\transform\\radon_transform.py:63: UserWarning: Radon transform: image must be zero outside the reconstruction circle\n",
      "  warn('Radon transform: image must be zero outside the '\n",
      "D:\\Programming\\Anaconda\\envs\\image\\lib\\site-packages\\skimage\\transform\\radon_transform.py:63: UserWarning: Radon transform: image must be zero outside the reconstruction circle\n",
      "  warn('Radon transform: image must be zero outside the '\n"
     ]
    },
    {
     "name": "stdout",
     "output_type": "stream",
     "text": [
      "1137\n"
     ]
    },
    {
     "name": "stderr",
     "output_type": "stream",
     "text": [
      "D:\\Programming\\Anaconda\\envs\\image\\lib\\site-packages\\skimage\\transform\\radon_transform.py:63: UserWarning: Radon transform: image must be zero outside the reconstruction circle\n",
      "  warn('Radon transform: image must be zero outside the '\n",
      "D:\\Programming\\Anaconda\\envs\\image\\lib\\site-packages\\skimage\\transform\\radon_transform.py:63: UserWarning: Radon transform: image must be zero outside the reconstruction circle\n",
      "  warn('Radon transform: image must be zero outside the '\n",
      "D:\\Programming\\Anaconda\\envs\\image\\lib\\site-packages\\skimage\\transform\\radon_transform.py:63: UserWarning: Radon transform: image must be zero outside the reconstruction circle\n",
      "  warn('Radon transform: image must be zero outside the '\n",
      "D:\\Programming\\Anaconda\\envs\\image\\lib\\site-packages\\skimage\\transform\\radon_transform.py:63: UserWarning: Radon transform: image must be zero outside the reconstruction circle\n",
      "  warn('Radon transform: image must be zero outside the '\n",
      "D:\\Programming\\Anaconda\\envs\\image\\lib\\site-packages\\skimage\\transform\\radon_transform.py:63: UserWarning: Radon transform: image must be zero outside the reconstruction circle\n",
      "  warn('Radon transform: image must be zero outside the '\n",
      "D:\\Programming\\Anaconda\\envs\\image\\lib\\site-packages\\skimage\\transform\\radon_transform.py:63: UserWarning: Radon transform: image must be zero outside the reconstruction circle\n",
      "  warn('Radon transform: image must be zero outside the '\n"
     ]
    },
    {
     "name": "stdout",
     "output_type": "stream",
     "text": [
      "1143\n"
     ]
    },
    {
     "name": "stderr",
     "output_type": "stream",
     "text": [
      "D:\\Programming\\Anaconda\\envs\\image\\lib\\site-packages\\skimage\\transform\\radon_transform.py:63: UserWarning: Radon transform: image must be zero outside the reconstruction circle\n",
      "  warn('Radon transform: image must be zero outside the '\n",
      "D:\\Programming\\Anaconda\\envs\\image\\lib\\site-packages\\skimage\\transform\\radon_transform.py:63: UserWarning: Radon transform: image must be zero outside the reconstruction circle\n",
      "  warn('Radon transform: image must be zero outside the '\n",
      "D:\\Programming\\Anaconda\\envs\\image\\lib\\site-packages\\skimage\\transform\\radon_transform.py:63: UserWarning: Radon transform: image must be zero outside the reconstruction circle\n",
      "  warn('Radon transform: image must be zero outside the '\n",
      "D:\\Programming\\Anaconda\\envs\\image\\lib\\site-packages\\skimage\\transform\\radon_transform.py:63: UserWarning: Radon transform: image must be zero outside the reconstruction circle\n",
      "  warn('Radon transform: image must be zero outside the '\n",
      "D:\\Programming\\Anaconda\\envs\\image\\lib\\site-packages\\skimage\\transform\\radon_transform.py:63: UserWarning: Radon transform: image must be zero outside the reconstruction circle\n",
      "  warn('Radon transform: image must be zero outside the '\n",
      "D:\\Programming\\Anaconda\\envs\\image\\lib\\site-packages\\skimage\\transform\\radon_transform.py:63: UserWarning: Radon transform: image must be zero outside the reconstruction circle\n",
      "  warn('Radon transform: image must be zero outside the '\n",
      "D:\\Programming\\Anaconda\\envs\\image\\lib\\site-packages\\skimage\\transform\\radon_transform.py:63: UserWarning: Radon transform: image must be zero outside the reconstruction circle\n",
      "  warn('Radon transform: image must be zero outside the '\n"
     ]
    },
    {
     "name": "stdout",
     "output_type": "stream",
     "text": [
      "1150\n"
     ]
    },
    {
     "name": "stderr",
     "output_type": "stream",
     "text": [
      "D:\\Programming\\Anaconda\\envs\\image\\lib\\site-packages\\skimage\\transform\\radon_transform.py:63: UserWarning: Radon transform: image must be zero outside the reconstruction circle\n",
      "  warn('Radon transform: image must be zero outside the '\n",
      "D:\\Programming\\Anaconda\\envs\\image\\lib\\site-packages\\skimage\\transform\\radon_transform.py:63: UserWarning: Radon transform: image must be zero outside the reconstruction circle\n",
      "  warn('Radon transform: image must be zero outside the '\n",
      "D:\\Programming\\Anaconda\\envs\\image\\lib\\site-packages\\skimage\\transform\\radon_transform.py:63: UserWarning: Radon transform: image must be zero outside the reconstruction circle\n",
      "  warn('Radon transform: image must be zero outside the '\n",
      "D:\\Programming\\Anaconda\\envs\\image\\lib\\site-packages\\skimage\\transform\\radon_transform.py:63: UserWarning: Radon transform: image must be zero outside the reconstruction circle\n",
      "  warn('Radon transform: image must be zero outside the '\n",
      "D:\\Programming\\Anaconda\\envs\\image\\lib\\site-packages\\skimage\\transform\\radon_transform.py:63: UserWarning: Radon transform: image must be zero outside the reconstruction circle\n",
      "  warn('Radon transform: image must be zero outside the '\n",
      "D:\\Programming\\Anaconda\\envs\\image\\lib\\site-packages\\skimage\\transform\\radon_transform.py:63: UserWarning: Radon transform: image must be zero outside the reconstruction circle\n",
      "  warn('Radon transform: image must be zero outside the '\n",
      "D:\\Programming\\Anaconda\\envs\\image\\lib\\site-packages\\skimage\\transform\\radon_transform.py:63: UserWarning: Radon transform: image must be zero outside the reconstruction circle\n",
      "  warn('Radon transform: image must be zero outside the '\n",
      "D:\\Programming\\Anaconda\\envs\\image\\lib\\site-packages\\skimage\\transform\\radon_transform.py:63: UserWarning: Radon transform: image must be zero outside the reconstruction circle\n",
      "  warn('Radon transform: image must be zero outside the '\n",
      "D:\\Programming\\Anaconda\\envs\\image\\lib\\site-packages\\skimage\\transform\\radon_transform.py:63: UserWarning: Radon transform: image must be zero outside the reconstruction circle\n",
      "  warn('Radon transform: image must be zero outside the '\n",
      "D:\\Programming\\Anaconda\\envs\\image\\lib\\site-packages\\skimage\\transform\\radon_transform.py:63: UserWarning: Radon transform: image must be zero outside the reconstruction circle\n",
      "  warn('Radon transform: image must be zero outside the '\n",
      "D:\\Programming\\Anaconda\\envs\\image\\lib\\site-packages\\skimage\\transform\\radon_transform.py:63: UserWarning: Radon transform: image must be zero outside the reconstruction circle\n",
      "  warn('Radon transform: image must be zero outside the '\n",
      "D:\\Programming\\Anaconda\\envs\\image\\lib\\site-packages\\skimage\\transform\\radon_transform.py:63: UserWarning: Radon transform: image must be zero outside the reconstruction circle\n",
      "  warn('Radon transform: image must be zero outside the '\n",
      "D:\\Programming\\Anaconda\\envs\\image\\lib\\site-packages\\skimage\\transform\\radon_transform.py:63: UserWarning: Radon transform: image must be zero outside the reconstruction circle\n",
      "  warn('Radon transform: image must be zero outside the '\n",
      "D:\\Programming\\Anaconda\\envs\\image\\lib\\site-packages\\skimage\\transform\\radon_transform.py:63: UserWarning: Radon transform: image must be zero outside the reconstruction circle\n",
      "  warn('Radon transform: image must be zero outside the '\n",
      "D:\\Programming\\Anaconda\\envs\\image\\lib\\site-packages\\skimage\\transform\\radon_transform.py:63: UserWarning: Radon transform: image must be zero outside the reconstruction circle\n",
      "  warn('Radon transform: image must be zero outside the '\n",
      "D:\\Programming\\Anaconda\\envs\\image\\lib\\site-packages\\skimage\\transform\\radon_transform.py:63: UserWarning: Radon transform: image must be zero outside the reconstruction circle\n",
      "  warn('Radon transform: image must be zero outside the '\n",
      "D:\\Programming\\Anaconda\\envs\\image\\lib\\site-packages\\skimage\\transform\\radon_transform.py:63: UserWarning: Radon transform: image must be zero outside the reconstruction circle\n",
      "  warn('Radon transform: image must be zero outside the '\n",
      "D:\\Programming\\Anaconda\\envs\\image\\lib\\site-packages\\skimage\\transform\\radon_transform.py:63: UserWarning: Radon transform: image must be zero outside the reconstruction circle\n",
      "  warn('Radon transform: image must be zero outside the '\n",
      "D:\\Programming\\Anaconda\\envs\\image\\lib\\site-packages\\skimage\\transform\\radon_transform.py:63: UserWarning: Radon transform: image must be zero outside the reconstruction circle\n",
      "  warn('Radon transform: image must be zero outside the '\n",
      "D:\\Programming\\Anaconda\\envs\\image\\lib\\site-packages\\skimage\\transform\\radon_transform.py:63: UserWarning: Radon transform: image must be zero outside the reconstruction circle\n",
      "  warn('Radon transform: image must be zero outside the '\n",
      "D:\\Programming\\Anaconda\\envs\\image\\lib\\site-packages\\skimage\\transform\\radon_transform.py:63: UserWarning: Radon transform: image must be zero outside the reconstruction circle\n",
      "  warn('Radon transform: image must be zero outside the '\n",
      "D:\\Programming\\Anaconda\\envs\\image\\lib\\site-packages\\skimage\\transform\\radon_transform.py:63: UserWarning: Radon transform: image must be zero outside the reconstruction circle\n",
      "  warn('Radon transform: image must be zero outside the '\n",
      "D:\\Programming\\Anaconda\\envs\\image\\lib\\site-packages\\skimage\\transform\\radon_transform.py:63: UserWarning: Radon transform: image must be zero outside the reconstruction circle\n",
      "  warn('Radon transform: image must be zero outside the '\n"
     ]
    },
    {
     "name": "stdout",
     "output_type": "stream",
     "text": [
      "1173\n"
     ]
    },
    {
     "name": "stderr",
     "output_type": "stream",
     "text": [
      "D:\\Programming\\Anaconda\\envs\\image\\lib\\site-packages\\skimage\\transform\\radon_transform.py:63: UserWarning: Radon transform: image must be zero outside the reconstruction circle\n",
      "  warn('Radon transform: image must be zero outside the '\n",
      "D:\\Programming\\Anaconda\\envs\\image\\lib\\site-packages\\skimage\\transform\\radon_transform.py:63: UserWarning: Radon transform: image must be zero outside the reconstruction circle\n",
      "  warn('Radon transform: image must be zero outside the '\n"
     ]
    },
    {
     "name": "stdout",
     "output_type": "stream",
     "text": [
      "1175\n"
     ]
    },
    {
     "name": "stderr",
     "output_type": "stream",
     "text": [
      "D:\\Programming\\Anaconda\\envs\\image\\lib\\site-packages\\skimage\\transform\\radon_transform.py:63: UserWarning: Radon transform: image must be zero outside the reconstruction circle\n",
      "  warn('Radon transform: image must be zero outside the '\n",
      "D:\\Programming\\Anaconda\\envs\\image\\lib\\site-packages\\skimage\\transform\\radon_transform.py:63: UserWarning: Radon transform: image must be zero outside the reconstruction circle\n",
      "  warn('Radon transform: image must be zero outside the '\n",
      "D:\\Programming\\Anaconda\\envs\\image\\lib\\site-packages\\skimage\\transform\\radon_transform.py:63: UserWarning: Radon transform: image must be zero outside the reconstruction circle\n",
      "  warn('Radon transform: image must be zero outside the '\n",
      "D:\\Programming\\Anaconda\\envs\\image\\lib\\site-packages\\skimage\\transform\\radon_transform.py:63: UserWarning: Radon transform: image must be zero outside the reconstruction circle\n",
      "  warn('Radon transform: image must be zero outside the '\n",
      "D:\\Programming\\Anaconda\\envs\\image\\lib\\site-packages\\skimage\\transform\\radon_transform.py:63: UserWarning: Radon transform: image must be zero outside the reconstruction circle\n",
      "  warn('Radon transform: image must be zero outside the '\n",
      "D:\\Programming\\Anaconda\\envs\\image\\lib\\site-packages\\skimage\\transform\\radon_transform.py:63: UserWarning: Radon transform: image must be zero outside the reconstruction circle\n",
      "  warn('Radon transform: image must be zero outside the '\n",
      "D:\\Programming\\Anaconda\\envs\\image\\lib\\site-packages\\skimage\\transform\\radon_transform.py:63: UserWarning: Radon transform: image must be zero outside the reconstruction circle\n",
      "  warn('Radon transform: image must be zero outside the '\n",
      "D:\\Programming\\Anaconda\\envs\\image\\lib\\site-packages\\skimage\\transform\\radon_transform.py:63: UserWarning: Radon transform: image must be zero outside the reconstruction circle\n",
      "  warn('Radon transform: image must be zero outside the '\n",
      "D:\\Programming\\Anaconda\\envs\\image\\lib\\site-packages\\skimage\\transform\\radon_transform.py:63: UserWarning: Radon transform: image must be zero outside the reconstruction circle\n",
      "  warn('Radon transform: image must be zero outside the '\n",
      "D:\\Programming\\Anaconda\\envs\\image\\lib\\site-packages\\skimage\\transform\\radon_transform.py:63: UserWarning: Radon transform: image must be zero outside the reconstruction circle\n",
      "  warn('Radon transform: image must be zero outside the '\n",
      "D:\\Programming\\Anaconda\\envs\\image\\lib\\site-packages\\skimage\\transform\\radon_transform.py:63: UserWarning: Radon transform: image must be zero outside the reconstruction circle\n",
      "  warn('Radon transform: image must be zero outside the '\n"
     ]
    },
    {
     "name": "stdout",
     "output_type": "stream",
     "text": [
      "1186\n"
     ]
    },
    {
     "name": "stderr",
     "output_type": "stream",
     "text": [
      "D:\\Programming\\Anaconda\\envs\\image\\lib\\site-packages\\skimage\\transform\\radon_transform.py:63: UserWarning: Radon transform: image must be zero outside the reconstruction circle\n",
      "  warn('Radon transform: image must be zero outside the '\n",
      "D:\\Programming\\Anaconda\\envs\\image\\lib\\site-packages\\skimage\\transform\\radon_transform.py:63: UserWarning: Radon transform: image must be zero outside the reconstruction circle\n",
      "  warn('Radon transform: image must be zero outside the '\n",
      "D:\\Programming\\Anaconda\\envs\\image\\lib\\site-packages\\skimage\\transform\\radon_transform.py:63: UserWarning: Radon transform: image must be zero outside the reconstruction circle\n",
      "  warn('Radon transform: image must be zero outside the '\n",
      "D:\\Programming\\Anaconda\\envs\\image\\lib\\site-packages\\skimage\\transform\\radon_transform.py:63: UserWarning: Radon transform: image must be zero outside the reconstruction circle\n",
      "  warn('Radon transform: image must be zero outside the '\n",
      "D:\\Programming\\Anaconda\\envs\\image\\lib\\site-packages\\skimage\\transform\\radon_transform.py:63: UserWarning: Radon transform: image must be zero outside the reconstruction circle\n",
      "  warn('Radon transform: image must be zero outside the '\n",
      "D:\\Programming\\Anaconda\\envs\\image\\lib\\site-packages\\skimage\\transform\\radon_transform.py:63: UserWarning: Radon transform: image must be zero outside the reconstruction circle\n",
      "  warn('Radon transform: image must be zero outside the '\n",
      "D:\\Programming\\Anaconda\\envs\\image\\lib\\site-packages\\skimage\\transform\\radon_transform.py:63: UserWarning: Radon transform: image must be zero outside the reconstruction circle\n",
      "  warn('Radon transform: image must be zero outside the '\n",
      "D:\\Programming\\Anaconda\\envs\\image\\lib\\site-packages\\skimage\\transform\\radon_transform.py:63: UserWarning: Radon transform: image must be zero outside the reconstruction circle\n",
      "  warn('Radon transform: image must be zero outside the '\n",
      "D:\\Programming\\Anaconda\\envs\\image\\lib\\site-packages\\skimage\\transform\\radon_transform.py:63: UserWarning: Radon transform: image must be zero outside the reconstruction circle\n",
      "  warn('Radon transform: image must be zero outside the '\n",
      "D:\\Programming\\Anaconda\\envs\\image\\lib\\site-packages\\skimage\\transform\\radon_transform.py:63: UserWarning: Radon transform: image must be zero outside the reconstruction circle\n",
      "  warn('Radon transform: image must be zero outside the '\n",
      "D:\\Programming\\Anaconda\\envs\\image\\lib\\site-packages\\skimage\\transform\\radon_transform.py:63: UserWarning: Radon transform: image must be zero outside the reconstruction circle\n",
      "  warn('Radon transform: image must be zero outside the '\n",
      "D:\\Programming\\Anaconda\\envs\\image\\lib\\site-packages\\skimage\\transform\\radon_transform.py:63: UserWarning: Radon transform: image must be zero outside the reconstruction circle\n",
      "  warn('Radon transform: image must be zero outside the '\n",
      "D:\\Programming\\Anaconda\\envs\\image\\lib\\site-packages\\skimage\\transform\\radon_transform.py:63: UserWarning: Radon transform: image must be zero outside the reconstruction circle\n",
      "  warn('Radon transform: image must be zero outside the '\n"
     ]
    },
    {
     "name": "stdout",
     "output_type": "stream",
     "text": [
      "1199\n"
     ]
    },
    {
     "name": "stderr",
     "output_type": "stream",
     "text": [
      "D:\\Programming\\Anaconda\\envs\\image\\lib\\site-packages\\skimage\\transform\\radon_transform.py:63: UserWarning: Radon transform: image must be zero outside the reconstruction circle\n",
      "  warn('Radon transform: image must be zero outside the '\n"
     ]
    },
    {
     "name": "stdout",
     "output_type": "stream",
     "text": [
      "1200\n"
     ]
    },
    {
     "name": "stderr",
     "output_type": "stream",
     "text": [
      "D:\\Programming\\Anaconda\\envs\\image\\lib\\site-packages\\skimage\\transform\\radon_transform.py:63: UserWarning: Radon transform: image must be zero outside the reconstruction circle\n",
      "  warn('Radon transform: image must be zero outside the '\n",
      "D:\\Programming\\Anaconda\\envs\\image\\lib\\site-packages\\skimage\\transform\\radon_transform.py:63: UserWarning: Radon transform: image must be zero outside the reconstruction circle\n",
      "  warn('Radon transform: image must be zero outside the '\n"
     ]
    },
    {
     "name": "stdout",
     "output_type": "stream",
     "text": [
      "1202\n"
     ]
    },
    {
     "name": "stderr",
     "output_type": "stream",
     "text": [
      "D:\\Programming\\Anaconda\\envs\\image\\lib\\site-packages\\skimage\\transform\\radon_transform.py:63: UserWarning: Radon transform: image must be zero outside the reconstruction circle\n",
      "  warn('Radon transform: image must be zero outside the '\n"
     ]
    },
    {
     "name": "stdout",
     "output_type": "stream",
     "text": [
      "1203\n"
     ]
    },
    {
     "name": "stderr",
     "output_type": "stream",
     "text": [
      "D:\\Programming\\Anaconda\\envs\\image\\lib\\site-packages\\skimage\\transform\\radon_transform.py:63: UserWarning: Radon transform: image must be zero outside the reconstruction circle\n",
      "  warn('Radon transform: image must be zero outside the '\n"
     ]
    },
    {
     "name": "stdout",
     "output_type": "stream",
     "text": [
      "1204\n"
     ]
    },
    {
     "name": "stderr",
     "output_type": "stream",
     "text": [
      "D:\\Programming\\Anaconda\\envs\\image\\lib\\site-packages\\skimage\\transform\\radon_transform.py:63: UserWarning: Radon transform: image must be zero outside the reconstruction circle\n",
      "  warn('Radon transform: image must be zero outside the '\n",
      "D:\\Programming\\Anaconda\\envs\\image\\lib\\site-packages\\skimage\\transform\\radon_transform.py:63: UserWarning: Radon transform: image must be zero outside the reconstruction circle\n",
      "  warn('Radon transform: image must be zero outside the '\n",
      "D:\\Programming\\Anaconda\\envs\\image\\lib\\site-packages\\skimage\\transform\\radon_transform.py:63: UserWarning: Radon transform: image must be zero outside the reconstruction circle\n",
      "  warn('Radon transform: image must be zero outside the '\n",
      "D:\\Programming\\Anaconda\\envs\\image\\lib\\site-packages\\skimage\\transform\\radon_transform.py:63: UserWarning: Radon transform: image must be zero outside the reconstruction circle\n",
      "  warn('Radon transform: image must be zero outside the '\n",
      "D:\\Programming\\Anaconda\\envs\\image\\lib\\site-packages\\skimage\\transform\\radon_transform.py:63: UserWarning: Radon transform: image must be zero outside the reconstruction circle\n",
      "  warn('Radon transform: image must be zero outside the '\n",
      "D:\\Programming\\Anaconda\\envs\\image\\lib\\site-packages\\skimage\\transform\\radon_transform.py:63: UserWarning: Radon transform: image must be zero outside the reconstruction circle\n",
      "  warn('Radon transform: image must be zero outside the '\n",
      "D:\\Programming\\Anaconda\\envs\\image\\lib\\site-packages\\skimage\\transform\\radon_transform.py:63: UserWarning: Radon transform: image must be zero outside the reconstruction circle\n",
      "  warn('Radon transform: image must be zero outside the '\n",
      "D:\\Programming\\Anaconda\\envs\\image\\lib\\site-packages\\skimage\\transform\\radon_transform.py:63: UserWarning: Radon transform: image must be zero outside the reconstruction circle\n",
      "  warn('Radon transform: image must be zero outside the '\n",
      "D:\\Programming\\Anaconda\\envs\\image\\lib\\site-packages\\skimage\\transform\\radon_transform.py:63: UserWarning: Radon transform: image must be zero outside the reconstruction circle\n",
      "  warn('Radon transform: image must be zero outside the '\n",
      "D:\\Programming\\Anaconda\\envs\\image\\lib\\site-packages\\skimage\\transform\\radon_transform.py:63: UserWarning: Radon transform: image must be zero outside the reconstruction circle\n",
      "  warn('Radon transform: image must be zero outside the '\n",
      "D:\\Programming\\Anaconda\\envs\\image\\lib\\site-packages\\skimage\\transform\\radon_transform.py:63: UserWarning: Radon transform: image must be zero outside the reconstruction circle\n",
      "  warn('Radon transform: image must be zero outside the '\n",
      "D:\\Programming\\Anaconda\\envs\\image\\lib\\site-packages\\skimage\\transform\\radon_transform.py:63: UserWarning: Radon transform: image must be zero outside the reconstruction circle\n",
      "  warn('Radon transform: image must be zero outside the '\n",
      "D:\\Programming\\Anaconda\\envs\\image\\lib\\site-packages\\skimage\\transform\\radon_transform.py:63: UserWarning: Radon transform: image must be zero outside the reconstruction circle\n",
      "  warn('Radon transform: image must be zero outside the '\n",
      "D:\\Programming\\Anaconda\\envs\\image\\lib\\site-packages\\skimage\\transform\\radon_transform.py:63: UserWarning: Radon transform: image must be zero outside the reconstruction circle\n",
      "  warn('Radon transform: image must be zero outside the '\n",
      "D:\\Programming\\Anaconda\\envs\\image\\lib\\site-packages\\skimage\\transform\\radon_transform.py:63: UserWarning: Radon transform: image must be zero outside the reconstruction circle\n",
      "  warn('Radon transform: image must be zero outside the '\n",
      "D:\\Programming\\Anaconda\\envs\\image\\lib\\site-packages\\skimage\\transform\\radon_transform.py:63: UserWarning: Radon transform: image must be zero outside the reconstruction circle\n",
      "  warn('Radon transform: image must be zero outside the '\n",
      "D:\\Programming\\Anaconda\\envs\\image\\lib\\site-packages\\skimage\\transform\\radon_transform.py:63: UserWarning: Radon transform: image must be zero outside the reconstruction circle\n",
      "  warn('Radon transform: image must be zero outside the '\n",
      "D:\\Programming\\Anaconda\\envs\\image\\lib\\site-packages\\skimage\\transform\\radon_transform.py:63: UserWarning: Radon transform: image must be zero outside the reconstruction circle\n",
      "  warn('Radon transform: image must be zero outside the '\n",
      "D:\\Programming\\Anaconda\\envs\\image\\lib\\site-packages\\skimage\\transform\\radon_transform.py:63: UserWarning: Radon transform: image must be zero outside the reconstruction circle\n",
      "  warn('Radon transform: image must be zero outside the '\n"
     ]
    },
    {
     "name": "stdout",
     "output_type": "stream",
     "text": [
      "1223\n"
     ]
    },
    {
     "name": "stderr",
     "output_type": "stream",
     "text": [
      "D:\\Programming\\Anaconda\\envs\\image\\lib\\site-packages\\skimage\\transform\\radon_transform.py:63: UserWarning: Radon transform: image must be zero outside the reconstruction circle\n",
      "  warn('Radon transform: image must be zero outside the '\n",
      "D:\\Programming\\Anaconda\\envs\\image\\lib\\site-packages\\skimage\\transform\\radon_transform.py:63: UserWarning: Radon transform: image must be zero outside the reconstruction circle\n",
      "  warn('Radon transform: image must be zero outside the '\n"
     ]
    },
    {
     "name": "stdout",
     "output_type": "stream",
     "text": [
      "1225\n"
     ]
    },
    {
     "name": "stderr",
     "output_type": "stream",
     "text": [
      "D:\\Programming\\Anaconda\\envs\\image\\lib\\site-packages\\skimage\\transform\\radon_transform.py:63: UserWarning: Radon transform: image must be zero outside the reconstruction circle\n",
      "  warn('Radon transform: image must be zero outside the '\n",
      "D:\\Programming\\Anaconda\\envs\\image\\lib\\site-packages\\skimage\\transform\\radon_transform.py:63: UserWarning: Radon transform: image must be zero outside the reconstruction circle\n",
      "  warn('Radon transform: image must be zero outside the '\n",
      "D:\\Programming\\Anaconda\\envs\\image\\lib\\site-packages\\skimage\\transform\\radon_transform.py:63: UserWarning: Radon transform: image must be zero outside the reconstruction circle\n",
      "  warn('Radon transform: image must be zero outside the '\n",
      "D:\\Programming\\Anaconda\\envs\\image\\lib\\site-packages\\skimage\\transform\\radon_transform.py:63: UserWarning: Radon transform: image must be zero outside the reconstruction circle\n",
      "  warn('Radon transform: image must be zero outside the '\n"
     ]
    },
    {
     "name": "stdout",
     "output_type": "stream",
     "text": [
      "1229\n"
     ]
    },
    {
     "name": "stderr",
     "output_type": "stream",
     "text": [
      "D:\\Programming\\Anaconda\\envs\\image\\lib\\site-packages\\skimage\\transform\\radon_transform.py:63: UserWarning: Radon transform: image must be zero outside the reconstruction circle\n",
      "  warn('Radon transform: image must be zero outside the '\n",
      "D:\\Programming\\Anaconda\\envs\\image\\lib\\site-packages\\skimage\\transform\\radon_transform.py:63: UserWarning: Radon transform: image must be zero outside the reconstruction circle\n",
      "  warn('Radon transform: image must be zero outside the '\n",
      "D:\\Programming\\Anaconda\\envs\\image\\lib\\site-packages\\skimage\\transform\\radon_transform.py:63: UserWarning: Radon transform: image must be zero outside the reconstruction circle\n",
      "  warn('Radon transform: image must be zero outside the '\n"
     ]
    },
    {
     "name": "stdout",
     "output_type": "stream",
     "text": [
      "1232\n"
     ]
    },
    {
     "name": "stderr",
     "output_type": "stream",
     "text": [
      "D:\\Programming\\Anaconda\\envs\\image\\lib\\site-packages\\skimage\\transform\\radon_transform.py:63: UserWarning: Radon transform: image must be zero outside the reconstruction circle\n",
      "  warn('Radon transform: image must be zero outside the '\n"
     ]
    },
    {
     "name": "stdout",
     "output_type": "stream",
     "text": [
      "1233\n"
     ]
    },
    {
     "name": "stderr",
     "output_type": "stream",
     "text": [
      "D:\\Programming\\Anaconda\\envs\\image\\lib\\site-packages\\skimage\\transform\\radon_transform.py:63: UserWarning: Radon transform: image must be zero outside the reconstruction circle\n",
      "  warn('Radon transform: image must be zero outside the '\n",
      "D:\\Programming\\Anaconda\\envs\\image\\lib\\site-packages\\skimage\\transform\\radon_transform.py:63: UserWarning: Radon transform: image must be zero outside the reconstruction circle\n",
      "  warn('Radon transform: image must be zero outside the '\n",
      "D:\\Programming\\Anaconda\\envs\\image\\lib\\site-packages\\skimage\\transform\\radon_transform.py:63: UserWarning: Radon transform: image must be zero outside the reconstruction circle\n",
      "  warn('Radon transform: image must be zero outside the '\n",
      "D:\\Programming\\Anaconda\\envs\\image\\lib\\site-packages\\skimage\\transform\\radon_transform.py:63: UserWarning: Radon transform: image must be zero outside the reconstruction circle\n",
      "  warn('Radon transform: image must be zero outside the '\n",
      "D:\\Programming\\Anaconda\\envs\\image\\lib\\site-packages\\skimage\\transform\\radon_transform.py:63: UserWarning: Radon transform: image must be zero outside the reconstruction circle\n",
      "  warn('Radon transform: image must be zero outside the '\n",
      "D:\\Programming\\Anaconda\\envs\\image\\lib\\site-packages\\skimage\\transform\\radon_transform.py:63: UserWarning: Radon transform: image must be zero outside the reconstruction circle\n",
      "  warn('Radon transform: image must be zero outside the '\n"
     ]
    },
    {
     "name": "stdout",
     "output_type": "stream",
     "text": [
      "1239\n"
     ]
    },
    {
     "name": "stderr",
     "output_type": "stream",
     "text": [
      "D:\\Programming\\Anaconda\\envs\\image\\lib\\site-packages\\skimage\\transform\\radon_transform.py:63: UserWarning: Radon transform: image must be zero outside the reconstruction circle\n",
      "  warn('Radon transform: image must be zero outside the '\n",
      "D:\\Programming\\Anaconda\\envs\\image\\lib\\site-packages\\skimage\\transform\\radon_transform.py:63: UserWarning: Radon transform: image must be zero outside the reconstruction circle\n",
      "  warn('Radon transform: image must be zero outside the '\n"
     ]
    },
    {
     "name": "stdout",
     "output_type": "stream",
     "text": [
      "1241\n"
     ]
    },
    {
     "name": "stderr",
     "output_type": "stream",
     "text": [
      "D:\\Programming\\Anaconda\\envs\\image\\lib\\site-packages\\skimage\\transform\\radon_transform.py:63: UserWarning: Radon transform: image must be zero outside the reconstruction circle\n",
      "  warn('Radon transform: image must be zero outside the '\n",
      "D:\\Programming\\Anaconda\\envs\\image\\lib\\site-packages\\skimage\\transform\\radon_transform.py:63: UserWarning: Radon transform: image must be zero outside the reconstruction circle\n",
      "  warn('Radon transform: image must be zero outside the '\n",
      "D:\\Programming\\Anaconda\\envs\\image\\lib\\site-packages\\skimage\\transform\\radon_transform.py:63: UserWarning: Radon transform: image must be zero outside the reconstruction circle\n",
      "  warn('Radon transform: image must be zero outside the '\n",
      "D:\\Programming\\Anaconda\\envs\\image\\lib\\site-packages\\skimage\\transform\\radon_transform.py:63: UserWarning: Radon transform: image must be zero outside the reconstruction circle\n",
      "  warn('Radon transform: image must be zero outside the '\n",
      "D:\\Programming\\Anaconda\\envs\\image\\lib\\site-packages\\skimage\\transform\\radon_transform.py:63: UserWarning: Radon transform: image must be zero outside the reconstruction circle\n",
      "  warn('Radon transform: image must be zero outside the '\n"
     ]
    },
    {
     "name": "stdout",
     "output_type": "stream",
     "text": [
      "1246\n"
     ]
    },
    {
     "name": "stderr",
     "output_type": "stream",
     "text": [
      "D:\\Programming\\Anaconda\\envs\\image\\lib\\site-packages\\skimage\\transform\\radon_transform.py:63: UserWarning: Radon transform: image must be zero outside the reconstruction circle\n",
      "  warn('Radon transform: image must be zero outside the '\n",
      "D:\\Programming\\Anaconda\\envs\\image\\lib\\site-packages\\skimage\\transform\\radon_transform.py:63: UserWarning: Radon transform: image must be zero outside the reconstruction circle\n",
      "  warn('Radon transform: image must be zero outside the '\n"
     ]
    },
    {
     "name": "stdout",
     "output_type": "stream",
     "text": [
      "1248\n"
     ]
    },
    {
     "name": "stderr",
     "output_type": "stream",
     "text": [
      "D:\\Programming\\Anaconda\\envs\\image\\lib\\site-packages\\skimage\\transform\\radon_transform.py:63: UserWarning: Radon transform: image must be zero outside the reconstruction circle\n",
      "  warn('Radon transform: image must be zero outside the '\n",
      "D:\\Programming\\Anaconda\\envs\\image\\lib\\site-packages\\skimage\\transform\\radon_transform.py:63: UserWarning: Radon transform: image must be zero outside the reconstruction circle\n",
      "  warn('Radon transform: image must be zero outside the '\n",
      "D:\\Programming\\Anaconda\\envs\\image\\lib\\site-packages\\skimage\\transform\\radon_transform.py:63: UserWarning: Radon transform: image must be zero outside the reconstruction circle\n",
      "  warn('Radon transform: image must be zero outside the '\n",
      "D:\\Programming\\Anaconda\\envs\\image\\lib\\site-packages\\skimage\\transform\\radon_transform.py:63: UserWarning: Radon transform: image must be zero outside the reconstruction circle\n",
      "  warn('Radon transform: image must be zero outside the '\n",
      "D:\\Programming\\Anaconda\\envs\\image\\lib\\site-packages\\skimage\\transform\\radon_transform.py:63: UserWarning: Radon transform: image must be zero outside the reconstruction circle\n",
      "  warn('Radon transform: image must be zero outside the '\n",
      "D:\\Programming\\Anaconda\\envs\\image\\lib\\site-packages\\skimage\\transform\\radon_transform.py:63: UserWarning: Radon transform: image must be zero outside the reconstruction circle\n",
      "  warn('Radon transform: image must be zero outside the '\n"
     ]
    },
    {
     "name": "stdout",
     "output_type": "stream",
     "text": [
      "1254\n"
     ]
    },
    {
     "name": "stderr",
     "output_type": "stream",
     "text": [
      "D:\\Programming\\Anaconda\\envs\\image\\lib\\site-packages\\skimage\\transform\\radon_transform.py:63: UserWarning: Radon transform: image must be zero outside the reconstruction circle\n",
      "  warn('Radon transform: image must be zero outside the '\n",
      "D:\\Programming\\Anaconda\\envs\\image\\lib\\site-packages\\skimage\\transform\\radon_transform.py:63: UserWarning: Radon transform: image must be zero outside the reconstruction circle\n",
      "  warn('Radon transform: image must be zero outside the '\n",
      "D:\\Programming\\Anaconda\\envs\\image\\lib\\site-packages\\skimage\\transform\\radon_transform.py:63: UserWarning: Radon transform: image must be zero outside the reconstruction circle\n",
      "  warn('Radon transform: image must be zero outside the '\n",
      "D:\\Programming\\Anaconda\\envs\\image\\lib\\site-packages\\skimage\\transform\\radon_transform.py:63: UserWarning: Radon transform: image must be zero outside the reconstruction circle\n",
      "  warn('Radon transform: image must be zero outside the '\n",
      "D:\\Programming\\Anaconda\\envs\\image\\lib\\site-packages\\skimage\\transform\\radon_transform.py:63: UserWarning: Radon transform: image must be zero outside the reconstruction circle\n",
      "  warn('Radon transform: image must be zero outside the '\n",
      "D:\\Programming\\Anaconda\\envs\\image\\lib\\site-packages\\skimage\\transform\\radon_transform.py:63: UserWarning: Radon transform: image must be zero outside the reconstruction circle\n",
      "  warn('Radon transform: image must be zero outside the '\n",
      "D:\\Programming\\Anaconda\\envs\\image\\lib\\site-packages\\skimage\\transform\\radon_transform.py:63: UserWarning: Radon transform: image must be zero outside the reconstruction circle\n",
      "  warn('Radon transform: image must be zero outside the '\n",
      "D:\\Programming\\Anaconda\\envs\\image\\lib\\site-packages\\skimage\\transform\\radon_transform.py:63: UserWarning: Radon transform: image must be zero outside the reconstruction circle\n",
      "  warn('Radon transform: image must be zero outside the '\n",
      "D:\\Programming\\Anaconda\\envs\\image\\lib\\site-packages\\skimage\\transform\\radon_transform.py:63: UserWarning: Radon transform: image must be zero outside the reconstruction circle\n",
      "  warn('Radon transform: image must be zero outside the '\n",
      "D:\\Programming\\Anaconda\\envs\\image\\lib\\site-packages\\skimage\\transform\\radon_transform.py:63: UserWarning: Radon transform: image must be zero outside the reconstruction circle\n",
      "  warn('Radon transform: image must be zero outside the '\n",
      "D:\\Programming\\Anaconda\\envs\\image\\lib\\site-packages\\skimage\\transform\\radon_transform.py:63: UserWarning: Radon transform: image must be zero outside the reconstruction circle\n",
      "  warn('Radon transform: image must be zero outside the '\n",
      "D:\\Programming\\Anaconda\\envs\\image\\lib\\site-packages\\skimage\\transform\\radon_transform.py:63: UserWarning: Radon transform: image must be zero outside the reconstruction circle\n",
      "  warn('Radon transform: image must be zero outside the '\n",
      "D:\\Programming\\Anaconda\\envs\\image\\lib\\site-packages\\skimage\\transform\\radon_transform.py:63: UserWarning: Radon transform: image must be zero outside the reconstruction circle\n",
      "  warn('Radon transform: image must be zero outside the '\n",
      "D:\\Programming\\Anaconda\\envs\\image\\lib\\site-packages\\skimage\\transform\\radon_transform.py:63: UserWarning: Radon transform: image must be zero outside the reconstruction circle\n",
      "  warn('Radon transform: image must be zero outside the '\n",
      "D:\\Programming\\Anaconda\\envs\\image\\lib\\site-packages\\skimage\\transform\\radon_transform.py:63: UserWarning: Radon transform: image must be zero outside the reconstruction circle\n",
      "  warn('Radon transform: image must be zero outside the '\n",
      "D:\\Programming\\Anaconda\\envs\\image\\lib\\site-packages\\skimage\\transform\\radon_transform.py:63: UserWarning: Radon transform: image must be zero outside the reconstruction circle\n",
      "  warn('Radon transform: image must be zero outside the '\n",
      "D:\\Programming\\Anaconda\\envs\\image\\lib\\site-packages\\skimage\\transform\\radon_transform.py:63: UserWarning: Radon transform: image must be zero outside the reconstruction circle\n",
      "  warn('Radon transform: image must be zero outside the '\n"
     ]
    },
    {
     "name": "stdout",
     "output_type": "stream",
     "text": [
      "1271\n"
     ]
    },
    {
     "name": "stderr",
     "output_type": "stream",
     "text": [
      "D:\\Programming\\Anaconda\\envs\\image\\lib\\site-packages\\skimage\\transform\\radon_transform.py:63: UserWarning: Radon transform: image must be zero outside the reconstruction circle\n",
      "  warn('Radon transform: image must be zero outside the '\n",
      "D:\\Programming\\Anaconda\\envs\\image\\lib\\site-packages\\skimage\\transform\\radon_transform.py:63: UserWarning: Radon transform: image must be zero outside the reconstruction circle\n",
      "  warn('Radon transform: image must be zero outside the '\n",
      "D:\\Programming\\Anaconda\\envs\\image\\lib\\site-packages\\skimage\\transform\\radon_transform.py:63: UserWarning: Radon transform: image must be zero outside the reconstruction circle\n",
      "  warn('Radon transform: image must be zero outside the '\n",
      "D:\\Programming\\Anaconda\\envs\\image\\lib\\site-packages\\skimage\\transform\\radon_transform.py:63: UserWarning: Radon transform: image must be zero outside the reconstruction circle\n",
      "  warn('Radon transform: image must be zero outside the '\n",
      "D:\\Programming\\Anaconda\\envs\\image\\lib\\site-packages\\skimage\\transform\\radon_transform.py:63: UserWarning: Radon transform: image must be zero outside the reconstruction circle\n",
      "  warn('Radon transform: image must be zero outside the '\n",
      "D:\\Programming\\Anaconda\\envs\\image\\lib\\site-packages\\skimage\\transform\\radon_transform.py:63: UserWarning: Radon transform: image must be zero outside the reconstruction circle\n",
      "  warn('Radon transform: image must be zero outside the '\n",
      "D:\\Programming\\Anaconda\\envs\\image\\lib\\site-packages\\skimage\\transform\\radon_transform.py:63: UserWarning: Radon transform: image must be zero outside the reconstruction circle\n",
      "  warn('Radon transform: image must be zero outside the '\n",
      "D:\\Programming\\Anaconda\\envs\\image\\lib\\site-packages\\skimage\\transform\\radon_transform.py:63: UserWarning: Radon transform: image must be zero outside the reconstruction circle\n",
      "  warn('Radon transform: image must be zero outside the '\n"
     ]
    },
    {
     "name": "stdout",
     "output_type": "stream",
     "text": [
      "1279\n"
     ]
    },
    {
     "name": "stderr",
     "output_type": "stream",
     "text": [
      "D:\\Programming\\Anaconda\\envs\\image\\lib\\site-packages\\skimage\\transform\\radon_transform.py:63: UserWarning: Radon transform: image must be zero outside the reconstruction circle\n",
      "  warn('Radon transform: image must be zero outside the '\n",
      "D:\\Programming\\Anaconda\\envs\\image\\lib\\site-packages\\skimage\\transform\\radon_transform.py:63: UserWarning: Radon transform: image must be zero outside the reconstruction circle\n",
      "  warn('Radon transform: image must be zero outside the '\n",
      "D:\\Programming\\Anaconda\\envs\\image\\lib\\site-packages\\skimage\\transform\\radon_transform.py:63: UserWarning: Radon transform: image must be zero outside the reconstruction circle\n",
      "  warn('Radon transform: image must be zero outside the '\n"
     ]
    },
    {
     "name": "stdout",
     "output_type": "stream",
     "text": [
      "1282\n"
     ]
    },
    {
     "name": "stderr",
     "output_type": "stream",
     "text": [
      "D:\\Programming\\Anaconda\\envs\\image\\lib\\site-packages\\skimage\\transform\\radon_transform.py:63: UserWarning: Radon transform: image must be zero outside the reconstruction circle\n",
      "  warn('Radon transform: image must be zero outside the '\n"
     ]
    },
    {
     "name": "stdout",
     "output_type": "stream",
     "text": [
      "1283\n"
     ]
    },
    {
     "name": "stderr",
     "output_type": "stream",
     "text": [
      "D:\\Programming\\Anaconda\\envs\\image\\lib\\site-packages\\skimage\\transform\\radon_transform.py:63: UserWarning: Radon transform: image must be zero outside the reconstruction circle\n",
      "  warn('Radon transform: image must be zero outside the '\n",
      "D:\\Programming\\Anaconda\\envs\\image\\lib\\site-packages\\skimage\\transform\\radon_transform.py:63: UserWarning: Radon transform: image must be zero outside the reconstruction circle\n",
      "  warn('Radon transform: image must be zero outside the '\n",
      "D:\\Programming\\Anaconda\\envs\\image\\lib\\site-packages\\skimage\\transform\\radon_transform.py:63: UserWarning: Radon transform: image must be zero outside the reconstruction circle\n",
      "  warn('Radon transform: image must be zero outside the '\n",
      "D:\\Programming\\Anaconda\\envs\\image\\lib\\site-packages\\skimage\\transform\\radon_transform.py:63: UserWarning: Radon transform: image must be zero outside the reconstruction circle\n",
      "  warn('Radon transform: image must be zero outside the '\n",
      "D:\\Programming\\Anaconda\\envs\\image\\lib\\site-packages\\skimage\\transform\\radon_transform.py:63: UserWarning: Radon transform: image must be zero outside the reconstruction circle\n",
      "  warn('Radon transform: image must be zero outside the '\n",
      "D:\\Programming\\Anaconda\\envs\\image\\lib\\site-packages\\skimage\\transform\\radon_transform.py:63: UserWarning: Radon transform: image must be zero outside the reconstruction circle\n",
      "  warn('Radon transform: image must be zero outside the '\n",
      "D:\\Programming\\Anaconda\\envs\\image\\lib\\site-packages\\skimage\\transform\\radon_transform.py:63: UserWarning: Radon transform: image must be zero outside the reconstruction circle\n",
      "  warn('Radon transform: image must be zero outside the '\n"
     ]
    },
    {
     "name": "stdout",
     "output_type": "stream",
     "text": [
      "1290\n"
     ]
    },
    {
     "name": "stderr",
     "output_type": "stream",
     "text": [
      "D:\\Programming\\Anaconda\\envs\\image\\lib\\site-packages\\skimage\\transform\\radon_transform.py:63: UserWarning: Radon transform: image must be zero outside the reconstruction circle\n",
      "  warn('Radon transform: image must be zero outside the '\n",
      "D:\\Programming\\Anaconda\\envs\\image\\lib\\site-packages\\skimage\\transform\\radon_transform.py:63: UserWarning: Radon transform: image must be zero outside the reconstruction circle\n",
      "  warn('Radon transform: image must be zero outside the '\n",
      "D:\\Programming\\Anaconda\\envs\\image\\lib\\site-packages\\skimage\\transform\\radon_transform.py:63: UserWarning: Radon transform: image must be zero outside the reconstruction circle\n",
      "  warn('Radon transform: image must be zero outside the '\n",
      "D:\\Programming\\Anaconda\\envs\\image\\lib\\site-packages\\skimage\\transform\\radon_transform.py:63: UserWarning: Radon transform: image must be zero outside the reconstruction circle\n",
      "  warn('Radon transform: image must be zero outside the '\n",
      "D:\\Programming\\Anaconda\\envs\\image\\lib\\site-packages\\skimage\\transform\\radon_transform.py:63: UserWarning: Radon transform: image must be zero outside the reconstruction circle\n",
      "  warn('Radon transform: image must be zero outside the '\n",
      "D:\\Programming\\Anaconda\\envs\\image\\lib\\site-packages\\skimage\\transform\\radon_transform.py:63: UserWarning: Radon transform: image must be zero outside the reconstruction circle\n",
      "  warn('Radon transform: image must be zero outside the '\n",
      "D:\\Programming\\Anaconda\\envs\\image\\lib\\site-packages\\skimage\\transform\\radon_transform.py:63: UserWarning: Radon transform: image must be zero outside the reconstruction circle\n",
      "  warn('Radon transform: image must be zero outside the '\n",
      "D:\\Programming\\Anaconda\\envs\\image\\lib\\site-packages\\skimage\\transform\\radon_transform.py:63: UserWarning: Radon transform: image must be zero outside the reconstruction circle\n",
      "  warn('Radon transform: image must be zero outside the '\n",
      "D:\\Programming\\Anaconda\\envs\\image\\lib\\site-packages\\skimage\\transform\\radon_transform.py:63: UserWarning: Radon transform: image must be zero outside the reconstruction circle\n",
      "  warn('Radon transform: image must be zero outside the '\n",
      "D:\\Programming\\Anaconda\\envs\\image\\lib\\site-packages\\skimage\\transform\\radon_transform.py:63: UserWarning: Radon transform: image must be zero outside the reconstruction circle\n",
      "  warn('Radon transform: image must be zero outside the '\n",
      "D:\\Programming\\Anaconda\\envs\\image\\lib\\site-packages\\skimage\\transform\\radon_transform.py:63: UserWarning: Radon transform: image must be zero outside the reconstruction circle\n",
      "  warn('Radon transform: image must be zero outside the '\n",
      "D:\\Programming\\Anaconda\\envs\\image\\lib\\site-packages\\skimage\\transform\\radon_transform.py:63: UserWarning: Radon transform: image must be zero outside the reconstruction circle\n",
      "  warn('Radon transform: image must be zero outside the '\n",
      "D:\\Programming\\Anaconda\\envs\\image\\lib\\site-packages\\skimage\\transform\\radon_transform.py:63: UserWarning: Radon transform: image must be zero outside the reconstruction circle\n",
      "  warn('Radon transform: image must be zero outside the '\n",
      "D:\\Programming\\Anaconda\\envs\\image\\lib\\site-packages\\skimage\\transform\\radon_transform.py:63: UserWarning: Radon transform: image must be zero outside the reconstruction circle\n",
      "  warn('Radon transform: image must be zero outside the '\n",
      "D:\\Programming\\Anaconda\\envs\\image\\lib\\site-packages\\skimage\\transform\\radon_transform.py:63: UserWarning: Radon transform: image must be zero outside the reconstruction circle\n",
      "  warn('Radon transform: image must be zero outside the '\n",
      "D:\\Programming\\Anaconda\\envs\\image\\lib\\site-packages\\skimage\\transform\\radon_transform.py:63: UserWarning: Radon transform: image must be zero outside the reconstruction circle\n",
      "  warn('Radon transform: image must be zero outside the '\n"
     ]
    },
    {
     "name": "stdout",
     "output_type": "stream",
     "text": [
      "1306\n"
     ]
    },
    {
     "name": "stderr",
     "output_type": "stream",
     "text": [
      "D:\\Programming\\Anaconda\\envs\\image\\lib\\site-packages\\skimage\\transform\\radon_transform.py:63: UserWarning: Radon transform: image must be zero outside the reconstruction circle\n",
      "  warn('Radon transform: image must be zero outside the '\n",
      "D:\\Programming\\Anaconda\\envs\\image\\lib\\site-packages\\skimage\\transform\\radon_transform.py:63: UserWarning: Radon transform: image must be zero outside the reconstruction circle\n",
      "  warn('Radon transform: image must be zero outside the '\n",
      "D:\\Programming\\Anaconda\\envs\\image\\lib\\site-packages\\skimage\\transform\\radon_transform.py:63: UserWarning: Radon transform: image must be zero outside the reconstruction circle\n",
      "  warn('Radon transform: image must be zero outside the '\n",
      "D:\\Programming\\Anaconda\\envs\\image\\lib\\site-packages\\skimage\\transform\\radon_transform.py:63: UserWarning: Radon transform: image must be zero outside the reconstruction circle\n",
      "  warn('Radon transform: image must be zero outside the '\n",
      "D:\\Programming\\Anaconda\\envs\\image\\lib\\site-packages\\skimage\\transform\\radon_transform.py:63: UserWarning: Radon transform: image must be zero outside the reconstruction circle\n",
      "  warn('Radon transform: image must be zero outside the '\n",
      "D:\\Programming\\Anaconda\\envs\\image\\lib\\site-packages\\skimage\\transform\\radon_transform.py:63: UserWarning: Radon transform: image must be zero outside the reconstruction circle\n",
      "  warn('Radon transform: image must be zero outside the '\n",
      "D:\\Programming\\Anaconda\\envs\\image\\lib\\site-packages\\skimage\\transform\\radon_transform.py:63: UserWarning: Radon transform: image must be zero outside the reconstruction circle\n",
      "  warn('Radon transform: image must be zero outside the '\n",
      "D:\\Programming\\Anaconda\\envs\\image\\lib\\site-packages\\skimage\\transform\\radon_transform.py:63: UserWarning: Radon transform: image must be zero outside the reconstruction circle\n",
      "  warn('Radon transform: image must be zero outside the '\n",
      "D:\\Programming\\Anaconda\\envs\\image\\lib\\site-packages\\skimage\\transform\\radon_transform.py:63: UserWarning: Radon transform: image must be zero outside the reconstruction circle\n",
      "  warn('Radon transform: image must be zero outside the '\n",
      "D:\\Programming\\Anaconda\\envs\\image\\lib\\site-packages\\skimage\\transform\\radon_transform.py:63: UserWarning: Radon transform: image must be zero outside the reconstruction circle\n",
      "  warn('Radon transform: image must be zero outside the '\n",
      "D:\\Programming\\Anaconda\\envs\\image\\lib\\site-packages\\skimage\\transform\\radon_transform.py:63: UserWarning: Radon transform: image must be zero outside the reconstruction circle\n",
      "  warn('Radon transform: image must be zero outside the '\n",
      "D:\\Programming\\Anaconda\\envs\\image\\lib\\site-packages\\skimage\\transform\\radon_transform.py:63: UserWarning: Radon transform: image must be zero outside the reconstruction circle\n",
      "  warn('Radon transform: image must be zero outside the '\n"
     ]
    },
    {
     "name": "stdout",
     "output_type": "stream",
     "text": [
      "1318\n"
     ]
    },
    {
     "name": "stderr",
     "output_type": "stream",
     "text": [
      "D:\\Programming\\Anaconda\\envs\\image\\lib\\site-packages\\skimage\\transform\\radon_transform.py:63: UserWarning: Radon transform: image must be zero outside the reconstruction circle\n",
      "  warn('Radon transform: image must be zero outside the '\n",
      "D:\\Programming\\Anaconda\\envs\\image\\lib\\site-packages\\skimage\\transform\\radon_transform.py:63: UserWarning: Radon transform: image must be zero outside the reconstruction circle\n",
      "  warn('Radon transform: image must be zero outside the '\n",
      "D:\\Programming\\Anaconda\\envs\\image\\lib\\site-packages\\skimage\\transform\\radon_transform.py:63: UserWarning: Radon transform: image must be zero outside the reconstruction circle\n",
      "  warn('Radon transform: image must be zero outside the '\n",
      "D:\\Programming\\Anaconda\\envs\\image\\lib\\site-packages\\skimage\\transform\\radon_transform.py:63: UserWarning: Radon transform: image must be zero outside the reconstruction circle\n",
      "  warn('Radon transform: image must be zero outside the '\n",
      "D:\\Programming\\Anaconda\\envs\\image\\lib\\site-packages\\skimage\\transform\\radon_transform.py:63: UserWarning: Radon transform: image must be zero outside the reconstruction circle\n",
      "  warn('Radon transform: image must be zero outside the '\n"
     ]
    },
    {
     "name": "stdout",
     "output_type": "stream",
     "text": [
      "1323\n"
     ]
    },
    {
     "name": "stderr",
     "output_type": "stream",
     "text": [
      "D:\\Programming\\Anaconda\\envs\\image\\lib\\site-packages\\skimage\\transform\\radon_transform.py:63: UserWarning: Radon transform: image must be zero outside the reconstruction circle\n",
      "  warn('Radon transform: image must be zero outside the '\n",
      "D:\\Programming\\Anaconda\\envs\\image\\lib\\site-packages\\skimage\\transform\\radon_transform.py:63: UserWarning: Radon transform: image must be zero outside the reconstruction circle\n",
      "  warn('Radon transform: image must be zero outside the '\n"
     ]
    },
    {
     "name": "stdout",
     "output_type": "stream",
     "text": [
      "1325\n"
     ]
    },
    {
     "name": "stderr",
     "output_type": "stream",
     "text": [
      "D:\\Programming\\Anaconda\\envs\\image\\lib\\site-packages\\skimage\\transform\\radon_transform.py:63: UserWarning: Radon transform: image must be zero outside the reconstruction circle\n",
      "  warn('Radon transform: image must be zero outside the '\n",
      "D:\\Programming\\Anaconda\\envs\\image\\lib\\site-packages\\skimage\\transform\\radon_transform.py:63: UserWarning: Radon transform: image must be zero outside the reconstruction circle\n",
      "  warn('Radon transform: image must be zero outside the '\n",
      "D:\\Programming\\Anaconda\\envs\\image\\lib\\site-packages\\skimage\\transform\\radon_transform.py:63: UserWarning: Radon transform: image must be zero outside the reconstruction circle\n",
      "  warn('Radon transform: image must be zero outside the '\n",
      "D:\\Programming\\Anaconda\\envs\\image\\lib\\site-packages\\skimage\\transform\\radon_transform.py:63: UserWarning: Radon transform: image must be zero outside the reconstruction circle\n",
      "  warn('Radon transform: image must be zero outside the '\n"
     ]
    },
    {
     "name": "stdout",
     "output_type": "stream",
     "text": [
      "1329\n"
     ]
    },
    {
     "name": "stderr",
     "output_type": "stream",
     "text": [
      "D:\\Programming\\Anaconda\\envs\\image\\lib\\site-packages\\skimage\\transform\\radon_transform.py:63: UserWarning: Radon transform: image must be zero outside the reconstruction circle\n",
      "  warn('Radon transform: image must be zero outside the '\n",
      "D:\\Programming\\Anaconda\\envs\\image\\lib\\site-packages\\skimage\\transform\\radon_transform.py:63: UserWarning: Radon transform: image must be zero outside the reconstruction circle\n",
      "  warn('Radon transform: image must be zero outside the '\n",
      "D:\\Programming\\Anaconda\\envs\\image\\lib\\site-packages\\skimage\\transform\\radon_transform.py:63: UserWarning: Radon transform: image must be zero outside the reconstruction circle\n",
      "  warn('Radon transform: image must be zero outside the '\n",
      "D:\\Programming\\Anaconda\\envs\\image\\lib\\site-packages\\skimage\\transform\\radon_transform.py:63: UserWarning: Radon transform: image must be zero outside the reconstruction circle\n",
      "  warn('Radon transform: image must be zero outside the '\n",
      "D:\\Programming\\Anaconda\\envs\\image\\lib\\site-packages\\skimage\\transform\\radon_transform.py:63: UserWarning: Radon transform: image must be zero outside the reconstruction circle\n",
      "  warn('Radon transform: image must be zero outside the '\n"
     ]
    },
    {
     "name": "stdout",
     "output_type": "stream",
     "text": [
      "1334\n"
     ]
    },
    {
     "name": "stderr",
     "output_type": "stream",
     "text": [
      "D:\\Programming\\Anaconda\\envs\\image\\lib\\site-packages\\skimage\\transform\\radon_transform.py:63: UserWarning: Radon transform: image must be zero outside the reconstruction circle\n",
      "  warn('Radon transform: image must be zero outside the '\n"
     ]
    },
    {
     "name": "stdout",
     "output_type": "stream",
     "text": [
      "1335\n"
     ]
    },
    {
     "name": "stderr",
     "output_type": "stream",
     "text": [
      "D:\\Programming\\Anaconda\\envs\\image\\lib\\site-packages\\skimage\\transform\\radon_transform.py:63: UserWarning: Radon transform: image must be zero outside the reconstruction circle\n",
      "  warn('Radon transform: image must be zero outside the '\n",
      "D:\\Programming\\Anaconda\\envs\\image\\lib\\site-packages\\skimage\\transform\\radon_transform.py:63: UserWarning: Radon transform: image must be zero outside the reconstruction circle\n",
      "  warn('Radon transform: image must be zero outside the '\n",
      "D:\\Programming\\Anaconda\\envs\\image\\lib\\site-packages\\skimage\\transform\\radon_transform.py:63: UserWarning: Radon transform: image must be zero outside the reconstruction circle\n",
      "  warn('Radon transform: image must be zero outside the '\n",
      "D:\\Programming\\Anaconda\\envs\\image\\lib\\site-packages\\skimage\\transform\\radon_transform.py:63: UserWarning: Radon transform: image must be zero outside the reconstruction circle\n",
      "  warn('Radon transform: image must be zero outside the '\n"
     ]
    },
    {
     "name": "stdout",
     "output_type": "stream",
     "text": [
      "1339\n"
     ]
    },
    {
     "name": "stderr",
     "output_type": "stream",
     "text": [
      "D:\\Programming\\Anaconda\\envs\\image\\lib\\site-packages\\skimage\\transform\\radon_transform.py:63: UserWarning: Radon transform: image must be zero outside the reconstruction circle\n",
      "  warn('Radon transform: image must be zero outside the '\n",
      "D:\\Programming\\Anaconda\\envs\\image\\lib\\site-packages\\skimage\\transform\\radon_transform.py:63: UserWarning: Radon transform: image must be zero outside the reconstruction circle\n",
      "  warn('Radon transform: image must be zero outside the '\n",
      "D:\\Programming\\Anaconda\\envs\\image\\lib\\site-packages\\skimage\\transform\\radon_transform.py:63: UserWarning: Radon transform: image must be zero outside the reconstruction circle\n",
      "  warn('Radon transform: image must be zero outside the '\n",
      "D:\\Programming\\Anaconda\\envs\\image\\lib\\site-packages\\skimage\\transform\\radon_transform.py:63: UserWarning: Radon transform: image must be zero outside the reconstruction circle\n",
      "  warn('Radon transform: image must be zero outside the '\n",
      "D:\\Programming\\Anaconda\\envs\\image\\lib\\site-packages\\skimage\\transform\\radon_transform.py:63: UserWarning: Radon transform: image must be zero outside the reconstruction circle\n",
      "  warn('Radon transform: image must be zero outside the '\n",
      "D:\\Programming\\Anaconda\\envs\\image\\lib\\site-packages\\skimage\\transform\\radon_transform.py:63: UserWarning: Radon transform: image must be zero outside the reconstruction circle\n",
      "  warn('Radon transform: image must be zero outside the '\n",
      "D:\\Programming\\Anaconda\\envs\\image\\lib\\site-packages\\skimage\\transform\\radon_transform.py:63: UserWarning: Radon transform: image must be zero outside the reconstruction circle\n",
      "  warn('Radon transform: image must be zero outside the '\n",
      "D:\\Programming\\Anaconda\\envs\\image\\lib\\site-packages\\skimage\\transform\\radon_transform.py:63: UserWarning: Radon transform: image must be zero outside the reconstruction circle\n",
      "  warn('Radon transform: image must be zero outside the '\n",
      "D:\\Programming\\Anaconda\\envs\\image\\lib\\site-packages\\skimage\\transform\\radon_transform.py:63: UserWarning: Radon transform: image must be zero outside the reconstruction circle\n",
      "  warn('Radon transform: image must be zero outside the '\n",
      "D:\\Programming\\Anaconda\\envs\\image\\lib\\site-packages\\skimage\\transform\\radon_transform.py:63: UserWarning: Radon transform: image must be zero outside the reconstruction circle\n",
      "  warn('Radon transform: image must be zero outside the '\n",
      "D:\\Programming\\Anaconda\\envs\\image\\lib\\site-packages\\skimage\\transform\\radon_transform.py:63: UserWarning: Radon transform: image must be zero outside the reconstruction circle\n",
      "  warn('Radon transform: image must be zero outside the '\n",
      "D:\\Programming\\Anaconda\\envs\\image\\lib\\site-packages\\skimage\\transform\\radon_transform.py:63: UserWarning: Radon transform: image must be zero outside the reconstruction circle\n",
      "  warn('Radon transform: image must be zero outside the '\n",
      "D:\\Programming\\Anaconda\\envs\\image\\lib\\site-packages\\skimage\\transform\\radon_transform.py:63: UserWarning: Radon transform: image must be zero outside the reconstruction circle\n",
      "  warn('Radon transform: image must be zero outside the '\n",
      "D:\\Programming\\Anaconda\\envs\\image\\lib\\site-packages\\skimage\\transform\\radon_transform.py:63: UserWarning: Radon transform: image must be zero outside the reconstruction circle\n",
      "  warn('Radon transform: image must be zero outside the '\n",
      "D:\\Programming\\Anaconda\\envs\\image\\lib\\site-packages\\skimage\\transform\\radon_transform.py:63: UserWarning: Radon transform: image must be zero outside the reconstruction circle\n",
      "  warn('Radon transform: image must be zero outside the '\n",
      "D:\\Programming\\Anaconda\\envs\\image\\lib\\site-packages\\skimage\\transform\\radon_transform.py:63: UserWarning: Radon transform: image must be zero outside the reconstruction circle\n",
      "  warn('Radon transform: image must be zero outside the '\n",
      "D:\\Programming\\Anaconda\\envs\\image\\lib\\site-packages\\skimage\\transform\\radon_transform.py:63: UserWarning: Radon transform: image must be zero outside the reconstruction circle\n",
      "  warn('Radon transform: image must be zero outside the '\n",
      "D:\\Programming\\Anaconda\\envs\\image\\lib\\site-packages\\skimage\\transform\\radon_transform.py:63: UserWarning: Radon transform: image must be zero outside the reconstruction circle\n",
      "  warn('Radon transform: image must be zero outside the '\n",
      "D:\\Programming\\Anaconda\\envs\\image\\lib\\site-packages\\skimage\\transform\\radon_transform.py:63: UserWarning: Radon transform: image must be zero outside the reconstruction circle\n",
      "  warn('Radon transform: image must be zero outside the '\n",
      "D:\\Programming\\Anaconda\\envs\\image\\lib\\site-packages\\skimage\\transform\\radon_transform.py:63: UserWarning: Radon transform: image must be zero outside the reconstruction circle\n",
      "  warn('Radon transform: image must be zero outside the '\n",
      "D:\\Programming\\Anaconda\\envs\\image\\lib\\site-packages\\skimage\\transform\\radon_transform.py:63: UserWarning: Radon transform: image must be zero outside the reconstruction circle\n",
      "  warn('Radon transform: image must be zero outside the '\n",
      "D:\\Programming\\Anaconda\\envs\\image\\lib\\site-packages\\skimage\\transform\\radon_transform.py:63: UserWarning: Radon transform: image must be zero outside the reconstruction circle\n",
      "  warn('Radon transform: image must be zero outside the '\n",
      "D:\\Programming\\Anaconda\\envs\\image\\lib\\site-packages\\skimage\\transform\\radon_transform.py:63: UserWarning: Radon transform: image must be zero outside the reconstruction circle\n",
      "  warn('Radon transform: image must be zero outside the '\n"
     ]
    },
    {
     "name": "stdout",
     "output_type": "stream",
     "text": [
      "1362\n"
     ]
    },
    {
     "name": "stderr",
     "output_type": "stream",
     "text": [
      "D:\\Programming\\Anaconda\\envs\\image\\lib\\site-packages\\skimage\\transform\\radon_transform.py:63: UserWarning: Radon transform: image must be zero outside the reconstruction circle\n",
      "  warn('Radon transform: image must be zero outside the '\n",
      "D:\\Programming\\Anaconda\\envs\\image\\lib\\site-packages\\skimage\\transform\\radon_transform.py:63: UserWarning: Radon transform: image must be zero outside the reconstruction circle\n",
      "  warn('Radon transform: image must be zero outside the '\n",
      "D:\\Programming\\Anaconda\\envs\\image\\lib\\site-packages\\skimage\\transform\\radon_transform.py:63: UserWarning: Radon transform: image must be zero outside the reconstruction circle\n",
      "  warn('Radon transform: image must be zero outside the '\n",
      "D:\\Programming\\Anaconda\\envs\\image\\lib\\site-packages\\skimage\\transform\\radon_transform.py:63: UserWarning: Radon transform: image must be zero outside the reconstruction circle\n",
      "  warn('Radon transform: image must be zero outside the '\n",
      "D:\\Programming\\Anaconda\\envs\\image\\lib\\site-packages\\skimage\\transform\\radon_transform.py:63: UserWarning: Radon transform: image must be zero outside the reconstruction circle\n",
      "  warn('Radon transform: image must be zero outside the '\n",
      "D:\\Programming\\Anaconda\\envs\\image\\lib\\site-packages\\skimage\\transform\\radon_transform.py:63: UserWarning: Radon transform: image must be zero outside the reconstruction circle\n",
      "  warn('Radon transform: image must be zero outside the '\n",
      "D:\\Programming\\Anaconda\\envs\\image\\lib\\site-packages\\skimage\\transform\\radon_transform.py:63: UserWarning: Radon transform: image must be zero outside the reconstruction circle\n",
      "  warn('Radon transform: image must be zero outside the '\n"
     ]
    },
    {
     "name": "stdout",
     "output_type": "stream",
     "text": [
      "1369\n"
     ]
    },
    {
     "name": "stderr",
     "output_type": "stream",
     "text": [
      "D:\\Programming\\Anaconda\\envs\\image\\lib\\site-packages\\skimage\\transform\\radon_transform.py:63: UserWarning: Radon transform: image must be zero outside the reconstruction circle\n",
      "  warn('Radon transform: image must be zero outside the '\n",
      "D:\\Programming\\Anaconda\\envs\\image\\lib\\site-packages\\skimage\\transform\\radon_transform.py:63: UserWarning: Radon transform: image must be zero outside the reconstruction circle\n",
      "  warn('Radon transform: image must be zero outside the '\n",
      "D:\\Programming\\Anaconda\\envs\\image\\lib\\site-packages\\skimage\\transform\\radon_transform.py:63: UserWarning: Radon transform: image must be zero outside the reconstruction circle\n",
      "  warn('Radon transform: image must be zero outside the '\n",
      "D:\\Programming\\Anaconda\\envs\\image\\lib\\site-packages\\skimage\\transform\\radon_transform.py:63: UserWarning: Radon transform: image must be zero outside the reconstruction circle\n",
      "  warn('Radon transform: image must be zero outside the '\n",
      "D:\\Programming\\Anaconda\\envs\\image\\lib\\site-packages\\skimage\\transform\\radon_transform.py:63: UserWarning: Radon transform: image must be zero outside the reconstruction circle\n",
      "  warn('Radon transform: image must be zero outside the '\n"
     ]
    },
    {
     "name": "stdout",
     "output_type": "stream",
     "text": [
      "1374\n"
     ]
    },
    {
     "name": "stderr",
     "output_type": "stream",
     "text": [
      "D:\\Programming\\Anaconda\\envs\\image\\lib\\site-packages\\skimage\\transform\\radon_transform.py:63: UserWarning: Radon transform: image must be zero outside the reconstruction circle\n",
      "  warn('Radon transform: image must be zero outside the '\n",
      "D:\\Programming\\Anaconda\\envs\\image\\lib\\site-packages\\skimage\\transform\\radon_transform.py:63: UserWarning: Radon transform: image must be zero outside the reconstruction circle\n",
      "  warn('Radon transform: image must be zero outside the '\n",
      "D:\\Programming\\Anaconda\\envs\\image\\lib\\site-packages\\skimage\\transform\\radon_transform.py:63: UserWarning: Radon transform: image must be zero outside the reconstruction circle\n",
      "  warn('Radon transform: image must be zero outside the '\n"
     ]
    },
    {
     "name": "stdout",
     "output_type": "stream",
     "text": [
      "1377\n"
     ]
    },
    {
     "name": "stderr",
     "output_type": "stream",
     "text": [
      "D:\\Programming\\Anaconda\\envs\\image\\lib\\site-packages\\skimage\\transform\\radon_transform.py:63: UserWarning: Radon transform: image must be zero outside the reconstruction circle\n",
      "  warn('Radon transform: image must be zero outside the '\n"
     ]
    },
    {
     "name": "stdout",
     "output_type": "stream",
     "text": [
      "1378\n"
     ]
    },
    {
     "name": "stderr",
     "output_type": "stream",
     "text": [
      "D:\\Programming\\Anaconda\\envs\\image\\lib\\site-packages\\skimage\\transform\\radon_transform.py:63: UserWarning: Radon transform: image must be zero outside the reconstruction circle\n",
      "  warn('Radon transform: image must be zero outside the '\n",
      "D:\\Programming\\Anaconda\\envs\\image\\lib\\site-packages\\skimage\\transform\\radon_transform.py:63: UserWarning: Radon transform: image must be zero outside the reconstruction circle\n",
      "  warn('Radon transform: image must be zero outside the '\n",
      "D:\\Programming\\Anaconda\\envs\\image\\lib\\site-packages\\skimage\\transform\\radon_transform.py:63: UserWarning: Radon transform: image must be zero outside the reconstruction circle\n",
      "  warn('Radon transform: image must be zero outside the '\n",
      "D:\\Programming\\Anaconda\\envs\\image\\lib\\site-packages\\skimage\\transform\\radon_transform.py:63: UserWarning: Radon transform: image must be zero outside the reconstruction circle\n",
      "  warn('Radon transform: image must be zero outside the '\n"
     ]
    },
    {
     "name": "stdout",
     "output_type": "stream",
     "text": [
      "1382\n"
     ]
    },
    {
     "name": "stderr",
     "output_type": "stream",
     "text": [
      "D:\\Programming\\Anaconda\\envs\\image\\lib\\site-packages\\skimage\\transform\\radon_transform.py:63: UserWarning: Radon transform: image must be zero outside the reconstruction circle\n",
      "  warn('Radon transform: image must be zero outside the '\n",
      "D:\\Programming\\Anaconda\\envs\\image\\lib\\site-packages\\skimage\\transform\\radon_transform.py:63: UserWarning: Radon transform: image must be zero outside the reconstruction circle\n",
      "  warn('Radon transform: image must be zero outside the '\n",
      "D:\\Programming\\Anaconda\\envs\\image\\lib\\site-packages\\skimage\\transform\\radon_transform.py:63: UserWarning: Radon transform: image must be zero outside the reconstruction circle\n",
      "  warn('Radon transform: image must be zero outside the '\n",
      "D:\\Programming\\Anaconda\\envs\\image\\lib\\site-packages\\skimage\\transform\\radon_transform.py:63: UserWarning: Radon transform: image must be zero outside the reconstruction circle\n",
      "  warn('Radon transform: image must be zero outside the '\n",
      "D:\\Programming\\Anaconda\\envs\\image\\lib\\site-packages\\skimage\\transform\\radon_transform.py:63: UserWarning: Radon transform: image must be zero outside the reconstruction circle\n",
      "  warn('Radon transform: image must be zero outside the '\n",
      "D:\\Programming\\Anaconda\\envs\\image\\lib\\site-packages\\skimage\\transform\\radon_transform.py:63: UserWarning: Radon transform: image must be zero outside the reconstruction circle\n",
      "  warn('Radon transform: image must be zero outside the '\n",
      "D:\\Programming\\Anaconda\\envs\\image\\lib\\site-packages\\skimage\\transform\\radon_transform.py:63: UserWarning: Radon transform: image must be zero outside the reconstruction circle\n",
      "  warn('Radon transform: image must be zero outside the '\n",
      "D:\\Programming\\Anaconda\\envs\\image\\lib\\site-packages\\skimage\\transform\\radon_transform.py:63: UserWarning: Radon transform: image must be zero outside the reconstruction circle\n",
      "  warn('Radon transform: image must be zero outside the '\n",
      "D:\\Programming\\Anaconda\\envs\\image\\lib\\site-packages\\skimage\\transform\\radon_transform.py:63: UserWarning: Radon transform: image must be zero outside the reconstruction circle\n",
      "  warn('Radon transform: image must be zero outside the '\n",
      "D:\\Programming\\Anaconda\\envs\\image\\lib\\site-packages\\skimage\\transform\\radon_transform.py:63: UserWarning: Radon transform: image must be zero outside the reconstruction circle\n",
      "  warn('Radon transform: image must be zero outside the '\n",
      "D:\\Programming\\Anaconda\\envs\\image\\lib\\site-packages\\skimage\\transform\\radon_transform.py:63: UserWarning: Radon transform: image must be zero outside the reconstruction circle\n",
      "  warn('Radon transform: image must be zero outside the '\n",
      "D:\\Programming\\Anaconda\\envs\\image\\lib\\site-packages\\skimage\\transform\\radon_transform.py:63: UserWarning: Radon transform: image must be zero outside the reconstruction circle\n",
      "  warn('Radon transform: image must be zero outside the '\n",
      "D:\\Programming\\Anaconda\\envs\\image\\lib\\site-packages\\skimage\\transform\\radon_transform.py:63: UserWarning: Radon transform: image must be zero outside the reconstruction circle\n",
      "  warn('Radon transform: image must be zero outside the '\n"
     ]
    },
    {
     "name": "stdout",
     "output_type": "stream",
     "text": [
      "1395\n"
     ]
    },
    {
     "name": "stderr",
     "output_type": "stream",
     "text": [
      "D:\\Programming\\Anaconda\\envs\\image\\lib\\site-packages\\skimage\\transform\\radon_transform.py:63: UserWarning: Radon transform: image must be zero outside the reconstruction circle\n",
      "  warn('Radon transform: image must be zero outside the '\n"
     ]
    },
    {
     "name": "stdout",
     "output_type": "stream",
     "text": [
      "1396\n"
     ]
    },
    {
     "name": "stderr",
     "output_type": "stream",
     "text": [
      "D:\\Programming\\Anaconda\\envs\\image\\lib\\site-packages\\skimage\\transform\\radon_transform.py:63: UserWarning: Radon transform: image must be zero outside the reconstruction circle\n",
      "  warn('Radon transform: image must be zero outside the '\n",
      "D:\\Programming\\Anaconda\\envs\\image\\lib\\site-packages\\skimage\\transform\\radon_transform.py:63: UserWarning: Radon transform: image must be zero outside the reconstruction circle\n",
      "  warn('Radon transform: image must be zero outside the '\n",
      "D:\\Programming\\Anaconda\\envs\\image\\lib\\site-packages\\skimage\\transform\\radon_transform.py:63: UserWarning: Radon transform: image must be zero outside the reconstruction circle\n",
      "  warn('Radon transform: image must be zero outside the '\n",
      "D:\\Programming\\Anaconda\\envs\\image\\lib\\site-packages\\skimage\\transform\\radon_transform.py:63: UserWarning: Radon transform: image must be zero outside the reconstruction circle\n",
      "  warn('Radon transform: image must be zero outside the '\n",
      "D:\\Programming\\Anaconda\\envs\\image\\lib\\site-packages\\skimage\\transform\\radon_transform.py:63: UserWarning: Radon transform: image must be zero outside the reconstruction circle\n",
      "  warn('Radon transform: image must be zero outside the '\n",
      "D:\\Programming\\Anaconda\\envs\\image\\lib\\site-packages\\skimage\\transform\\radon_transform.py:63: UserWarning: Radon transform: image must be zero outside the reconstruction circle\n",
      "  warn('Radon transform: image must be zero outside the '\n",
      "D:\\Programming\\Anaconda\\envs\\image\\lib\\site-packages\\skimage\\transform\\radon_transform.py:63: UserWarning: Radon transform: image must be zero outside the reconstruction circle\n",
      "  warn('Radon transform: image must be zero outside the '\n",
      "D:\\Programming\\Anaconda\\envs\\image\\lib\\site-packages\\skimage\\transform\\radon_transform.py:63: UserWarning: Radon transform: image must be zero outside the reconstruction circle\n",
      "  warn('Radon transform: image must be zero outside the '\n"
     ]
    },
    {
     "name": "stdout",
     "output_type": "stream",
     "text": [
      "1404\n"
     ]
    },
    {
     "name": "stderr",
     "output_type": "stream",
     "text": [
      "D:\\Programming\\Anaconda\\envs\\image\\lib\\site-packages\\skimage\\transform\\radon_transform.py:63: UserWarning: Radon transform: image must be zero outside the reconstruction circle\n",
      "  warn('Radon transform: image must be zero outside the '\n",
      "D:\\Programming\\Anaconda\\envs\\image\\lib\\site-packages\\skimage\\transform\\radon_transform.py:63: UserWarning: Radon transform: image must be zero outside the reconstruction circle\n",
      "  warn('Radon transform: image must be zero outside the '\n",
      "D:\\Programming\\Anaconda\\envs\\image\\lib\\site-packages\\skimage\\transform\\radon_transform.py:63: UserWarning: Radon transform: image must be zero outside the reconstruction circle\n",
      "  warn('Radon transform: image must be zero outside the '\n",
      "D:\\Programming\\Anaconda\\envs\\image\\lib\\site-packages\\skimage\\transform\\radon_transform.py:63: UserWarning: Radon transform: image must be zero outside the reconstruction circle\n",
      "  warn('Radon transform: image must be zero outside the '\n",
      "D:\\Programming\\Anaconda\\envs\\image\\lib\\site-packages\\skimage\\transform\\radon_transform.py:63: UserWarning: Radon transform: image must be zero outside the reconstruction circle\n",
      "  warn('Radon transform: image must be zero outside the '\n",
      "D:\\Programming\\Anaconda\\envs\\image\\lib\\site-packages\\skimage\\transform\\radon_transform.py:63: UserWarning: Radon transform: image must be zero outside the reconstruction circle\n",
      "  warn('Radon transform: image must be zero outside the '\n",
      "D:\\Programming\\Anaconda\\envs\\image\\lib\\site-packages\\skimage\\transform\\radon_transform.py:63: UserWarning: Radon transform: image must be zero outside the reconstruction circle\n",
      "  warn('Radon transform: image must be zero outside the '\n",
      "D:\\Programming\\Anaconda\\envs\\image\\lib\\site-packages\\skimage\\transform\\radon_transform.py:63: UserWarning: Radon transform: image must be zero outside the reconstruction circle\n",
      "  warn('Radon transform: image must be zero outside the '\n",
      "D:\\Programming\\Anaconda\\envs\\image\\lib\\site-packages\\skimage\\transform\\radon_transform.py:63: UserWarning: Radon transform: image must be zero outside the reconstruction circle\n",
      "  warn('Radon transform: image must be zero outside the '\n"
     ]
    },
    {
     "name": "stdout",
     "output_type": "stream",
     "text": [
      "1413\n"
     ]
    },
    {
     "name": "stderr",
     "output_type": "stream",
     "text": [
      "D:\\Programming\\Anaconda\\envs\\image\\lib\\site-packages\\skimage\\transform\\radon_transform.py:63: UserWarning: Radon transform: image must be zero outside the reconstruction circle\n",
      "  warn('Radon transform: image must be zero outside the '\n",
      "D:\\Programming\\Anaconda\\envs\\image\\lib\\site-packages\\skimage\\transform\\radon_transform.py:63: UserWarning: Radon transform: image must be zero outside the reconstruction circle\n",
      "  warn('Radon transform: image must be zero outside the '\n",
      "D:\\Programming\\Anaconda\\envs\\image\\lib\\site-packages\\skimage\\transform\\radon_transform.py:63: UserWarning: Radon transform: image must be zero outside the reconstruction circle\n",
      "  warn('Radon transform: image must be zero outside the '\n"
     ]
    },
    {
     "name": "stdout",
     "output_type": "stream",
     "text": [
      "1416\n"
     ]
    },
    {
     "name": "stderr",
     "output_type": "stream",
     "text": [
      "D:\\Programming\\Anaconda\\envs\\image\\lib\\site-packages\\skimage\\transform\\radon_transform.py:63: UserWarning: Radon transform: image must be zero outside the reconstruction circle\n",
      "  warn('Radon transform: image must be zero outside the '\n",
      "D:\\Programming\\Anaconda\\envs\\image\\lib\\site-packages\\skimage\\transform\\radon_transform.py:63: UserWarning: Radon transform: image must be zero outside the reconstruction circle\n",
      "  warn('Radon transform: image must be zero outside the '\n",
      "D:\\Programming\\Anaconda\\envs\\image\\lib\\site-packages\\skimage\\transform\\radon_transform.py:63: UserWarning: Radon transform: image must be zero outside the reconstruction circle\n",
      "  warn('Radon transform: image must be zero outside the '\n",
      "D:\\Programming\\Anaconda\\envs\\image\\lib\\site-packages\\skimage\\transform\\radon_transform.py:63: UserWarning: Radon transform: image must be zero outside the reconstruction circle\n",
      "  warn('Radon transform: image must be zero outside the '\n"
     ]
    },
    {
     "name": "stdout",
     "output_type": "stream",
     "text": [
      "1420\n"
     ]
    },
    {
     "name": "stderr",
     "output_type": "stream",
     "text": [
      "D:\\Programming\\Anaconda\\envs\\image\\lib\\site-packages\\skimage\\transform\\radon_transform.py:63: UserWarning: Radon transform: image must be zero outside the reconstruction circle\n",
      "  warn('Radon transform: image must be zero outside the '\n",
      "D:\\Programming\\Anaconda\\envs\\image\\lib\\site-packages\\skimage\\transform\\radon_transform.py:63: UserWarning: Radon transform: image must be zero outside the reconstruction circle\n",
      "  warn('Radon transform: image must be zero outside the '\n",
      "D:\\Programming\\Anaconda\\envs\\image\\lib\\site-packages\\skimage\\transform\\radon_transform.py:63: UserWarning: Radon transform: image must be zero outside the reconstruction circle\n",
      "  warn('Radon transform: image must be zero outside the '\n",
      "D:\\Programming\\Anaconda\\envs\\image\\lib\\site-packages\\skimage\\transform\\radon_transform.py:63: UserWarning: Radon transform: image must be zero outside the reconstruction circle\n",
      "  warn('Radon transform: image must be zero outside the '\n"
     ]
    },
    {
     "name": "stdout",
     "output_type": "stream",
     "text": [
      "1424\n"
     ]
    },
    {
     "name": "stderr",
     "output_type": "stream",
     "text": [
      "D:\\Programming\\Anaconda\\envs\\image\\lib\\site-packages\\skimage\\transform\\radon_transform.py:63: UserWarning: Radon transform: image must be zero outside the reconstruction circle\n",
      "  warn('Radon transform: image must be zero outside the '\n"
     ]
    },
    {
     "name": "stdout",
     "output_type": "stream",
     "text": [
      "1425\n"
     ]
    },
    {
     "name": "stderr",
     "output_type": "stream",
     "text": [
      "D:\\Programming\\Anaconda\\envs\\image\\lib\\site-packages\\skimage\\transform\\radon_transform.py:63: UserWarning: Radon transform: image must be zero outside the reconstruction circle\n",
      "  warn('Radon transform: image must be zero outside the '\n"
     ]
    },
    {
     "name": "stdout",
     "output_type": "stream",
     "text": [
      "1426\n"
     ]
    },
    {
     "name": "stderr",
     "output_type": "stream",
     "text": [
      "D:\\Programming\\Anaconda\\envs\\image\\lib\\site-packages\\skimage\\transform\\radon_transform.py:63: UserWarning: Radon transform: image must be zero outside the reconstruction circle\n",
      "  warn('Radon transform: image must be zero outside the '\n"
     ]
    },
    {
     "name": "stdout",
     "output_type": "stream",
     "text": [
      "1427\n"
     ]
    },
    {
     "name": "stderr",
     "output_type": "stream",
     "text": [
      "D:\\Programming\\Anaconda\\envs\\image\\lib\\site-packages\\skimage\\transform\\radon_transform.py:63: UserWarning: Radon transform: image must be zero outside the reconstruction circle\n",
      "  warn('Radon transform: image must be zero outside the '\n",
      "D:\\Programming\\Anaconda\\envs\\image\\lib\\site-packages\\skimage\\transform\\radon_transform.py:63: UserWarning: Radon transform: image must be zero outside the reconstruction circle\n",
      "  warn('Radon transform: image must be zero outside the '\n",
      "D:\\Programming\\Anaconda\\envs\\image\\lib\\site-packages\\skimage\\transform\\radon_transform.py:63: UserWarning: Radon transform: image must be zero outside the reconstruction circle\n",
      "  warn('Radon transform: image must be zero outside the '\n",
      "D:\\Programming\\Anaconda\\envs\\image\\lib\\site-packages\\skimage\\transform\\radon_transform.py:63: UserWarning: Radon transform: image must be zero outside the reconstruction circle\n",
      "  warn('Radon transform: image must be zero outside the '\n",
      "D:\\Programming\\Anaconda\\envs\\image\\lib\\site-packages\\skimage\\transform\\radon_transform.py:63: UserWarning: Radon transform: image must be zero outside the reconstruction circle\n",
      "  warn('Radon transform: image must be zero outside the '\n"
     ]
    },
    {
     "name": "stdout",
     "output_type": "stream",
     "text": [
      "1432\n"
     ]
    },
    {
     "name": "stderr",
     "output_type": "stream",
     "text": [
      "D:\\Programming\\Anaconda\\envs\\image\\lib\\site-packages\\skimage\\transform\\radon_transform.py:63: UserWarning: Radon transform: image must be zero outside the reconstruction circle\n",
      "  warn('Radon transform: image must be zero outside the '\n",
      "D:\\Programming\\Anaconda\\envs\\image\\lib\\site-packages\\skimage\\transform\\radon_transform.py:63: UserWarning: Radon transform: image must be zero outside the reconstruction circle\n",
      "  warn('Radon transform: image must be zero outside the '\n",
      "D:\\Programming\\Anaconda\\envs\\image\\lib\\site-packages\\skimage\\transform\\radon_transform.py:63: UserWarning: Radon transform: image must be zero outside the reconstruction circle\n",
      "  warn('Radon transform: image must be zero outside the '\n",
      "D:\\Programming\\Anaconda\\envs\\image\\lib\\site-packages\\skimage\\transform\\radon_transform.py:63: UserWarning: Radon transform: image must be zero outside the reconstruction circle\n",
      "  warn('Radon transform: image must be zero outside the '\n",
      "D:\\Programming\\Anaconda\\envs\\image\\lib\\site-packages\\skimage\\transform\\radon_transform.py:63: UserWarning: Radon transform: image must be zero outside the reconstruction circle\n",
      "  warn('Radon transform: image must be zero outside the '\n",
      "D:\\Programming\\Anaconda\\envs\\image\\lib\\site-packages\\skimage\\transform\\radon_transform.py:63: UserWarning: Radon transform: image must be zero outside the reconstruction circle\n",
      "  warn('Radon transform: image must be zero outside the '\n"
     ]
    },
    {
     "name": "stdout",
     "output_type": "stream",
     "text": [
      "1438\n"
     ]
    },
    {
     "name": "stderr",
     "output_type": "stream",
     "text": [
      "D:\\Programming\\Anaconda\\envs\\image\\lib\\site-packages\\skimage\\transform\\radon_transform.py:63: UserWarning: Radon transform: image must be zero outside the reconstruction circle\n",
      "  warn('Radon transform: image must be zero outside the '\n",
      "D:\\Programming\\Anaconda\\envs\\image\\lib\\site-packages\\skimage\\transform\\radon_transform.py:63: UserWarning: Radon transform: image must be zero outside the reconstruction circle\n",
      "  warn('Radon transform: image must be zero outside the '\n",
      "D:\\Programming\\Anaconda\\envs\\image\\lib\\site-packages\\skimage\\transform\\radon_transform.py:63: UserWarning: Radon transform: image must be zero outside the reconstruction circle\n",
      "  warn('Radon transform: image must be zero outside the '\n",
      "D:\\Programming\\Anaconda\\envs\\image\\lib\\site-packages\\skimage\\transform\\radon_transform.py:63: UserWarning: Radon transform: image must be zero outside the reconstruction circle\n",
      "  warn('Radon transform: image must be zero outside the '\n",
      "D:\\Programming\\Anaconda\\envs\\image\\lib\\site-packages\\skimage\\transform\\radon_transform.py:63: UserWarning: Radon transform: image must be zero outside the reconstruction circle\n",
      "  warn('Radon transform: image must be zero outside the '\n",
      "D:\\Programming\\Anaconda\\envs\\image\\lib\\site-packages\\skimage\\transform\\radon_transform.py:63: UserWarning: Radon transform: image must be zero outside the reconstruction circle\n",
      "  warn('Radon transform: image must be zero outside the '\n"
     ]
    },
    {
     "name": "stdout",
     "output_type": "stream",
     "text": [
      "1444\n"
     ]
    },
    {
     "name": "stderr",
     "output_type": "stream",
     "text": [
      "D:\\Programming\\Anaconda\\envs\\image\\lib\\site-packages\\skimage\\transform\\radon_transform.py:63: UserWarning: Radon transform: image must be zero outside the reconstruction circle\n",
      "  warn('Radon transform: image must be zero outside the '\n",
      "D:\\Programming\\Anaconda\\envs\\image\\lib\\site-packages\\skimage\\transform\\radon_transform.py:63: UserWarning: Radon transform: image must be zero outside the reconstruction circle\n",
      "  warn('Radon transform: image must be zero outside the '\n",
      "D:\\Programming\\Anaconda\\envs\\image\\lib\\site-packages\\skimage\\transform\\radon_transform.py:63: UserWarning: Radon transform: image must be zero outside the reconstruction circle\n",
      "  warn('Radon transform: image must be zero outside the '\n"
     ]
    },
    {
     "name": "stdout",
     "output_type": "stream",
     "text": [
      "1447\n"
     ]
    },
    {
     "name": "stderr",
     "output_type": "stream",
     "text": [
      "D:\\Programming\\Anaconda\\envs\\image\\lib\\site-packages\\skimage\\transform\\radon_transform.py:63: UserWarning: Radon transform: image must be zero outside the reconstruction circle\n",
      "  warn('Radon transform: image must be zero outside the '\n",
      "D:\\Programming\\Anaconda\\envs\\image\\lib\\site-packages\\skimage\\transform\\radon_transform.py:63: UserWarning: Radon transform: image must be zero outside the reconstruction circle\n",
      "  warn('Radon transform: image must be zero outside the '\n",
      "D:\\Programming\\Anaconda\\envs\\image\\lib\\site-packages\\skimage\\transform\\radon_transform.py:63: UserWarning: Radon transform: image must be zero outside the reconstruction circle\n",
      "  warn('Radon transform: image must be zero outside the '\n",
      "D:\\Programming\\Anaconda\\envs\\image\\lib\\site-packages\\skimage\\transform\\radon_transform.py:63: UserWarning: Radon transform: image must be zero outside the reconstruction circle\n",
      "  warn('Radon transform: image must be zero outside the '\n"
     ]
    },
    {
     "name": "stdout",
     "output_type": "stream",
     "text": [
      "1451\n"
     ]
    },
    {
     "name": "stderr",
     "output_type": "stream",
     "text": [
      "D:\\Programming\\Anaconda\\envs\\image\\lib\\site-packages\\skimage\\transform\\radon_transform.py:63: UserWarning: Radon transform: image must be zero outside the reconstruction circle\n",
      "  warn('Radon transform: image must be zero outside the '\n",
      "D:\\Programming\\Anaconda\\envs\\image\\lib\\site-packages\\skimage\\transform\\radon_transform.py:63: UserWarning: Radon transform: image must be zero outside the reconstruction circle\n",
      "  warn('Radon transform: image must be zero outside the '\n",
      "D:\\Programming\\Anaconda\\envs\\image\\lib\\site-packages\\skimage\\transform\\radon_transform.py:63: UserWarning: Radon transform: image must be zero outside the reconstruction circle\n",
      "  warn('Radon transform: image must be zero outside the '\n",
      "D:\\Programming\\Anaconda\\envs\\image\\lib\\site-packages\\skimage\\transform\\radon_transform.py:63: UserWarning: Radon transform: image must be zero outside the reconstruction circle\n",
      "  warn('Radon transform: image must be zero outside the '\n",
      "D:\\Programming\\Anaconda\\envs\\image\\lib\\site-packages\\skimage\\transform\\radon_transform.py:63: UserWarning: Radon transform: image must be zero outside the reconstruction circle\n",
      "  warn('Radon transform: image must be zero outside the '\n"
     ]
    },
    {
     "name": "stdout",
     "output_type": "stream",
     "text": [
      "1456\n"
     ]
    },
    {
     "name": "stderr",
     "output_type": "stream",
     "text": [
      "D:\\Programming\\Anaconda\\envs\\image\\lib\\site-packages\\skimage\\transform\\radon_transform.py:63: UserWarning: Radon transform: image must be zero outside the reconstruction circle\n",
      "  warn('Radon transform: image must be zero outside the '\n",
      "D:\\Programming\\Anaconda\\envs\\image\\lib\\site-packages\\skimage\\transform\\radon_transform.py:63: UserWarning: Radon transform: image must be zero outside the reconstruction circle\n",
      "  warn('Radon transform: image must be zero outside the '\n",
      "D:\\Programming\\Anaconda\\envs\\image\\lib\\site-packages\\skimage\\transform\\radon_transform.py:63: UserWarning: Radon transform: image must be zero outside the reconstruction circle\n",
      "  warn('Radon transform: image must be zero outside the '\n",
      "D:\\Programming\\Anaconda\\envs\\image\\lib\\site-packages\\skimage\\transform\\radon_transform.py:63: UserWarning: Radon transform: image must be zero outside the reconstruction circle\n",
      "  warn('Radon transform: image must be zero outside the '\n",
      "D:\\Programming\\Anaconda\\envs\\image\\lib\\site-packages\\skimage\\transform\\radon_transform.py:63: UserWarning: Radon transform: image must be zero outside the reconstruction circle\n",
      "  warn('Radon transform: image must be zero outside the '\n",
      "D:\\Programming\\Anaconda\\envs\\image\\lib\\site-packages\\skimage\\transform\\radon_transform.py:63: UserWarning: Radon transform: image must be zero outside the reconstruction circle\n",
      "  warn('Radon transform: image must be zero outside the '\n",
      "D:\\Programming\\Anaconda\\envs\\image\\lib\\site-packages\\skimage\\transform\\radon_transform.py:63: UserWarning: Radon transform: image must be zero outside the reconstruction circle\n",
      "  warn('Radon transform: image must be zero outside the '\n",
      "D:\\Programming\\Anaconda\\envs\\image\\lib\\site-packages\\skimage\\transform\\radon_transform.py:63: UserWarning: Radon transform: image must be zero outside the reconstruction circle\n",
      "  warn('Radon transform: image must be zero outside the '\n",
      "D:\\Programming\\Anaconda\\envs\\image\\lib\\site-packages\\skimage\\transform\\radon_transform.py:63: UserWarning: Radon transform: image must be zero outside the reconstruction circle\n",
      "  warn('Radon transform: image must be zero outside the '\n",
      "D:\\Programming\\Anaconda\\envs\\image\\lib\\site-packages\\skimage\\transform\\radon_transform.py:63: UserWarning: Radon transform: image must be zero outside the reconstruction circle\n",
      "  warn('Radon transform: image must be zero outside the '\n"
     ]
    },
    {
     "name": "stdout",
     "output_type": "stream",
     "text": [
      "1466\n"
     ]
    },
    {
     "name": "stderr",
     "output_type": "stream",
     "text": [
      "D:\\Programming\\Anaconda\\envs\\image\\lib\\site-packages\\skimage\\transform\\radon_transform.py:63: UserWarning: Radon transform: image must be zero outside the reconstruction circle\n",
      "  warn('Radon transform: image must be zero outside the '\n",
      "D:\\Programming\\Anaconda\\envs\\image\\lib\\site-packages\\skimage\\transform\\radon_transform.py:63: UserWarning: Radon transform: image must be zero outside the reconstruction circle\n",
      "  warn('Radon transform: image must be zero outside the '\n",
      "D:\\Programming\\Anaconda\\envs\\image\\lib\\site-packages\\skimage\\transform\\radon_transform.py:63: UserWarning: Radon transform: image must be zero outside the reconstruction circle\n",
      "  warn('Radon transform: image must be zero outside the '\n",
      "D:\\Programming\\Anaconda\\envs\\image\\lib\\site-packages\\skimage\\transform\\radon_transform.py:63: UserWarning: Radon transform: image must be zero outside the reconstruction circle\n",
      "  warn('Radon transform: image must be zero outside the '\n",
      "D:\\Programming\\Anaconda\\envs\\image\\lib\\site-packages\\skimage\\transform\\radon_transform.py:63: UserWarning: Radon transform: image must be zero outside the reconstruction circle\n",
      "  warn('Radon transform: image must be zero outside the '\n",
      "D:\\Programming\\Anaconda\\envs\\image\\lib\\site-packages\\skimage\\transform\\radon_transform.py:63: UserWarning: Radon transform: image must be zero outside the reconstruction circle\n",
      "  warn('Radon transform: image must be zero outside the '\n"
     ]
    },
    {
     "name": "stdout",
     "output_type": "stream",
     "text": [
      "1472\n"
     ]
    },
    {
     "name": "stderr",
     "output_type": "stream",
     "text": [
      "D:\\Programming\\Anaconda\\envs\\image\\lib\\site-packages\\skimage\\transform\\radon_transform.py:63: UserWarning: Radon transform: image must be zero outside the reconstruction circle\n",
      "  warn('Radon transform: image must be zero outside the '\n"
     ]
    },
    {
     "name": "stdout",
     "output_type": "stream",
     "text": [
      "1473\n"
     ]
    },
    {
     "name": "stderr",
     "output_type": "stream",
     "text": [
      "D:\\Programming\\Anaconda\\envs\\image\\lib\\site-packages\\skimage\\transform\\radon_transform.py:63: UserWarning: Radon transform: image must be zero outside the reconstruction circle\n",
      "  warn('Radon transform: image must be zero outside the '\n",
      "D:\\Programming\\Anaconda\\envs\\image\\lib\\site-packages\\skimage\\transform\\radon_transform.py:63: UserWarning: Radon transform: image must be zero outside the reconstruction circle\n",
      "  warn('Radon transform: image must be zero outside the '\n",
      "D:\\Programming\\Anaconda\\envs\\image\\lib\\site-packages\\skimage\\transform\\radon_transform.py:63: UserWarning: Radon transform: image must be zero outside the reconstruction circle\n",
      "  warn('Radon transform: image must be zero outside the '\n",
      "D:\\Programming\\Anaconda\\envs\\image\\lib\\site-packages\\skimage\\transform\\radon_transform.py:63: UserWarning: Radon transform: image must be zero outside the reconstruction circle\n",
      "  warn('Radon transform: image must be zero outside the '\n"
     ]
    },
    {
     "name": "stdout",
     "output_type": "stream",
     "text": [
      "1477\n"
     ]
    },
    {
     "name": "stderr",
     "output_type": "stream",
     "text": [
      "D:\\Programming\\Anaconda\\envs\\image\\lib\\site-packages\\skimage\\transform\\radon_transform.py:63: UserWarning: Radon transform: image must be zero outside the reconstruction circle\n",
      "  warn('Radon transform: image must be zero outside the '\n"
     ]
    },
    {
     "name": "stdout",
     "output_type": "stream",
     "text": [
      "1478\n"
     ]
    },
    {
     "name": "stderr",
     "output_type": "stream",
     "text": [
      "D:\\Programming\\Anaconda\\envs\\image\\lib\\site-packages\\skimage\\transform\\radon_transform.py:63: UserWarning: Radon transform: image must be zero outside the reconstruction circle\n",
      "  warn('Radon transform: image must be zero outside the '\n",
      "D:\\Programming\\Anaconda\\envs\\image\\lib\\site-packages\\skimage\\transform\\radon_transform.py:63: UserWarning: Radon transform: image must be zero outside the reconstruction circle\n",
      "  warn('Radon transform: image must be zero outside the '\n",
      "D:\\Programming\\Anaconda\\envs\\image\\lib\\site-packages\\skimage\\transform\\radon_transform.py:63: UserWarning: Radon transform: image must be zero outside the reconstruction circle\n",
      "  warn('Radon transform: image must be zero outside the '\n",
      "D:\\Programming\\Anaconda\\envs\\image\\lib\\site-packages\\skimage\\transform\\radon_transform.py:63: UserWarning: Radon transform: image must be zero outside the reconstruction circle\n",
      "  warn('Radon transform: image must be zero outside the '\n",
      "D:\\Programming\\Anaconda\\envs\\image\\lib\\site-packages\\skimage\\transform\\radon_transform.py:63: UserWarning: Radon transform: image must be zero outside the reconstruction circle\n",
      "  warn('Radon transform: image must be zero outside the '\n",
      "D:\\Programming\\Anaconda\\envs\\image\\lib\\site-packages\\skimage\\transform\\radon_transform.py:63: UserWarning: Radon transform: image must be zero outside the reconstruction circle\n",
      "  warn('Radon transform: image must be zero outside the '\n",
      "D:\\Programming\\Anaconda\\envs\\image\\lib\\site-packages\\skimage\\transform\\radon_transform.py:63: UserWarning: Radon transform: image must be zero outside the reconstruction circle\n",
      "  warn('Radon transform: image must be zero outside the '\n",
      "D:\\Programming\\Anaconda\\envs\\image\\lib\\site-packages\\skimage\\transform\\radon_transform.py:63: UserWarning: Radon transform: image must be zero outside the reconstruction circle\n",
      "  warn('Radon transform: image must be zero outside the '\n",
      "D:\\Programming\\Anaconda\\envs\\image\\lib\\site-packages\\skimage\\transform\\radon_transform.py:63: UserWarning: Radon transform: image must be zero outside the reconstruction circle\n",
      "  warn('Radon transform: image must be zero outside the '\n",
      "D:\\Programming\\Anaconda\\envs\\image\\lib\\site-packages\\skimage\\transform\\radon_transform.py:63: UserWarning: Radon transform: image must be zero outside the reconstruction circle\n",
      "  warn('Radon transform: image must be zero outside the '\n",
      "D:\\Programming\\Anaconda\\envs\\image\\lib\\site-packages\\skimage\\transform\\radon_transform.py:63: UserWarning: Radon transform: image must be zero outside the reconstruction circle\n",
      "  warn('Radon transform: image must be zero outside the '\n",
      "D:\\Programming\\Anaconda\\envs\\image\\lib\\site-packages\\skimage\\transform\\radon_transform.py:63: UserWarning: Radon transform: image must be zero outside the reconstruction circle\n",
      "  warn('Radon transform: image must be zero outside the '\n",
      "D:\\Programming\\Anaconda\\envs\\image\\lib\\site-packages\\skimage\\transform\\radon_transform.py:63: UserWarning: Radon transform: image must be zero outside the reconstruction circle\n",
      "  warn('Radon transform: image must be zero outside the '\n",
      "D:\\Programming\\Anaconda\\envs\\image\\lib\\site-packages\\skimage\\transform\\radon_transform.py:63: UserWarning: Radon transform: image must be zero outside the reconstruction circle\n",
      "  warn('Radon transform: image must be zero outside the '\n",
      "D:\\Programming\\Anaconda\\envs\\image\\lib\\site-packages\\skimage\\transform\\radon_transform.py:63: UserWarning: Radon transform: image must be zero outside the reconstruction circle\n",
      "  warn('Radon transform: image must be zero outside the '\n",
      "D:\\Programming\\Anaconda\\envs\\image\\lib\\site-packages\\skimage\\transform\\radon_transform.py:63: UserWarning: Radon transform: image must be zero outside the reconstruction circle\n",
      "  warn('Radon transform: image must be zero outside the '\n",
      "D:\\Programming\\Anaconda\\envs\\image\\lib\\site-packages\\skimage\\transform\\radon_transform.py:63: UserWarning: Radon transform: image must be zero outside the reconstruction circle\n",
      "  warn('Radon transform: image must be zero outside the '\n",
      "D:\\Programming\\Anaconda\\envs\\image\\lib\\site-packages\\skimage\\transform\\radon_transform.py:63: UserWarning: Radon transform: image must be zero outside the reconstruction circle\n",
      "  warn('Radon transform: image must be zero outside the '\n",
      "D:\\Programming\\Anaconda\\envs\\image\\lib\\site-packages\\skimage\\transform\\radon_transform.py:63: UserWarning: Radon transform: image must be zero outside the reconstruction circle\n",
      "  warn('Radon transform: image must be zero outside the '\n",
      "D:\\Programming\\Anaconda\\envs\\image\\lib\\site-packages\\skimage\\transform\\radon_transform.py:63: UserWarning: Radon transform: image must be zero outside the reconstruction circle\n",
      "  warn('Radon transform: image must be zero outside the '\n",
      "D:\\Programming\\Anaconda\\envs\\image\\lib\\site-packages\\skimage\\transform\\radon_transform.py:63: UserWarning: Radon transform: image must be zero outside the reconstruction circle\n",
      "  warn('Radon transform: image must be zero outside the '\n",
      "D:\\Programming\\Anaconda\\envs\\image\\lib\\site-packages\\skimage\\transform\\radon_transform.py:63: UserWarning: Radon transform: image must be zero outside the reconstruction circle\n",
      "  warn('Radon transform: image must be zero outside the '\n",
      "D:\\Programming\\Anaconda\\envs\\image\\lib\\site-packages\\skimage\\transform\\radon_transform.py:63: UserWarning: Radon transform: image must be zero outside the reconstruction circle\n",
      "  warn('Radon transform: image must be zero outside the '\n",
      "D:\\Programming\\Anaconda\\envs\\image\\lib\\site-packages\\skimage\\transform\\radon_transform.py:63: UserWarning: Radon transform: image must be zero outside the reconstruction circle\n",
      "  warn('Radon transform: image must be zero outside the '\n"
     ]
    },
    {
     "name": "stdout",
     "output_type": "stream",
     "text": [
      "1502\n"
     ]
    },
    {
     "name": "stderr",
     "output_type": "stream",
     "text": [
      "D:\\Programming\\Anaconda\\envs\\image\\lib\\site-packages\\skimage\\transform\\radon_transform.py:63: UserWarning: Radon transform: image must be zero outside the reconstruction circle\n",
      "  warn('Radon transform: image must be zero outside the '\n",
      "D:\\Programming\\Anaconda\\envs\\image\\lib\\site-packages\\skimage\\transform\\radon_transform.py:63: UserWarning: Radon transform: image must be zero outside the reconstruction circle\n",
      "  warn('Radon transform: image must be zero outside the '\n",
      "D:\\Programming\\Anaconda\\envs\\image\\lib\\site-packages\\skimage\\transform\\radon_transform.py:63: UserWarning: Radon transform: image must be zero outside the reconstruction circle\n",
      "  warn('Radon transform: image must be zero outside the '\n",
      "D:\\Programming\\Anaconda\\envs\\image\\lib\\site-packages\\skimage\\transform\\radon_transform.py:63: UserWarning: Radon transform: image must be zero outside the reconstruction circle\n",
      "  warn('Radon transform: image must be zero outside the '\n"
     ]
    },
    {
     "name": "stdout",
     "output_type": "stream",
     "text": [
      "1506\n"
     ]
    },
    {
     "name": "stderr",
     "output_type": "stream",
     "text": [
      "D:\\Programming\\Anaconda\\envs\\image\\lib\\site-packages\\skimage\\transform\\radon_transform.py:63: UserWarning: Radon transform: image must be zero outside the reconstruction circle\n",
      "  warn('Radon transform: image must be zero outside the '\n",
      "D:\\Programming\\Anaconda\\envs\\image\\lib\\site-packages\\skimage\\transform\\radon_transform.py:63: UserWarning: Radon transform: image must be zero outside the reconstruction circle\n",
      "  warn('Radon transform: image must be zero outside the '\n",
      "D:\\Programming\\Anaconda\\envs\\image\\lib\\site-packages\\skimage\\transform\\radon_transform.py:63: UserWarning: Radon transform: image must be zero outside the reconstruction circle\n",
      "  warn('Radon transform: image must be zero outside the '\n",
      "D:\\Programming\\Anaconda\\envs\\image\\lib\\site-packages\\skimage\\transform\\radon_transform.py:63: UserWarning: Radon transform: image must be zero outside the reconstruction circle\n",
      "  warn('Radon transform: image must be zero outside the '\n",
      "D:\\Programming\\Anaconda\\envs\\image\\lib\\site-packages\\skimage\\transform\\radon_transform.py:63: UserWarning: Radon transform: image must be zero outside the reconstruction circle\n",
      "  warn('Radon transform: image must be zero outside the '\n",
      "D:\\Programming\\Anaconda\\envs\\image\\lib\\site-packages\\skimage\\transform\\radon_transform.py:63: UserWarning: Radon transform: image must be zero outside the reconstruction circle\n",
      "  warn('Radon transform: image must be zero outside the '\n",
      "D:\\Programming\\Anaconda\\envs\\image\\lib\\site-packages\\skimage\\transform\\radon_transform.py:63: UserWarning: Radon transform: image must be zero outside the reconstruction circle\n",
      "  warn('Radon transform: image must be zero outside the '\n",
      "D:\\Programming\\Anaconda\\envs\\image\\lib\\site-packages\\skimage\\transform\\radon_transform.py:63: UserWarning: Radon transform: image must be zero outside the reconstruction circle\n",
      "  warn('Radon transform: image must be zero outside the '\n"
     ]
    },
    {
     "name": "stdout",
     "output_type": "stream",
     "text": [
      "1514\n"
     ]
    },
    {
     "name": "stderr",
     "output_type": "stream",
     "text": [
      "D:\\Programming\\Anaconda\\envs\\image\\lib\\site-packages\\skimage\\transform\\radon_transform.py:63: UserWarning: Radon transform: image must be zero outside the reconstruction circle\n",
      "  warn('Radon transform: image must be zero outside the '\n",
      "D:\\Programming\\Anaconda\\envs\\image\\lib\\site-packages\\skimage\\transform\\radon_transform.py:63: UserWarning: Radon transform: image must be zero outside the reconstruction circle\n",
      "  warn('Radon transform: image must be zero outside the '\n",
      "D:\\Programming\\Anaconda\\envs\\image\\lib\\site-packages\\skimage\\transform\\radon_transform.py:63: UserWarning: Radon transform: image must be zero outside the reconstruction circle\n",
      "  warn('Radon transform: image must be zero outside the '\n",
      "D:\\Programming\\Anaconda\\envs\\image\\lib\\site-packages\\skimage\\transform\\radon_transform.py:63: UserWarning: Radon transform: image must be zero outside the reconstruction circle\n",
      "  warn('Radon transform: image must be zero outside the '\n",
      "D:\\Programming\\Anaconda\\envs\\image\\lib\\site-packages\\skimage\\transform\\radon_transform.py:63: UserWarning: Radon transform: image must be zero outside the reconstruction circle\n",
      "  warn('Radon transform: image must be zero outside the '\n",
      "D:\\Programming\\Anaconda\\envs\\image\\lib\\site-packages\\skimage\\transform\\radon_transform.py:63: UserWarning: Radon transform: image must be zero outside the reconstruction circle\n",
      "  warn('Radon transform: image must be zero outside the '\n",
      "D:\\Programming\\Anaconda\\envs\\image\\lib\\site-packages\\skimage\\transform\\radon_transform.py:63: UserWarning: Radon transform: image must be zero outside the reconstruction circle\n",
      "  warn('Radon transform: image must be zero outside the '\n",
      "D:\\Programming\\Anaconda\\envs\\image\\lib\\site-packages\\skimage\\transform\\radon_transform.py:63: UserWarning: Radon transform: image must be zero outside the reconstruction circle\n",
      "  warn('Radon transform: image must be zero outside the '\n",
      "D:\\Programming\\Anaconda\\envs\\image\\lib\\site-packages\\skimage\\transform\\radon_transform.py:63: UserWarning: Radon transform: image must be zero outside the reconstruction circle\n",
      "  warn('Radon transform: image must be zero outside the '\n",
      "D:\\Programming\\Anaconda\\envs\\image\\lib\\site-packages\\skimage\\transform\\radon_transform.py:63: UserWarning: Radon transform: image must be zero outside the reconstruction circle\n",
      "  warn('Radon transform: image must be zero outside the '\n",
      "D:\\Programming\\Anaconda\\envs\\image\\lib\\site-packages\\skimage\\transform\\radon_transform.py:63: UserWarning: Radon transform: image must be zero outside the reconstruction circle\n",
      "  warn('Radon transform: image must be zero outside the '\n",
      "D:\\Programming\\Anaconda\\envs\\image\\lib\\site-packages\\skimage\\transform\\radon_transform.py:63: UserWarning: Radon transform: image must be zero outside the reconstruction circle\n",
      "  warn('Radon transform: image must be zero outside the '\n",
      "D:\\Programming\\Anaconda\\envs\\image\\lib\\site-packages\\skimage\\transform\\radon_transform.py:63: UserWarning: Radon transform: image must be zero outside the reconstruction circle\n",
      "  warn('Radon transform: image must be zero outside the '\n",
      "D:\\Programming\\Anaconda\\envs\\image\\lib\\site-packages\\skimage\\transform\\radon_transform.py:63: UserWarning: Radon transform: image must be zero outside the reconstruction circle\n",
      "  warn('Radon transform: image must be zero outside the '\n",
      "D:\\Programming\\Anaconda\\envs\\image\\lib\\site-packages\\skimage\\transform\\radon_transform.py:63: UserWarning: Radon transform: image must be zero outside the reconstruction circle\n",
      "  warn('Radon transform: image must be zero outside the '\n",
      "D:\\Programming\\Anaconda\\envs\\image\\lib\\site-packages\\skimage\\transform\\radon_transform.py:63: UserWarning: Radon transform: image must be zero outside the reconstruction circle\n",
      "  warn('Radon transform: image must be zero outside the '\n"
     ]
    },
    {
     "name": "stdout",
     "output_type": "stream",
     "text": [
      "1530\n"
     ]
    },
    {
     "name": "stderr",
     "output_type": "stream",
     "text": [
      "D:\\Programming\\Anaconda\\envs\\image\\lib\\site-packages\\skimage\\transform\\radon_transform.py:63: UserWarning: Radon transform: image must be zero outside the reconstruction circle\n",
      "  warn('Radon transform: image must be zero outside the '\n",
      "D:\\Programming\\Anaconda\\envs\\image\\lib\\site-packages\\skimage\\transform\\radon_transform.py:63: UserWarning: Radon transform: image must be zero outside the reconstruction circle\n",
      "  warn('Radon transform: image must be zero outside the '\n",
      "D:\\Programming\\Anaconda\\envs\\image\\lib\\site-packages\\skimage\\transform\\radon_transform.py:63: UserWarning: Radon transform: image must be zero outside the reconstruction circle\n",
      "  warn('Radon transform: image must be zero outside the '\n",
      "D:\\Programming\\Anaconda\\envs\\image\\lib\\site-packages\\skimage\\transform\\radon_transform.py:63: UserWarning: Radon transform: image must be zero outside the reconstruction circle\n",
      "  warn('Radon transform: image must be zero outside the '\n",
      "D:\\Programming\\Anaconda\\envs\\image\\lib\\site-packages\\skimage\\transform\\radon_transform.py:63: UserWarning: Radon transform: image must be zero outside the reconstruction circle\n",
      "  warn('Radon transform: image must be zero outside the '\n",
      "D:\\Programming\\Anaconda\\envs\\image\\lib\\site-packages\\skimage\\transform\\radon_transform.py:63: UserWarning: Radon transform: image must be zero outside the reconstruction circle\n",
      "  warn('Radon transform: image must be zero outside the '\n",
      "D:\\Programming\\Anaconda\\envs\\image\\lib\\site-packages\\skimage\\transform\\radon_transform.py:63: UserWarning: Radon transform: image must be zero outside the reconstruction circle\n",
      "  warn('Radon transform: image must be zero outside the '\n"
     ]
    },
    {
     "name": "stdout",
     "output_type": "stream",
     "text": [
      "1537\n"
     ]
    },
    {
     "name": "stderr",
     "output_type": "stream",
     "text": [
      "D:\\Programming\\Anaconda\\envs\\image\\lib\\site-packages\\skimage\\transform\\radon_transform.py:63: UserWarning: Radon transform: image must be zero outside the reconstruction circle\n",
      "  warn('Radon transform: image must be zero outside the '\n",
      "D:\\Programming\\Anaconda\\envs\\image\\lib\\site-packages\\skimage\\transform\\radon_transform.py:63: UserWarning: Radon transform: image must be zero outside the reconstruction circle\n",
      "  warn('Radon transform: image must be zero outside the '\n",
      "D:\\Programming\\Anaconda\\envs\\image\\lib\\site-packages\\skimage\\transform\\radon_transform.py:63: UserWarning: Radon transform: image must be zero outside the reconstruction circle\n",
      "  warn('Radon transform: image must be zero outside the '\n",
      "D:\\Programming\\Anaconda\\envs\\image\\lib\\site-packages\\skimage\\transform\\radon_transform.py:63: UserWarning: Radon transform: image must be zero outside the reconstruction circle\n",
      "  warn('Radon transform: image must be zero outside the '\n"
     ]
    },
    {
     "name": "stdout",
     "output_type": "stream",
     "text": [
      "1541\n"
     ]
    },
    {
     "name": "stderr",
     "output_type": "stream",
     "text": [
      "D:\\Programming\\Anaconda\\envs\\image\\lib\\site-packages\\skimage\\transform\\radon_transform.py:63: UserWarning: Radon transform: image must be zero outside the reconstruction circle\n",
      "  warn('Radon transform: image must be zero outside the '\n"
     ]
    },
    {
     "name": "stdout",
     "output_type": "stream",
     "text": [
      "1542\n"
     ]
    },
    {
     "name": "stderr",
     "output_type": "stream",
     "text": [
      "D:\\Programming\\Anaconda\\envs\\image\\lib\\site-packages\\skimage\\transform\\radon_transform.py:63: UserWarning: Radon transform: image must be zero outside the reconstruction circle\n",
      "  warn('Radon transform: image must be zero outside the '\n",
      "D:\\Programming\\Anaconda\\envs\\image\\lib\\site-packages\\skimage\\transform\\radon_transform.py:63: UserWarning: Radon transform: image must be zero outside the reconstruction circle\n",
      "  warn('Radon transform: image must be zero outside the '\n",
      "D:\\Programming\\Anaconda\\envs\\image\\lib\\site-packages\\skimage\\transform\\radon_transform.py:63: UserWarning: Radon transform: image must be zero outside the reconstruction circle\n",
      "  warn('Radon transform: image must be zero outside the '\n",
      "D:\\Programming\\Anaconda\\envs\\image\\lib\\site-packages\\skimage\\transform\\radon_transform.py:63: UserWarning: Radon transform: image must be zero outside the reconstruction circle\n",
      "  warn('Radon transform: image must be zero outside the '\n",
      "D:\\Programming\\Anaconda\\envs\\image\\lib\\site-packages\\skimage\\transform\\radon_transform.py:63: UserWarning: Radon transform: image must be zero outside the reconstruction circle\n",
      "  warn('Radon transform: image must be zero outside the '\n",
      "D:\\Programming\\Anaconda\\envs\\image\\lib\\site-packages\\skimage\\transform\\radon_transform.py:63: UserWarning: Radon transform: image must be zero outside the reconstruction circle\n",
      "  warn('Radon transform: image must be zero outside the '\n",
      "D:\\Programming\\Anaconda\\envs\\image\\lib\\site-packages\\skimage\\transform\\radon_transform.py:63: UserWarning: Radon transform: image must be zero outside the reconstruction circle\n",
      "  warn('Radon transform: image must be zero outside the '\n",
      "D:\\Programming\\Anaconda\\envs\\image\\lib\\site-packages\\skimage\\transform\\radon_transform.py:63: UserWarning: Radon transform: image must be zero outside the reconstruction circle\n",
      "  warn('Radon transform: image must be zero outside the '\n",
      "D:\\Programming\\Anaconda\\envs\\image\\lib\\site-packages\\skimage\\transform\\radon_transform.py:63: UserWarning: Radon transform: image must be zero outside the reconstruction circle\n",
      "  warn('Radon transform: image must be zero outside the '\n",
      "D:\\Programming\\Anaconda\\envs\\image\\lib\\site-packages\\skimage\\transform\\radon_transform.py:63: UserWarning: Radon transform: image must be zero outside the reconstruction circle\n",
      "  warn('Radon transform: image must be zero outside the '\n",
      "D:\\Programming\\Anaconda\\envs\\image\\lib\\site-packages\\skimage\\transform\\radon_transform.py:63: UserWarning: Radon transform: image must be zero outside the reconstruction circle\n",
      "  warn('Radon transform: image must be zero outside the '\n",
      "D:\\Programming\\Anaconda\\envs\\image\\lib\\site-packages\\skimage\\transform\\radon_transform.py:63: UserWarning: Radon transform: image must be zero outside the reconstruction circle\n",
      "  warn('Radon transform: image must be zero outside the '\n",
      "D:\\Programming\\Anaconda\\envs\\image\\lib\\site-packages\\skimage\\transform\\radon_transform.py:63: UserWarning: Radon transform: image must be zero outside the reconstruction circle\n",
      "  warn('Radon transform: image must be zero outside the '\n",
      "D:\\Programming\\Anaconda\\envs\\image\\lib\\site-packages\\skimage\\transform\\radon_transform.py:63: UserWarning: Radon transform: image must be zero outside the reconstruction circle\n",
      "  warn('Radon transform: image must be zero outside the '\n"
     ]
    },
    {
     "name": "stdout",
     "output_type": "stream",
     "text": [
      "1556\n"
     ]
    },
    {
     "name": "stderr",
     "output_type": "stream",
     "text": [
      "D:\\Programming\\Anaconda\\envs\\image\\lib\\site-packages\\skimage\\transform\\radon_transform.py:63: UserWarning: Radon transform: image must be zero outside the reconstruction circle\n",
      "  warn('Radon transform: image must be zero outside the '\n",
      "D:\\Programming\\Anaconda\\envs\\image\\lib\\site-packages\\skimage\\transform\\radon_transform.py:63: UserWarning: Radon transform: image must be zero outside the reconstruction circle\n",
      "  warn('Radon transform: image must be zero outside the '\n",
      "D:\\Programming\\Anaconda\\envs\\image\\lib\\site-packages\\skimage\\transform\\radon_transform.py:63: UserWarning: Radon transform: image must be zero outside the reconstruction circle\n",
      "  warn('Radon transform: image must be zero outside the '\n",
      "D:\\Programming\\Anaconda\\envs\\image\\lib\\site-packages\\skimage\\transform\\radon_transform.py:63: UserWarning: Radon transform: image must be zero outside the reconstruction circle\n",
      "  warn('Radon transform: image must be zero outside the '\n"
     ]
    },
    {
     "name": "stdout",
     "output_type": "stream",
     "text": [
      "1560\n"
     ]
    },
    {
     "name": "stderr",
     "output_type": "stream",
     "text": [
      "D:\\Programming\\Anaconda\\envs\\image\\lib\\site-packages\\skimage\\transform\\radon_transform.py:63: UserWarning: Radon transform: image must be zero outside the reconstruction circle\n",
      "  warn('Radon transform: image must be zero outside the '\n",
      "D:\\Programming\\Anaconda\\envs\\image\\lib\\site-packages\\skimage\\transform\\radon_transform.py:63: UserWarning: Radon transform: image must be zero outside the reconstruction circle\n",
      "  warn('Radon transform: image must be zero outside the '\n",
      "D:\\Programming\\Anaconda\\envs\\image\\lib\\site-packages\\skimage\\transform\\radon_transform.py:63: UserWarning: Radon transform: image must be zero outside the reconstruction circle\n",
      "  warn('Radon transform: image must be zero outside the '\n",
      "D:\\Programming\\Anaconda\\envs\\image\\lib\\site-packages\\skimage\\transform\\radon_transform.py:63: UserWarning: Radon transform: image must be zero outside the reconstruction circle\n",
      "  warn('Radon transform: image must be zero outside the '\n",
      "D:\\Programming\\Anaconda\\envs\\image\\lib\\site-packages\\skimage\\transform\\radon_transform.py:63: UserWarning: Radon transform: image must be zero outside the reconstruction circle\n",
      "  warn('Radon transform: image must be zero outside the '\n",
      "D:\\Programming\\Anaconda\\envs\\image\\lib\\site-packages\\skimage\\transform\\radon_transform.py:63: UserWarning: Radon transform: image must be zero outside the reconstruction circle\n",
      "  warn('Radon transform: image must be zero outside the '\n",
      "D:\\Programming\\Anaconda\\envs\\image\\lib\\site-packages\\skimage\\transform\\radon_transform.py:63: UserWarning: Radon transform: image must be zero outside the reconstruction circle\n",
      "  warn('Radon transform: image must be zero outside the '\n"
     ]
    },
    {
     "name": "stdout",
     "output_type": "stream",
     "text": [
      "1567\n"
     ]
    },
    {
     "name": "stderr",
     "output_type": "stream",
     "text": [
      "D:\\Programming\\Anaconda\\envs\\image\\lib\\site-packages\\skimage\\transform\\radon_transform.py:63: UserWarning: Radon transform: image must be zero outside the reconstruction circle\n",
      "  warn('Radon transform: image must be zero outside the '\n",
      "D:\\Programming\\Anaconda\\envs\\image\\lib\\site-packages\\skimage\\transform\\radon_transform.py:63: UserWarning: Radon transform: image must be zero outside the reconstruction circle\n",
      "  warn('Radon transform: image must be zero outside the '\n",
      "D:\\Programming\\Anaconda\\envs\\image\\lib\\site-packages\\skimage\\transform\\radon_transform.py:63: UserWarning: Radon transform: image must be zero outside the reconstruction circle\n",
      "  warn('Radon transform: image must be zero outside the '\n",
      "D:\\Programming\\Anaconda\\envs\\image\\lib\\site-packages\\skimage\\transform\\radon_transform.py:63: UserWarning: Radon transform: image must be zero outside the reconstruction circle\n",
      "  warn('Radon transform: image must be zero outside the '\n",
      "D:\\Programming\\Anaconda\\envs\\image\\lib\\site-packages\\skimage\\transform\\radon_transform.py:63: UserWarning: Radon transform: image must be zero outside the reconstruction circle\n",
      "  warn('Radon transform: image must be zero outside the '\n",
      "D:\\Programming\\Anaconda\\envs\\image\\lib\\site-packages\\skimage\\transform\\radon_transform.py:63: UserWarning: Radon transform: image must be zero outside the reconstruction circle\n",
      "  warn('Radon transform: image must be zero outside the '\n",
      "D:\\Programming\\Anaconda\\envs\\image\\lib\\site-packages\\skimage\\transform\\radon_transform.py:63: UserWarning: Radon transform: image must be zero outside the reconstruction circle\n",
      "  warn('Radon transform: image must be zero outside the '\n",
      "D:\\Programming\\Anaconda\\envs\\image\\lib\\site-packages\\skimage\\transform\\radon_transform.py:63: UserWarning: Radon transform: image must be zero outside the reconstruction circle\n",
      "  warn('Radon transform: image must be zero outside the '\n",
      "D:\\Programming\\Anaconda\\envs\\image\\lib\\site-packages\\skimage\\transform\\radon_transform.py:63: UserWarning: Radon transform: image must be zero outside the reconstruction circle\n",
      "  warn('Radon transform: image must be zero outside the '\n",
      "D:\\Programming\\Anaconda\\envs\\image\\lib\\site-packages\\skimage\\transform\\radon_transform.py:63: UserWarning: Radon transform: image must be zero outside the reconstruction circle\n",
      "  warn('Radon transform: image must be zero outside the '\n",
      "D:\\Programming\\Anaconda\\envs\\image\\lib\\site-packages\\skimage\\transform\\radon_transform.py:63: UserWarning: Radon transform: image must be zero outside the reconstruction circle\n",
      "  warn('Radon transform: image must be zero outside the '\n",
      "D:\\Programming\\Anaconda\\envs\\image\\lib\\site-packages\\skimage\\transform\\radon_transform.py:63: UserWarning: Radon transform: image must be zero outside the reconstruction circle\n",
      "  warn('Radon transform: image must be zero outside the '\n"
     ]
    },
    {
     "name": "stdout",
     "output_type": "stream",
     "text": [
      "1579\n"
     ]
    },
    {
     "name": "stderr",
     "output_type": "stream",
     "text": [
      "D:\\Programming\\Anaconda\\envs\\image\\lib\\site-packages\\skimage\\transform\\radon_transform.py:63: UserWarning: Radon transform: image must be zero outside the reconstruction circle\n",
      "  warn('Radon transform: image must be zero outside the '\n",
      "D:\\Programming\\Anaconda\\envs\\image\\lib\\site-packages\\skimage\\transform\\radon_transform.py:63: UserWarning: Radon transform: image must be zero outside the reconstruction circle\n",
      "  warn('Radon transform: image must be zero outside the '\n"
     ]
    },
    {
     "name": "stdout",
     "output_type": "stream",
     "text": [
      "1581\n"
     ]
    },
    {
     "name": "stderr",
     "output_type": "stream",
     "text": [
      "D:\\Programming\\Anaconda\\envs\\image\\lib\\site-packages\\skimage\\transform\\radon_transform.py:63: UserWarning: Radon transform: image must be zero outside the reconstruction circle\n",
      "  warn('Radon transform: image must be zero outside the '\n",
      "D:\\Programming\\Anaconda\\envs\\image\\lib\\site-packages\\skimage\\transform\\radon_transform.py:63: UserWarning: Radon transform: image must be zero outside the reconstruction circle\n",
      "  warn('Radon transform: image must be zero outside the '\n",
      "D:\\Programming\\Anaconda\\envs\\image\\lib\\site-packages\\skimage\\transform\\radon_transform.py:63: UserWarning: Radon transform: image must be zero outside the reconstruction circle\n",
      "  warn('Radon transform: image must be zero outside the '\n",
      "D:\\Programming\\Anaconda\\envs\\image\\lib\\site-packages\\skimage\\transform\\radon_transform.py:63: UserWarning: Radon transform: image must be zero outside the reconstruction circle\n",
      "  warn('Radon transform: image must be zero outside the '\n",
      "D:\\Programming\\Anaconda\\envs\\image\\lib\\site-packages\\skimage\\transform\\radon_transform.py:63: UserWarning: Radon transform: image must be zero outside the reconstruction circle\n",
      "  warn('Radon transform: image must be zero outside the '\n",
      "D:\\Programming\\Anaconda\\envs\\image\\lib\\site-packages\\skimage\\transform\\radon_transform.py:63: UserWarning: Radon transform: image must be zero outside the reconstruction circle\n",
      "  warn('Radon transform: image must be zero outside the '\n",
      "D:\\Programming\\Anaconda\\envs\\image\\lib\\site-packages\\skimage\\transform\\radon_transform.py:63: UserWarning: Radon transform: image must be zero outside the reconstruction circle\n",
      "  warn('Radon transform: image must be zero outside the '\n",
      "D:\\Programming\\Anaconda\\envs\\image\\lib\\site-packages\\skimage\\transform\\radon_transform.py:63: UserWarning: Radon transform: image must be zero outside the reconstruction circle\n",
      "  warn('Radon transform: image must be zero outside the '\n",
      "D:\\Programming\\Anaconda\\envs\\image\\lib\\site-packages\\skimage\\transform\\radon_transform.py:63: UserWarning: Radon transform: image must be zero outside the reconstruction circle\n",
      "  warn('Radon transform: image must be zero outside the '\n"
     ]
    },
    {
     "name": "stdout",
     "output_type": "stream",
     "text": [
      "1590\n"
     ]
    },
    {
     "name": "stderr",
     "output_type": "stream",
     "text": [
      "D:\\Programming\\Anaconda\\envs\\image\\lib\\site-packages\\skimage\\transform\\radon_transform.py:63: UserWarning: Radon transform: image must be zero outside the reconstruction circle\n",
      "  warn('Radon transform: image must be zero outside the '\n",
      "D:\\Programming\\Anaconda\\envs\\image\\lib\\site-packages\\skimage\\transform\\radon_transform.py:63: UserWarning: Radon transform: image must be zero outside the reconstruction circle\n",
      "  warn('Radon transform: image must be zero outside the '\n",
      "D:\\Programming\\Anaconda\\envs\\image\\lib\\site-packages\\skimage\\transform\\radon_transform.py:63: UserWarning: Radon transform: image must be zero outside the reconstruction circle\n",
      "  warn('Radon transform: image must be zero outside the '\n",
      "D:\\Programming\\Anaconda\\envs\\image\\lib\\site-packages\\skimage\\transform\\radon_transform.py:63: UserWarning: Radon transform: image must be zero outside the reconstruction circle\n",
      "  warn('Radon transform: image must be zero outside the '\n",
      "D:\\Programming\\Anaconda\\envs\\image\\lib\\site-packages\\skimage\\transform\\radon_transform.py:63: UserWarning: Radon transform: image must be zero outside the reconstruction circle\n",
      "  warn('Radon transform: image must be zero outside the '\n",
      "D:\\Programming\\Anaconda\\envs\\image\\lib\\site-packages\\skimage\\transform\\radon_transform.py:63: UserWarning: Radon transform: image must be zero outside the reconstruction circle\n",
      "  warn('Radon transform: image must be zero outside the '\n",
      "D:\\Programming\\Anaconda\\envs\\image\\lib\\site-packages\\skimage\\transform\\radon_transform.py:63: UserWarning: Radon transform: image must be zero outside the reconstruction circle\n",
      "  warn('Radon transform: image must be zero outside the '\n",
      "D:\\Programming\\Anaconda\\envs\\image\\lib\\site-packages\\skimage\\transform\\radon_transform.py:63: UserWarning: Radon transform: image must be zero outside the reconstruction circle\n",
      "  warn('Radon transform: image must be zero outside the '\n",
      "D:\\Programming\\Anaconda\\envs\\image\\lib\\site-packages\\skimage\\transform\\radon_transform.py:63: UserWarning: Radon transform: image must be zero outside the reconstruction circle\n",
      "  warn('Radon transform: image must be zero outside the '\n",
      "D:\\Programming\\Anaconda\\envs\\image\\lib\\site-packages\\skimage\\transform\\radon_transform.py:63: UserWarning: Radon transform: image must be zero outside the reconstruction circle\n",
      "  warn('Radon transform: image must be zero outside the '\n",
      "D:\\Programming\\Anaconda\\envs\\image\\lib\\site-packages\\skimage\\transform\\radon_transform.py:63: UserWarning: Radon transform: image must be zero outside the reconstruction circle\n",
      "  warn('Radon transform: image must be zero outside the '\n",
      "D:\\Programming\\Anaconda\\envs\\image\\lib\\site-packages\\skimage\\transform\\radon_transform.py:63: UserWarning: Radon transform: image must be zero outside the reconstruction circle\n",
      "  warn('Radon transform: image must be zero outside the '\n",
      "D:\\Programming\\Anaconda\\envs\\image\\lib\\site-packages\\skimage\\transform\\radon_transform.py:63: UserWarning: Radon transform: image must be zero outside the reconstruction circle\n",
      "  warn('Radon transform: image must be zero outside the '\n"
     ]
    },
    {
     "name": "stdout",
     "output_type": "stream",
     "text": [
      "1603\n"
     ]
    },
    {
     "name": "stderr",
     "output_type": "stream",
     "text": [
      "D:\\Programming\\Anaconda\\envs\\image\\lib\\site-packages\\skimage\\transform\\radon_transform.py:63: UserWarning: Radon transform: image must be zero outside the reconstruction circle\n",
      "  warn('Radon transform: image must be zero outside the '\n",
      "D:\\Programming\\Anaconda\\envs\\image\\lib\\site-packages\\skimage\\transform\\radon_transform.py:63: UserWarning: Radon transform: image must be zero outside the reconstruction circle\n",
      "  warn('Radon transform: image must be zero outside the '\n",
      "D:\\Programming\\Anaconda\\envs\\image\\lib\\site-packages\\skimage\\transform\\radon_transform.py:63: UserWarning: Radon transform: image must be zero outside the reconstruction circle\n",
      "  warn('Radon transform: image must be zero outside the '\n",
      "D:\\Programming\\Anaconda\\envs\\image\\lib\\site-packages\\skimage\\transform\\radon_transform.py:63: UserWarning: Radon transform: image must be zero outside the reconstruction circle\n",
      "  warn('Radon transform: image must be zero outside the '\n",
      "D:\\Programming\\Anaconda\\envs\\image\\lib\\site-packages\\skimage\\transform\\radon_transform.py:63: UserWarning: Radon transform: image must be zero outside the reconstruction circle\n",
      "  warn('Radon transform: image must be zero outside the '\n",
      "D:\\Programming\\Anaconda\\envs\\image\\lib\\site-packages\\skimage\\transform\\radon_transform.py:63: UserWarning: Radon transform: image must be zero outside the reconstruction circle\n",
      "  warn('Radon transform: image must be zero outside the '\n",
      "D:\\Programming\\Anaconda\\envs\\image\\lib\\site-packages\\skimage\\transform\\radon_transform.py:63: UserWarning: Radon transform: image must be zero outside the reconstruction circle\n",
      "  warn('Radon transform: image must be zero outside the '\n"
     ]
    },
    {
     "name": "stdout",
     "output_type": "stream",
     "text": [
      "1610\n"
     ]
    },
    {
     "name": "stderr",
     "output_type": "stream",
     "text": [
      "D:\\Programming\\Anaconda\\envs\\image\\lib\\site-packages\\skimage\\transform\\radon_transform.py:63: UserWarning: Radon transform: image must be zero outside the reconstruction circle\n",
      "  warn('Radon transform: image must be zero outside the '\n",
      "D:\\Programming\\Anaconda\\envs\\image\\lib\\site-packages\\skimage\\transform\\radon_transform.py:63: UserWarning: Radon transform: image must be zero outside the reconstruction circle\n",
      "  warn('Radon transform: image must be zero outside the '\n"
     ]
    },
    {
     "name": "stdout",
     "output_type": "stream",
     "text": [
      "1612\n"
     ]
    },
    {
     "name": "stderr",
     "output_type": "stream",
     "text": [
      "D:\\Programming\\Anaconda\\envs\\image\\lib\\site-packages\\skimage\\transform\\radon_transform.py:63: UserWarning: Radon transform: image must be zero outside the reconstruction circle\n",
      "  warn('Radon transform: image must be zero outside the '\n",
      "D:\\Programming\\Anaconda\\envs\\image\\lib\\site-packages\\skimage\\transform\\radon_transform.py:63: UserWarning: Radon transform: image must be zero outside the reconstruction circle\n",
      "  warn('Radon transform: image must be zero outside the '\n",
      "D:\\Programming\\Anaconda\\envs\\image\\lib\\site-packages\\skimage\\transform\\radon_transform.py:63: UserWarning: Radon transform: image must be zero outside the reconstruction circle\n",
      "  warn('Radon transform: image must be zero outside the '\n",
      "D:\\Programming\\Anaconda\\envs\\image\\lib\\site-packages\\skimage\\transform\\radon_transform.py:63: UserWarning: Radon transform: image must be zero outside the reconstruction circle\n",
      "  warn('Radon transform: image must be zero outside the '\n",
      "D:\\Programming\\Anaconda\\envs\\image\\lib\\site-packages\\skimage\\transform\\radon_transform.py:63: UserWarning: Radon transform: image must be zero outside the reconstruction circle\n",
      "  warn('Radon transform: image must be zero outside the '\n",
      "D:\\Programming\\Anaconda\\envs\\image\\lib\\site-packages\\skimage\\transform\\radon_transform.py:63: UserWarning: Radon transform: image must be zero outside the reconstruction circle\n",
      "  warn('Radon transform: image must be zero outside the '\n",
      "D:\\Programming\\Anaconda\\envs\\image\\lib\\site-packages\\skimage\\transform\\radon_transform.py:63: UserWarning: Radon transform: image must be zero outside the reconstruction circle\n",
      "  warn('Radon transform: image must be zero outside the '\n",
      "D:\\Programming\\Anaconda\\envs\\image\\lib\\site-packages\\skimage\\transform\\radon_transform.py:63: UserWarning: Radon transform: image must be zero outside the reconstruction circle\n",
      "  warn('Radon transform: image must be zero outside the '\n"
     ]
    },
    {
     "name": "stdout",
     "output_type": "stream",
     "text": [
      "1620\n"
     ]
    },
    {
     "name": "stderr",
     "output_type": "stream",
     "text": [
      "D:\\Programming\\Anaconda\\envs\\image\\lib\\site-packages\\skimage\\transform\\radon_transform.py:63: UserWarning: Radon transform: image must be zero outside the reconstruction circle\n",
      "  warn('Radon transform: image must be zero outside the '\n",
      "D:\\Programming\\Anaconda\\envs\\image\\lib\\site-packages\\skimage\\transform\\radon_transform.py:63: UserWarning: Radon transform: image must be zero outside the reconstruction circle\n",
      "  warn('Radon transform: image must be zero outside the '\n",
      "D:\\Programming\\Anaconda\\envs\\image\\lib\\site-packages\\skimage\\transform\\radon_transform.py:63: UserWarning: Radon transform: image must be zero outside the reconstruction circle\n",
      "  warn('Radon transform: image must be zero outside the '\n",
      "D:\\Programming\\Anaconda\\envs\\image\\lib\\site-packages\\skimage\\transform\\radon_transform.py:63: UserWarning: Radon transform: image must be zero outside the reconstruction circle\n",
      "  warn('Radon transform: image must be zero outside the '\n",
      "D:\\Programming\\Anaconda\\envs\\image\\lib\\site-packages\\skimage\\transform\\radon_transform.py:63: UserWarning: Radon transform: image must be zero outside the reconstruction circle\n",
      "  warn('Radon transform: image must be zero outside the '\n",
      "D:\\Programming\\Anaconda\\envs\\image\\lib\\site-packages\\skimage\\transform\\radon_transform.py:63: UserWarning: Radon transform: image must be zero outside the reconstruction circle\n",
      "  warn('Radon transform: image must be zero outside the '\n",
      "D:\\Programming\\Anaconda\\envs\\image\\lib\\site-packages\\skimage\\transform\\radon_transform.py:63: UserWarning: Radon transform: image must be zero outside the reconstruction circle\n",
      "  warn('Radon transform: image must be zero outside the '\n"
     ]
    },
    {
     "name": "stdout",
     "output_type": "stream",
     "text": [
      "1627\n"
     ]
    },
    {
     "name": "stderr",
     "output_type": "stream",
     "text": [
      "D:\\Programming\\Anaconda\\envs\\image\\lib\\site-packages\\skimage\\transform\\radon_transform.py:63: UserWarning: Radon transform: image must be zero outside the reconstruction circle\n",
      "  warn('Radon transform: image must be zero outside the '\n",
      "D:\\Programming\\Anaconda\\envs\\image\\lib\\site-packages\\skimage\\transform\\radon_transform.py:63: UserWarning: Radon transform: image must be zero outside the reconstruction circle\n",
      "  warn('Radon transform: image must be zero outside the '\n",
      "D:\\Programming\\Anaconda\\envs\\image\\lib\\site-packages\\skimage\\transform\\radon_transform.py:63: UserWarning: Radon transform: image must be zero outside the reconstruction circle\n",
      "  warn('Radon transform: image must be zero outside the '\n",
      "D:\\Programming\\Anaconda\\envs\\image\\lib\\site-packages\\skimage\\transform\\radon_transform.py:63: UserWarning: Radon transform: image must be zero outside the reconstruction circle\n",
      "  warn('Radon transform: image must be zero outside the '\n",
      "D:\\Programming\\Anaconda\\envs\\image\\lib\\site-packages\\skimage\\transform\\radon_transform.py:63: UserWarning: Radon transform: image must be zero outside the reconstruction circle\n",
      "  warn('Radon transform: image must be zero outside the '\n",
      "D:\\Programming\\Anaconda\\envs\\image\\lib\\site-packages\\skimage\\transform\\radon_transform.py:63: UserWarning: Radon transform: image must be zero outside the reconstruction circle\n",
      "  warn('Radon transform: image must be zero outside the '\n",
      "D:\\Programming\\Anaconda\\envs\\image\\lib\\site-packages\\skimage\\transform\\radon_transform.py:63: UserWarning: Radon transform: image must be zero outside the reconstruction circle\n",
      "  warn('Radon transform: image must be zero outside the '\n",
      "D:\\Programming\\Anaconda\\envs\\image\\lib\\site-packages\\skimage\\transform\\radon_transform.py:63: UserWarning: Radon transform: image must be zero outside the reconstruction circle\n",
      "  warn('Radon transform: image must be zero outside the '\n",
      "D:\\Programming\\Anaconda\\envs\\image\\lib\\site-packages\\skimage\\transform\\radon_transform.py:63: UserWarning: Radon transform: image must be zero outside the reconstruction circle\n",
      "  warn('Radon transform: image must be zero outside the '\n",
      "D:\\Programming\\Anaconda\\envs\\image\\lib\\site-packages\\skimage\\transform\\radon_transform.py:63: UserWarning: Radon transform: image must be zero outside the reconstruction circle\n",
      "  warn('Radon transform: image must be zero outside the '\n",
      "D:\\Programming\\Anaconda\\envs\\image\\lib\\site-packages\\skimage\\transform\\radon_transform.py:63: UserWarning: Radon transform: image must be zero outside the reconstruction circle\n",
      "  warn('Radon transform: image must be zero outside the '\n",
      "D:\\Programming\\Anaconda\\envs\\image\\lib\\site-packages\\skimage\\transform\\radon_transform.py:63: UserWarning: Radon transform: image must be zero outside the reconstruction circle\n",
      "  warn('Radon transform: image must be zero outside the '\n",
      "D:\\Programming\\Anaconda\\envs\\image\\lib\\site-packages\\skimage\\transform\\radon_transform.py:63: UserWarning: Radon transform: image must be zero outside the reconstruction circle\n",
      "  warn('Radon transform: image must be zero outside the '\n",
      "D:\\Programming\\Anaconda\\envs\\image\\lib\\site-packages\\skimage\\transform\\radon_transform.py:63: UserWarning: Radon transform: image must be zero outside the reconstruction circle\n",
      "  warn('Radon transform: image must be zero outside the '\n",
      "D:\\Programming\\Anaconda\\envs\\image\\lib\\site-packages\\skimage\\transform\\radon_transform.py:63: UserWarning: Radon transform: image must be zero outside the reconstruction circle\n",
      "  warn('Radon transform: image must be zero outside the '\n",
      "D:\\Programming\\Anaconda\\envs\\image\\lib\\site-packages\\skimage\\transform\\radon_transform.py:63: UserWarning: Radon transform: image must be zero outside the reconstruction circle\n",
      "  warn('Radon transform: image must be zero outside the '\n",
      "D:\\Programming\\Anaconda\\envs\\image\\lib\\site-packages\\skimage\\transform\\radon_transform.py:63: UserWarning: Radon transform: image must be zero outside the reconstruction circle\n",
      "  warn('Radon transform: image must be zero outside the '\n"
     ]
    },
    {
     "name": "stdout",
     "output_type": "stream",
     "text": [
      "1644\n"
     ]
    },
    {
     "name": "stderr",
     "output_type": "stream",
     "text": [
      "D:\\Programming\\Anaconda\\envs\\image\\lib\\site-packages\\skimage\\transform\\radon_transform.py:63: UserWarning: Radon transform: image must be zero outside the reconstruction circle\n",
      "  warn('Radon transform: image must be zero outside the '\n",
      "D:\\Programming\\Anaconda\\envs\\image\\lib\\site-packages\\skimage\\transform\\radon_transform.py:63: UserWarning: Radon transform: image must be zero outside the reconstruction circle\n",
      "  warn('Radon transform: image must be zero outside the '\n",
      "D:\\Programming\\Anaconda\\envs\\image\\lib\\site-packages\\skimage\\transform\\radon_transform.py:63: UserWarning: Radon transform: image must be zero outside the reconstruction circle\n",
      "  warn('Radon transform: image must be zero outside the '\n",
      "D:\\Programming\\Anaconda\\envs\\image\\lib\\site-packages\\skimage\\transform\\radon_transform.py:63: UserWarning: Radon transform: image must be zero outside the reconstruction circle\n",
      "  warn('Radon transform: image must be zero outside the '\n",
      "D:\\Programming\\Anaconda\\envs\\image\\lib\\site-packages\\skimage\\transform\\radon_transform.py:63: UserWarning: Radon transform: image must be zero outside the reconstruction circle\n",
      "  warn('Radon transform: image must be zero outside the '\n",
      "D:\\Programming\\Anaconda\\envs\\image\\lib\\site-packages\\skimage\\transform\\radon_transform.py:63: UserWarning: Radon transform: image must be zero outside the reconstruction circle\n",
      "  warn('Radon transform: image must be zero outside the '\n"
     ]
    },
    {
     "name": "stdout",
     "output_type": "stream",
     "text": [
      "1650\n"
     ]
    },
    {
     "name": "stderr",
     "output_type": "stream",
     "text": [
      "D:\\Programming\\Anaconda\\envs\\image\\lib\\site-packages\\skimage\\transform\\radon_transform.py:63: UserWarning: Radon transform: image must be zero outside the reconstruction circle\n",
      "  warn('Radon transform: image must be zero outside the '\n",
      "D:\\Programming\\Anaconda\\envs\\image\\lib\\site-packages\\skimage\\transform\\radon_transform.py:63: UserWarning: Radon transform: image must be zero outside the reconstruction circle\n",
      "  warn('Radon transform: image must be zero outside the '\n",
      "D:\\Programming\\Anaconda\\envs\\image\\lib\\site-packages\\skimage\\transform\\radon_transform.py:63: UserWarning: Radon transform: image must be zero outside the reconstruction circle\n",
      "  warn('Radon transform: image must be zero outside the '\n"
     ]
    },
    {
     "name": "stdout",
     "output_type": "stream",
     "text": [
      "1653\n"
     ]
    },
    {
     "name": "stderr",
     "output_type": "stream",
     "text": [
      "D:\\Programming\\Anaconda\\envs\\image\\lib\\site-packages\\skimage\\transform\\radon_transform.py:63: UserWarning: Radon transform: image must be zero outside the reconstruction circle\n",
      "  warn('Radon transform: image must be zero outside the '\n",
      "D:\\Programming\\Anaconda\\envs\\image\\lib\\site-packages\\skimage\\transform\\radon_transform.py:63: UserWarning: Radon transform: image must be zero outside the reconstruction circle\n",
      "  warn('Radon transform: image must be zero outside the '\n"
     ]
    },
    {
     "name": "stdout",
     "output_type": "stream",
     "text": [
      "1655\n"
     ]
    },
    {
     "name": "stderr",
     "output_type": "stream",
     "text": [
      "D:\\Programming\\Anaconda\\envs\\image\\lib\\site-packages\\skimage\\transform\\radon_transform.py:63: UserWarning: Radon transform: image must be zero outside the reconstruction circle\n",
      "  warn('Radon transform: image must be zero outside the '\n",
      "D:\\Programming\\Anaconda\\envs\\image\\lib\\site-packages\\skimage\\transform\\radon_transform.py:63: UserWarning: Radon transform: image must be zero outside the reconstruction circle\n",
      "  warn('Radon transform: image must be zero outside the '\n",
      "D:\\Programming\\Anaconda\\envs\\image\\lib\\site-packages\\skimage\\transform\\radon_transform.py:63: UserWarning: Radon transform: image must be zero outside the reconstruction circle\n",
      "  warn('Radon transform: image must be zero outside the '\n",
      "D:\\Programming\\Anaconda\\envs\\image\\lib\\site-packages\\skimage\\transform\\radon_transform.py:63: UserWarning: Radon transform: image must be zero outside the reconstruction circle\n",
      "  warn('Radon transform: image must be zero outside the '\n",
      "D:\\Programming\\Anaconda\\envs\\image\\lib\\site-packages\\skimage\\transform\\radon_transform.py:63: UserWarning: Radon transform: image must be zero outside the reconstruction circle\n",
      "  warn('Radon transform: image must be zero outside the '\n",
      "D:\\Programming\\Anaconda\\envs\\image\\lib\\site-packages\\skimage\\transform\\radon_transform.py:63: UserWarning: Radon transform: image must be zero outside the reconstruction circle\n",
      "  warn('Radon transform: image must be zero outside the '\n",
      "D:\\Programming\\Anaconda\\envs\\image\\lib\\site-packages\\skimage\\transform\\radon_transform.py:63: UserWarning: Radon transform: image must be zero outside the reconstruction circle\n",
      "  warn('Radon transform: image must be zero outside the '\n"
     ]
    },
    {
     "name": "stdout",
     "output_type": "stream",
     "text": [
      "1662\n"
     ]
    },
    {
     "name": "stderr",
     "output_type": "stream",
     "text": [
      "D:\\Programming\\Anaconda\\envs\\image\\lib\\site-packages\\skimage\\transform\\radon_transform.py:63: UserWarning: Radon transform: image must be zero outside the reconstruction circle\n",
      "  warn('Radon transform: image must be zero outside the '\n",
      "D:\\Programming\\Anaconda\\envs\\image\\lib\\site-packages\\skimage\\transform\\radon_transform.py:63: UserWarning: Radon transform: image must be zero outside the reconstruction circle\n",
      "  warn('Radon transform: image must be zero outside the '\n",
      "D:\\Programming\\Anaconda\\envs\\image\\lib\\site-packages\\skimage\\transform\\radon_transform.py:63: UserWarning: Radon transform: image must be zero outside the reconstruction circle\n",
      "  warn('Radon transform: image must be zero outside the '\n",
      "D:\\Programming\\Anaconda\\envs\\image\\lib\\site-packages\\skimage\\transform\\radon_transform.py:63: UserWarning: Radon transform: image must be zero outside the reconstruction circle\n",
      "  warn('Radon transform: image must be zero outside the '\n",
      "D:\\Programming\\Anaconda\\envs\\image\\lib\\site-packages\\skimage\\transform\\radon_transform.py:63: UserWarning: Radon transform: image must be zero outside the reconstruction circle\n",
      "  warn('Radon transform: image must be zero outside the '\n",
      "D:\\Programming\\Anaconda\\envs\\image\\lib\\site-packages\\skimage\\transform\\radon_transform.py:63: UserWarning: Radon transform: image must be zero outside the reconstruction circle\n",
      "  warn('Radon transform: image must be zero outside the '\n",
      "D:\\Programming\\Anaconda\\envs\\image\\lib\\site-packages\\skimage\\transform\\radon_transform.py:63: UserWarning: Radon transform: image must be zero outside the reconstruction circle\n",
      "  warn('Radon transform: image must be zero outside the '\n",
      "D:\\Programming\\Anaconda\\envs\\image\\lib\\site-packages\\skimage\\transform\\radon_transform.py:63: UserWarning: Radon transform: image must be zero outside the reconstruction circle\n",
      "  warn('Radon transform: image must be zero outside the '\n",
      "D:\\Programming\\Anaconda\\envs\\image\\lib\\site-packages\\skimage\\transform\\radon_transform.py:63: UserWarning: Radon transform: image must be zero outside the reconstruction circle\n",
      "  warn('Radon transform: image must be zero outside the '\n",
      "D:\\Programming\\Anaconda\\envs\\image\\lib\\site-packages\\skimage\\transform\\radon_transform.py:63: UserWarning: Radon transform: image must be zero outside the reconstruction circle\n",
      "  warn('Radon transform: image must be zero outside the '\n",
      "D:\\Programming\\Anaconda\\envs\\image\\lib\\site-packages\\skimage\\transform\\radon_transform.py:63: UserWarning: Radon transform: image must be zero outside the reconstruction circle\n",
      "  warn('Radon transform: image must be zero outside the '\n",
      "D:\\Programming\\Anaconda\\envs\\image\\lib\\site-packages\\skimage\\transform\\radon_transform.py:63: UserWarning: Radon transform: image must be zero outside the reconstruction circle\n",
      "  warn('Radon transform: image must be zero outside the '\n"
     ]
    },
    {
     "name": "stdout",
     "output_type": "stream",
     "text": [
      "1674\n"
     ]
    },
    {
     "name": "stderr",
     "output_type": "stream",
     "text": [
      "D:\\Programming\\Anaconda\\envs\\image\\lib\\site-packages\\skimage\\transform\\radon_transform.py:63: UserWarning: Radon transform: image must be zero outside the reconstruction circle\n",
      "  warn('Radon transform: image must be zero outside the '\n",
      "D:\\Programming\\Anaconda\\envs\\image\\lib\\site-packages\\skimage\\transform\\radon_transform.py:63: UserWarning: Radon transform: image must be zero outside the reconstruction circle\n",
      "  warn('Radon transform: image must be zero outside the '\n",
      "D:\\Programming\\Anaconda\\envs\\image\\lib\\site-packages\\skimage\\transform\\radon_transform.py:63: UserWarning: Radon transform: image must be zero outside the reconstruction circle\n",
      "  warn('Radon transform: image must be zero outside the '\n",
      "D:\\Programming\\Anaconda\\envs\\image\\lib\\site-packages\\skimage\\transform\\radon_transform.py:63: UserWarning: Radon transform: image must be zero outside the reconstruction circle\n",
      "  warn('Radon transform: image must be zero outside the '\n"
     ]
    },
    {
     "name": "stdout",
     "output_type": "stream",
     "text": [
      "1678\n"
     ]
    },
    {
     "name": "stderr",
     "output_type": "stream",
     "text": [
      "D:\\Programming\\Anaconda\\envs\\image\\lib\\site-packages\\skimage\\transform\\radon_transform.py:63: UserWarning: Radon transform: image must be zero outside the reconstruction circle\n",
      "  warn('Radon transform: image must be zero outside the '\n",
      "D:\\Programming\\Anaconda\\envs\\image\\lib\\site-packages\\skimage\\transform\\radon_transform.py:63: UserWarning: Radon transform: image must be zero outside the reconstruction circle\n",
      "  warn('Radon transform: image must be zero outside the '\n",
      "D:\\Programming\\Anaconda\\envs\\image\\lib\\site-packages\\skimage\\transform\\radon_transform.py:63: UserWarning: Radon transform: image must be zero outside the reconstruction circle\n",
      "  warn('Radon transform: image must be zero outside the '\n",
      "D:\\Programming\\Anaconda\\envs\\image\\lib\\site-packages\\skimage\\transform\\radon_transform.py:63: UserWarning: Radon transform: image must be zero outside the reconstruction circle\n",
      "  warn('Radon transform: image must be zero outside the '\n",
      "D:\\Programming\\Anaconda\\envs\\image\\lib\\site-packages\\skimage\\transform\\radon_transform.py:63: UserWarning: Radon transform: image must be zero outside the reconstruction circle\n",
      "  warn('Radon transform: image must be zero outside the '\n",
      "D:\\Programming\\Anaconda\\envs\\image\\lib\\site-packages\\skimage\\transform\\radon_transform.py:63: UserWarning: Radon transform: image must be zero outside the reconstruction circle\n",
      "  warn('Radon transform: image must be zero outside the '\n",
      "D:\\Programming\\Anaconda\\envs\\image\\lib\\site-packages\\skimage\\transform\\radon_transform.py:63: UserWarning: Radon transform: image must be zero outside the reconstruction circle\n",
      "  warn('Radon transform: image must be zero outside the '\n",
      "D:\\Programming\\Anaconda\\envs\\image\\lib\\site-packages\\skimage\\transform\\radon_transform.py:63: UserWarning: Radon transform: image must be zero outside the reconstruction circle\n",
      "  warn('Radon transform: image must be zero outside the '\n",
      "D:\\Programming\\Anaconda\\envs\\image\\lib\\site-packages\\skimage\\transform\\radon_transform.py:63: UserWarning: Radon transform: image must be zero outside the reconstruction circle\n",
      "  warn('Radon transform: image must be zero outside the '\n",
      "D:\\Programming\\Anaconda\\envs\\image\\lib\\site-packages\\skimage\\transform\\radon_transform.py:63: UserWarning: Radon transform: image must be zero outside the reconstruction circle\n",
      "  warn('Radon transform: image must be zero outside the '\n",
      "D:\\Programming\\Anaconda\\envs\\image\\lib\\site-packages\\skimage\\transform\\radon_transform.py:63: UserWarning: Radon transform: image must be zero outside the reconstruction circle\n",
      "  warn('Radon transform: image must be zero outside the '\n",
      "D:\\Programming\\Anaconda\\envs\\image\\lib\\site-packages\\skimage\\transform\\radon_transform.py:63: UserWarning: Radon transform: image must be zero outside the reconstruction circle\n",
      "  warn('Radon transform: image must be zero outside the '\n",
      "D:\\Programming\\Anaconda\\envs\\image\\lib\\site-packages\\skimage\\transform\\radon_transform.py:63: UserWarning: Radon transform: image must be zero outside the reconstruction circle\n",
      "  warn('Radon transform: image must be zero outside the '\n",
      "D:\\Programming\\Anaconda\\envs\\image\\lib\\site-packages\\skimage\\transform\\radon_transform.py:63: UserWarning: Radon transform: image must be zero outside the reconstruction circle\n",
      "  warn('Radon transform: image must be zero outside the '\n",
      "D:\\Programming\\Anaconda\\envs\\image\\lib\\site-packages\\skimage\\transform\\radon_transform.py:63: UserWarning: Radon transform: image must be zero outside the reconstruction circle\n",
      "  warn('Radon transform: image must be zero outside the '\n",
      "D:\\Programming\\Anaconda\\envs\\image\\lib\\site-packages\\skimage\\transform\\radon_transform.py:63: UserWarning: Radon transform: image must be zero outside the reconstruction circle\n",
      "  warn('Radon transform: image must be zero outside the '\n",
      "D:\\Programming\\Anaconda\\envs\\image\\lib\\site-packages\\skimage\\transform\\radon_transform.py:63: UserWarning: Radon transform: image must be zero outside the reconstruction circle\n",
      "  warn('Radon transform: image must be zero outside the '\n",
      "D:\\Programming\\Anaconda\\envs\\image\\lib\\site-packages\\skimage\\transform\\radon_transform.py:63: UserWarning: Radon transform: image must be zero outside the reconstruction circle\n",
      "  warn('Radon transform: image must be zero outside the '\n",
      "D:\\Programming\\Anaconda\\envs\\image\\lib\\site-packages\\skimage\\transform\\radon_transform.py:63: UserWarning: Radon transform: image must be zero outside the reconstruction circle\n",
      "  warn('Radon transform: image must be zero outside the '\n",
      "D:\\Programming\\Anaconda\\envs\\image\\lib\\site-packages\\skimage\\transform\\radon_transform.py:63: UserWarning: Radon transform: image must be zero outside the reconstruction circle\n",
      "  warn('Radon transform: image must be zero outside the '\n",
      "D:\\Programming\\Anaconda\\envs\\image\\lib\\site-packages\\skimage\\transform\\radon_transform.py:63: UserWarning: Radon transform: image must be zero outside the reconstruction circle\n",
      "  warn('Radon transform: image must be zero outside the '\n",
      "D:\\Programming\\Anaconda\\envs\\image\\lib\\site-packages\\skimage\\transform\\radon_transform.py:63: UserWarning: Radon transform: image must be zero outside the reconstruction circle\n",
      "  warn('Radon transform: image must be zero outside the '\n",
      "D:\\Programming\\Anaconda\\envs\\image\\lib\\site-packages\\skimage\\transform\\radon_transform.py:63: UserWarning: Radon transform: image must be zero outside the reconstruction circle\n",
      "  warn('Radon transform: image must be zero outside the '\n",
      "D:\\Programming\\Anaconda\\envs\\image\\lib\\site-packages\\skimage\\transform\\radon_transform.py:63: UserWarning: Radon transform: image must be zero outside the reconstruction circle\n",
      "  warn('Radon transform: image must be zero outside the '\n",
      "D:\\Programming\\Anaconda\\envs\\image\\lib\\site-packages\\skimage\\transform\\radon_transform.py:63: UserWarning: Radon transform: image must be zero outside the reconstruction circle\n",
      "  warn('Radon transform: image must be zero outside the '\n",
      "D:\\Programming\\Anaconda\\envs\\image\\lib\\site-packages\\skimage\\transform\\radon_transform.py:63: UserWarning: Radon transform: image must be zero outside the reconstruction circle\n",
      "  warn('Radon transform: image must be zero outside the '\n",
      "D:\\Programming\\Anaconda\\envs\\image\\lib\\site-packages\\skimage\\transform\\radon_transform.py:63: UserWarning: Radon transform: image must be zero outside the reconstruction circle\n",
      "  warn('Radon transform: image must be zero outside the '\n",
      "D:\\Programming\\Anaconda\\envs\\image\\lib\\site-packages\\skimage\\transform\\radon_transform.py:63: UserWarning: Radon transform: image must be zero outside the reconstruction circle\n",
      "  warn('Radon transform: image must be zero outside the '\n",
      "D:\\Programming\\Anaconda\\envs\\image\\lib\\site-packages\\skimage\\transform\\radon_transform.py:63: UserWarning: Radon transform: image must be zero outside the reconstruction circle\n",
      "  warn('Radon transform: image must be zero outside the '\n",
      "D:\\Programming\\Anaconda\\envs\\image\\lib\\site-packages\\skimage\\transform\\radon_transform.py:63: UserWarning: Radon transform: image must be zero outside the reconstruction circle\n",
      "  warn('Radon transform: image must be zero outside the '\n",
      "D:\\Programming\\Anaconda\\envs\\image\\lib\\site-packages\\skimage\\transform\\radon_transform.py:63: UserWarning: Radon transform: image must be zero outside the reconstruction circle\n",
      "  warn('Radon transform: image must be zero outside the '\n",
      "D:\\Programming\\Anaconda\\envs\\image\\lib\\site-packages\\skimage\\transform\\radon_transform.py:63: UserWarning: Radon transform: image must be zero outside the reconstruction circle\n",
      "  warn('Radon transform: image must be zero outside the '\n",
      "D:\\Programming\\Anaconda\\envs\\image\\lib\\site-packages\\skimage\\transform\\radon_transform.py:63: UserWarning: Radon transform: image must be zero outside the reconstruction circle\n",
      "  warn('Radon transform: image must be zero outside the '\n",
      "D:\\Programming\\Anaconda\\envs\\image\\lib\\site-packages\\skimage\\transform\\radon_transform.py:63: UserWarning: Radon transform: image must be zero outside the reconstruction circle\n",
      "  warn('Radon transform: image must be zero outside the '\n",
      "D:\\Programming\\Anaconda\\envs\\image\\lib\\site-packages\\skimage\\transform\\radon_transform.py:63: UserWarning: Radon transform: image must be zero outside the reconstruction circle\n",
      "  warn('Radon transform: image must be zero outside the '\n"
     ]
    },
    {
     "name": "stderr",
     "output_type": "stream",
     "text": [
      "D:\\Programming\\Anaconda\\envs\\image\\lib\\site-packages\\skimage\\transform\\radon_transform.py:63: UserWarning: Radon transform: image must be zero outside the reconstruction circle\n",
      "  warn('Radon transform: image must be zero outside the '\n",
      "D:\\Programming\\Anaconda\\envs\\image\\lib\\site-packages\\skimage\\transform\\radon_transform.py:63: UserWarning: Radon transform: image must be zero outside the reconstruction circle\n",
      "  warn('Radon transform: image must be zero outside the '\n",
      "D:\\Programming\\Anaconda\\envs\\image\\lib\\site-packages\\skimage\\transform\\radon_transform.py:63: UserWarning: Radon transform: image must be zero outside the reconstruction circle\n",
      "  warn('Radon transform: image must be zero outside the '\n",
      "D:\\Programming\\Anaconda\\envs\\image\\lib\\site-packages\\skimage\\transform\\radon_transform.py:63: UserWarning: Radon transform: image must be zero outside the reconstruction circle\n",
      "  warn('Radon transform: image must be zero outside the '\n"
     ]
    },
    {
     "name": "stdout",
     "output_type": "stream",
     "text": [
      "1717\n"
     ]
    },
    {
     "name": "stderr",
     "output_type": "stream",
     "text": [
      "D:\\Programming\\Anaconda\\envs\\image\\lib\\site-packages\\skimage\\transform\\radon_transform.py:63: UserWarning: Radon transform: image must be zero outside the reconstruction circle\n",
      "  warn('Radon transform: image must be zero outside the '\n",
      "D:\\Programming\\Anaconda\\envs\\image\\lib\\site-packages\\skimage\\transform\\radon_transform.py:63: UserWarning: Radon transform: image must be zero outside the reconstruction circle\n",
      "  warn('Radon transform: image must be zero outside the '\n",
      "D:\\Programming\\Anaconda\\envs\\image\\lib\\site-packages\\skimage\\transform\\radon_transform.py:63: UserWarning: Radon transform: image must be zero outside the reconstruction circle\n",
      "  warn('Radon transform: image must be zero outside the '\n",
      "D:\\Programming\\Anaconda\\envs\\image\\lib\\site-packages\\skimage\\transform\\radon_transform.py:63: UserWarning: Radon transform: image must be zero outside the reconstruction circle\n",
      "  warn('Radon transform: image must be zero outside the '\n",
      "D:\\Programming\\Anaconda\\envs\\image\\lib\\site-packages\\skimage\\transform\\radon_transform.py:63: UserWarning: Radon transform: image must be zero outside the reconstruction circle\n",
      "  warn('Radon transform: image must be zero outside the '\n",
      "D:\\Programming\\Anaconda\\envs\\image\\lib\\site-packages\\skimage\\transform\\radon_transform.py:63: UserWarning: Radon transform: image must be zero outside the reconstruction circle\n",
      "  warn('Radon transform: image must be zero outside the '\n",
      "D:\\Programming\\Anaconda\\envs\\image\\lib\\site-packages\\skimage\\transform\\radon_transform.py:63: UserWarning: Radon transform: image must be zero outside the reconstruction circle\n",
      "  warn('Radon transform: image must be zero outside the '\n",
      "D:\\Programming\\Anaconda\\envs\\image\\lib\\site-packages\\skimage\\transform\\radon_transform.py:63: UserWarning: Radon transform: image must be zero outside the reconstruction circle\n",
      "  warn('Radon transform: image must be zero outside the '\n",
      "D:\\Programming\\Anaconda\\envs\\image\\lib\\site-packages\\skimage\\transform\\radon_transform.py:63: UserWarning: Radon transform: image must be zero outside the reconstruction circle\n",
      "  warn('Radon transform: image must be zero outside the '\n",
      "D:\\Programming\\Anaconda\\envs\\image\\lib\\site-packages\\skimage\\transform\\radon_transform.py:63: UserWarning: Radon transform: image must be zero outside the reconstruction circle\n",
      "  warn('Radon transform: image must be zero outside the '\n"
     ]
    },
    {
     "name": "stdout",
     "output_type": "stream",
     "text": [
      "1727\n"
     ]
    },
    {
     "name": "stderr",
     "output_type": "stream",
     "text": [
      "D:\\Programming\\Anaconda\\envs\\image\\lib\\site-packages\\skimage\\transform\\radon_transform.py:63: UserWarning: Radon transform: image must be zero outside the reconstruction circle\n",
      "  warn('Radon transform: image must be zero outside the '\n",
      "D:\\Programming\\Anaconda\\envs\\image\\lib\\site-packages\\skimage\\transform\\radon_transform.py:63: UserWarning: Radon transform: image must be zero outside the reconstruction circle\n",
      "  warn('Radon transform: image must be zero outside the '\n",
      "D:\\Programming\\Anaconda\\envs\\image\\lib\\site-packages\\skimage\\transform\\radon_transform.py:63: UserWarning: Radon transform: image must be zero outside the reconstruction circle\n",
      "  warn('Radon transform: image must be zero outside the '\n",
      "D:\\Programming\\Anaconda\\envs\\image\\lib\\site-packages\\skimage\\transform\\radon_transform.py:63: UserWarning: Radon transform: image must be zero outside the reconstruction circle\n",
      "  warn('Radon transform: image must be zero outside the '\n",
      "D:\\Programming\\Anaconda\\envs\\image\\lib\\site-packages\\skimage\\transform\\radon_transform.py:63: UserWarning: Radon transform: image must be zero outside the reconstruction circle\n",
      "  warn('Radon transform: image must be zero outside the '\n",
      "D:\\Programming\\Anaconda\\envs\\image\\lib\\site-packages\\skimage\\transform\\radon_transform.py:63: UserWarning: Radon transform: image must be zero outside the reconstruction circle\n",
      "  warn('Radon transform: image must be zero outside the '\n",
      "D:\\Programming\\Anaconda\\envs\\image\\lib\\site-packages\\skimage\\transform\\radon_transform.py:63: UserWarning: Radon transform: image must be zero outside the reconstruction circle\n",
      "  warn('Radon transform: image must be zero outside the '\n",
      "D:\\Programming\\Anaconda\\envs\\image\\lib\\site-packages\\skimage\\transform\\radon_transform.py:63: UserWarning: Radon transform: image must be zero outside the reconstruction circle\n",
      "  warn('Radon transform: image must be zero outside the '\n",
      "D:\\Programming\\Anaconda\\envs\\image\\lib\\site-packages\\skimage\\transform\\radon_transform.py:63: UserWarning: Radon transform: image must be zero outside the reconstruction circle\n",
      "  warn('Radon transform: image must be zero outside the '\n",
      "D:\\Programming\\Anaconda\\envs\\image\\lib\\site-packages\\skimage\\transform\\radon_transform.py:63: UserWarning: Radon transform: image must be zero outside the reconstruction circle\n",
      "  warn('Radon transform: image must be zero outside the '\n"
     ]
    },
    {
     "name": "stdout",
     "output_type": "stream",
     "text": [
      "1737\n"
     ]
    },
    {
     "name": "stderr",
     "output_type": "stream",
     "text": [
      "D:\\Programming\\Anaconda\\envs\\image\\lib\\site-packages\\skimage\\transform\\radon_transform.py:63: UserWarning: Radon transform: image must be zero outside the reconstruction circle\n",
      "  warn('Radon transform: image must be zero outside the '\n",
      "D:\\Programming\\Anaconda\\envs\\image\\lib\\site-packages\\skimage\\transform\\radon_transform.py:63: UserWarning: Radon transform: image must be zero outside the reconstruction circle\n",
      "  warn('Radon transform: image must be zero outside the '\n",
      "D:\\Programming\\Anaconda\\envs\\image\\lib\\site-packages\\skimage\\transform\\radon_transform.py:63: UserWarning: Radon transform: image must be zero outside the reconstruction circle\n",
      "  warn('Radon transform: image must be zero outside the '\n",
      "D:\\Programming\\Anaconda\\envs\\image\\lib\\site-packages\\skimage\\transform\\radon_transform.py:63: UserWarning: Radon transform: image must be zero outside the reconstruction circle\n",
      "  warn('Radon transform: image must be zero outside the '\n",
      "D:\\Programming\\Anaconda\\envs\\image\\lib\\site-packages\\skimage\\transform\\radon_transform.py:63: UserWarning: Radon transform: image must be zero outside the reconstruction circle\n",
      "  warn('Radon transform: image must be zero outside the '\n",
      "D:\\Programming\\Anaconda\\envs\\image\\lib\\site-packages\\skimage\\transform\\radon_transform.py:63: UserWarning: Radon transform: image must be zero outside the reconstruction circle\n",
      "  warn('Radon transform: image must be zero outside the '\n"
     ]
    },
    {
     "name": "stdout",
     "output_type": "stream",
     "text": [
      "1743\n"
     ]
    },
    {
     "name": "stderr",
     "output_type": "stream",
     "text": [
      "D:\\Programming\\Anaconda\\envs\\image\\lib\\site-packages\\skimage\\transform\\radon_transform.py:63: UserWarning: Radon transform: image must be zero outside the reconstruction circle\n",
      "  warn('Radon transform: image must be zero outside the '\n",
      "D:\\Programming\\Anaconda\\envs\\image\\lib\\site-packages\\skimage\\transform\\radon_transform.py:63: UserWarning: Radon transform: image must be zero outside the reconstruction circle\n",
      "  warn('Radon transform: image must be zero outside the '\n",
      "D:\\Programming\\Anaconda\\envs\\image\\lib\\site-packages\\skimage\\transform\\radon_transform.py:63: UserWarning: Radon transform: image must be zero outside the reconstruction circle\n",
      "  warn('Radon transform: image must be zero outside the '\n",
      "D:\\Programming\\Anaconda\\envs\\image\\lib\\site-packages\\skimage\\transform\\radon_transform.py:63: UserWarning: Radon transform: image must be zero outside the reconstruction circle\n",
      "  warn('Radon transform: image must be zero outside the '\n"
     ]
    },
    {
     "name": "stdout",
     "output_type": "stream",
     "text": [
      "1747\n"
     ]
    },
    {
     "name": "stderr",
     "output_type": "stream",
     "text": [
      "D:\\Programming\\Anaconda\\envs\\image\\lib\\site-packages\\skimage\\transform\\radon_transform.py:63: UserWarning: Radon transform: image must be zero outside the reconstruction circle\n",
      "  warn('Radon transform: image must be zero outside the '\n",
      "D:\\Programming\\Anaconda\\envs\\image\\lib\\site-packages\\skimage\\transform\\radon_transform.py:63: UserWarning: Radon transform: image must be zero outside the reconstruction circle\n",
      "  warn('Radon transform: image must be zero outside the '\n"
     ]
    },
    {
     "name": "stdout",
     "output_type": "stream",
     "text": [
      "1749\n"
     ]
    },
    {
     "name": "stderr",
     "output_type": "stream",
     "text": [
      "D:\\Programming\\Anaconda\\envs\\image\\lib\\site-packages\\skimage\\transform\\radon_transform.py:63: UserWarning: Radon transform: image must be zero outside the reconstruction circle\n",
      "  warn('Radon transform: image must be zero outside the '\n"
     ]
    },
    {
     "name": "stdout",
     "output_type": "stream",
     "text": [
      "1750\n"
     ]
    },
    {
     "name": "stderr",
     "output_type": "stream",
     "text": [
      "D:\\Programming\\Anaconda\\envs\\image\\lib\\site-packages\\skimage\\transform\\radon_transform.py:63: UserWarning: Radon transform: image must be zero outside the reconstruction circle\n",
      "  warn('Radon transform: image must be zero outside the '\n",
      "D:\\Programming\\Anaconda\\envs\\image\\lib\\site-packages\\skimage\\transform\\radon_transform.py:63: UserWarning: Radon transform: image must be zero outside the reconstruction circle\n",
      "  warn('Radon transform: image must be zero outside the '\n",
      "D:\\Programming\\Anaconda\\envs\\image\\lib\\site-packages\\skimage\\transform\\radon_transform.py:63: UserWarning: Radon transform: image must be zero outside the reconstruction circle\n",
      "  warn('Radon transform: image must be zero outside the '\n",
      "D:\\Programming\\Anaconda\\envs\\image\\lib\\site-packages\\skimage\\transform\\radon_transform.py:63: UserWarning: Radon transform: image must be zero outside the reconstruction circle\n",
      "  warn('Radon transform: image must be zero outside the '\n",
      "D:\\Programming\\Anaconda\\envs\\image\\lib\\site-packages\\skimage\\transform\\radon_transform.py:63: UserWarning: Radon transform: image must be zero outside the reconstruction circle\n",
      "  warn('Radon transform: image must be zero outside the '\n",
      "D:\\Programming\\Anaconda\\envs\\image\\lib\\site-packages\\skimage\\transform\\radon_transform.py:63: UserWarning: Radon transform: image must be zero outside the reconstruction circle\n",
      "  warn('Radon transform: image must be zero outside the '\n",
      "D:\\Programming\\Anaconda\\envs\\image\\lib\\site-packages\\skimage\\transform\\radon_transform.py:63: UserWarning: Radon transform: image must be zero outside the reconstruction circle\n",
      "  warn('Radon transform: image must be zero outside the '\n",
      "D:\\Programming\\Anaconda\\envs\\image\\lib\\site-packages\\skimage\\transform\\radon_transform.py:63: UserWarning: Radon transform: image must be zero outside the reconstruction circle\n",
      "  warn('Radon transform: image must be zero outside the '\n",
      "D:\\Programming\\Anaconda\\envs\\image\\lib\\site-packages\\skimage\\transform\\radon_transform.py:63: UserWarning: Radon transform: image must be zero outside the reconstruction circle\n",
      "  warn('Radon transform: image must be zero outside the '\n",
      "D:\\Programming\\Anaconda\\envs\\image\\lib\\site-packages\\skimage\\transform\\radon_transform.py:63: UserWarning: Radon transform: image must be zero outside the reconstruction circle\n",
      "  warn('Radon transform: image must be zero outside the '\n",
      "D:\\Programming\\Anaconda\\envs\\image\\lib\\site-packages\\skimage\\transform\\radon_transform.py:63: UserWarning: Radon transform: image must be zero outside the reconstruction circle\n",
      "  warn('Radon transform: image must be zero outside the '\n",
      "D:\\Programming\\Anaconda\\envs\\image\\lib\\site-packages\\skimage\\transform\\radon_transform.py:63: UserWarning: Radon transform: image must be zero outside the reconstruction circle\n",
      "  warn('Radon transform: image must be zero outside the '\n"
     ]
    },
    {
     "name": "stdout",
     "output_type": "stream",
     "text": [
      "1762\n"
     ]
    },
    {
     "name": "stderr",
     "output_type": "stream",
     "text": [
      "D:\\Programming\\Anaconda\\envs\\image\\lib\\site-packages\\skimage\\transform\\radon_transform.py:63: UserWarning: Radon transform: image must be zero outside the reconstruction circle\n",
      "  warn('Radon transform: image must be zero outside the '\n",
      "D:\\Programming\\Anaconda\\envs\\image\\lib\\site-packages\\skimage\\transform\\radon_transform.py:63: UserWarning: Radon transform: image must be zero outside the reconstruction circle\n",
      "  warn('Radon transform: image must be zero outside the '\n",
      "D:\\Programming\\Anaconda\\envs\\image\\lib\\site-packages\\skimage\\transform\\radon_transform.py:63: UserWarning: Radon transform: image must be zero outside the reconstruction circle\n",
      "  warn('Radon transform: image must be zero outside the '\n",
      "D:\\Programming\\Anaconda\\envs\\image\\lib\\site-packages\\skimage\\transform\\radon_transform.py:63: UserWarning: Radon transform: image must be zero outside the reconstruction circle\n",
      "  warn('Radon transform: image must be zero outside the '\n",
      "D:\\Programming\\Anaconda\\envs\\image\\lib\\site-packages\\skimage\\transform\\radon_transform.py:63: UserWarning: Radon transform: image must be zero outside the reconstruction circle\n",
      "  warn('Radon transform: image must be zero outside the '\n",
      "D:\\Programming\\Anaconda\\envs\\image\\lib\\site-packages\\skimage\\transform\\radon_transform.py:63: UserWarning: Radon transform: image must be zero outside the reconstruction circle\n",
      "  warn('Radon transform: image must be zero outside the '\n",
      "D:\\Programming\\Anaconda\\envs\\image\\lib\\site-packages\\skimage\\transform\\radon_transform.py:63: UserWarning: Radon transform: image must be zero outside the reconstruction circle\n",
      "  warn('Radon transform: image must be zero outside the '\n"
     ]
    },
    {
     "name": "stdout",
     "output_type": "stream",
     "text": [
      "1769\n"
     ]
    },
    {
     "name": "stderr",
     "output_type": "stream",
     "text": [
      "D:\\Programming\\Anaconda\\envs\\image\\lib\\site-packages\\skimage\\transform\\radon_transform.py:63: UserWarning: Radon transform: image must be zero outside the reconstruction circle\n",
      "  warn('Radon transform: image must be zero outside the '\n",
      "D:\\Programming\\Anaconda\\envs\\image\\lib\\site-packages\\skimage\\transform\\radon_transform.py:63: UserWarning: Radon transform: image must be zero outside the reconstruction circle\n",
      "  warn('Radon transform: image must be zero outside the '\n",
      "D:\\Programming\\Anaconda\\envs\\image\\lib\\site-packages\\skimage\\transform\\radon_transform.py:63: UserWarning: Radon transform: image must be zero outside the reconstruction circle\n",
      "  warn('Radon transform: image must be zero outside the '\n"
     ]
    },
    {
     "name": "stdout",
     "output_type": "stream",
     "text": [
      "1772\n"
     ]
    },
    {
     "name": "stderr",
     "output_type": "stream",
     "text": [
      "D:\\Programming\\Anaconda\\envs\\image\\lib\\site-packages\\skimage\\transform\\radon_transform.py:63: UserWarning: Radon transform: image must be zero outside the reconstruction circle\n",
      "  warn('Radon transform: image must be zero outside the '\n",
      "D:\\Programming\\Anaconda\\envs\\image\\lib\\site-packages\\skimage\\transform\\radon_transform.py:63: UserWarning: Radon transform: image must be zero outside the reconstruction circle\n",
      "  warn('Radon transform: image must be zero outside the '\n",
      "D:\\Programming\\Anaconda\\envs\\image\\lib\\site-packages\\skimage\\transform\\radon_transform.py:63: UserWarning: Radon transform: image must be zero outside the reconstruction circle\n",
      "  warn('Radon transform: image must be zero outside the '\n"
     ]
    },
    {
     "name": "stdout",
     "output_type": "stream",
     "text": [
      "1775\n"
     ]
    },
    {
     "name": "stderr",
     "output_type": "stream",
     "text": [
      "D:\\Programming\\Anaconda\\envs\\image\\lib\\site-packages\\skimage\\transform\\radon_transform.py:63: UserWarning: Radon transform: image must be zero outside the reconstruction circle\n",
      "  warn('Radon transform: image must be zero outside the '\n",
      "D:\\Programming\\Anaconda\\envs\\image\\lib\\site-packages\\skimage\\transform\\radon_transform.py:63: UserWarning: Radon transform: image must be zero outside the reconstruction circle\n",
      "  warn('Radon transform: image must be zero outside the '\n",
      "D:\\Programming\\Anaconda\\envs\\image\\lib\\site-packages\\skimage\\transform\\radon_transform.py:63: UserWarning: Radon transform: image must be zero outside the reconstruction circle\n",
      "  warn('Radon transform: image must be zero outside the '\n",
      "D:\\Programming\\Anaconda\\envs\\image\\lib\\site-packages\\skimage\\transform\\radon_transform.py:63: UserWarning: Radon transform: image must be zero outside the reconstruction circle\n",
      "  warn('Radon transform: image must be zero outside the '\n",
      "D:\\Programming\\Anaconda\\envs\\image\\lib\\site-packages\\skimage\\transform\\radon_transform.py:63: UserWarning: Radon transform: image must be zero outside the reconstruction circle\n",
      "  warn('Radon transform: image must be zero outside the '\n",
      "D:\\Programming\\Anaconda\\envs\\image\\lib\\site-packages\\skimage\\transform\\radon_transform.py:63: UserWarning: Radon transform: image must be zero outside the reconstruction circle\n",
      "  warn('Radon transform: image must be zero outside the '\n",
      "D:\\Programming\\Anaconda\\envs\\image\\lib\\site-packages\\skimage\\transform\\radon_transform.py:63: UserWarning: Radon transform: image must be zero outside the reconstruction circle\n",
      "  warn('Radon transform: image must be zero outside the '\n",
      "D:\\Programming\\Anaconda\\envs\\image\\lib\\site-packages\\skimage\\transform\\radon_transform.py:63: UserWarning: Radon transform: image must be zero outside the reconstruction circle\n",
      "  warn('Radon transform: image must be zero outside the '\n",
      "D:\\Programming\\Anaconda\\envs\\image\\lib\\site-packages\\skimage\\transform\\radon_transform.py:63: UserWarning: Radon transform: image must be zero outside the reconstruction circle\n",
      "  warn('Radon transform: image must be zero outside the '\n",
      "D:\\Programming\\Anaconda\\envs\\image\\lib\\site-packages\\skimage\\transform\\radon_transform.py:63: UserWarning: Radon transform: image must be zero outside the reconstruction circle\n",
      "  warn('Radon transform: image must be zero outside the '\n"
     ]
    },
    {
     "name": "stdout",
     "output_type": "stream",
     "text": [
      "1785\n"
     ]
    },
    {
     "name": "stderr",
     "output_type": "stream",
     "text": [
      "D:\\Programming\\Anaconda\\envs\\image\\lib\\site-packages\\skimage\\transform\\radon_transform.py:63: UserWarning: Radon transform: image must be zero outside the reconstruction circle\n",
      "  warn('Radon transform: image must be zero outside the '\n"
     ]
    },
    {
     "name": "stdout",
     "output_type": "stream",
     "text": [
      "1786\n"
     ]
    },
    {
     "name": "stderr",
     "output_type": "stream",
     "text": [
      "D:\\Programming\\Anaconda\\envs\\image\\lib\\site-packages\\skimage\\transform\\radon_transform.py:63: UserWarning: Radon transform: image must be zero outside the reconstruction circle\n",
      "  warn('Radon transform: image must be zero outside the '\n"
     ]
    },
    {
     "name": "stdout",
     "output_type": "stream",
     "text": [
      "1787\n"
     ]
    },
    {
     "name": "stderr",
     "output_type": "stream",
     "text": [
      "D:\\Programming\\Anaconda\\envs\\image\\lib\\site-packages\\skimage\\transform\\radon_transform.py:63: UserWarning: Radon transform: image must be zero outside the reconstruction circle\n",
      "  warn('Radon transform: image must be zero outside the '\n"
     ]
    },
    {
     "name": "stdout",
     "output_type": "stream",
     "text": [
      "1788\n"
     ]
    },
    {
     "name": "stderr",
     "output_type": "stream",
     "text": [
      "D:\\Programming\\Anaconda\\envs\\image\\lib\\site-packages\\skimage\\transform\\radon_transform.py:63: UserWarning: Radon transform: image must be zero outside the reconstruction circle\n",
      "  warn('Radon transform: image must be zero outside the '\n"
     ]
    },
    {
     "name": "stdout",
     "output_type": "stream",
     "text": [
      "1789\n"
     ]
    },
    {
     "name": "stderr",
     "output_type": "stream",
     "text": [
      "D:\\Programming\\Anaconda\\envs\\image\\lib\\site-packages\\skimage\\transform\\radon_transform.py:63: UserWarning: Radon transform: image must be zero outside the reconstruction circle\n",
      "  warn('Radon transform: image must be zero outside the '\n",
      "D:\\Programming\\Anaconda\\envs\\image\\lib\\site-packages\\skimage\\transform\\radon_transform.py:63: UserWarning: Radon transform: image must be zero outside the reconstruction circle\n",
      "  warn('Radon transform: image must be zero outside the '\n",
      "D:\\Programming\\Anaconda\\envs\\image\\lib\\site-packages\\skimage\\transform\\radon_transform.py:63: UserWarning: Radon transform: image must be zero outside the reconstruction circle\n",
      "  warn('Radon transform: image must be zero outside the '\n",
      "D:\\Programming\\Anaconda\\envs\\image\\lib\\site-packages\\skimage\\transform\\radon_transform.py:63: UserWarning: Radon transform: image must be zero outside the reconstruction circle\n",
      "  warn('Radon transform: image must be zero outside the '\n",
      "D:\\Programming\\Anaconda\\envs\\image\\lib\\site-packages\\skimage\\transform\\radon_transform.py:63: UserWarning: Radon transform: image must be zero outside the reconstruction circle\n",
      "  warn('Radon transform: image must be zero outside the '\n",
      "D:\\Programming\\Anaconda\\envs\\image\\lib\\site-packages\\skimage\\transform\\radon_transform.py:63: UserWarning: Radon transform: image must be zero outside the reconstruction circle\n",
      "  warn('Radon transform: image must be zero outside the '\n",
      "D:\\Programming\\Anaconda\\envs\\image\\lib\\site-packages\\skimage\\transform\\radon_transform.py:63: UserWarning: Radon transform: image must be zero outside the reconstruction circle\n",
      "  warn('Radon transform: image must be zero outside the '\n",
      "D:\\Programming\\Anaconda\\envs\\image\\lib\\site-packages\\skimage\\transform\\radon_transform.py:63: UserWarning: Radon transform: image must be zero outside the reconstruction circle\n",
      "  warn('Radon transform: image must be zero outside the '\n",
      "D:\\Programming\\Anaconda\\envs\\image\\lib\\site-packages\\skimage\\transform\\radon_transform.py:63: UserWarning: Radon transform: image must be zero outside the reconstruction circle\n",
      "  warn('Radon transform: image must be zero outside the '\n",
      "D:\\Programming\\Anaconda\\envs\\image\\lib\\site-packages\\skimage\\transform\\radon_transform.py:63: UserWarning: Radon transform: image must be zero outside the reconstruction circle\n",
      "  warn('Radon transform: image must be zero outside the '\n"
     ]
    },
    {
     "name": "stdout",
     "output_type": "stream",
     "text": [
      "1799\n"
     ]
    },
    {
     "name": "stderr",
     "output_type": "stream",
     "text": [
      "D:\\Programming\\Anaconda\\envs\\image\\lib\\site-packages\\skimage\\transform\\radon_transform.py:63: UserWarning: Radon transform: image must be zero outside the reconstruction circle\n",
      "  warn('Radon transform: image must be zero outside the '\n",
      "D:\\Programming\\Anaconda\\envs\\image\\lib\\site-packages\\skimage\\transform\\radon_transform.py:63: UserWarning: Radon transform: image must be zero outside the reconstruction circle\n",
      "  warn('Radon transform: image must be zero outside the '\n",
      "D:\\Programming\\Anaconda\\envs\\image\\lib\\site-packages\\skimage\\transform\\radon_transform.py:63: UserWarning: Radon transform: image must be zero outside the reconstruction circle\n",
      "  warn('Radon transform: image must be zero outside the '\n",
      "D:\\Programming\\Anaconda\\envs\\image\\lib\\site-packages\\skimage\\transform\\radon_transform.py:63: UserWarning: Radon transform: image must be zero outside the reconstruction circle\n",
      "  warn('Radon transform: image must be zero outside the '\n",
      "D:\\Programming\\Anaconda\\envs\\image\\lib\\site-packages\\skimage\\transform\\radon_transform.py:63: UserWarning: Radon transform: image must be zero outside the reconstruction circle\n",
      "  warn('Radon transform: image must be zero outside the '\n",
      "D:\\Programming\\Anaconda\\envs\\image\\lib\\site-packages\\skimage\\transform\\radon_transform.py:63: UserWarning: Radon transform: image must be zero outside the reconstruction circle\n",
      "  warn('Radon transform: image must be zero outside the '\n",
      "D:\\Programming\\Anaconda\\envs\\image\\lib\\site-packages\\skimage\\transform\\radon_transform.py:63: UserWarning: Radon transform: image must be zero outside the reconstruction circle\n",
      "  warn('Radon transform: image must be zero outside the '\n"
     ]
    },
    {
     "name": "stdout",
     "output_type": "stream",
     "text": [
      "1806\n"
     ]
    },
    {
     "name": "stderr",
     "output_type": "stream",
     "text": [
      "D:\\Programming\\Anaconda\\envs\\image\\lib\\site-packages\\skimage\\transform\\radon_transform.py:63: UserWarning: Radon transform: image must be zero outside the reconstruction circle\n",
      "  warn('Radon transform: image must be zero outside the '\n",
      "D:\\Programming\\Anaconda\\envs\\image\\lib\\site-packages\\skimage\\transform\\radon_transform.py:63: UserWarning: Radon transform: image must be zero outside the reconstruction circle\n",
      "  warn('Radon transform: image must be zero outside the '\n"
     ]
    },
    {
     "name": "stdout",
     "output_type": "stream",
     "text": [
      "1808\n"
     ]
    },
    {
     "name": "stderr",
     "output_type": "stream",
     "text": [
      "D:\\Programming\\Anaconda\\envs\\image\\lib\\site-packages\\skimage\\transform\\radon_transform.py:63: UserWarning: Radon transform: image must be zero outside the reconstruction circle\n",
      "  warn('Radon transform: image must be zero outside the '\n",
      "D:\\Programming\\Anaconda\\envs\\image\\lib\\site-packages\\skimage\\transform\\radon_transform.py:63: UserWarning: Radon transform: image must be zero outside the reconstruction circle\n",
      "  warn('Radon transform: image must be zero outside the '\n",
      "D:\\Programming\\Anaconda\\envs\\image\\lib\\site-packages\\skimage\\transform\\radon_transform.py:63: UserWarning: Radon transform: image must be zero outside the reconstruction circle\n",
      "  warn('Radon transform: image must be zero outside the '\n",
      "D:\\Programming\\Anaconda\\envs\\image\\lib\\site-packages\\skimage\\transform\\radon_transform.py:63: UserWarning: Radon transform: image must be zero outside the reconstruction circle\n",
      "  warn('Radon transform: image must be zero outside the '\n",
      "D:\\Programming\\Anaconda\\envs\\image\\lib\\site-packages\\skimage\\transform\\radon_transform.py:63: UserWarning: Radon transform: image must be zero outside the reconstruction circle\n",
      "  warn('Radon transform: image must be zero outside the '\n",
      "D:\\Programming\\Anaconda\\envs\\image\\lib\\site-packages\\skimage\\transform\\radon_transform.py:63: UserWarning: Radon transform: image must be zero outside the reconstruction circle\n",
      "  warn('Radon transform: image must be zero outside the '\n"
     ]
    },
    {
     "name": "stdout",
     "output_type": "stream",
     "text": [
      "1814\n"
     ]
    },
    {
     "name": "stderr",
     "output_type": "stream",
     "text": [
      "D:\\Programming\\Anaconda\\envs\\image\\lib\\site-packages\\skimage\\transform\\radon_transform.py:63: UserWarning: Radon transform: image must be zero outside the reconstruction circle\n",
      "  warn('Radon transform: image must be zero outside the '\n",
      "D:\\Programming\\Anaconda\\envs\\image\\lib\\site-packages\\skimage\\transform\\radon_transform.py:63: UserWarning: Radon transform: image must be zero outside the reconstruction circle\n",
      "  warn('Radon transform: image must be zero outside the '\n",
      "D:\\Programming\\Anaconda\\envs\\image\\lib\\site-packages\\skimage\\transform\\radon_transform.py:63: UserWarning: Radon transform: image must be zero outside the reconstruction circle\n",
      "  warn('Radon transform: image must be zero outside the '\n",
      "D:\\Programming\\Anaconda\\envs\\image\\lib\\site-packages\\skimage\\transform\\radon_transform.py:63: UserWarning: Radon transform: image must be zero outside the reconstruction circle\n",
      "  warn('Radon transform: image must be zero outside the '\n",
      "D:\\Programming\\Anaconda\\envs\\image\\lib\\site-packages\\skimage\\transform\\radon_transform.py:63: UserWarning: Radon transform: image must be zero outside the reconstruction circle\n",
      "  warn('Radon transform: image must be zero outside the '\n",
      "D:\\Programming\\Anaconda\\envs\\image\\lib\\site-packages\\skimage\\transform\\radon_transform.py:63: UserWarning: Radon transform: image must be zero outside the reconstruction circle\n",
      "  warn('Radon transform: image must be zero outside the '\n"
     ]
    }
   ],
   "source": [
    "image_path = 'D:\\\\OneDrive - Georgia State University\\\\MSA\\\\Fall 2019\\\\MSA 8650 - Image and Text Analytics with Deep Neural Networks\\\\Assignments\\\\Assignment 1\\\\Data\\\\ir_patch\\\\'\n",
    "data_list = [f for f in listdir(image_path) if isfile(join(image_path, f))]\n",
    "#data_list = sorted(data_list, key=lambda x: float(x.split('.')[0]))\n",
    "\n",
    "count = 0\n",
    "for i in data_list:\n",
    "    #x = np.zeros([img_height,img_width])+255\n",
    "    #cv2.imwrite(f'{segment_path}{count}.png', x)\n",
    "    try:\n",
    "        image = cv2.imread(image_path + i) \n",
    "        image = cv2.cvtColor(image, cv2.COLOR_BGR2GRAY)\n",
    "\n",
    "        hist_equal = histogram_equalizer(image, 2)\n",
    "        straightened = radon_straighten(hist_equal)\n",
    "        plate_thresh = find_plate(straightened)\n",
    "        removed = NoiseRemoval(plate_thresh)\n",
    "        img_result = after_process(removed)\n",
    "\n",
    "        cv2.imwrite(f'{OCR_path}{count}.png', img_result)\n",
    "    except:\n",
    "        print(count)\n",
    "    count += 1\n",
    "    "
   ]
  },
  {
   "cell_type": "code",
   "execution_count": null,
   "metadata": {},
   "outputs": [],
   "source": []
  }
 ],
 "metadata": {
  "kernelspec": {
   "display_name": "Python 3",
   "language": "python",
   "name": "python3"
  },
  "language_info": {
   "codemirror_mode": {
    "name": "ipython",
    "version": 3
   },
   "file_extension": ".py",
   "mimetype": "text/x-python",
   "name": "python",
   "nbconvert_exporter": "python",
   "pygments_lexer": "ipython3",
   "version": "3.7.4"
  }
 },
 "nbformat": 4,
 "nbformat_minor": 2
}
